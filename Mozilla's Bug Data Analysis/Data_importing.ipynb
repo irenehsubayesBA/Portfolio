{
 "cells": [
  {
   "cell_type": "code",
   "execution_count": 1,
   "metadata": {},
   "outputs": [],
   "source": [
    "import os\n",
    "import pickle\n",
    "from pymongo import MongoClient\n",
    "import json\n",
    "import xmlrpc.client"
   ]
  },
  {
   "cell_type": "code",
   "execution_count": 2,
   "metadata": {},
   "outputs": [],
   "source": [
    "# Establish a connection to MongoDB\n",
    "client = MongoClient('mongodb://localhost:27017')\n",
    "db = client['FCP'] \n",
    "collection = db['Bugs'] "
   ]
  },
  {
   "cell_type": "code",
   "execution_count": 3,
   "metadata": {},
   "outputs": [],
   "source": [
    "# Define the conversion functions\n",
    "def convert_datetime(obj):\n",
    "    if isinstance(obj, xmlrpc.client.DateTime):\n",
    "        return obj.value  # Extract the value from DateTime object\n",
    "    return obj\n",
    "\n",
    "def convert_document(document):\n",
    "    if isinstance(document, dict):\n",
    "        return {k: convert_document(v) for k, v in document.items()}\n",
    "    elif isinstance(document, list):\n",
    "        return [convert_document(item) for item in document]\n",
    "    else:\n",
    "        return convert_datetime(document)\n",
    "\n",
    "# Specify the directory path where the pickle files are located\n",
    "pickle_dir = r'/Users/irene/Desktop/.bugs'\n",
    "\n",
    "# Initialize a list to accumulate converted documents\n",
    "converted_documents = []\n",
    "\n",
    "# Iterate through each pickle file in the directory\n",
    "for filename in os.listdir(pickle_dir):\n",
    "    if filename.endswith('.pickle'):\n",
    "        file_path = os.path.join(pickle_dir, filename)\n",
    "\n",
    "        # Load the pickle file and convert it into a Python object\n",
    "        with open(file_path, 'rb') as handle:\n",
    "            obj = pickle.load(handle)\n",
    "\n",
    "        # Convert the object to a compatible format\n",
    "        converted_obj = convert_document(obj)\n",
    "\n",
    "        # Append the converted document to the list\n",
    "        converted_documents.append(converted_obj)\n",
    "\n",
    "        # Insert documents in batches (e.g., 1000 documents per batch)\n",
    "        if len(converted_documents) == 1000:\n",
    "            # Serialize the batch as JSON\n",
    "            json_data = json.dumps(converted_documents)\n",
    "\n",
    "            # Insert the JSON data as documents into the MongoDB collection\n",
    "            collection.insert_many(json.loads(json_data))\n",
    "\n",
    "            # Clear the list for the next batch\n",
    "            converted_documents = []\n",
    "\n",
    "# Insert the remaining documents in the last batch\n",
    "if converted_documents:\n",
    "    # Serialize the remaining batch as JSON\n",
    "    json_data = json.dumps(converted_documents)\n",
    "\n",
    "    # Insert the JSON data as documents into the MongoDB collection\n",
    "    collection.insert_many(json.loads(json_data))\n",
    "\n",
    "# Close the MongoDB connection\n",
    "client.close()\n"
   ]
  }
 ],
 "metadata": {
  "kernelspec": {
   "display_name": "arp",
   "language": "python",
   "name": "python3"
  },
  "language_info": {
   "codemirror_mode": {
    "name": "ipython",
    "version": 3
   },
   "file_extension": ".py",
   "mimetype": "text/x-python",
   "name": "python",
   "nbconvert_exporter": "python",
   "pygments_lexer": "ipython3",
   "version": "3.11.3"
  },
  "orig_nbformat": 4
 },
 "nbformat": 4,
 "nbformat_minor": 2
}
