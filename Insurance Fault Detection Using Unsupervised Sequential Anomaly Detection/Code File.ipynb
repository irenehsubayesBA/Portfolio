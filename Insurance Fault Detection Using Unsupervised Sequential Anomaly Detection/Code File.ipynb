{
  "nbformat": 4,
  "nbformat_minor": 0,
  "metadata": {
    "colab": {
      "provenance": []
    },
    "kernelspec": {
      "name": "python3",
      "display_name": "Python 3"
    },
    "language_info": {
      "name": "python"
    }
  },
  "cells": [
    {
      "cell_type": "code",
      "execution_count": 2,
      "metadata": {
        "id": "FYuq9e1oRCqo"
      },
      "outputs": [],
      "source": [
        "import tensorflow as tf\n",
        "import numpy as np\n",
        "import pandas as pd\n",
        "import datetime\n",
        "from sklearn.model_selection import train_test_split\n",
        "import matplotlib.pyplot as plt\n",
        "from sklearn.preprocessing import StandardScaler, MinMaxScaler\n",
        "from sklearn.metrics import accuracy_score, precision_score, recall_score, confusion_matrix\n",
        "from tensorflow.keras import layers, losses\n",
        "from keras.layers import Dense, Dropout, Input\n",
        "from keras.models import Sequential, Model, load_model\n",
        "from keras.callbacks import ModelCheckpoint, TensorBoard\n",
        "from keras import regularizers\n",
        "from sklearn.model_selection import train_test_split\n",
        "from sklearn import metrics\n",
        "import statsmodels.api as sm\n",
        "import statsmodels.formula.api as smf\n",
        "from sklearn.tree import DecisionTreeClassifier, export_graphviz\n",
        "import graphviz as gp\n",
        "import seaborn as sns\n",
        "import keras_tuner as kt"
      ]
    },
    {
      "cell_type": "code",
      "source": [
        "# pip install keras_tuner"
      ],
      "metadata": {
        "id": "BAw5IN10RVz4"
      },
      "execution_count": null,
      "outputs": []
    },
    {
      "cell_type": "code",
      "source": [
        "from google.colab import drive\n",
        "drive.mount('/content/drive')"
      ],
      "metadata": {
        "colab": {
          "base_uri": "https://localhost:8080/"
        },
        "id": "RB9dO1flRYin",
        "outputId": "148040b1-5180-44d8-9ca4-328f7877ffe1"
      },
      "execution_count": 3,
      "outputs": [
        {
          "output_type": "stream",
          "name": "stdout",
          "text": [
            "Mounted at /content/drive\n"
          ]
        }
      ]
    },
    {
      "cell_type": "code",
      "source": [
        "df = pd.read_csv(\"/content/drive/MyDrive/ADL /Insurance_claims.csv\")"
      ],
      "metadata": {
        "id": "XKfnjRMDR2p0"
      },
      "execution_count": 4,
      "outputs": []
    },
    {
      "cell_type": "code",
      "source": [
        "df.info()"
      ],
      "metadata": {
        "colab": {
          "base_uri": "https://localhost:8080/"
        },
        "id": "eQNGdzypR9kj",
        "outputId": "40765a3f-57e8-47b9-c8b2-fa2f52cf4a93"
      },
      "execution_count": 5,
      "outputs": [
        {
          "output_type": "stream",
          "name": "stdout",
          "text": [
            "<class 'pandas.core.frame.DataFrame'>\n",
            "RangeIndex: 11530 entries, 0 to 11529\n",
            "Data columns (total 26 columns):\n",
            " #   Column                           Non-Null Count  Dtype  \n",
            "---  ------                           --------------  -----  \n",
            " 0   ReferenceId                      11530 non-null  int64  \n",
            " 1   PolicyholderNumber               11530 non-null  int64  \n",
            " 2   FirstPartyVehicleNumber          11035 non-null  float64\n",
            " 3   ThirdPartyVehicleNumber          379 non-null    float64\n",
            " 4   InsurerNotes                     9173 non-null   object \n",
            " 5   PolicyholderOccupation           11187 non-null  object \n",
            " 6   LossDate                         11530 non-null  object \n",
            " 7   FirstPolicySubscriptionDate      11530 non-null  object \n",
            " 8   ClaimCause                       11333 non-null  object \n",
            " 9   ClaimInvolvedCovers              11335 non-null  object \n",
            " 10  DamageImportance                 738 non-null    object \n",
            " 11  FirstPartyVehicleType            11518 non-null  object \n",
            " 12  ConnectionBetweenParties         98 non-null     object \n",
            " 13  LossPostCode                     10122 non-null  object \n",
            " 14  PolicyHolderPostCode             11530 non-null  object \n",
            " 15  PolicyWasSubscribedOnInternet    11530 non-null  int64  \n",
            " 16  NumberOfPoliciesOfPolicyholder   11530 non-null  int64  \n",
            " 17  FpVehicleAgeMonths               11518 non-null  float64\n",
            " 18  EasinessToStage                  11530 non-null  float64\n",
            " 19  ClaimWihoutIdentifiedThirdParty  11530 non-null  int64  \n",
            " 20  ClaimAmount                      11530 non-null  float64\n",
            " 21  LossHour                         11436 non-null  float64\n",
            " 22  PolicyHolderAge                  11494 non-null  float64\n",
            " 23  NumberOfBodilyInjuries           11530 non-null  int64  \n",
            " 24  FirstPartyLiability              11530 non-null  float64\n",
            " 25  Fraud                            11530 non-null  int64  \n",
            "dtypes: float64(8), int64(7), object(11)\n",
            "memory usage: 2.3+ MB\n"
          ]
        }
      ]
    },
    {
      "cell_type": "markdown",
      "source": [
        "# **1. Data Cleaning**"
      ],
      "metadata": {
        "id": "u-WyYW5WSDWA"
      }
    },
    {
      "cell_type": "markdown",
      "source": [
        "## Pre processing"
      ],
      "metadata": {
        "id": "0tS4jLQhSJw5"
      }
    },
    {
      "cell_type": "code",
      "source": [
        "# fill in missing values with NA\n",
        "df[\"FirstPartyVehicleNumber\"] = df[\"FirstPartyVehicleNumber\"].fillna(\"NA\")\n",
        "df[\"ThirdPartyVehicleNumber\"] = df[\"ThirdPartyVehicleNumber\"].fillna(\"NA\")\n",
        "df[\"InsurerNotes\"] = df[\"InsurerNotes\"].fillna(\"NA\")\n",
        "\n",
        "# change the datatype to datetime\n",
        "df['LossDate'] = pd.to_datetime(df['LossDate'])\n",
        "df['FirstPolicySubscriptionDate'] = pd.to_datetime(df['FirstPolicySubscriptionDate'])\n",
        "\n",
        "# fill in missing values with NoConnection\n",
        "df[\"ConnectionBetweenParties\"] = df[\"ConnectionBetweenParties\"].fillna(\"NoConnection\")\n",
        "\n",
        "# extract the symbols and fill in missing values with NA\n",
        "df[\"LossPostCode\"] = df['LossPostCode'].str.extract(pat='(\\d+)', expand=False)\n",
        "df[\"LossPostCode\"] = df['LossPostCode'].fillna(\"NA\")\n",
        "\n",
        "# missing values with NA\n",
        "df[\"PolicyHolderPostCode\"] = df[\"PolicyHolderPostCode\"].fillna(\"NA\")\n",
        "\n",
        "# missing values with mean\n",
        "df['FpVehicleAgeMonths'].fillna(df['FpVehicleAgeMonths'].mean(), inplace=True)\n",
        "df['PolicyHolderAge'].fillna(df['PolicyHolderAge'].mean(), inplace=True)\n",
        "\n",
        "# group data\n",
        "for index, row in df.iterrows():\n",
        "    if row['LossHour'] >= 0 and row['LossHour'] < 4:\n",
        "        df.loc[index,\"LossHour\"] = '0-3'\n",
        "    if row['LossHour'] >= 4 and row['LossHour'] < 8:\n",
        "        df.loc[index,\"LossHour\"] = '4-7'\n",
        "    if row['LossHour'] >= 8 and row['LossHour'] < 12:\n",
        "        df.loc[index,\"LossHour\"] = '8-11'\n",
        "    if row['LossHour'] >= 12 and row['LossHour'] < 16:\n",
        "        df.loc[index,\"LossHour\"] = '12-15'\n",
        "    if row['LossHour'] >= 16 and row['LossHour'] < 20:\n",
        "        df.loc[index,\"LossHour\"] = '16-19'\n",
        "    if row['LossHour'] >= 20 and row['LossHour'] <= 23:\n",
        "        df.loc[index,\"LossHour\"] = '20-23'\n",
        "# fill in data with mode\n",
        "df['LossHour'].fillna(df['LossHour'].mode()[0], inplace=True)"
      ],
      "metadata": {
        "id": "6BfZXSOkSWEt"
      },
      "execution_count": 6,
      "outputs": []
    },
    {
      "cell_type": "code",
      "source": [
        "# Colume ClaimInvolvedCovers\n",
        "x = pd.DataFrame(df['ClaimInvolvedCovers'].str.split(' ',expand=True))\n",
        "unique = pd.DataFrame(pd.concat([x[0],x[1],x[2],x[3],x[4]]).unique(), columns=['types'])\n",
        "unique = unique.dropna().reset_index(drop=True)\n",
        "uniqueL = unique['types'].tolist()\n",
        "for j in np.arange(0,len(uniqueL)):\n",
        "    cat = uniqueL[j]\n",
        "    aa = [0]*11530\n",
        "    for i in [0,1,2,3,4]:\n",
        "        aa = aa + np.array((x[i] == cat)*1)\n",
        "    #aa\n",
        "    df['ClaimInvolvedCovers_'+uniqueL[j]] = aa\n",
        "df = df.drop(columns=[\"ClaimInvolvedCovers\"])\n",
        "\n",
        "# Colume DamageImportance\n",
        "df['DamageImportance'] = df['DamageImportance'].fillna(\"Negligible\")\n"
      ],
      "metadata": {
        "id": "Z8I_pu5FUa1P"
      },
      "execution_count": 7,
      "outputs": []
    },
    {
      "cell_type": "code",
      "source": [
        "# create new column\n",
        "df['Date_diff'] = (df['LossDate'] - df['FirstPolicySubscriptionDate']).dt.days"
      ],
      "metadata": {
        "id": "Ba_bvfjDVT9N"
      },
      "execution_count": 8,
      "outputs": []
    },
    {
      "cell_type": "code",
      "source": [
        "df_clean = df.copy()"
      ],
      "metadata": {
        "id": "jc1W0F38VZB9"
      },
      "execution_count": 9,
      "outputs": []
    },
    {
      "cell_type": "code",
      "source": [
        "# get dummy\n",
        "df_clean=df_clean.merge(pd.get_dummies(df_clean.LossHour,prefix=\"LH\",\n",
        "                                       prefix_sep=\"_\"),left_index=True, right_index=True)\n",
        "df_clean=df_clean.merge(pd.get_dummies(df_clean.ConnectionBetweenParties,prefix=\"CBP\",\n",
        "                                       prefix_sep=\"_\"),left_index=True, right_index=True)\n",
        "df_clean=df_clean.merge(pd.get_dummies(df_clean.PolicyholderOccupation,prefix=\"PO\",\n",
        "                                       prefix_sep=\"_\"),left_index=True, right_index=True)\n",
        "df_clean=df_clean.merge(pd.get_dummies(df_clean.ClaimCause,prefix=\"CC\",\n",
        "                                       prefix_sep=\"_\"),left_index=True, right_index=True)\n",
        "df_clean=df_clean.merge(pd.get_dummies(df_clean.DamageImportance,prefix=\"DI\",\n",
        "                                       prefix_sep=\"_\"),left_index=True, right_index=True)\n",
        "df_clean=df_clean.merge(pd.get_dummies(df_clean.FirstPartyVehicleType,prefix=\"FPVT\",\n",
        "                                       prefix_sep=\"_\"),left_index=True, right_index=True)\n",
        "\n",
        "df_clean = df_clean.drop(['ConnectionBetweenParties', 'PolicyholderOccupation',\"ClaimCause\",\n",
        "               \"DamageImportance\",\"FirstPartyVehicleType\",\n",
        "               \"LossHour\"], axis=1)"
      ],
      "metadata": {
        "id": "NxfULy_xVdCI"
      },
      "execution_count": 10,
      "outputs": []
    },
    {
      "cell_type": "code",
      "source": [
        "df_clean1 = df_clean.copy()"
      ],
      "metadata": {
        "id": "MdeVQfRZVviE"
      },
      "execution_count": 11,
      "outputs": []
    },
    {
      "cell_type": "code",
      "source": [
        "# drop columns we don't need\n",
        "df_clean1 = df_clean1.drop(['ReferenceId', 'PolicyholderNumber',\"FirstPartyVehicleNumber\",\n",
        "               \"ThirdPartyVehicleNumber\",\"InsurerNotes\",\n",
        "               \"LossPostCode\",\"PolicyHolderPostCode\",\"LossDate\",\"FirstPolicySubscriptionDate\"], axis=1)"
      ],
      "metadata": {
        "id": "YtMCt0mxV5Fk"
      },
      "execution_count": 12,
      "outputs": []
    },
    {
      "cell_type": "code",
      "source": [
        "df_clean1.info()"
      ],
      "metadata": {
        "colab": {
          "base_uri": "https://localhost:8080/"
        },
        "id": "ooIVwGEIV7sY",
        "outputId": "2c6a1377-c47f-49c0-c98c-da05cb8f4c5e"
      },
      "execution_count": 13,
      "outputs": [
        {
          "output_type": "stream",
          "name": "stdout",
          "text": [
            "<class 'pandas.core.frame.DataFrame'>\n",
            "RangeIndex: 11530 entries, 0 to 11529\n",
            "Data columns (total 72 columns):\n",
            " #   Column                                         Non-Null Count  Dtype  \n",
            "---  ------                                         --------------  -----  \n",
            " 0   PolicyWasSubscribedOnInternet                  11530 non-null  int64  \n",
            " 1   NumberOfPoliciesOfPolicyholder                 11530 non-null  int64  \n",
            " 2   FpVehicleAgeMonths                             11530 non-null  float64\n",
            " 3   EasinessToStage                                11530 non-null  float64\n",
            " 4   ClaimWihoutIdentifiedThirdParty                11530 non-null  int64  \n",
            " 5   ClaimAmount                                    11530 non-null  float64\n",
            " 6   PolicyHolderAge                                11530 non-null  float64\n",
            " 7   NumberOfBodilyInjuries                         11530 non-null  int64  \n",
            " 8   FirstPartyLiability                            11530 non-null  float64\n",
            " 9   Fraud                                          11530 non-null  int64  \n",
            " 10  ClaimInvolvedCovers_MaterialDamages            11530 non-null  int64  \n",
            " 11  ClaimInvolvedCovers_ActLiability               11530 non-null  int64  \n",
            " 12  ClaimInvolvedCovers_Windscreen                 11530 non-null  int64  \n",
            " 13  ClaimInvolvedCovers_Accessories                11530 non-null  int64  \n",
            " 14  ClaimInvolvedCovers_ThirdParty                 11530 non-null  int64  \n",
            " 15  ClaimInvolvedCovers_Theft                      11530 non-null  int64  \n",
            " 16  ClaimInvolvedCovers_ThirdPartyMaterialDamages  11530 non-null  int64  \n",
            " 17  ClaimInvolvedCovers_Burglary                   11530 non-null  int64  \n",
            " 18  ClaimInvolvedCovers_NaturalCatastrophes        11530 non-null  int64  \n",
            " 19  ClaimInvolvedCovers_MedicalCare                11530 non-null  int64  \n",
            " 20  ClaimInvolvedCovers_ReplacementVehicle         11530 non-null  int64  \n",
            " 21  ClaimInvolvedCovers_Fire                       11530 non-null  int64  \n",
            " 22  ClaimInvolvedCovers_RiderClothes               11530 non-null  int64  \n",
            " 23  Date_diff                                      11530 non-null  int64  \n",
            " 24  LH_0-3                                         11530 non-null  uint8  \n",
            " 25  LH_12-15                                       11530 non-null  uint8  \n",
            " 26  LH_16-19                                       11530 non-null  uint8  \n",
            " 27  LH_20-23                                       11530 non-null  uint8  \n",
            " 28  LH_4-7                                         11530 non-null  uint8  \n",
            " 29  LH_8-11                                        11530 non-null  uint8  \n",
            " 30  CBP_NoConnection                               11530 non-null  uint8  \n",
            " 31  CBP_SameAddress                                11530 non-null  uint8  \n",
            " 32  CBP_SameBankAccount                            11530 non-null  uint8  \n",
            " 33  CBP_SameEmail                                  11530 non-null  uint8  \n",
            " 34  CBP_SamePhone                                  11530 non-null  uint8  \n",
            " 35  CBP_SamePolice                                 11530 non-null  uint8  \n",
            " 36  PO_CivilServant                                11530 non-null  uint8  \n",
            " 37  PO_Employee                                    11530 non-null  uint8  \n",
            " 38  PO_Executive                                   11530 non-null  uint8  \n",
            " 39  PO_Farmer                                      11530 non-null  uint8  \n",
            " 40  PO_HeadOfCompany                               11530 non-null  uint8  \n",
            " 41  PO_Merchant                                    11530 non-null  uint8  \n",
            " 42  PO_Retired                                     11530 non-null  uint8  \n",
            " 43  PO_SelfEmployed                                11530 non-null  uint8  \n",
            " 44  PO_Student                                     11530 non-null  uint8  \n",
            " 45  PO_Unemployed                                  11530 non-null  uint8  \n",
            " 46  PO_Worker                                      11530 non-null  uint8  \n",
            " 47  CC_AccidentOrCollision                         11530 non-null  uint8  \n",
            " 48  CC_AccidentWithIdentifiedThirdParty            11530 non-null  uint8  \n",
            " 49  CC_AccidentWithUnidentifiedThirdParty          11530 non-null  uint8  \n",
            " 50  CC_CollisionWithAnimal                         11530 non-null  uint8  \n",
            " 51  CC_CollisionWithPedestrian                     11530 non-null  uint8  \n",
            " 52  CC_Fire                                        11530 non-null  uint8  \n",
            " 53  CC_Flood                                       11530 non-null  uint8  \n",
            " 54  CC_ForcesOfNature                              11530 non-null  uint8  \n",
            " 55  CC_Hail                                        11530 non-null  uint8  \n",
            " 56  CC_LegalProtection                             11530 non-null  uint8  \n",
            " 57  CC_LossOfControl                               11530 non-null  uint8  \n",
            " 58  CC_MultiVehicleCrash                           11530 non-null  uint8  \n",
            " 59  CC_Storm                                       11530 non-null  uint8  \n",
            " 60  CC_TheftAttempt                                11530 non-null  uint8  \n",
            " 61  CC_TheftOfExteriorElements                     11530 non-null  uint8  \n",
            " 62  CC_TotalTheft                                  11530 non-null  uint8  \n",
            " 63  CC_Vandalism                                   11530 non-null  uint8  \n",
            " 64  CC_WindscreenDamage                            11530 non-null  uint8  \n",
            " 65  DI_Medium                                      11530 non-null  uint8  \n",
            " 66  DI_Negligible                                  11530 non-null  uint8  \n",
            " 67  DI_TotalLoss                                   11530 non-null  uint8  \n",
            " 68  FPVT_Car                                       11530 non-null  uint8  \n",
            " 69  FPVT_Caravan                                   11530 non-null  uint8  \n",
            " 70  FPVT_Motorcycle                                11530 non-null  uint8  \n",
            " 71  FPVT_PrivateCar                                11530 non-null  uint8  \n",
            "dtypes: float64(5), int64(19), uint8(48)\n",
            "memory usage: 2.6 MB\n"
          ]
        }
      ]
    },
    {
      "cell_type": "code",
      "source": [
        "df_clean1.to_csv(\"Clean data v3.csv\")"
      ],
      "metadata": {
        "id": "5xcqcGvxWEVS"
      },
      "execution_count": 14,
      "outputs": []
    },
    {
      "cell_type": "markdown",
      "source": [
        "# 2. Simple Model"
      ],
      "metadata": {
        "id": "DdN0HkYzWhdN"
      }
    },
    {
      "cell_type": "code",
      "source": [
        "df = pd.read_csv(\"/content/drive/MyDrive/ADL /Clean data v3.csv\")"
      ],
      "metadata": {
        "id": "NsCx3BzWWg7y"
      },
      "execution_count": 15,
      "outputs": []
    },
    {
      "cell_type": "code",
      "source": [
        "df = df.drop(columns=['Unnamed: 0'])"
      ],
      "metadata": {
        "id": "mAr6XgumWqHC"
      },
      "execution_count": 16,
      "outputs": []
    },
    {
      "cell_type": "markdown",
      "source": [
        "In this model, we consider a claim as suspicious if the incident occured within \"t\" days from subscription"
      ],
      "metadata": {
        "id": "ozhCgeKIW0bM"
      }
    },
    {
      "cell_type": "code",
      "source": [
        "HR = []\n",
        "DR = []\n",
        "t_list= []\n",
        "\n",
        "for t in range(0,30):\n",
        "    df[\"Prediction\"] = df[\"Date_diff\"].le(t).astype(int)\n",
        "    true_positives = ((df[\"Fraud\"] == 1) & (df[\"Prediction\"] == 1)).sum()\n",
        "    false_positives = ((df[\"Fraud\"] == 0) & (df[\"Prediction\"] == 1)).sum()\n",
        "\n",
        "    # Hit rate: TP / (TP + FP)\n",
        "    hit_rate = true_positives / (true_positives + false_positives)\n",
        "\n",
        "    # Detection rate: (TP + FP)  / total number of claims\n",
        "    detection_rate = (true_positives +  false_positives)/ len(df)\n",
        "    \n",
        "    t_list.append(t)\n",
        "    HR.append(hit_rate)\n",
        "    DR.append(detection_rate)"
      ],
      "metadata": {
        "id": "oiHOr7iSWuZi"
      },
      "execution_count": 17,
      "outputs": []
    },
    {
      "cell_type": "code",
      "source": [
        "# combining lists of t, HR and DR into a dataframe \n",
        "df_combine = pd.DataFrame({'Time': t_list, 'Hit Rate': HR, 'Detection Rate' : DR }, index=t_list)\n",
        "df_combine"
      ],
      "metadata": {
        "colab": {
          "base_uri": "https://localhost:8080/",
          "height": 990
        },
        "id": "ug3srDe6W_Rf",
        "outputId": "7a655877-8097-4561-b2cb-2ddf206b307a"
      },
      "execution_count": 18,
      "outputs": [
        {
          "output_type": "execute_result",
          "data": {
            "text/plain": [
              "    Time  Hit Rate  Detection Rate\n",
              "0      0  0.341463        0.003556\n",
              "1      1  0.246575        0.006331\n",
              "2      2  0.288462        0.009020\n",
              "3      3  0.264463        0.010494\n",
              "4      4  0.234568        0.014050\n",
              "5      5  0.223350        0.017086\n",
              "6      6  0.217021        0.020382\n",
              "7      7  0.203846        0.022550\n",
              "8      8  0.192308        0.024805\n",
              "9      9  0.188119        0.026279\n",
              "10    10  0.187302        0.027320\n",
              "11    11  0.184524        0.029141\n",
              "12    12  0.170799        0.031483\n",
              "13    13  0.162730        0.033044\n",
              "14    14  0.165025        0.035212\n",
              "15    15  0.160377        0.036774\n",
              "16    16  0.158730        0.038248\n",
              "17    17  0.156317        0.040503\n",
              "18    18  0.155419        0.042411\n",
              "19    19  0.153082        0.043625\n",
              "20    20  0.148571        0.045533\n",
              "21    21  0.143119        0.047268\n",
              "22    22  0.142096        0.048829\n",
              "23    23  0.140411        0.050650\n",
              "24    24  0.140940        0.051691\n",
              "25    25  0.138662        0.053166\n",
              "26    26  0.136508        0.054640\n",
              "27    27  0.133956        0.055681\n",
              "28    28  0.132931        0.057415\n",
              "29    29  0.131579        0.059324"
            ],
            "text/html": [
              "\n",
              "  <div id=\"df-1bf5eed1-868b-4e9f-8742-ba4d8d981dfe\">\n",
              "    <div class=\"colab-df-container\">\n",
              "      <div>\n",
              "<style scoped>\n",
              "    .dataframe tbody tr th:only-of-type {\n",
              "        vertical-align: middle;\n",
              "    }\n",
              "\n",
              "    .dataframe tbody tr th {\n",
              "        vertical-align: top;\n",
              "    }\n",
              "\n",
              "    .dataframe thead th {\n",
              "        text-align: right;\n",
              "    }\n",
              "</style>\n",
              "<table border=\"1\" class=\"dataframe\">\n",
              "  <thead>\n",
              "    <tr style=\"text-align: right;\">\n",
              "      <th></th>\n",
              "      <th>Time</th>\n",
              "      <th>Hit Rate</th>\n",
              "      <th>Detection Rate</th>\n",
              "    </tr>\n",
              "  </thead>\n",
              "  <tbody>\n",
              "    <tr>\n",
              "      <th>0</th>\n",
              "      <td>0</td>\n",
              "      <td>0.341463</td>\n",
              "      <td>0.003556</td>\n",
              "    </tr>\n",
              "    <tr>\n",
              "      <th>1</th>\n",
              "      <td>1</td>\n",
              "      <td>0.246575</td>\n",
              "      <td>0.006331</td>\n",
              "    </tr>\n",
              "    <tr>\n",
              "      <th>2</th>\n",
              "      <td>2</td>\n",
              "      <td>0.288462</td>\n",
              "      <td>0.009020</td>\n",
              "    </tr>\n",
              "    <tr>\n",
              "      <th>3</th>\n",
              "      <td>3</td>\n",
              "      <td>0.264463</td>\n",
              "      <td>0.010494</td>\n",
              "    </tr>\n",
              "    <tr>\n",
              "      <th>4</th>\n",
              "      <td>4</td>\n",
              "      <td>0.234568</td>\n",
              "      <td>0.014050</td>\n",
              "    </tr>\n",
              "    <tr>\n",
              "      <th>5</th>\n",
              "      <td>5</td>\n",
              "      <td>0.223350</td>\n",
              "      <td>0.017086</td>\n",
              "    </tr>\n",
              "    <tr>\n",
              "      <th>6</th>\n",
              "      <td>6</td>\n",
              "      <td>0.217021</td>\n",
              "      <td>0.020382</td>\n",
              "    </tr>\n",
              "    <tr>\n",
              "      <th>7</th>\n",
              "      <td>7</td>\n",
              "      <td>0.203846</td>\n",
              "      <td>0.022550</td>\n",
              "    </tr>\n",
              "    <tr>\n",
              "      <th>8</th>\n",
              "      <td>8</td>\n",
              "      <td>0.192308</td>\n",
              "      <td>0.024805</td>\n",
              "    </tr>\n",
              "    <tr>\n",
              "      <th>9</th>\n",
              "      <td>9</td>\n",
              "      <td>0.188119</td>\n",
              "      <td>0.026279</td>\n",
              "    </tr>\n",
              "    <tr>\n",
              "      <th>10</th>\n",
              "      <td>10</td>\n",
              "      <td>0.187302</td>\n",
              "      <td>0.027320</td>\n",
              "    </tr>\n",
              "    <tr>\n",
              "      <th>11</th>\n",
              "      <td>11</td>\n",
              "      <td>0.184524</td>\n",
              "      <td>0.029141</td>\n",
              "    </tr>\n",
              "    <tr>\n",
              "      <th>12</th>\n",
              "      <td>12</td>\n",
              "      <td>0.170799</td>\n",
              "      <td>0.031483</td>\n",
              "    </tr>\n",
              "    <tr>\n",
              "      <th>13</th>\n",
              "      <td>13</td>\n",
              "      <td>0.162730</td>\n",
              "      <td>0.033044</td>\n",
              "    </tr>\n",
              "    <tr>\n",
              "      <th>14</th>\n",
              "      <td>14</td>\n",
              "      <td>0.165025</td>\n",
              "      <td>0.035212</td>\n",
              "    </tr>\n",
              "    <tr>\n",
              "      <th>15</th>\n",
              "      <td>15</td>\n",
              "      <td>0.160377</td>\n",
              "      <td>0.036774</td>\n",
              "    </tr>\n",
              "    <tr>\n",
              "      <th>16</th>\n",
              "      <td>16</td>\n",
              "      <td>0.158730</td>\n",
              "      <td>0.038248</td>\n",
              "    </tr>\n",
              "    <tr>\n",
              "      <th>17</th>\n",
              "      <td>17</td>\n",
              "      <td>0.156317</td>\n",
              "      <td>0.040503</td>\n",
              "    </tr>\n",
              "    <tr>\n",
              "      <th>18</th>\n",
              "      <td>18</td>\n",
              "      <td>0.155419</td>\n",
              "      <td>0.042411</td>\n",
              "    </tr>\n",
              "    <tr>\n",
              "      <th>19</th>\n",
              "      <td>19</td>\n",
              "      <td>0.153082</td>\n",
              "      <td>0.043625</td>\n",
              "    </tr>\n",
              "    <tr>\n",
              "      <th>20</th>\n",
              "      <td>20</td>\n",
              "      <td>0.148571</td>\n",
              "      <td>0.045533</td>\n",
              "    </tr>\n",
              "    <tr>\n",
              "      <th>21</th>\n",
              "      <td>21</td>\n",
              "      <td>0.143119</td>\n",
              "      <td>0.047268</td>\n",
              "    </tr>\n",
              "    <tr>\n",
              "      <th>22</th>\n",
              "      <td>22</td>\n",
              "      <td>0.142096</td>\n",
              "      <td>0.048829</td>\n",
              "    </tr>\n",
              "    <tr>\n",
              "      <th>23</th>\n",
              "      <td>23</td>\n",
              "      <td>0.140411</td>\n",
              "      <td>0.050650</td>\n",
              "    </tr>\n",
              "    <tr>\n",
              "      <th>24</th>\n",
              "      <td>24</td>\n",
              "      <td>0.140940</td>\n",
              "      <td>0.051691</td>\n",
              "    </tr>\n",
              "    <tr>\n",
              "      <th>25</th>\n",
              "      <td>25</td>\n",
              "      <td>0.138662</td>\n",
              "      <td>0.053166</td>\n",
              "    </tr>\n",
              "    <tr>\n",
              "      <th>26</th>\n",
              "      <td>26</td>\n",
              "      <td>0.136508</td>\n",
              "      <td>0.054640</td>\n",
              "    </tr>\n",
              "    <tr>\n",
              "      <th>27</th>\n",
              "      <td>27</td>\n",
              "      <td>0.133956</td>\n",
              "      <td>0.055681</td>\n",
              "    </tr>\n",
              "    <tr>\n",
              "      <th>28</th>\n",
              "      <td>28</td>\n",
              "      <td>0.132931</td>\n",
              "      <td>0.057415</td>\n",
              "    </tr>\n",
              "    <tr>\n",
              "      <th>29</th>\n",
              "      <td>29</td>\n",
              "      <td>0.131579</td>\n",
              "      <td>0.059324</td>\n",
              "    </tr>\n",
              "  </tbody>\n",
              "</table>\n",
              "</div>\n",
              "      <button class=\"colab-df-convert\" onclick=\"convertToInteractive('df-1bf5eed1-868b-4e9f-8742-ba4d8d981dfe')\"\n",
              "              title=\"Convert this dataframe to an interactive table.\"\n",
              "              style=\"display:none;\">\n",
              "        \n",
              "  <svg xmlns=\"http://www.w3.org/2000/svg\" height=\"24px\"viewBox=\"0 0 24 24\"\n",
              "       width=\"24px\">\n",
              "    <path d=\"M0 0h24v24H0V0z\" fill=\"none\"/>\n",
              "    <path d=\"M18.56 5.44l.94 2.06.94-2.06 2.06-.94-2.06-.94-.94-2.06-.94 2.06-2.06.94zm-11 1L8.5 8.5l.94-2.06 2.06-.94-2.06-.94L8.5 2.5l-.94 2.06-2.06.94zm10 10l.94 2.06.94-2.06 2.06-.94-2.06-.94-.94-2.06-.94 2.06-2.06.94z\"/><path d=\"M17.41 7.96l-1.37-1.37c-.4-.4-.92-.59-1.43-.59-.52 0-1.04.2-1.43.59L10.3 9.45l-7.72 7.72c-.78.78-.78 2.05 0 2.83L4 21.41c.39.39.9.59 1.41.59.51 0 1.02-.2 1.41-.59l7.78-7.78 2.81-2.81c.8-.78.8-2.07 0-2.86zM5.41 20L4 18.59l7.72-7.72 1.47 1.35L5.41 20z\"/>\n",
              "  </svg>\n",
              "      </button>\n",
              "      \n",
              "  <style>\n",
              "    .colab-df-container {\n",
              "      display:flex;\n",
              "      flex-wrap:wrap;\n",
              "      gap: 12px;\n",
              "    }\n",
              "\n",
              "    .colab-df-convert {\n",
              "      background-color: #E8F0FE;\n",
              "      border: none;\n",
              "      border-radius: 50%;\n",
              "      cursor: pointer;\n",
              "      display: none;\n",
              "      fill: #1967D2;\n",
              "      height: 32px;\n",
              "      padding: 0 0 0 0;\n",
              "      width: 32px;\n",
              "    }\n",
              "\n",
              "    .colab-df-convert:hover {\n",
              "      background-color: #E2EBFA;\n",
              "      box-shadow: 0px 1px 2px rgba(60, 64, 67, 0.3), 0px 1px 3px 1px rgba(60, 64, 67, 0.15);\n",
              "      fill: #174EA6;\n",
              "    }\n",
              "\n",
              "    [theme=dark] .colab-df-convert {\n",
              "      background-color: #3B4455;\n",
              "      fill: #D2E3FC;\n",
              "    }\n",
              "\n",
              "    [theme=dark] .colab-df-convert:hover {\n",
              "      background-color: #434B5C;\n",
              "      box-shadow: 0px 1px 3px 1px rgba(0, 0, 0, 0.15);\n",
              "      filter: drop-shadow(0px 1px 2px rgba(0, 0, 0, 0.3));\n",
              "      fill: #FFFFFF;\n",
              "    }\n",
              "  </style>\n",
              "\n",
              "      <script>\n",
              "        const buttonEl =\n",
              "          document.querySelector('#df-1bf5eed1-868b-4e9f-8742-ba4d8d981dfe button.colab-df-convert');\n",
              "        buttonEl.style.display =\n",
              "          google.colab.kernel.accessAllowed ? 'block' : 'none';\n",
              "\n",
              "        async function convertToInteractive(key) {\n",
              "          const element = document.querySelector('#df-1bf5eed1-868b-4e9f-8742-ba4d8d981dfe');\n",
              "          const dataTable =\n",
              "            await google.colab.kernel.invokeFunction('convertToInteractive',\n",
              "                                                     [key], {});\n",
              "          if (!dataTable) return;\n",
              "\n",
              "          const docLinkHtml = 'Like what you see? Visit the ' +\n",
              "            '<a target=\"_blank\" href=https://colab.research.google.com/notebooks/data_table.ipynb>data table notebook</a>'\n",
              "            + ' to learn more about interactive tables.';\n",
              "          element.innerHTML = '';\n",
              "          dataTable['output_type'] = 'display_data';\n",
              "          await google.colab.output.renderOutput(dataTable, element);\n",
              "          const docLink = document.createElement('div');\n",
              "          docLink.innerHTML = docLinkHtml;\n",
              "          element.appendChild(docLink);\n",
              "        }\n",
              "      </script>\n",
              "    </div>\n",
              "  </div>\n",
              "  "
            ]
          },
          "metadata": {},
          "execution_count": 18
        }
      ]
    },
    {
      "cell_type": "code",
      "source": [
        "# plotting HR and DR for different values of \"t\"\n",
        "sns.lineplot(x='Time', y='Hit Rate', data=df_combine, label='Hit Rate')\n",
        "sns.lineplot(x='Time', y='Detection Rate', data=df_combine, label='Detection Rate')\n",
        "\n",
        "plt.xlabel('Time')\n",
        "plt.ylabel('Rate')\n",
        "plt.title('Detection and Hit for different values of \"t\"')\n",
        "plt.legend()\n",
        "plt.show()"
      ],
      "metadata": {
        "colab": {
          "base_uri": "https://localhost:8080/",
          "height": 295
        },
        "id": "y2XLttmmXGJE",
        "outputId": "5c04bb87-53a8-4b6b-fd53-a3012c47caf4"
      },
      "execution_count": 19,
      "outputs": [
        {
          "output_type": "display_data",
          "data": {
            "text/plain": [
              "<Figure size 432x288 with 1 Axes>"
            ],
            "image/png": "[encoded data removed]"
          },
          "metadata": {
            "needs_background": "light"
          }
        }
      ]
    },
    {
      "cell_type": "markdown",
      "source": [
        "# **3. Decision Tree**"
      ],
      "metadata": {
        "id": "dvZaOpaRXn8N"
      }
    },
    {
      "cell_type": "code",
      "source": [
        "df = pd.read_csv(\"/content/drive/MyDrive/ADL /Clean data v3.csv\")"
      ],
      "metadata": {
        "id": "7BKa_HzkcC8m"
      },
      "execution_count": 20,
      "outputs": []
    },
    {
      "cell_type": "code",
      "source": [
        "df = df.drop(columns=['Unnamed: 0'])"
      ],
      "metadata": {
        "id": "GNMEH3cwcFIu"
      },
      "execution_count": 21,
      "outputs": []
    },
    {
      "cell_type": "markdown",
      "source": [
        "## 3.1 Split dataset"
      ],
      "metadata": {
        "id": "uxplpODUYW83"
      }
    },
    {
      "cell_type": "code",
      "source": [
        "y=df[\"Fraud\"] # dependent variable\n",
        "X=df.drop(columns=[\"Fraud\"]) # predictor variables\n",
        "\n",
        "# split data\n",
        "X_train, X_other, y_train, y_other = train_test_split(X, y, train_size=0.7, random_state=342)\n",
        "X_test, X_valid, y_test, y_valid = train_test_split(X_other, y_other, train_size = 0.7, random_state=152)"
      ],
      "metadata": {
        "id": "Ce9kGdhEXnkD"
      },
      "execution_count": 22,
      "outputs": []
    },
    {
      "cell_type": "markdown",
      "source": [
        "## 3.2 Decision Tree Classifier Model"
      ],
      "metadata": {
        "id": "tKZBhRsFYbUm"
      }
    },
    {
      "cell_type": "code",
      "source": [
        "# fitting a classification tree to the data\n",
        "classifier_DT = DecisionTreeClassifier(max_leaf_nodes = 20)\n",
        "classifier_DT.fit(X_train, y_train.values)"
      ],
      "metadata": {
        "colab": {
          "base_uri": "https://localhost:8080/",
          "height": 75
        },
        "id": "6UV0MyUWYLc0",
        "outputId": "0cef37c2-070f-4c8d-d78c-b3a55dd625c6"
      },
      "execution_count": 23,
      "outputs": [
        {
          "output_type": "execute_result",
          "data": {
            "text/plain": [
              "DecisionTreeClassifier(max_leaf_nodes=20)"
            ],
            "text/html": [
              "<style>#sk-container-id-1 {color: black;background-color: white;}#sk-container-id-1 pre{padding: 0;}#sk-container-id-1 div.sk-toggleable {background-color: white;}#sk-container-id-1 label.sk-toggleable__label {cursor: pointer;display: block;width: 100%;margin-bottom: 0;padding: 0.3em;box-sizing: border-box;text-align: center;}#sk-container-id-1 label.sk-toggleable__label-arrow:before {content: \"▸\";float: left;margin-right: 0.25em;color: #696969;}#sk-container-id-1 label.sk-toggleable__label-arrow:hover:before {color: black;}#sk-container-id-1 div.sk-estimator:hover label.sk-toggleable__label-arrow:before {color: black;}#sk-container-id-1 div.sk-toggleable__content {max-height: 0;max-width: 0;overflow: hidden;text-align: left;background-color: #f0f8ff;}#sk-container-id-1 div.sk-toggleable__content pre {margin: 0.2em;color: black;border-radius: 0.25em;background-color: #f0f8ff;}#sk-container-id-1 input.sk-toggleable__control:checked~div.sk-toggleable__content {max-height: 200px;max-width: 100%;overflow: auto;}#sk-container-id-1 input.sk-toggleable__control:checked~label.sk-toggleable__label-arrow:before {content: \"▾\";}#sk-container-id-1 div.sk-estimator input.sk-toggleable__control:checked~label.sk-toggleable__label {background-color: #d4ebff;}#sk-container-id-1 div.sk-label input.sk-toggleable__control:checked~label.sk-toggleable__label {background-color: #d4ebff;}#sk-container-id-1 input.sk-hidden--visually {border: 0;clip: rect(1px 1px 1px 1px);clip: rect(1px, 1px, 1px, 1px);height: 1px;margin: -1px;overflow: hidden;padding: 0;position: absolute;width: 1px;}#sk-container-id-1 div.sk-estimator {font-family: monospace;background-color: #f0f8ff;border: 1px dotted black;border-radius: 0.25em;box-sizing: border-box;margin-bottom: 0.5em;}#sk-container-id-1 div.sk-estimator:hover {background-color: #d4ebff;}#sk-container-id-1 div.sk-parallel-item::after {content: \"\";width: 100%;border-bottom: 1px solid gray;flex-grow: 1;}#sk-container-id-1 div.sk-label:hover label.sk-toggleable__label {background-color: #d4ebff;}#sk-container-id-1 div.sk-serial::before {content: \"\";position: absolute;border-left: 1px solid gray;box-sizing: border-box;top: 0;bottom: 0;left: 50%;z-index: 0;}#sk-container-id-1 div.sk-serial {display: flex;flex-direction: column;align-items: center;background-color: white;padding-right: 0.2em;padding-left: 0.2em;position: relative;}#sk-container-id-1 div.sk-item {position: relative;z-index: 1;}#sk-container-id-1 div.sk-parallel {display: flex;align-items: stretch;justify-content: center;background-color: white;position: relative;}#sk-container-id-1 div.sk-item::before, #sk-container-id-1 div.sk-parallel-item::before {content: \"\";position: absolute;border-left: 1px solid gray;box-sizing: border-box;top: 0;bottom: 0;left: 50%;z-index: -1;}#sk-container-id-1 div.sk-parallel-item {display: flex;flex-direction: column;z-index: 1;position: relative;background-color: white;}#sk-container-id-1 div.sk-parallel-item:first-child::after {align-self: flex-end;width: 50%;}#sk-container-id-1 div.sk-parallel-item:last-child::after {align-self: flex-start;width: 50%;}#sk-container-id-1 div.sk-parallel-item:only-child::after {width: 0;}#sk-container-id-1 div.sk-dashed-wrapped {border: 1px dashed gray;margin: 0 0.4em 0.5em 0.4em;box-sizing: border-box;padding-bottom: 0.4em;background-color: white;}#sk-container-id-1 div.sk-label label {font-family: monospace;font-weight: bold;display: inline-block;line-height: 1.2em;}#sk-container-id-1 div.sk-label-container {text-align: center;}#sk-container-id-1 div.sk-container {/* jupyter's `normalize.less` sets `[hidden] { display: none; }` but bootstrap.min.css set `[hidden] { display: none !important; }` so we also need the `!important` here to be able to override the default hidden behavior on the sphinx rendered scikit-learn.org. See: https://github.com/scikit-learn/scikit-learn/issues/21755 */display: inline-block !important;position: relative;}#sk-container-id-1 div.sk-text-repr-fallback {display: none;}</style><div id=\"sk-container-id-1\" class=\"sk-top-container\"><div class=\"sk-text-repr-fallback\"><pre>DecisionTreeClassifier(max_leaf_nodes=20)</pre><b>In a Jupyter environment, please rerun this cell to show the HTML representation or trust the notebook. <br />On GitHub, the HTML representation is unable to render, please try loading this page with nbviewer.org.</b></div><div class=\"sk-container\" hidden><div class=\"sk-item\"><div class=\"sk-estimator sk-toggleable\"><input class=\"sk-toggleable__control sk-hidden--visually\" id=\"sk-estimator-id-1\" type=\"checkbox\" checked><label for=\"sk-estimator-id-1\" class=\"sk-toggleable__label sk-toggleable__label-arrow\">DecisionTreeClassifier</label><div class=\"sk-toggleable__content\"><pre>DecisionTreeClassifier(max_leaf_nodes=20)</pre></div></div></div></div></div>"
            ]
          },
          "metadata": {},
          "execution_count": 23
        }
      ]
    },
    {
      "cell_type": "code",
      "source": [
        "# plotting the tree\n",
        "dot_data = export_graphviz(classifier_DT, feature_names = X_train.columns, filled = True, rounded = True, class_names=[\"No fraud\",\"Fraud\"])\n",
        "graph = gp.Source(dot_data)\n",
        "graph"
      ],
      "metadata": {
        "colab": {
          "base_uri": "https://localhost:8080/",
          "height": 1000
        },
        "id": "aSH9JlZfYQpj",
        "outputId": "6dcae29a-cae0-47bc-fca4-b7d9b2a9476d"
      },
      "execution_count": 24,
      "outputs": [
        {
          "output_type": "execute_result",
          "data": {
            "text/plain": [
              "<graphviz.files.Source at 0x7ff891769f10>"
            ],
            "image/svg+xml": "<?xml version=\"1.0\" encoding=\"UTF-8\" standalone=\"no\"?>\n<!DOCTYPE svg PUBLIC \"-//W3C//DTD SVG 1.1//EN\"\n \"http://www.w3.org/Graphics/SVG/1.1/DTD/svg11.dtd\">\n<!-- Generated by graphviz version 2.43.0 (0)\n -->\n<!-- Title: Tree Pages: 1 -->\n<svg width=\"1307pt\" height=\"1028pt\"\n viewBox=\"0.00 0.00 1307.00 1028.00\" xmlns=\"http://www.w3.org/2000/svg\" xmlns:xlink=\"http://www.w3.org/1999/xlink\">\n<g id=\"graph0\" class=\"graph\" transform=\"scale(1 1) rotate(0) translate(4 1024)\">\n<title>Tree</title>\n<polygon fill=\"white\" stroke=\"transparent\" points=\"-4,4 -4,-1024 1303,-1024 1303,4 -4,4\"/>\n<!-- 0 -->\n<g id=\"node1\" class=\"node\">\n<title>0</title>\n<path fill=\"#e5823b\" stroke=\"black\" d=\"M1017,-1020C1017,-1020 916,-1020 916,-1020 910,-1020 904,-1014 904,-1008 904,-1008 904,-949 904,-949 904,-943 910,-937 916,-937 916,-937 1017,-937 1017,-937 1023,-937 1029,-943 1029,-949 1029,-949 1029,-1008 1029,-1008 1029,-1014 1023,-1020 1017,-1020\"/>\n<text text-anchor=\"middle\" x=\"966.5\" y=\"-1004.8\" font-family=\"Helvetica,sans-Serif\" font-size=\"14.00\">Date_diff &lt;= 29.5</text>\n<text text-anchor=\"middle\" x=\"966.5\" y=\"-989.8\" font-family=\"Helvetica,sans-Serif\" font-size=\"14.00\">gini = 0.022</text>\n<text text-anchor=\"middle\" x=\"966.5\" y=\"-974.8\" font-family=\"Helvetica,sans-Serif\" font-size=\"14.00\">samples = 8070</text>\n<text text-anchor=\"middle\" x=\"966.5\" y=\"-959.8\" font-family=\"Helvetica,sans-Serif\" font-size=\"14.00\">value = [7981, 89]</text>\n<text text-anchor=\"middle\" x=\"966.5\" y=\"-944.8\" font-family=\"Helvetica,sans-Serif\" font-size=\"14.00\">class = No fraud</text>\n</g>\n<!-- 1 -->\n<g id=\"node2\" class=\"node\">\n<title>1</title>\n<path fill=\"#e9975b\" stroke=\"black\" d=\"M939.5,-901C939.5,-901 753.5,-901 753.5,-901 747.5,-901 741.5,-895 741.5,-889 741.5,-889 741.5,-830 741.5,-830 741.5,-824 747.5,-818 753.5,-818 753.5,-818 939.5,-818 939.5,-818 945.5,-818 951.5,-824 951.5,-830 951.5,-830 951.5,-889 951.5,-889 951.5,-895 945.5,-901 939.5,-901\"/>\n<text text-anchor=\"middle\" x=\"846.5\" y=\"-885.8\" font-family=\"Helvetica,sans-Serif\" font-size=\"14.00\">CC_WindscreenDamage &lt;= 0.5</text>\n<text text-anchor=\"middle\" x=\"846.5\" y=\"-870.8\" font-family=\"Helvetica,sans-Serif\" font-size=\"14.00\">gini = 0.251</text>\n<text text-anchor=\"middle\" x=\"846.5\" y=\"-855.8\" font-family=\"Helvetica,sans-Serif\" font-size=\"14.00\">samples = 489</text>\n<text text-anchor=\"middle\" x=\"846.5\" y=\"-840.8\" font-family=\"Helvetica,sans-Serif\" font-size=\"14.00\">value = [417, 72]</text>\n<text text-anchor=\"middle\" x=\"846.5\" y=\"-825.8\" font-family=\"Helvetica,sans-Serif\" font-size=\"14.00\">class = No fraud</text>\n</g>\n<!-- 0&#45;&gt;1 -->\n<g id=\"edge1\" class=\"edge\">\n<title>0&#45;&gt;1</title>\n<path fill=\"none\" stroke=\"black\" d=\"M924.87,-936.91C915.37,-927.65 905.2,-917.73 895.43,-908.21\"/>\n<polygon fill=\"black\" stroke=\"black\" points=\"897.66,-905.5 888.06,-901.02 892.78,-910.51 897.66,-905.5\"/>\n<text text-anchor=\"middle\" x=\"888.38\" y=\"-922.32\" font-family=\"Helvetica,sans-Serif\" font-size=\"14.00\">True</text>\n</g>\n<!-- 2 -->\n<g id=\"node33\" class=\"node\">\n<title>2</title>\n<path fill=\"#e58139\" stroke=\"black\" d=\"M1144.5,-901C1144.5,-901 988.5,-901 988.5,-901 982.5,-901 976.5,-895 976.5,-889 976.5,-889 976.5,-830 976.5,-830 976.5,-824 982.5,-818 988.5,-818 988.5,-818 1144.5,-818 1144.5,-818 1150.5,-818 1156.5,-824 1156.5,-830 1156.5,-830 1156.5,-889 1156.5,-889 1156.5,-895 1150.5,-901 1144.5,-901\"/>\n<text text-anchor=\"middle\" x=\"1066.5\" y=\"-885.8\" font-family=\"Helvetica,sans-Serif\" font-size=\"14.00\">CBP_NoConnection &lt;= 0.5</text>\n<text text-anchor=\"middle\" x=\"1066.5\" y=\"-870.8\" font-family=\"Helvetica,sans-Serif\" font-size=\"14.00\">gini = 0.004</text>\n<text text-anchor=\"middle\" x=\"1066.5\" y=\"-855.8\" font-family=\"Helvetica,sans-Serif\" font-size=\"14.00\">samples = 7581</text>\n<text text-anchor=\"middle\" x=\"1066.5\" y=\"-840.8\" font-family=\"Helvetica,sans-Serif\" font-size=\"14.00\">value = [7564, 17]</text>\n<text text-anchor=\"middle\" x=\"1066.5\" y=\"-825.8\" font-family=\"Helvetica,sans-Serif\" font-size=\"14.00\">class = No fraud</text>\n</g>\n<!-- 0&#45;&gt;2 -->\n<g id=\"edge32\" class=\"edge\">\n<title>0&#45;&gt;2</title>\n<path fill=\"none\" stroke=\"black\" d=\"M1001.19,-936.91C1008.95,-927.83 1017.25,-918.12 1025.24,-908.77\"/>\n<polygon fill=\"black\" stroke=\"black\" points=\"1028.03,-910.9 1031.87,-901.02 1022.71,-906.35 1028.03,-910.9\"/>\n<text text-anchor=\"middle\" x=\"1033.82\" y=\"-922.24\" font-family=\"Helvetica,sans-Serif\" font-size=\"14.00\">False</text>\n</g>\n<!-- 3 -->\n<g id=\"node3\" class=\"node\">\n<title>3</title>\n<path fill=\"#eba069\" stroke=\"black\" d=\"M746,-782C746,-782 653,-782 653,-782 647,-782 641,-776 641,-770 641,-770 641,-711 641,-711 641,-705 647,-699 653,-699 653,-699 746,-699 746,-699 752,-699 758,-705 758,-711 758,-711 758,-770 758,-770 758,-776 752,-782 746,-782\"/>\n<text text-anchor=\"middle\" x=\"699.5\" y=\"-766.8\" font-family=\"Helvetica,sans-Serif\" font-size=\"14.00\">Date_diff &lt;= 2.5</text>\n<text text-anchor=\"middle\" x=\"699.5\" y=\"-751.8\" font-family=\"Helvetica,sans-Serif\" font-size=\"14.00\">gini = 0.315</text>\n<text text-anchor=\"middle\" x=\"699.5\" y=\"-736.8\" font-family=\"Helvetica,sans-Serif\" font-size=\"14.00\">samples = 367</text>\n<text text-anchor=\"middle\" x=\"699.5\" y=\"-721.8\" font-family=\"Helvetica,sans-Serif\" font-size=\"14.00\">value = [295, 72]</text>\n<text text-anchor=\"middle\" x=\"699.5\" y=\"-706.8\" font-family=\"Helvetica,sans-Serif\" font-size=\"14.00\">class = No fraud</text>\n</g>\n<!-- 1&#45;&gt;3 -->\n<g id=\"edge2\" class=\"edge\">\n<title>1&#45;&gt;3</title>\n<path fill=\"none\" stroke=\"black\" d=\"M795.5,-817.91C783.53,-808.38 770.67,-798.15 758.39,-788.37\"/>\n<polygon fill=\"black\" stroke=\"black\" points=\"760.41,-785.51 750.41,-782.02 756.06,-790.99 760.41,-785.51\"/>\n</g>\n<!-- 4 -->\n<g id=\"node32\" class=\"node\">\n<title>4</title>\n<path fill=\"#e58139\" stroke=\"black\" d=\"M892,-774.5C892,-774.5 801,-774.5 801,-774.5 795,-774.5 789,-768.5 789,-762.5 789,-762.5 789,-718.5 789,-718.5 789,-712.5 795,-706.5 801,-706.5 801,-706.5 892,-706.5 892,-706.5 898,-706.5 904,-712.5 904,-718.5 904,-718.5 904,-762.5 904,-762.5 904,-768.5 898,-774.5 892,-774.5\"/>\n<text text-anchor=\"middle\" x=\"846.5\" y=\"-759.3\" font-family=\"Helvetica,sans-Serif\" font-size=\"14.00\">gini = 0.0</text>\n<text text-anchor=\"middle\" x=\"846.5\" y=\"-744.3\" font-family=\"Helvetica,sans-Serif\" font-size=\"14.00\">samples = 122</text>\n<text text-anchor=\"middle\" x=\"846.5\" y=\"-729.3\" font-family=\"Helvetica,sans-Serif\" font-size=\"14.00\">value = [122, 0]</text>\n<text text-anchor=\"middle\" x=\"846.5\" y=\"-714.3\" font-family=\"Helvetica,sans-Serif\" font-size=\"14.00\">class = No fraud</text>\n</g>\n<!-- 1&#45;&gt;4 -->\n<g id=\"edge31\" class=\"edge\">\n<title>1&#45;&gt;4</title>\n<path fill=\"none\" stroke=\"black\" d=\"M846.5,-817.91C846.5,-807.2 846.5,-795.62 846.5,-784.78\"/>\n<polygon fill=\"black\" stroke=\"black\" points=\"850,-784.67 846.5,-774.67 843,-784.67 850,-784.67\"/>\n</g>\n<!-- 5 -->\n<g id=\"node4\" class=\"node\">\n<title>5</title>\n<path fill=\"#f6d2b8\" stroke=\"black\" d=\"M516,-663C516,-663 361,-663 361,-663 355,-663 349,-657 349,-651 349,-651 349,-592 349,-592 349,-586 355,-580 361,-580 361,-580 516,-580 516,-580 522,-580 528,-586 528,-592 528,-592 528,-651 528,-651 528,-657 522,-663 516,-663\"/>\n<text text-anchor=\"middle\" x=\"438.5\" y=\"-647.8\" font-family=\"Helvetica,sans-Serif\" font-size=\"14.00\">EasinessToStage &lt;= 0.375</text>\n<text text-anchor=\"middle\" x=\"438.5\" y=\"-632.8\" font-family=\"Helvetica,sans-Serif\" font-size=\"14.00\">gini = 0.476</text>\n<text text-anchor=\"middle\" x=\"438.5\" y=\"-617.8\" font-family=\"Helvetica,sans-Serif\" font-size=\"14.00\">samples = 59</text>\n<text text-anchor=\"middle\" x=\"438.5\" y=\"-602.8\" font-family=\"Helvetica,sans-Serif\" font-size=\"14.00\">value = [36, 23]</text>\n<text text-anchor=\"middle\" x=\"438.5\" y=\"-587.8\" font-family=\"Helvetica,sans-Serif\" font-size=\"14.00\">class = No fraud</text>\n</g>\n<!-- 3&#45;&gt;5 -->\n<g id=\"edge3\" class=\"edge\">\n<title>3&#45;&gt;5</title>\n<path fill=\"none\" stroke=\"black\" d=\"M640.93,-713.24C610.44,-699.57 572.33,-682.49 537.42,-666.85\"/>\n<polygon fill=\"black\" stroke=\"black\" points=\"538.71,-663.59 528.15,-662.69 535.85,-669.97 538.71,-663.59\"/>\n</g>\n<!-- 6 -->\n<g id=\"node13\" class=\"node\">\n<title>6</title>\n<path fill=\"#ea995e\" stroke=\"black\" d=\"M774,-663C774,-663 625,-663 625,-663 619,-663 613,-657 613,-651 613,-651 613,-592 613,-592 613,-586 619,-580 625,-580 625,-580 774,-580 774,-580 780,-580 786,-586 786,-592 786,-592 786,-651 786,-651 786,-657 780,-663 774,-663\"/>\n<text text-anchor=\"middle\" x=\"699.5\" y=\"-647.8\" font-family=\"Helvetica,sans-Serif\" font-size=\"14.00\">CC_LossOfControl &lt;= 0.5</text>\n<text text-anchor=\"middle\" x=\"699.5\" y=\"-632.8\" font-family=\"Helvetica,sans-Serif\" font-size=\"14.00\">gini = 0.268</text>\n<text text-anchor=\"middle\" x=\"699.5\" y=\"-617.8\" font-family=\"Helvetica,sans-Serif\" font-size=\"14.00\">samples = 308</text>\n<text text-anchor=\"middle\" x=\"699.5\" y=\"-602.8\" font-family=\"Helvetica,sans-Serif\" font-size=\"14.00\">value = [259, 49]</text>\n<text text-anchor=\"middle\" x=\"699.5\" y=\"-587.8\" font-family=\"Helvetica,sans-Serif\" font-size=\"14.00\">class = No fraud</text>\n</g>\n<!-- 3&#45;&gt;6 -->\n<g id=\"edge12\" class=\"edge\">\n<title>3&#45;&gt;6</title>\n<path fill=\"none\" stroke=\"black\" d=\"M699.5,-698.91C699.5,-690.65 699.5,-681.86 699.5,-673.3\"/>\n<polygon fill=\"black\" stroke=\"black\" points=\"703,-673.02 699.5,-663.02 696,-673.02 703,-673.02\"/>\n</g>\n<!-- 7 -->\n<g id=\"node5\" class=\"node\">\n<title>7</title>\n<path fill=\"#f0b68d\" stroke=\"black\" d=\"M273.5,-544C273.5,-544 157.5,-544 157.5,-544 151.5,-544 145.5,-538 145.5,-532 145.5,-532 145.5,-473 145.5,-473 145.5,-467 151.5,-461 157.5,-461 157.5,-461 273.5,-461 273.5,-461 279.5,-461 285.5,-467 285.5,-473 285.5,-473 285.5,-532 285.5,-532 285.5,-538 279.5,-544 273.5,-544\"/>\n<text text-anchor=\"middle\" x=\"215.5\" y=\"-528.8\" font-family=\"Helvetica,sans-Serif\" font-size=\"14.00\">DI_Negligible &lt;= 0.5</text>\n<text text-anchor=\"middle\" x=\"215.5\" y=\"-513.8\" font-family=\"Helvetica,sans-Serif\" font-size=\"14.00\">gini = 0.418</text>\n<text text-anchor=\"middle\" x=\"215.5\" y=\"-498.8\" font-family=\"Helvetica,sans-Serif\" font-size=\"14.00\">samples = 47</text>\n<text text-anchor=\"middle\" x=\"215.5\" y=\"-483.8\" font-family=\"Helvetica,sans-Serif\" font-size=\"14.00\">value = [33, 14]</text>\n<text text-anchor=\"middle\" x=\"215.5\" y=\"-468.8\" font-family=\"Helvetica,sans-Serif\" font-size=\"14.00\">class = No fraud</text>\n</g>\n<!-- 5&#45;&gt;7 -->\n<g id=\"edge4\" class=\"edge\">\n<title>5&#45;&gt;7</title>\n<path fill=\"none\" stroke=\"black\" d=\"M361.13,-579.91C339.67,-568.65 316.34,-556.4 294.77,-545.09\"/>\n<polygon fill=\"black\" stroke=\"black\" points=\"296.12,-541.85 285.64,-540.3 292.87,-548.04 296.12,-541.85\"/>\n</g>\n<!-- 8 -->\n<g id=\"node10\" class=\"node\">\n<title>8</title>\n<path fill=\"#7bbeee\" stroke=\"black\" d=\"M508.5,-544C508.5,-544 368.5,-544 368.5,-544 362.5,-544 356.5,-538 356.5,-532 356.5,-532 356.5,-473 356.5,-473 356.5,-467 362.5,-461 368.5,-461 368.5,-461 508.5,-461 508.5,-461 514.5,-461 520.5,-467 520.5,-473 520.5,-473 520.5,-532 520.5,-532 520.5,-538 514.5,-544 508.5,-544\"/>\n<text text-anchor=\"middle\" x=\"438.5\" y=\"-528.8\" font-family=\"Helvetica,sans-Serif\" font-size=\"14.00\">ClaimAmount &lt;= 196.07</text>\n<text text-anchor=\"middle\" x=\"438.5\" y=\"-513.8\" font-family=\"Helvetica,sans-Serif\" font-size=\"14.00\">gini = 0.375</text>\n<text text-anchor=\"middle\" x=\"438.5\" y=\"-498.8\" font-family=\"Helvetica,sans-Serif\" font-size=\"14.00\">samples = 12</text>\n<text text-anchor=\"middle\" x=\"438.5\" y=\"-483.8\" font-family=\"Helvetica,sans-Serif\" font-size=\"14.00\">value = [3, 9]</text>\n<text text-anchor=\"middle\" x=\"438.5\" y=\"-468.8\" font-family=\"Helvetica,sans-Serif\" font-size=\"14.00\">class = Fraud</text>\n</g>\n<!-- 5&#45;&gt;8 -->\n<g id=\"edge9\" class=\"edge\">\n<title>5&#45;&gt;8</title>\n<path fill=\"none\" stroke=\"black\" d=\"M438.5,-579.91C438.5,-571.65 438.5,-562.86 438.5,-554.3\"/>\n<polygon fill=\"black\" stroke=\"black\" points=\"442,-554.02 438.5,-544.02 435,-554.02 442,-554.02\"/>\n</g>\n<!-- 23 -->\n<g id=\"node6\" class=\"node\">\n<title>23</title>\n<path fill=\"#e58139\" stroke=\"black\" d=\"M103,-417.5C103,-417.5 12,-417.5 12,-417.5 6,-417.5 0,-411.5 0,-405.5 0,-405.5 0,-361.5 0,-361.5 0,-355.5 6,-349.5 12,-349.5 12,-349.5 103,-349.5 103,-349.5 109,-349.5 115,-355.5 115,-361.5 115,-361.5 115,-405.5 115,-405.5 115,-411.5 109,-417.5 103,-417.5\"/>\n<text text-anchor=\"middle\" x=\"57.5\" y=\"-402.3\" font-family=\"Helvetica,sans-Serif\" font-size=\"14.00\">gini = 0.0</text>\n<text text-anchor=\"middle\" x=\"57.5\" y=\"-387.3\" font-family=\"Helvetica,sans-Serif\" font-size=\"14.00\">samples = 8</text>\n<text text-anchor=\"middle\" x=\"57.5\" y=\"-372.3\" font-family=\"Helvetica,sans-Serif\" font-size=\"14.00\">value = [8, 0]</text>\n<text text-anchor=\"middle\" x=\"57.5\" y=\"-357.3\" font-family=\"Helvetica,sans-Serif\" font-size=\"14.00\">class = No fraud</text>\n</g>\n<!-- 7&#45;&gt;23 -->\n<g id=\"edge5\" class=\"edge\">\n<title>7&#45;&gt;23</title>\n<path fill=\"none\" stroke=\"black\" d=\"M160.68,-460.91C144.44,-448.88 126.69,-435.73 110.56,-423.79\"/>\n<polygon fill=\"black\" stroke=\"black\" points=\"112.41,-420.81 102.29,-417.67 108.24,-426.43 112.41,-420.81\"/>\n</g>\n<!-- 24 -->\n<g id=\"node7\" class=\"node\">\n<title>24</title>\n<path fill=\"#f4c8a8\" stroke=\"black\" d=\"M285.5,-425C285.5,-425 145.5,-425 145.5,-425 139.5,-425 133.5,-419 133.5,-413 133.5,-413 133.5,-354 133.5,-354 133.5,-348 139.5,-342 145.5,-342 145.5,-342 285.5,-342 285.5,-342 291.5,-342 297.5,-348 297.5,-354 297.5,-354 297.5,-413 297.5,-413 297.5,-419 291.5,-425 285.5,-425\"/>\n<text text-anchor=\"middle\" x=\"215.5\" y=\"-409.8\" font-family=\"Helvetica,sans-Serif\" font-size=\"14.00\">PO_Unemployed &lt;= 0.5</text>\n<text text-anchor=\"middle\" x=\"215.5\" y=\"-394.8\" font-family=\"Helvetica,sans-Serif\" font-size=\"14.00\">gini = 0.46</text>\n<text text-anchor=\"middle\" x=\"215.5\" y=\"-379.8\" font-family=\"Helvetica,sans-Serif\" font-size=\"14.00\">samples = 39</text>\n<text text-anchor=\"middle\" x=\"215.5\" y=\"-364.8\" font-family=\"Helvetica,sans-Serif\" font-size=\"14.00\">value = [25, 14]</text>\n<text text-anchor=\"middle\" x=\"215.5\" y=\"-349.8\" font-family=\"Helvetica,sans-Serif\" font-size=\"14.00\">class = No fraud</text>\n</g>\n<!-- 7&#45;&gt;24 -->\n<g id=\"edge6\" class=\"edge\">\n<title>7&#45;&gt;24</title>\n<path fill=\"none\" stroke=\"black\" d=\"M215.5,-460.91C215.5,-452.65 215.5,-443.86 215.5,-435.3\"/>\n<polygon fill=\"black\" stroke=\"black\" points=\"219,-435.02 215.5,-425.02 212,-435.02 219,-435.02\"/>\n</g>\n<!-- 25 -->\n<g id=\"node8\" class=\"node\">\n<title>25</title>\n<path fill=\"#f1bd98\" stroke=\"black\" d=\"M199,-298.5C199,-298.5 108,-298.5 108,-298.5 102,-298.5 96,-292.5 96,-286.5 96,-286.5 96,-242.5 96,-242.5 96,-236.5 102,-230.5 108,-230.5 108,-230.5 199,-230.5 199,-230.5 205,-230.5 211,-236.5 211,-242.5 211,-242.5 211,-286.5 211,-286.5 211,-292.5 205,-298.5 199,-298.5\"/>\n<text text-anchor=\"middle\" x=\"153.5\" y=\"-283.3\" font-family=\"Helvetica,sans-Serif\" font-size=\"14.00\">gini = 0.438</text>\n<text text-anchor=\"middle\" x=\"153.5\" y=\"-268.3\" font-family=\"Helvetica,sans-Serif\" font-size=\"14.00\">samples = 37</text>\n<text text-anchor=\"middle\" x=\"153.5\" y=\"-253.3\" font-family=\"Helvetica,sans-Serif\" font-size=\"14.00\">value = [25, 12]</text>\n<text text-anchor=\"middle\" x=\"153.5\" y=\"-238.3\" font-family=\"Helvetica,sans-Serif\" font-size=\"14.00\">class = No fraud</text>\n</g>\n<!-- 24&#45;&gt;25 -->\n<g id=\"edge7\" class=\"edge\">\n<title>24&#45;&gt;25</title>\n<path fill=\"none\" stroke=\"black\" d=\"M193.99,-341.91C188.14,-330.87 181.8,-318.9 175.9,-307.77\"/>\n<polygon fill=\"black\" stroke=\"black\" points=\"178.85,-305.86 171.08,-298.67 172.67,-309.14 178.85,-305.86\"/>\n</g>\n<!-- 26 -->\n<g id=\"node9\" class=\"node\">\n<title>26</title>\n<path fill=\"#399de5\" stroke=\"black\" d=\"M315.5,-298.5C315.5,-298.5 241.5,-298.5 241.5,-298.5 235.5,-298.5 229.5,-292.5 229.5,-286.5 229.5,-286.5 229.5,-242.5 229.5,-242.5 229.5,-236.5 235.5,-230.5 241.5,-230.5 241.5,-230.5 315.5,-230.5 315.5,-230.5 321.5,-230.5 327.5,-236.5 327.5,-242.5 327.5,-242.5 327.5,-286.5 327.5,-286.5 327.5,-292.5 321.5,-298.5 315.5,-298.5\"/>\n<text text-anchor=\"middle\" x=\"278.5\" y=\"-283.3\" font-family=\"Helvetica,sans-Serif\" font-size=\"14.00\">gini = 0.0</text>\n<text text-anchor=\"middle\" x=\"278.5\" y=\"-268.3\" font-family=\"Helvetica,sans-Serif\" font-size=\"14.00\">samples = 2</text>\n<text text-anchor=\"middle\" x=\"278.5\" y=\"-253.3\" font-family=\"Helvetica,sans-Serif\" font-size=\"14.00\">value = [0, 2]</text>\n<text text-anchor=\"middle\" x=\"278.5\" y=\"-238.3\" font-family=\"Helvetica,sans-Serif\" font-size=\"14.00\">class = Fraud</text>\n</g>\n<!-- 24&#45;&gt;26 -->\n<g id=\"edge8\" class=\"edge\">\n<title>24&#45;&gt;26</title>\n<path fill=\"none\" stroke=\"black\" d=\"M237.36,-341.91C243.3,-330.87 249.75,-318.9 255.74,-307.77\"/>\n<polygon fill=\"black\" stroke=\"black\" points=\"258.98,-309.13 260.64,-298.67 252.82,-305.81 258.98,-309.13\"/>\n</g>\n<!-- 9 -->\n<g id=\"node11\" class=\"node\">\n<title>9</title>\n<path fill=\"#e58139\" stroke=\"black\" d=\"M419,-417.5C419,-417.5 328,-417.5 328,-417.5 322,-417.5 316,-411.5 316,-405.5 316,-405.5 316,-361.5 316,-361.5 316,-355.5 322,-349.5 328,-349.5 328,-349.5 419,-349.5 419,-349.5 425,-349.5 431,-355.5 431,-361.5 431,-361.5 431,-405.5 431,-405.5 431,-411.5 425,-417.5 419,-417.5\"/>\n<text text-anchor=\"middle\" x=\"373.5\" y=\"-402.3\" font-family=\"Helvetica,sans-Serif\" font-size=\"14.00\">gini = 0.0</text>\n<text text-anchor=\"middle\" x=\"373.5\" y=\"-387.3\" font-family=\"Helvetica,sans-Serif\" font-size=\"14.00\">samples = 3</text>\n<text text-anchor=\"middle\" x=\"373.5\" y=\"-372.3\" font-family=\"Helvetica,sans-Serif\" font-size=\"14.00\">value = [3, 0]</text>\n<text text-anchor=\"middle\" x=\"373.5\" y=\"-357.3\" font-family=\"Helvetica,sans-Serif\" font-size=\"14.00\">class = No fraud</text>\n</g>\n<!-- 8&#45;&gt;9 -->\n<g id=\"edge10\" class=\"edge\">\n<title>8&#45;&gt;9</title>\n<path fill=\"none\" stroke=\"black\" d=\"M415.95,-460.91C409.76,-449.76 403.03,-437.66 396.8,-426.44\"/>\n<polygon fill=\"black\" stroke=\"black\" points=\"399.84,-424.71 391.93,-417.67 393.72,-428.11 399.84,-424.71\"/>\n</g>\n<!-- 10 -->\n<g id=\"node12\" class=\"node\">\n<title>10</title>\n<path fill=\"#399de5\" stroke=\"black\" d=\"M535.5,-417.5C535.5,-417.5 461.5,-417.5 461.5,-417.5 455.5,-417.5 449.5,-411.5 449.5,-405.5 449.5,-405.5 449.5,-361.5 449.5,-361.5 449.5,-355.5 455.5,-349.5 461.5,-349.5 461.5,-349.5 535.5,-349.5 535.5,-349.5 541.5,-349.5 547.5,-355.5 547.5,-361.5 547.5,-361.5 547.5,-405.5 547.5,-405.5 547.5,-411.5 541.5,-417.5 535.5,-417.5\"/>\n<text text-anchor=\"middle\" x=\"498.5\" y=\"-402.3\" font-family=\"Helvetica,sans-Serif\" font-size=\"14.00\">gini = 0.0</text>\n<text text-anchor=\"middle\" x=\"498.5\" y=\"-387.3\" font-family=\"Helvetica,sans-Serif\" font-size=\"14.00\">samples = 9</text>\n<text text-anchor=\"middle\" x=\"498.5\" y=\"-372.3\" font-family=\"Helvetica,sans-Serif\" font-size=\"14.00\">value = [0, 9]</text>\n<text text-anchor=\"middle\" x=\"498.5\" y=\"-357.3\" font-family=\"Helvetica,sans-Serif\" font-size=\"14.00\">class = Fraud</text>\n</g>\n<!-- 8&#45;&gt;10 -->\n<g id=\"edge11\" class=\"edge\">\n<title>8&#45;&gt;10</title>\n<path fill=\"none\" stroke=\"black\" d=\"M459.32,-460.91C464.98,-449.87 471.12,-437.9 476.82,-426.77\"/>\n<polygon fill=\"black\" stroke=\"black\" points=\"480.04,-428.16 481.49,-417.67 473.81,-424.97 480.04,-428.16\"/>\n</g>\n<!-- 11 -->\n<g id=\"node14\" class=\"node\">\n<title>11</title>\n<path fill=\"#e99254\" stroke=\"black\" d=\"M782,-544C782,-544 603,-544 603,-544 597,-544 591,-538 591,-532 591,-532 591,-473 591,-473 591,-467 597,-461 603,-461 603,-461 782,-461 782,-461 788,-461 794,-467 794,-473 794,-473 794,-532 794,-532 794,-538 788,-544 782,-544\"/>\n<text text-anchor=\"middle\" x=\"692.5\" y=\"-528.8\" font-family=\"Helvetica,sans-Serif\" font-size=\"14.00\">FpVehicleAgeMonths &lt;= 328.0</text>\n<text text-anchor=\"middle\" x=\"692.5\" y=\"-513.8\" font-family=\"Helvetica,sans-Serif\" font-size=\"14.00\">gini = 0.21</text>\n<text text-anchor=\"middle\" x=\"692.5\" y=\"-498.8\" font-family=\"Helvetica,sans-Serif\" font-size=\"14.00\">samples = 235</text>\n<text text-anchor=\"middle\" x=\"692.5\" y=\"-483.8\" font-family=\"Helvetica,sans-Serif\" font-size=\"14.00\">value = [207, 28]</text>\n<text text-anchor=\"middle\" x=\"692.5\" y=\"-468.8\" font-family=\"Helvetica,sans-Serif\" font-size=\"14.00\">class = No fraud</text>\n</g>\n<!-- 6&#45;&gt;11 -->\n<g id=\"edge13\" class=\"edge\">\n<title>6&#45;&gt;11</title>\n<path fill=\"none\" stroke=\"black\" d=\"M697.07,-579.91C696.57,-571.56 696.04,-562.67 695.52,-554.02\"/>\n<polygon fill=\"black\" stroke=\"black\" points=\"699.02,-553.79 694.92,-544.02 692.03,-554.21 699.02,-553.79\"/>\n</g>\n<!-- 12 -->\n<g id=\"node17\" class=\"node\">\n<title>12</title>\n<path fill=\"#f0b489\" stroke=\"black\" d=\"M979,-544C979,-544 824,-544 824,-544 818,-544 812,-538 812,-532 812,-532 812,-473 812,-473 812,-467 818,-461 824,-461 824,-461 979,-461 979,-461 985,-461 991,-467 991,-473 991,-473 991,-532 991,-532 991,-538 985,-544 979,-544\"/>\n<text text-anchor=\"middle\" x=\"901.5\" y=\"-528.8\" font-family=\"Helvetica,sans-Serif\" font-size=\"14.00\">ClaimAmount &lt;= 3821.945</text>\n<text text-anchor=\"middle\" x=\"901.5\" y=\"-513.8\" font-family=\"Helvetica,sans-Serif\" font-size=\"14.00\">gini = 0.41</text>\n<text text-anchor=\"middle\" x=\"901.5\" y=\"-498.8\" font-family=\"Helvetica,sans-Serif\" font-size=\"14.00\">samples = 73</text>\n<text text-anchor=\"middle\" x=\"901.5\" y=\"-483.8\" font-family=\"Helvetica,sans-Serif\" font-size=\"14.00\">value = [52, 21]</text>\n<text text-anchor=\"middle\" x=\"901.5\" y=\"-468.8\" font-family=\"Helvetica,sans-Serif\" font-size=\"14.00\">class = No fraud</text>\n</g>\n<!-- 6&#45;&gt;12 -->\n<g id=\"edge16\" class=\"edge\">\n<title>6&#45;&gt;12</title>\n<path fill=\"none\" stroke=\"black\" d=\"M769.58,-579.91C786.66,-570.02 805.04,-559.37 822.51,-549.25\"/>\n<polygon fill=\"black\" stroke=\"black\" points=\"824.64,-552.06 831.54,-544.02 821.13,-546 824.64,-552.06\"/>\n</g>\n<!-- 29 -->\n<g id=\"node15\" class=\"node\">\n<title>29</title>\n<path fill=\"#e89153\" stroke=\"black\" d=\"M671,-417.5C671,-417.5 578,-417.5 578,-417.5 572,-417.5 566,-411.5 566,-405.5 566,-405.5 566,-361.5 566,-361.5 566,-355.5 572,-349.5 578,-349.5 578,-349.5 671,-349.5 671,-349.5 677,-349.5 683,-355.5 683,-361.5 683,-361.5 683,-405.5 683,-405.5 683,-411.5 677,-417.5 671,-417.5\"/>\n<text text-anchor=\"middle\" x=\"624.5\" y=\"-402.3\" font-family=\"Helvetica,sans-Serif\" font-size=\"14.00\">gini = 0.204</text>\n<text text-anchor=\"middle\" x=\"624.5\" y=\"-387.3\" font-family=\"Helvetica,sans-Serif\" font-size=\"14.00\">samples = 234</text>\n<text text-anchor=\"middle\" x=\"624.5\" y=\"-372.3\" font-family=\"Helvetica,sans-Serif\" font-size=\"14.00\">value = [207, 27]</text>\n<text text-anchor=\"middle\" x=\"624.5\" y=\"-357.3\" font-family=\"Helvetica,sans-Serif\" font-size=\"14.00\">class = No fraud</text>\n</g>\n<!-- 11&#45;&gt;29 -->\n<g id=\"edge14\" class=\"edge\">\n<title>11&#45;&gt;29</title>\n<path fill=\"none\" stroke=\"black\" d=\"M668.91,-460.91C662.43,-449.76 655.4,-437.66 648.87,-426.44\"/>\n<polygon fill=\"black\" stroke=\"black\" points=\"651.83,-424.55 643.78,-417.67 645.78,-428.07 651.83,-424.55\"/>\n</g>\n<!-- 30 -->\n<g id=\"node16\" class=\"node\">\n<title>30</title>\n<path fill=\"#399de5\" stroke=\"black\" d=\"M787.5,-417.5C787.5,-417.5 713.5,-417.5 713.5,-417.5 707.5,-417.5 701.5,-411.5 701.5,-405.5 701.5,-405.5 701.5,-361.5 701.5,-361.5 701.5,-355.5 707.5,-349.5 713.5,-349.5 713.5,-349.5 787.5,-349.5 787.5,-349.5 793.5,-349.5 799.5,-355.5 799.5,-361.5 799.5,-361.5 799.5,-405.5 799.5,-405.5 799.5,-411.5 793.5,-417.5 787.5,-417.5\"/>\n<text text-anchor=\"middle\" x=\"750.5\" y=\"-402.3\" font-family=\"Helvetica,sans-Serif\" font-size=\"14.00\">gini = 0.0</text>\n<text text-anchor=\"middle\" x=\"750.5\" y=\"-387.3\" font-family=\"Helvetica,sans-Serif\" font-size=\"14.00\">samples = 1</text>\n<text text-anchor=\"middle\" x=\"750.5\" y=\"-372.3\" font-family=\"Helvetica,sans-Serif\" font-size=\"14.00\">value = [0, 1]</text>\n<text text-anchor=\"middle\" x=\"750.5\" y=\"-357.3\" font-family=\"Helvetica,sans-Serif\" font-size=\"14.00\">class = Fraud</text>\n</g>\n<!-- 11&#45;&gt;30 -->\n<g id=\"edge15\" class=\"edge\">\n<title>11&#45;&gt;30</title>\n<path fill=\"none\" stroke=\"black\" d=\"M712.62,-460.91C718.09,-449.87 724.03,-437.9 729.54,-426.77\"/>\n<polygon fill=\"black\" stroke=\"black\" points=\"732.75,-428.18 734.06,-417.67 726.48,-425.07 732.75,-428.18\"/>\n</g>\n<!-- 13 -->\n<g id=\"node18\" class=\"node\">\n<title>13</title>\n<path fill=\"#ea9b62\" stroke=\"black\" d=\"M973,-425C973,-425 830,-425 830,-425 824,-425 818,-419 818,-413 818,-413 818,-354 818,-354 818,-348 824,-342 830,-342 830,-342 973,-342 973,-342 979,-342 985,-348 985,-354 985,-354 985,-413 985,-413 985,-419 979,-425 973,-425\"/>\n<text text-anchor=\"middle\" x=\"901.5\" y=\"-409.8\" font-family=\"Helvetica,sans-Serif\" font-size=\"14.00\">PolicyHolderAge &lt;= 28.5</text>\n<text text-anchor=\"middle\" x=\"901.5\" y=\"-394.8\" font-family=\"Helvetica,sans-Serif\" font-size=\"14.00\">gini = 0.286</text>\n<text text-anchor=\"middle\" x=\"901.5\" y=\"-379.8\" font-family=\"Helvetica,sans-Serif\" font-size=\"14.00\">samples = 52</text>\n<text text-anchor=\"middle\" x=\"901.5\" y=\"-364.8\" font-family=\"Helvetica,sans-Serif\" font-size=\"14.00\">value = [43, 9]</text>\n<text text-anchor=\"middle\" x=\"901.5\" y=\"-349.8\" font-family=\"Helvetica,sans-Serif\" font-size=\"14.00\">class = No fraud</text>\n</g>\n<!-- 12&#45;&gt;13 -->\n<g id=\"edge17\" class=\"edge\">\n<title>12&#45;&gt;13</title>\n<path fill=\"none\" stroke=\"black\" d=\"M901.5,-460.91C901.5,-452.65 901.5,-443.86 901.5,-435.3\"/>\n<polygon fill=\"black\" stroke=\"black\" points=\"905,-435.02 901.5,-425.02 898,-435.02 905,-435.02\"/>\n</g>\n<!-- 14 -->\n<g id=\"node29\" class=\"node\">\n<title>14</title>\n<path fill=\"#cee6f8\" stroke=\"black\" d=\"M1170,-425C1170,-425 1015,-425 1015,-425 1009,-425 1003,-419 1003,-413 1003,-413 1003,-354 1003,-354 1003,-348 1009,-342 1015,-342 1015,-342 1170,-342 1170,-342 1176,-342 1182,-348 1182,-354 1182,-354 1182,-413 1182,-413 1182,-419 1176,-425 1170,-425\"/>\n<text text-anchor=\"middle\" x=\"1092.5\" y=\"-409.8\" font-family=\"Helvetica,sans-Serif\" font-size=\"14.00\">ClaimAmount &lt;= 8856.065</text>\n<text text-anchor=\"middle\" x=\"1092.5\" y=\"-394.8\" font-family=\"Helvetica,sans-Serif\" font-size=\"14.00\">gini = 0.49</text>\n<text text-anchor=\"middle\" x=\"1092.5\" y=\"-379.8\" font-family=\"Helvetica,sans-Serif\" font-size=\"14.00\">samples = 21</text>\n<text text-anchor=\"middle\" x=\"1092.5\" y=\"-364.8\" font-family=\"Helvetica,sans-Serif\" font-size=\"14.00\">value = [9, 12]</text>\n<text text-anchor=\"middle\" x=\"1092.5\" y=\"-349.8\" font-family=\"Helvetica,sans-Serif\" font-size=\"14.00\">class = Fraud</text>\n</g>\n<!-- 12&#45;&gt;14 -->\n<g id=\"edge28\" class=\"edge\">\n<title>12&#45;&gt;14</title>\n<path fill=\"none\" stroke=\"black\" d=\"M967.77,-460.91C983.91,-451.02 1001.3,-440.37 1017.81,-430.25\"/>\n<polygon fill=\"black\" stroke=\"black\" points=\"1019.65,-433.23 1026.35,-425.02 1016,-427.26 1019.65,-433.23\"/>\n</g>\n<!-- 17 -->\n<g id=\"node19\" class=\"node\">\n<title>17</title>\n<path fill=\"#f8e0ce\" stroke=\"black\" d=\"M798,-306C798,-306 619,-306 619,-306 613,-306 607,-300 607,-294 607,-294 607,-235 607,-235 607,-229 613,-223 619,-223 619,-223 798,-223 798,-223 804,-223 810,-229 810,-235 810,-235 810,-294 810,-294 810,-300 804,-306 798,-306\"/>\n<text text-anchor=\"middle\" x=\"708.5\" y=\"-290.8\" font-family=\"Helvetica,sans-Serif\" font-size=\"14.00\">FpVehicleAgeMonths &lt;= 103.0</text>\n<text text-anchor=\"middle\" x=\"708.5\" y=\"-275.8\" font-family=\"Helvetica,sans-Serif\" font-size=\"14.00\">gini = 0.49</text>\n<text text-anchor=\"middle\" x=\"708.5\" y=\"-260.8\" font-family=\"Helvetica,sans-Serif\" font-size=\"14.00\">samples = 14</text>\n<text text-anchor=\"middle\" x=\"708.5\" y=\"-245.8\" font-family=\"Helvetica,sans-Serif\" font-size=\"14.00\">value = [8, 6]</text>\n<text text-anchor=\"middle\" x=\"708.5\" y=\"-230.8\" font-family=\"Helvetica,sans-Serif\" font-size=\"14.00\">class = No fraud</text>\n</g>\n<!-- 13&#45;&gt;17 -->\n<g id=\"edge18\" class=\"edge\">\n<title>13&#45;&gt;17</title>\n<path fill=\"none\" stroke=\"black\" d=\"M834.54,-341.91C818.22,-332.02 800.66,-321.37 783.97,-311.25\"/>\n<polygon fill=\"black\" stroke=\"black\" points=\"785.71,-308.21 775.34,-306.02 782.08,-314.2 785.71,-308.21\"/>\n</g>\n<!-- 18 -->\n<g id=\"node26\" class=\"node\">\n<title>18</title>\n<path fill=\"#e78c4a\" stroke=\"black\" d=\"M983,-306C983,-306 840,-306 840,-306 834,-306 828,-300 828,-294 828,-294 828,-235 828,-235 828,-229 834,-223 840,-223 840,-223 983,-223 983,-223 989,-223 995,-229 995,-235 995,-235 995,-294 995,-294 995,-300 989,-306 983,-306\"/>\n<text text-anchor=\"middle\" x=\"911.5\" y=\"-290.8\" font-family=\"Helvetica,sans-Serif\" font-size=\"14.00\">PolicyHolderAge &lt;= 80.0</text>\n<text text-anchor=\"middle\" x=\"911.5\" y=\"-275.8\" font-family=\"Helvetica,sans-Serif\" font-size=\"14.00\">gini = 0.145</text>\n<text text-anchor=\"middle\" x=\"911.5\" y=\"-260.8\" font-family=\"Helvetica,sans-Serif\" font-size=\"14.00\">samples = 38</text>\n<text text-anchor=\"middle\" x=\"911.5\" y=\"-245.8\" font-family=\"Helvetica,sans-Serif\" font-size=\"14.00\">value = [35, 3]</text>\n<text text-anchor=\"middle\" x=\"911.5\" y=\"-230.8\" font-family=\"Helvetica,sans-Serif\" font-size=\"14.00\">class = No fraud</text>\n</g>\n<!-- 13&#45;&gt;18 -->\n<g id=\"edge25\" class=\"edge\">\n<title>13&#45;&gt;18</title>\n<path fill=\"none\" stroke=\"black\" d=\"M904.97,-341.91C905.68,-333.56 906.44,-324.67 907.18,-316.02\"/>\n<polygon fill=\"black\" stroke=\"black\" points=\"910.67,-316.28 908.04,-306.02 903.7,-315.69 910.67,-316.28\"/>\n</g>\n<!-- 19 -->\n<g id=\"node20\" class=\"node\">\n<title>19</title>\n<path fill=\"#6ab6ec\" stroke=\"black\" d=\"M607,-187C607,-187 436,-187 436,-187 430,-187 424,-181 424,-175 424,-175 424,-116 424,-116 424,-110 430,-104 436,-104 436,-104 607,-104 607,-104 613,-104 619,-110 619,-116 619,-116 619,-175 619,-175 619,-181 613,-187 607,-187\"/>\n<text text-anchor=\"middle\" x=\"521.5\" y=\"-171.8\" font-family=\"Helvetica,sans-Serif\" font-size=\"14.00\">FpVehicleAgeMonths &lt;= 17.5</text>\n<text text-anchor=\"middle\" x=\"521.5\" y=\"-156.8\" font-family=\"Helvetica,sans-Serif\" font-size=\"14.00\">gini = 0.32</text>\n<text text-anchor=\"middle\" x=\"521.5\" y=\"-141.8\" font-family=\"Helvetica,sans-Serif\" font-size=\"14.00\">samples = 5</text>\n<text text-anchor=\"middle\" x=\"521.5\" y=\"-126.8\" font-family=\"Helvetica,sans-Serif\" font-size=\"14.00\">value = [1, 4]</text>\n<text text-anchor=\"middle\" x=\"521.5\" y=\"-111.8\" font-family=\"Helvetica,sans-Serif\" font-size=\"14.00\">class = Fraud</text>\n</g>\n<!-- 17&#45;&gt;19 -->\n<g id=\"edge19\" class=\"edge\">\n<title>17&#45;&gt;19</title>\n<path fill=\"none\" stroke=\"black\" d=\"M643.62,-222.91C627.96,-213.11 611.1,-202.56 595.07,-192.53\"/>\n<polygon fill=\"black\" stroke=\"black\" points=\"596.6,-189.36 586.26,-187.02 592.89,-195.29 596.6,-189.36\"/>\n</g>\n<!-- 20 -->\n<g id=\"node23\" class=\"node\">\n<title>20</title>\n<path fill=\"#eca572\" stroke=\"black\" d=\"M789.5,-187C789.5,-187 649.5,-187 649.5,-187 643.5,-187 637.5,-181 637.5,-175 637.5,-175 637.5,-116 637.5,-116 637.5,-110 643.5,-104 649.5,-104 649.5,-104 789.5,-104 789.5,-104 795.5,-104 801.5,-110 801.5,-116 801.5,-116 801.5,-175 801.5,-175 801.5,-181 795.5,-187 789.5,-187\"/>\n<text text-anchor=\"middle\" x=\"719.5\" y=\"-171.8\" font-family=\"Helvetica,sans-Serif\" font-size=\"14.00\">PO_Unemployed &lt;= 0.5</text>\n<text text-anchor=\"middle\" x=\"719.5\" y=\"-156.8\" font-family=\"Helvetica,sans-Serif\" font-size=\"14.00\">gini = 0.346</text>\n<text text-anchor=\"middle\" x=\"719.5\" y=\"-141.8\" font-family=\"Helvetica,sans-Serif\" font-size=\"14.00\">samples = 9</text>\n<text text-anchor=\"middle\" x=\"719.5\" y=\"-126.8\" font-family=\"Helvetica,sans-Serif\" font-size=\"14.00\">value = [7, 2]</text>\n<text text-anchor=\"middle\" x=\"719.5\" y=\"-111.8\" font-family=\"Helvetica,sans-Serif\" font-size=\"14.00\">class = No fraud</text>\n</g>\n<!-- 17&#45;&gt;20 -->\n<g id=\"edge22\" class=\"edge\">\n<title>17&#45;&gt;20</title>\n<path fill=\"none\" stroke=\"black\" d=\"M712.32,-222.91C713.1,-214.56 713.94,-205.67 714.75,-197.02\"/>\n<polygon fill=\"black\" stroke=\"black\" points=\"718.24,-197.3 715.69,-187.02 711.27,-196.65 718.24,-197.3\"/>\n</g>\n<!-- 27 -->\n<g id=\"node21\" class=\"node\">\n<title>27</title>\n<path fill=\"#e58139\" stroke=\"black\" d=\"M461,-68C461,-68 370,-68 370,-68 364,-68 358,-62 358,-56 358,-56 358,-12 358,-12 358,-6 364,0 370,0 370,0 461,0 461,0 467,0 473,-6 473,-12 473,-12 473,-56 473,-56 473,-62 467,-68 461,-68\"/>\n<text text-anchor=\"middle\" x=\"415.5\" y=\"-52.8\" font-family=\"Helvetica,sans-Serif\" font-size=\"14.00\">gini = 0.0</text>\n<text text-anchor=\"middle\" x=\"415.5\" y=\"-37.8\" font-family=\"Helvetica,sans-Serif\" font-size=\"14.00\">samples = 1</text>\n<text text-anchor=\"middle\" x=\"415.5\" y=\"-22.8\" font-family=\"Helvetica,sans-Serif\" font-size=\"14.00\">value = [1, 0]</text>\n<text text-anchor=\"middle\" x=\"415.5\" y=\"-7.8\" font-family=\"Helvetica,sans-Serif\" font-size=\"14.00\">class = No fraud</text>\n</g>\n<!-- 19&#45;&gt;27 -->\n<g id=\"edge20\" class=\"edge\">\n<title>19&#45;&gt;27</title>\n<path fill=\"none\" stroke=\"black\" d=\"M482.03,-103.73C473.11,-94.51 463.65,-84.74 454.74,-75.53\"/>\n<polygon fill=\"black\" stroke=\"black\" points=\"457.21,-73.05 447.74,-68.3 452.18,-77.92 457.21,-73.05\"/>\n</g>\n<!-- 28 -->\n<g id=\"node22\" class=\"node\">\n<title>28</title>\n<path fill=\"#399de5\" stroke=\"black\" d=\"M577.5,-68C577.5,-68 503.5,-68 503.5,-68 497.5,-68 491.5,-62 491.5,-56 491.5,-56 491.5,-12 491.5,-12 491.5,-6 497.5,0 503.5,0 503.5,0 577.5,0 577.5,0 583.5,0 589.5,-6 589.5,-12 589.5,-12 589.5,-56 589.5,-56 589.5,-62 583.5,-68 577.5,-68\"/>\n<text text-anchor=\"middle\" x=\"540.5\" y=\"-52.8\" font-family=\"Helvetica,sans-Serif\" font-size=\"14.00\">gini = 0.0</text>\n<text text-anchor=\"middle\" x=\"540.5\" y=\"-37.8\" font-family=\"Helvetica,sans-Serif\" font-size=\"14.00\">samples = 4</text>\n<text text-anchor=\"middle\" x=\"540.5\" y=\"-22.8\" font-family=\"Helvetica,sans-Serif\" font-size=\"14.00\">value = [0, 4]</text>\n<text text-anchor=\"middle\" x=\"540.5\" y=\"-7.8\" font-family=\"Helvetica,sans-Serif\" font-size=\"14.00\">class = Fraud</text>\n</g>\n<!-- 19&#45;&gt;28 -->\n<g id=\"edge21\" class=\"edge\">\n<title>19&#45;&gt;28</title>\n<path fill=\"none\" stroke=\"black\" d=\"M528.57,-103.73C530.02,-95.43 531.53,-86.67 532.99,-78.28\"/>\n<polygon fill=\"black\" stroke=\"black\" points=\"536.46,-78.75 534.72,-68.3 529.56,-77.55 536.46,-78.75\"/>\n</g>\n<!-- 37 -->\n<g id=\"node24\" class=\"node\">\n<title>37</title>\n<path fill=\"#e99355\" stroke=\"black\" d=\"M747,-68C747,-68 656,-68 656,-68 650,-68 644,-62 644,-56 644,-56 644,-12 644,-12 644,-6 650,0 656,0 656,0 747,0 747,0 753,0 759,-6 759,-12 759,-12 759,-56 759,-56 759,-62 753,-68 747,-68\"/>\n<text text-anchor=\"middle\" x=\"701.5\" y=\"-52.8\" font-family=\"Helvetica,sans-Serif\" font-size=\"14.00\">gini = 0.219</text>\n<text text-anchor=\"middle\" x=\"701.5\" y=\"-37.8\" font-family=\"Helvetica,sans-Serif\" font-size=\"14.00\">samples = 8</text>\n<text text-anchor=\"middle\" x=\"701.5\" y=\"-22.8\" font-family=\"Helvetica,sans-Serif\" font-size=\"14.00\">value = [7, 1]</text>\n<text text-anchor=\"middle\" x=\"701.5\" y=\"-7.8\" font-family=\"Helvetica,sans-Serif\" font-size=\"14.00\">class = No fraud</text>\n</g>\n<!-- 20&#45;&gt;37 -->\n<g id=\"edge23\" class=\"edge\">\n<title>20&#45;&gt;37</title>\n<path fill=\"none\" stroke=\"black\" d=\"M712.8,-103.73C711.43,-95.43 709.99,-86.67 708.62,-78.28\"/>\n<polygon fill=\"black\" stroke=\"black\" points=\"712.05,-77.6 706.97,-68.3 705.14,-78.73 712.05,-77.6\"/>\n</g>\n<!-- 38 -->\n<g id=\"node25\" class=\"node\">\n<title>38</title>\n<path fill=\"#399de5\" stroke=\"black\" d=\"M863.5,-68C863.5,-68 789.5,-68 789.5,-68 783.5,-68 777.5,-62 777.5,-56 777.5,-56 777.5,-12 777.5,-12 777.5,-6 783.5,0 789.5,0 789.5,0 863.5,0 863.5,0 869.5,0 875.5,-6 875.5,-12 875.5,-12 875.5,-56 875.5,-56 875.5,-62 869.5,-68 863.5,-68\"/>\n<text text-anchor=\"middle\" x=\"826.5\" y=\"-52.8\" font-family=\"Helvetica,sans-Serif\" font-size=\"14.00\">gini = 0.0</text>\n<text text-anchor=\"middle\" x=\"826.5\" y=\"-37.8\" font-family=\"Helvetica,sans-Serif\" font-size=\"14.00\">samples = 1</text>\n<text text-anchor=\"middle\" x=\"826.5\" y=\"-22.8\" font-family=\"Helvetica,sans-Serif\" font-size=\"14.00\">value = [0, 1]</text>\n<text text-anchor=\"middle\" x=\"826.5\" y=\"-7.8\" font-family=\"Helvetica,sans-Serif\" font-size=\"14.00\">class = Fraud</text>\n</g>\n<!-- 20&#45;&gt;38 -->\n<g id=\"edge24\" class=\"edge\">\n<title>20&#45;&gt;38</title>\n<path fill=\"none\" stroke=\"black\" d=\"M759.34,-103.73C768.34,-94.51 777.9,-84.74 786.89,-75.53\"/>\n<polygon fill=\"black\" stroke=\"black\" points=\"789.47,-77.9 793.96,-68.3 784.47,-73.01 789.47,-77.9\"/>\n</g>\n<!-- 21 -->\n<g id=\"node27\" class=\"node\">\n<title>21</title>\n<path fill=\"#e68844\" stroke=\"black\" d=\"M945,-179.5C945,-179.5 854,-179.5 854,-179.5 848,-179.5 842,-173.5 842,-167.5 842,-167.5 842,-123.5 842,-123.5 842,-117.5 848,-111.5 854,-111.5 854,-111.5 945,-111.5 945,-111.5 951,-111.5 957,-117.5 957,-123.5 957,-123.5 957,-167.5 957,-167.5 957,-173.5 951,-179.5 945,-179.5\"/>\n<text text-anchor=\"middle\" x=\"899.5\" y=\"-164.3\" font-family=\"Helvetica,sans-Serif\" font-size=\"14.00\">gini = 0.102</text>\n<text text-anchor=\"middle\" x=\"899.5\" y=\"-149.3\" font-family=\"Helvetica,sans-Serif\" font-size=\"14.00\">samples = 37</text>\n<text text-anchor=\"middle\" x=\"899.5\" y=\"-134.3\" font-family=\"Helvetica,sans-Serif\" font-size=\"14.00\">value = [35, 2]</text>\n<text text-anchor=\"middle\" x=\"899.5\" y=\"-119.3\" font-family=\"Helvetica,sans-Serif\" font-size=\"14.00\">class = No fraud</text>\n</g>\n<!-- 18&#45;&gt;21 -->\n<g id=\"edge26\" class=\"edge\">\n<title>18&#45;&gt;21</title>\n<path fill=\"none\" stroke=\"black\" d=\"M907.34,-222.91C906.24,-212.2 905.05,-200.62 903.94,-189.78\"/>\n<polygon fill=\"black\" stroke=\"black\" points=\"907.4,-189.26 902.9,-179.67 900.44,-189.97 907.4,-189.26\"/>\n</g>\n<!-- 22 -->\n<g id=\"node28\" class=\"node\">\n<title>22</title>\n<path fill=\"#399de5\" stroke=\"black\" d=\"M1061.5,-179.5C1061.5,-179.5 987.5,-179.5 987.5,-179.5 981.5,-179.5 975.5,-173.5 975.5,-167.5 975.5,-167.5 975.5,-123.5 975.5,-123.5 975.5,-117.5 981.5,-111.5 987.5,-111.5 987.5,-111.5 1061.5,-111.5 1061.5,-111.5 1067.5,-111.5 1073.5,-117.5 1073.5,-123.5 1073.5,-123.5 1073.5,-167.5 1073.5,-167.5 1073.5,-173.5 1067.5,-179.5 1061.5,-179.5\"/>\n<text text-anchor=\"middle\" x=\"1024.5\" y=\"-164.3\" font-family=\"Helvetica,sans-Serif\" font-size=\"14.00\">gini = 0.0</text>\n<text text-anchor=\"middle\" x=\"1024.5\" y=\"-149.3\" font-family=\"Helvetica,sans-Serif\" font-size=\"14.00\">samples = 1</text>\n<text text-anchor=\"middle\" x=\"1024.5\" y=\"-134.3\" font-family=\"Helvetica,sans-Serif\" font-size=\"14.00\">value = [0, 1]</text>\n<text text-anchor=\"middle\" x=\"1024.5\" y=\"-119.3\" font-family=\"Helvetica,sans-Serif\" font-size=\"14.00\">class = Fraud</text>\n</g>\n<!-- 18&#45;&gt;22 -->\n<g id=\"edge27\" class=\"edge\">\n<title>18&#45;&gt;22</title>\n<path fill=\"none\" stroke=\"black\" d=\"M950.7,-222.91C961.89,-211.32 974.09,-198.7 985.28,-187.11\"/>\n<polygon fill=\"black\" stroke=\"black\" points=\"988.04,-189.29 992.47,-179.67 983,-184.43 988.04,-189.29\"/>\n</g>\n<!-- 15 -->\n<g id=\"node30\" class=\"node\">\n<title>15</title>\n<path fill=\"#7bbeee\" stroke=\"black\" d=\"M1121.5,-298.5C1121.5,-298.5 1043.5,-298.5 1043.5,-298.5 1037.5,-298.5 1031.5,-292.5 1031.5,-286.5 1031.5,-286.5 1031.5,-242.5 1031.5,-242.5 1031.5,-236.5 1037.5,-230.5 1043.5,-230.5 1043.5,-230.5 1121.5,-230.5 1121.5,-230.5 1127.5,-230.5 1133.5,-236.5 1133.5,-242.5 1133.5,-242.5 1133.5,-286.5 1133.5,-286.5 1133.5,-292.5 1127.5,-298.5 1121.5,-298.5\"/>\n<text text-anchor=\"middle\" x=\"1082.5\" y=\"-283.3\" font-family=\"Helvetica,sans-Serif\" font-size=\"14.00\">gini = 0.375</text>\n<text text-anchor=\"middle\" x=\"1082.5\" y=\"-268.3\" font-family=\"Helvetica,sans-Serif\" font-size=\"14.00\">samples = 16</text>\n<text text-anchor=\"middle\" x=\"1082.5\" y=\"-253.3\" font-family=\"Helvetica,sans-Serif\" font-size=\"14.00\">value = [4, 12]</text>\n<text text-anchor=\"middle\" x=\"1082.5\" y=\"-238.3\" font-family=\"Helvetica,sans-Serif\" font-size=\"14.00\">class = Fraud</text>\n</g>\n<!-- 14&#45;&gt;15 -->\n<g id=\"edge29\" class=\"edge\">\n<title>14&#45;&gt;15</title>\n<path fill=\"none\" stroke=\"black\" d=\"M1089.03,-341.91C1088.12,-331.2 1087.13,-319.62 1086.2,-308.78\"/>\n<polygon fill=\"black\" stroke=\"black\" points=\"1089.67,-308.33 1085.33,-298.67 1082.7,-308.93 1089.67,-308.33\"/>\n</g>\n<!-- 16 -->\n<g id=\"node31\" class=\"node\">\n<title>16</title>\n<path fill=\"#e58139\" stroke=\"black\" d=\"M1255,-298.5C1255,-298.5 1164,-298.5 1164,-298.5 1158,-298.5 1152,-292.5 1152,-286.5 1152,-286.5 1152,-242.5 1152,-242.5 1152,-236.5 1158,-230.5 1164,-230.5 1164,-230.5 1255,-230.5 1255,-230.5 1261,-230.5 1267,-236.5 1267,-242.5 1267,-242.5 1267,-286.5 1267,-286.5 1267,-292.5 1261,-298.5 1255,-298.5\"/>\n<text text-anchor=\"middle\" x=\"1209.5\" y=\"-283.3\" font-family=\"Helvetica,sans-Serif\" font-size=\"14.00\">gini = 0.0</text>\n<text text-anchor=\"middle\" x=\"1209.5\" y=\"-268.3\" font-family=\"Helvetica,sans-Serif\" font-size=\"14.00\">samples = 5</text>\n<text text-anchor=\"middle\" x=\"1209.5\" y=\"-253.3\" font-family=\"Helvetica,sans-Serif\" font-size=\"14.00\">value = [5, 0]</text>\n<text text-anchor=\"middle\" x=\"1209.5\" y=\"-238.3\" font-family=\"Helvetica,sans-Serif\" font-size=\"14.00\">class = No fraud</text>\n</g>\n<!-- 14&#45;&gt;16 -->\n<g id=\"edge30\" class=\"edge\">\n<title>14&#45;&gt;16</title>\n<path fill=\"none\" stroke=\"black\" d=\"M1133.09,-341.91C1144.79,-330.21 1157.54,-317.46 1169.22,-305.78\"/>\n<polygon fill=\"black\" stroke=\"black\" points=\"1171.74,-308.21 1176.33,-298.67 1166.79,-303.26 1171.74,-308.21\"/>\n</g>\n<!-- 31 -->\n<g id=\"node34\" class=\"node\">\n<title>31</title>\n<path fill=\"#e89152\" stroke=\"black\" d=\"M1144,-782C1144,-782 989,-782 989,-782 983,-782 977,-776 977,-770 977,-770 977,-711 977,-711 977,-705 983,-699 989,-699 989,-699 1144,-699 1144,-699 1150,-699 1156,-705 1156,-711 1156,-711 1156,-770 1156,-770 1156,-776 1150,-782 1144,-782\"/>\n<text text-anchor=\"middle\" x=\"1066.5\" y=\"-766.8\" font-family=\"Helvetica,sans-Serif\" font-size=\"14.00\">ClaimAmount &lt;= 18425.02</text>\n<text text-anchor=\"middle\" x=\"1066.5\" y=\"-751.8\" font-family=\"Helvetica,sans-Serif\" font-size=\"14.00\">gini = 0.2</text>\n<text text-anchor=\"middle\" x=\"1066.5\" y=\"-736.8\" font-family=\"Helvetica,sans-Serif\" font-size=\"14.00\">samples = 62</text>\n<text text-anchor=\"middle\" x=\"1066.5\" y=\"-721.8\" font-family=\"Helvetica,sans-Serif\" font-size=\"14.00\">value = [55, 7]</text>\n<text text-anchor=\"middle\" x=\"1066.5\" y=\"-706.8\" font-family=\"Helvetica,sans-Serif\" font-size=\"14.00\">class = No fraud</text>\n</g>\n<!-- 2&#45;&gt;31 -->\n<g id=\"edge33\" class=\"edge\">\n<title>2&#45;&gt;31</title>\n<path fill=\"none\" stroke=\"black\" d=\"M1066.5,-817.91C1066.5,-809.65 1066.5,-800.86 1066.5,-792.3\"/>\n<polygon fill=\"black\" stroke=\"black\" points=\"1070,-792.02 1066.5,-782.02 1063,-792.02 1070,-792.02\"/>\n</g>\n<!-- 32 -->\n<g id=\"node39\" class=\"node\">\n<title>32</title>\n<path fill=\"#e58139\" stroke=\"black\" d=\"M1287,-774.5C1287,-774.5 1186,-774.5 1186,-774.5 1180,-774.5 1174,-768.5 1174,-762.5 1174,-762.5 1174,-718.5 1174,-718.5 1174,-712.5 1180,-706.5 1186,-706.5 1186,-706.5 1287,-706.5 1287,-706.5 1293,-706.5 1299,-712.5 1299,-718.5 1299,-718.5 1299,-762.5 1299,-762.5 1299,-768.5 1293,-774.5 1287,-774.5\"/>\n<text text-anchor=\"middle\" x=\"1236.5\" y=\"-759.3\" font-family=\"Helvetica,sans-Serif\" font-size=\"14.00\">gini = 0.003</text>\n<text text-anchor=\"middle\" x=\"1236.5\" y=\"-744.3\" font-family=\"Helvetica,sans-Serif\" font-size=\"14.00\">samples = 7519</text>\n<text text-anchor=\"middle\" x=\"1236.5\" y=\"-729.3\" font-family=\"Helvetica,sans-Serif\" font-size=\"14.00\">value = [7509, 10]</text>\n<text text-anchor=\"middle\" x=\"1236.5\" y=\"-714.3\" font-family=\"Helvetica,sans-Serif\" font-size=\"14.00\">class = No fraud</text>\n</g>\n<!-- 2&#45;&gt;32 -->\n<g id=\"edge38\" class=\"edge\">\n<title>2&#45;&gt;32</title>\n<path fill=\"none\" stroke=\"black\" d=\"M1125.48,-817.91C1143.12,-805.77 1162.41,-792.49 1179.89,-780.46\"/>\n<polygon fill=\"black\" stroke=\"black\" points=\"1182.06,-783.22 1188.31,-774.67 1178.09,-777.45 1182.06,-783.22\"/>\n</g>\n<!-- 33 -->\n<g id=\"node35\" class=\"node\">\n<title>33</title>\n<path fill=\"#e88f4f\" stroke=\"black\" d=\"M1122.5,-663C1122.5,-663 1010.5,-663 1010.5,-663 1004.5,-663 998.5,-657 998.5,-651 998.5,-651 998.5,-592 998.5,-592 998.5,-586 1004.5,-580 1010.5,-580 1010.5,-580 1122.5,-580 1122.5,-580 1128.5,-580 1134.5,-586 1134.5,-592 1134.5,-592 1134.5,-651 1134.5,-651 1134.5,-657 1128.5,-663 1122.5,-663\"/>\n<text text-anchor=\"middle\" x=\"1066.5\" y=\"-647.8\" font-family=\"Helvetica,sans-Serif\" font-size=\"14.00\">Date_diff &lt;= 1184.0</text>\n<text text-anchor=\"middle\" x=\"1066.5\" y=\"-632.8\" font-family=\"Helvetica,sans-Serif\" font-size=\"14.00\">gini = 0.177</text>\n<text text-anchor=\"middle\" x=\"1066.5\" y=\"-617.8\" font-family=\"Helvetica,sans-Serif\" font-size=\"14.00\">samples = 61</text>\n<text text-anchor=\"middle\" x=\"1066.5\" y=\"-602.8\" font-family=\"Helvetica,sans-Serif\" font-size=\"14.00\">value = [55, 6]</text>\n<text text-anchor=\"middle\" x=\"1066.5\" y=\"-587.8\" font-family=\"Helvetica,sans-Serif\" font-size=\"14.00\">class = No fraud</text>\n</g>\n<!-- 31&#45;&gt;33 -->\n<g id=\"edge34\" class=\"edge\">\n<title>31&#45;&gt;33</title>\n<path fill=\"none\" stroke=\"black\" d=\"M1066.5,-698.91C1066.5,-690.65 1066.5,-681.86 1066.5,-673.3\"/>\n<polygon fill=\"black\" stroke=\"black\" points=\"1070,-673.02 1066.5,-663.02 1063,-673.02 1070,-673.02\"/>\n</g>\n<!-- 34 -->\n<g id=\"node38\" class=\"node\">\n<title>34</title>\n<path fill=\"#399de5\" stroke=\"black\" d=\"M1238.5,-655.5C1238.5,-655.5 1164.5,-655.5 1164.5,-655.5 1158.5,-655.5 1152.5,-649.5 1152.5,-643.5 1152.5,-643.5 1152.5,-599.5 1152.5,-599.5 1152.5,-593.5 1158.5,-587.5 1164.5,-587.5 1164.5,-587.5 1238.5,-587.5 1238.5,-587.5 1244.5,-587.5 1250.5,-593.5 1250.5,-599.5 1250.5,-599.5 1250.5,-643.5 1250.5,-643.5 1250.5,-649.5 1244.5,-655.5 1238.5,-655.5\"/>\n<text text-anchor=\"middle\" x=\"1201.5\" y=\"-640.3\" font-family=\"Helvetica,sans-Serif\" font-size=\"14.00\">gini = 0.0</text>\n<text text-anchor=\"middle\" x=\"1201.5\" y=\"-625.3\" font-family=\"Helvetica,sans-Serif\" font-size=\"14.00\">samples = 1</text>\n<text text-anchor=\"middle\" x=\"1201.5\" y=\"-610.3\" font-family=\"Helvetica,sans-Serif\" font-size=\"14.00\">value = [0, 1]</text>\n<text text-anchor=\"middle\" x=\"1201.5\" y=\"-595.3\" font-family=\"Helvetica,sans-Serif\" font-size=\"14.00\">class = Fraud</text>\n</g>\n<!-- 31&#45;&gt;34 -->\n<g id=\"edge37\" class=\"edge\">\n<title>31&#45;&gt;34</title>\n<path fill=\"none\" stroke=\"black\" d=\"M1113.34,-698.91C1126.96,-687.1 1141.83,-674.22 1155.4,-662.45\"/>\n<polygon fill=\"black\" stroke=\"black\" points=\"1157.97,-664.86 1163.23,-655.67 1153.38,-659.57 1157.97,-664.86\"/>\n</g>\n<!-- 35 -->\n<g id=\"node36\" class=\"node\">\n<title>35</title>\n<path fill=\"#e78c4b\" stroke=\"black\" d=\"M1112,-536.5C1112,-536.5 1021,-536.5 1021,-536.5 1015,-536.5 1009,-530.5 1009,-524.5 1009,-524.5 1009,-480.5 1009,-480.5 1009,-474.5 1015,-468.5 1021,-468.5 1021,-468.5 1112,-468.5 1112,-468.5 1118,-468.5 1124,-474.5 1124,-480.5 1124,-480.5 1124,-524.5 1124,-524.5 1124,-530.5 1118,-536.5 1112,-536.5\"/>\n<text text-anchor=\"middle\" x=\"1066.5\" y=\"-521.3\" font-family=\"Helvetica,sans-Serif\" font-size=\"14.00\">gini = 0.153</text>\n<text text-anchor=\"middle\" x=\"1066.5\" y=\"-506.3\" font-family=\"Helvetica,sans-Serif\" font-size=\"14.00\">samples = 60</text>\n<text text-anchor=\"middle\" x=\"1066.5\" y=\"-491.3\" font-family=\"Helvetica,sans-Serif\" font-size=\"14.00\">value = [55, 5]</text>\n<text text-anchor=\"middle\" x=\"1066.5\" y=\"-476.3\" font-family=\"Helvetica,sans-Serif\" font-size=\"14.00\">class = No fraud</text>\n</g>\n<!-- 33&#45;&gt;35 -->\n<g id=\"edge35\" class=\"edge\">\n<title>33&#45;&gt;35</title>\n<path fill=\"none\" stroke=\"black\" d=\"M1066.5,-579.91C1066.5,-569.2 1066.5,-557.62 1066.5,-546.78\"/>\n<polygon fill=\"black\" stroke=\"black\" points=\"1070,-546.67 1066.5,-536.67 1063,-546.67 1070,-546.67\"/>\n</g>\n<!-- 36 -->\n<g id=\"node37\" class=\"node\">\n<title>36</title>\n<path fill=\"#399de5\" stroke=\"black\" d=\"M1228.5,-536.5C1228.5,-536.5 1154.5,-536.5 1154.5,-536.5 1148.5,-536.5 1142.5,-530.5 1142.5,-524.5 1142.5,-524.5 1142.5,-480.5 1142.5,-480.5 1142.5,-474.5 1148.5,-468.5 1154.5,-468.5 1154.5,-468.5 1228.5,-468.5 1228.5,-468.5 1234.5,-468.5 1240.5,-474.5 1240.5,-480.5 1240.5,-480.5 1240.5,-524.5 1240.5,-524.5 1240.5,-530.5 1234.5,-536.5 1228.5,-536.5\"/>\n<text text-anchor=\"middle\" x=\"1191.5\" y=\"-521.3\" font-family=\"Helvetica,sans-Serif\" font-size=\"14.00\">gini = 0.0</text>\n<text text-anchor=\"middle\" x=\"1191.5\" y=\"-506.3\" font-family=\"Helvetica,sans-Serif\" font-size=\"14.00\">samples = 1</text>\n<text text-anchor=\"middle\" x=\"1191.5\" y=\"-491.3\" font-family=\"Helvetica,sans-Serif\" font-size=\"14.00\">value = [0, 1]</text>\n<text text-anchor=\"middle\" x=\"1191.5\" y=\"-476.3\" font-family=\"Helvetica,sans-Serif\" font-size=\"14.00\">class = Fraud</text>\n</g>\n<!-- 33&#45;&gt;36 -->\n<g id=\"edge36\" class=\"edge\">\n<title>33&#45;&gt;36</title>\n<path fill=\"none\" stroke=\"black\" d=\"M1109.87,-579.91C1122.36,-568.21 1135.99,-555.46 1148.47,-543.78\"/>\n<polygon fill=\"black\" stroke=\"black\" points=\"1151.16,-546.06 1156.07,-536.67 1146.37,-540.95 1151.16,-546.06\"/>\n</g>\n</g>\n</svg>\n"
          },
          "metadata": {},
          "execution_count": 24
        }
      ]
    },
    {
      "cell_type": "markdown",
      "source": [
        "## 3.3 Use validation set to get the optimal number of leaves"
      ],
      "metadata": {
        "id": "x_0Y26S1YhNK"
      }
    },
    {
      "cell_type": "code",
      "source": [
        "y_pred = classifier_DT.predict(X_valid) \n",
        "score=accuracy_score(y_valid, y_pred)\n",
        "score"
      ],
      "metadata": {
        "colab": {
          "base_uri": "https://localhost:8080/"
        },
        "id": "CvlLN9HSYSDZ",
        "outputId": "ad785238-e700-4d2c-bb9d-61223ff29a88"
      },
      "execution_count": 25,
      "outputs": [
        {
          "output_type": "execute_result",
          "data": {
            "text/plain": [
              "0.9913294797687862"
            ]
          },
          "metadata": {},
          "execution_count": 25
        }
      ]
    },
    {
      "cell_type": "code",
      "source": [
        "n_max_leaf_nodes = range(2,71)\n",
        "train_array = []\n",
        "validation_array = []\n",
        "\n",
        "for n in n_max_leaf_nodes:\n",
        "    \n",
        "    classifier_DT = DecisionTreeClassifier(max_leaf_nodes = n)\n",
        "    classifier_DT = classifier_DT.fit(X_train, y_train)\n",
        "    \n",
        "    y_train_pred = classifier_DT.predict(X_train)\n",
        "    y_validation_pred = classifier_DT.predict(X_valid)\n",
        "    \n",
        "    train_score = accuracy_score(y_train,y_train_pred)\n",
        "    validation_score = accuracy_score(y_valid,y_validation_pred)\n",
        "\n",
        "    train_array.append([n,train_score])\n",
        "    validation_array.append([n,validation_score])"
      ],
      "metadata": {
        "id": "FsYuE2JVYkIR"
      },
      "execution_count": 26,
      "outputs": []
    },
    {
      "cell_type": "code",
      "source": [
        "array = pd.DataFrame(validation_array)\n",
        "plt.scatter(array[0],array[1])\n",
        "\n",
        "array_train = pd.DataFrame(train_array)\n",
        "plt.scatter(array_train[0],array_train[1])\n",
        "plt.legend(['Validation set','Training set'])\n",
        "plt.xlabel(\"Number of leaves\",fontsize=15)\n",
        "plt.ylabel(\"Accuracy\",fontsize=15)\n",
        "plt.show()"
      ],
      "metadata": {
        "colab": {
          "base_uri": "https://localhost:8080/",
          "height": 284
        },
        "id": "V-8nD3D_Ymkl",
        "outputId": "634f39f9-4294-4974-e67e-d765b08032a3"
      },
      "execution_count": 27,
      "outputs": [
        {
          "output_type": "display_data",
          "data": {
            "text/plain": [
              "<Figure size 432x288 with 1 Axes>"
            ],
            "image/png": "[encoded data removed]"
          },
          "metadata": {
            "needs_background": "light"
          }
        }
      ]
    },
    {
      "cell_type": "code",
      "source": [
        "array[array[0]==8] # validation acc"
      ],
      "metadata": {
        "colab": {
          "base_uri": "https://localhost:8080/",
          "height": 81
        },
        "id": "_DUFeXR6YoBG",
        "outputId": "14dbbee0-3cb3-4800-ac86-331fd98f14a1"
      },
      "execution_count": 28,
      "outputs": [
        {
          "output_type": "execute_result",
          "data": {
            "text/plain": [
              "   0         1\n",
              "6  8  0.990366"
            ],
            "text/html": [
              "\n",
              "  <div id=\"df-7e568f4e-7f70-42e8-93d6-e0e3014ef402\">\n",
              "    <div class=\"colab-df-container\">\n",
              "      <div>\n",
              "<style scoped>\n",
              "    .dataframe tbody tr th:only-of-type {\n",
              "        vertical-align: middle;\n",
              "    }\n",
              "\n",
              "    .dataframe tbody tr th {\n",
              "        vertical-align: top;\n",
              "    }\n",
              "\n",
              "    .dataframe thead th {\n",
              "        text-align: right;\n",
              "    }\n",
              "</style>\n",
              "<table border=\"1\" class=\"dataframe\">\n",
              "  <thead>\n",
              "    <tr style=\"text-align: right;\">\n",
              "      <th></th>\n",
              "      <th>0</th>\n",
              "      <th>1</th>\n",
              "    </tr>\n",
              "  </thead>\n",
              "  <tbody>\n",
              "    <tr>\n",
              "      <th>6</th>\n",
              "      <td>8</td>\n",
              "      <td>0.990366</td>\n",
              "    </tr>\n",
              "  </tbody>\n",
              "</table>\n",
              "</div>\n",
              "      <button class=\"colab-df-convert\" onclick=\"convertToInteractive('df-7e568f4e-7f70-42e8-93d6-e0e3014ef402')\"\n",
              "              title=\"Convert this dataframe to an interactive table.\"\n",
              "              style=\"display:none;\">\n",
              "        \n",
              "  <svg xmlns=\"http://www.w3.org/2000/svg\" height=\"24px\"viewBox=\"0 0 24 24\"\n",
              "       width=\"24px\">\n",
              "    <path d=\"M0 0h24v24H0V0z\" fill=\"none\"/>\n",
              "    <path d=\"M18.56 5.44l.94 2.06.94-2.06 2.06-.94-2.06-.94-.94-2.06-.94 2.06-2.06.94zm-11 1L8.5 8.5l.94-2.06 2.06-.94-2.06-.94L8.5 2.5l-.94 2.06-2.06.94zm10 10l.94 2.06.94-2.06 2.06-.94-2.06-.94-.94-2.06-.94 2.06-2.06.94z\"/><path d=\"M17.41 7.96l-1.37-1.37c-.4-.4-.92-.59-1.43-.59-.52 0-1.04.2-1.43.59L10.3 9.45l-7.72 7.72c-.78.78-.78 2.05 0 2.83L4 21.41c.39.39.9.59 1.41.59.51 0 1.02-.2 1.41-.59l7.78-7.78 2.81-2.81c.8-.78.8-2.07 0-2.86zM5.41 20L4 18.59l7.72-7.72 1.47 1.35L5.41 20z\"/>\n",
              "  </svg>\n",
              "      </button>\n",
              "      \n",
              "  <style>\n",
              "    .colab-df-container {\n",
              "      display:flex;\n",
              "      flex-wrap:wrap;\n",
              "      gap: 12px;\n",
              "    }\n",
              "\n",
              "    .colab-df-convert {\n",
              "      background-color: #E8F0FE;\n",
              "      border: none;\n",
              "      border-radius: 50%;\n",
              "      cursor: pointer;\n",
              "      display: none;\n",
              "      fill: #1967D2;\n",
              "      height: 32px;\n",
              "      padding: 0 0 0 0;\n",
              "      width: 32px;\n",
              "    }\n",
              "\n",
              "    .colab-df-convert:hover {\n",
              "      background-color: #E2EBFA;\n",
              "      box-shadow: 0px 1px 2px rgba(60, 64, 67, 0.3), 0px 1px 3px 1px rgba(60, 64, 67, 0.15);\n",
              "      fill: #174EA6;\n",
              "    }\n",
              "\n",
              "    [theme=dark] .colab-df-convert {\n",
              "      background-color: #3B4455;\n",
              "      fill: #D2E3FC;\n",
              "    }\n",
              "\n",
              "    [theme=dark] .colab-df-convert:hover {\n",
              "      background-color: #434B5C;\n",
              "      box-shadow: 0px 1px 3px 1px rgba(0, 0, 0, 0.15);\n",
              "      filter: drop-shadow(0px 1px 2px rgba(0, 0, 0, 0.3));\n",
              "      fill: #FFFFFF;\n",
              "    }\n",
              "  </style>\n",
              "\n",
              "      <script>\n",
              "        const buttonEl =\n",
              "          document.querySelector('#df-7e568f4e-7f70-42e8-93d6-e0e3014ef402 button.colab-df-convert');\n",
              "        buttonEl.style.display =\n",
              "          google.colab.kernel.accessAllowed ? 'block' : 'none';\n",
              "\n",
              "        async function convertToInteractive(key) {\n",
              "          const element = document.querySelector('#df-7e568f4e-7f70-42e8-93d6-e0e3014ef402');\n",
              "          const dataTable =\n",
              "            await google.colab.kernel.invokeFunction('convertToInteractive',\n",
              "                                                     [key], {});\n",
              "          if (!dataTable) return;\n",
              "\n",
              "          const docLinkHtml = 'Like what you see? Visit the ' +\n",
              "            '<a target=\"_blank\" href=https://colab.research.google.com/notebooks/data_table.ipynb>data table notebook</a>'\n",
              "            + ' to learn more about interactive tables.';\n",
              "          element.innerHTML = '';\n",
              "          dataTable['output_type'] = 'display_data';\n",
              "          await google.colab.output.renderOutput(dataTable, element);\n",
              "          const docLink = document.createElement('div');\n",
              "          docLink.innerHTML = docLinkHtml;\n",
              "          element.appendChild(docLink);\n",
              "        }\n",
              "      </script>\n",
              "    </div>\n",
              "  </div>\n",
              "  "
            ]
          },
          "metadata": {},
          "execution_count": 28
        }
      ]
    },
    {
      "cell_type": "code",
      "source": [
        "array_train[array_train[0]==8] # trainning acc"
      ],
      "metadata": {
        "colab": {
          "base_uri": "https://localhost:8080/",
          "height": 81
        },
        "id": "_E4ROUjFYoaR",
        "outputId": "f6c26ff1-53ec-43d4-9b2a-ff0266034965"
      },
      "execution_count": 29,
      "outputs": [
        {
          "output_type": "execute_result",
          "data": {
            "text/plain": [
              "   0         1\n",
              "6  8  0.990458"
            ],
            "text/html": [
              "\n",
              "  <div id=\"df-e774d0d9-cc52-4355-8928-ce4e51432540\">\n",
              "    <div class=\"colab-df-container\">\n",
              "      <div>\n",
              "<style scoped>\n",
              "    .dataframe tbody tr th:only-of-type {\n",
              "        vertical-align: middle;\n",
              "    }\n",
              "\n",
              "    .dataframe tbody tr th {\n",
              "        vertical-align: top;\n",
              "    }\n",
              "\n",
              "    .dataframe thead th {\n",
              "        text-align: right;\n",
              "    }\n",
              "</style>\n",
              "<table border=\"1\" class=\"dataframe\">\n",
              "  <thead>\n",
              "    <tr style=\"text-align: right;\">\n",
              "      <th></th>\n",
              "      <th>0</th>\n",
              "      <th>1</th>\n",
              "    </tr>\n",
              "  </thead>\n",
              "  <tbody>\n",
              "    <tr>\n",
              "      <th>6</th>\n",
              "      <td>8</td>\n",
              "      <td>0.990458</td>\n",
              "    </tr>\n",
              "  </tbody>\n",
              "</table>\n",
              "</div>\n",
              "      <button class=\"colab-df-convert\" onclick=\"convertToInteractive('df-e774d0d9-cc52-4355-8928-ce4e51432540')\"\n",
              "              title=\"Convert this dataframe to an interactive table.\"\n",
              "              style=\"display:none;\">\n",
              "        \n",
              "  <svg xmlns=\"http://www.w3.org/2000/svg\" height=\"24px\"viewBox=\"0 0 24 24\"\n",
              "       width=\"24px\">\n",
              "    <path d=\"M0 0h24v24H0V0z\" fill=\"none\"/>\n",
              "    <path d=\"M18.56 5.44l.94 2.06.94-2.06 2.06-.94-2.06-.94-.94-2.06-.94 2.06-2.06.94zm-11 1L8.5 8.5l.94-2.06 2.06-.94-2.06-.94L8.5 2.5l-.94 2.06-2.06.94zm10 10l.94 2.06.94-2.06 2.06-.94-2.06-.94-.94-2.06-.94 2.06-2.06.94z\"/><path d=\"M17.41 7.96l-1.37-1.37c-.4-.4-.92-.59-1.43-.59-.52 0-1.04.2-1.43.59L10.3 9.45l-7.72 7.72c-.78.78-.78 2.05 0 2.83L4 21.41c.39.39.9.59 1.41.59.51 0 1.02-.2 1.41-.59l7.78-7.78 2.81-2.81c.8-.78.8-2.07 0-2.86zM5.41 20L4 18.59l7.72-7.72 1.47 1.35L5.41 20z\"/>\n",
              "  </svg>\n",
              "      </button>\n",
              "      \n",
              "  <style>\n",
              "    .colab-df-container {\n",
              "      display:flex;\n",
              "      flex-wrap:wrap;\n",
              "      gap: 12px;\n",
              "    }\n",
              "\n",
              "    .colab-df-convert {\n",
              "      background-color: #E8F0FE;\n",
              "      border: none;\n",
              "      border-radius: 50%;\n",
              "      cursor: pointer;\n",
              "      display: none;\n",
              "      fill: #1967D2;\n",
              "      height: 32px;\n",
              "      padding: 0 0 0 0;\n",
              "      width: 32px;\n",
              "    }\n",
              "\n",
              "    .colab-df-convert:hover {\n",
              "      background-color: #E2EBFA;\n",
              "      box-shadow: 0px 1px 2px rgba(60, 64, 67, 0.3), 0px 1px 3px 1px rgba(60, 64, 67, 0.15);\n",
              "      fill: #174EA6;\n",
              "    }\n",
              "\n",
              "    [theme=dark] .colab-df-convert {\n",
              "      background-color: #3B4455;\n",
              "      fill: #D2E3FC;\n",
              "    }\n",
              "\n",
              "    [theme=dark] .colab-df-convert:hover {\n",
              "      background-color: #434B5C;\n",
              "      box-shadow: 0px 1px 3px 1px rgba(0, 0, 0, 0.15);\n",
              "      filter: drop-shadow(0px 1px 2px rgba(0, 0, 0, 0.3));\n",
              "      fill: #FFFFFF;\n",
              "    }\n",
              "  </style>\n",
              "\n",
              "      <script>\n",
              "        const buttonEl =\n",
              "          document.querySelector('#df-e774d0d9-cc52-4355-8928-ce4e51432540 button.colab-df-convert');\n",
              "        buttonEl.style.display =\n",
              "          google.colab.kernel.accessAllowed ? 'block' : 'none';\n",
              "\n",
              "        async function convertToInteractive(key) {\n",
              "          const element = document.querySelector('#df-e774d0d9-cc52-4355-8928-ce4e51432540');\n",
              "          const dataTable =\n",
              "            await google.colab.kernel.invokeFunction('convertToInteractive',\n",
              "                                                     [key], {});\n",
              "          if (!dataTable) return;\n",
              "\n",
              "          const docLinkHtml = 'Like what you see? Visit the ' +\n",
              "            '<a target=\"_blank\" href=https://colab.research.google.com/notebooks/data_table.ipynb>data table notebook</a>'\n",
              "            + ' to learn more about interactive tables.';\n",
              "          element.innerHTML = '';\n",
              "          dataTable['output_type'] = 'display_data';\n",
              "          await google.colab.output.renderOutput(dataTable, element);\n",
              "          const docLink = document.createElement('div');\n",
              "          docLink.innerHTML = docLinkHtml;\n",
              "          element.appendChild(docLink);\n",
              "        }\n",
              "      </script>\n",
              "    </div>\n",
              "  </div>\n",
              "  "
            ]
          },
          "metadata": {},
          "execution_count": 29
        }
      ]
    },
    {
      "cell_type": "markdown",
      "source": [
        "Choose 8 leaves, where training accuracy is bigger than validation accuarcy (avoid overfitting)"
      ],
      "metadata": {
        "id": "WIbDC6VOYsJ8"
      }
    },
    {
      "cell_type": "markdown",
      "source": [
        "## 3.4 Validation data to trainning data"
      ],
      "metadata": {
        "id": "jSdEswREYu0J"
      }
    },
    {
      "cell_type": "code",
      "source": [
        "Xtrainval=X_train.append(X_valid)\n",
        "ytrainval=y_train.append(y_valid)"
      ],
      "metadata": {
        "id": "G9-vG03aYtDE"
      },
      "execution_count": 30,
      "outputs": []
    },
    {
      "cell_type": "code",
      "source": [
        "classifier_DT = DecisionTreeClassifier(max_leaf_nodes = 8)\n",
        "classifier_DT.fit(Xtrainval, ytrainval)"
      ],
      "metadata": {
        "colab": {
          "base_uri": "https://localhost:8080/",
          "height": 75
        },
        "id": "PVRThyDhY3nf",
        "outputId": "f9877895-ca24-4133-bb8d-18f935cea614"
      },
      "execution_count": 31,
      "outputs": [
        {
          "output_type": "execute_result",
          "data": {
            "text/plain": [
              "DecisionTreeClassifier(max_leaf_nodes=8)"
            ],
            "text/html": [
              "<style>#sk-container-id-2 {color: black;background-color: white;}#sk-container-id-2 pre{padding: 0;}#sk-container-id-2 div.sk-toggleable {background-color: white;}#sk-container-id-2 label.sk-toggleable__label {cursor: pointer;display: block;width: 100%;margin-bottom: 0;padding: 0.3em;box-sizing: border-box;text-align: center;}#sk-container-id-2 label.sk-toggleable__label-arrow:before {content: \"▸\";float: left;margin-right: 0.25em;color: #696969;}#sk-container-id-2 label.sk-toggleable__label-arrow:hover:before {color: black;}#sk-container-id-2 div.sk-estimator:hover label.sk-toggleable__label-arrow:before {color: black;}#sk-container-id-2 div.sk-toggleable__content {max-height: 0;max-width: 0;overflow: hidden;text-align: left;background-color: #f0f8ff;}#sk-container-id-2 div.sk-toggleable__content pre {margin: 0.2em;color: black;border-radius: 0.25em;background-color: #f0f8ff;}#sk-container-id-2 input.sk-toggleable__control:checked~div.sk-toggleable__content {max-height: 200px;max-width: 100%;overflow: auto;}#sk-container-id-2 input.sk-toggleable__control:checked~label.sk-toggleable__label-arrow:before {content: \"▾\";}#sk-container-id-2 div.sk-estimator input.sk-toggleable__control:checked~label.sk-toggleable__label {background-color: #d4ebff;}#sk-container-id-2 div.sk-label input.sk-toggleable__control:checked~label.sk-toggleable__label {background-color: #d4ebff;}#sk-container-id-2 input.sk-hidden--visually {border: 0;clip: rect(1px 1px 1px 1px);clip: rect(1px, 1px, 1px, 1px);height: 1px;margin: -1px;overflow: hidden;padding: 0;position: absolute;width: 1px;}#sk-container-id-2 div.sk-estimator {font-family: monospace;background-color: #f0f8ff;border: 1px dotted black;border-radius: 0.25em;box-sizing: border-box;margin-bottom: 0.5em;}#sk-container-id-2 div.sk-estimator:hover {background-color: #d4ebff;}#sk-container-id-2 div.sk-parallel-item::after {content: \"\";width: 100%;border-bottom: 1px solid gray;flex-grow: 1;}#sk-container-id-2 div.sk-label:hover label.sk-toggleable__label {background-color: #d4ebff;}#sk-container-id-2 div.sk-serial::before {content: \"\";position: absolute;border-left: 1px solid gray;box-sizing: border-box;top: 0;bottom: 0;left: 50%;z-index: 0;}#sk-container-id-2 div.sk-serial {display: flex;flex-direction: column;align-items: center;background-color: white;padding-right: 0.2em;padding-left: 0.2em;position: relative;}#sk-container-id-2 div.sk-item {position: relative;z-index: 1;}#sk-container-id-2 div.sk-parallel {display: flex;align-items: stretch;justify-content: center;background-color: white;position: relative;}#sk-container-id-2 div.sk-item::before, #sk-container-id-2 div.sk-parallel-item::before {content: \"\";position: absolute;border-left: 1px solid gray;box-sizing: border-box;top: 0;bottom: 0;left: 50%;z-index: -1;}#sk-container-id-2 div.sk-parallel-item {display: flex;flex-direction: column;z-index: 1;position: relative;background-color: white;}#sk-container-id-2 div.sk-parallel-item:first-child::after {align-self: flex-end;width: 50%;}#sk-container-id-2 div.sk-parallel-item:last-child::after {align-self: flex-start;width: 50%;}#sk-container-id-2 div.sk-parallel-item:only-child::after {width: 0;}#sk-container-id-2 div.sk-dashed-wrapped {border: 1px dashed gray;margin: 0 0.4em 0.5em 0.4em;box-sizing: border-box;padding-bottom: 0.4em;background-color: white;}#sk-container-id-2 div.sk-label label {font-family: monospace;font-weight: bold;display: inline-block;line-height: 1.2em;}#sk-container-id-2 div.sk-label-container {text-align: center;}#sk-container-id-2 div.sk-container {/* jupyter's `normalize.less` sets `[hidden] { display: none; }` but bootstrap.min.css set `[hidden] { display: none !important; }` so we also need the `!important` here to be able to override the default hidden behavior on the sphinx rendered scikit-learn.org. See: https://github.com/scikit-learn/scikit-learn/issues/21755 */display: inline-block !important;position: relative;}#sk-container-id-2 div.sk-text-repr-fallback {display: none;}</style><div id=\"sk-container-id-2\" class=\"sk-top-container\"><div class=\"sk-text-repr-fallback\"><pre>DecisionTreeClassifier(max_leaf_nodes=8)</pre><b>In a Jupyter environment, please rerun this cell to show the HTML representation or trust the notebook. <br />On GitHub, the HTML representation is unable to render, please try loading this page with nbviewer.org.</b></div><div class=\"sk-container\" hidden><div class=\"sk-item\"><div class=\"sk-estimator sk-toggleable\"><input class=\"sk-toggleable__control sk-hidden--visually\" id=\"sk-estimator-id-2\" type=\"checkbox\" checked><label for=\"sk-estimator-id-2\" class=\"sk-toggleable__label sk-toggleable__label-arrow\">DecisionTreeClassifier</label><div class=\"sk-toggleable__content\"><pre>DecisionTreeClassifier(max_leaf_nodes=8)</pre></div></div></div></div></div>"
            ]
          },
          "metadata": {},
          "execution_count": 31
        }
      ]
    },
    {
      "cell_type": "code",
      "source": [
        "dot_data = export_graphviz(classifier_DT, feature_names = X_train.columns, filled = True, rounded = True, class_names=[\"No fraud\",\"Fraud\"])\n",
        "graph = gp.Source(dot_data)\n",
        "graph"
      ],
      "metadata": {
        "colab": {
          "base_uri": "https://localhost:8080/",
          "height": 916
        },
        "id": "_DjRI22aY42G",
        "outputId": "ee8b0955-9cf2-47a5-b61b-be6ec3d91191"
      },
      "execution_count": 32,
      "outputs": [
        {
          "output_type": "execute_result",
          "data": {
            "text/plain": [
              "<graphviz.files.Source at 0x7ff891748dc0>"
            ],
            "image/svg+xml": "<?xml version=\"1.0\" encoding=\"UTF-8\" standalone=\"no\"?>\n<!DOCTYPE svg PUBLIC \"-//W3C//DTD SVG 1.1//EN\"\n \"http://www.w3.org/Graphics/SVG/1.1/DTD/svg11.dtd\">\n<!-- Generated by graphviz version 2.43.0 (0)\n -->\n<!-- Title: Tree Pages: 1 -->\n<svg width=\"659pt\" height=\"671pt\"\n viewBox=\"0.00 0.00 658.50 671.00\" xmlns=\"http://www.w3.org/2000/svg\" xmlns:xlink=\"http://www.w3.org/1999/xlink\">\n<g id=\"graph0\" class=\"graph\" transform=\"scale(1 1) rotate(0) translate(4 667)\">\n<title>Tree</title>\n<polygon fill=\"white\" stroke=\"transparent\" points=\"-4,4 -4,-667 654.5,-667 654.5,4 -4,4\"/>\n<!-- 0 -->\n<g id=\"node1\" class=\"node\">\n<title>0</title>\n<path fill=\"#e5823b\" stroke=\"black\" d=\"M514,-663C514,-663 413,-663 413,-663 407,-663 401,-657 401,-651 401,-651 401,-592 401,-592 401,-586 407,-580 413,-580 413,-580 514,-580 514,-580 520,-580 526,-586 526,-592 526,-592 526,-651 526,-651 526,-657 520,-663 514,-663\"/>\n<text text-anchor=\"middle\" x=\"463.5\" y=\"-647.8\" font-family=\"Helvetica,sans-Serif\" font-size=\"14.00\">Date_diff &lt;= 29.5</text>\n<text text-anchor=\"middle\" x=\"463.5\" y=\"-632.8\" font-family=\"Helvetica,sans-Serif\" font-size=\"14.00\">gini = 0.022</text>\n<text text-anchor=\"middle\" x=\"463.5\" y=\"-617.8\" font-family=\"Helvetica,sans-Serif\" font-size=\"14.00\">samples = 9108</text>\n<text text-anchor=\"middle\" x=\"463.5\" y=\"-602.8\" font-family=\"Helvetica,sans-Serif\" font-size=\"14.00\">value = [9009, 99]</text>\n<text text-anchor=\"middle\" x=\"463.5\" y=\"-587.8\" font-family=\"Helvetica,sans-Serif\" font-size=\"14.00\">class = No fraud</text>\n</g>\n<!-- 1 -->\n<g id=\"node2\" class=\"node\">\n<title>1</title>\n<path fill=\"#e9965a\" stroke=\"black\" d=\"M463.5,-544C463.5,-544 277.5,-544 277.5,-544 271.5,-544 265.5,-538 265.5,-532 265.5,-532 265.5,-473 265.5,-473 265.5,-467 271.5,-461 277.5,-461 277.5,-461 463.5,-461 463.5,-461 469.5,-461 475.5,-467 475.5,-473 475.5,-473 475.5,-532 475.5,-532 475.5,-538 469.5,-544 463.5,-544\"/>\n<text text-anchor=\"middle\" x=\"370.5\" y=\"-528.8\" font-family=\"Helvetica,sans-Serif\" font-size=\"14.00\">CC_WindscreenDamage &lt;= 0.5</text>\n<text text-anchor=\"middle\" x=\"370.5\" y=\"-513.8\" font-family=\"Helvetica,sans-Serif\" font-size=\"14.00\">gini = 0.245</text>\n<text text-anchor=\"middle\" x=\"370.5\" y=\"-498.8\" font-family=\"Helvetica,sans-Serif\" font-size=\"14.00\">samples = 553</text>\n<text text-anchor=\"middle\" x=\"370.5\" y=\"-483.8\" font-family=\"Helvetica,sans-Serif\" font-size=\"14.00\">value = [474, 79]</text>\n<text text-anchor=\"middle\" x=\"370.5\" y=\"-468.8\" font-family=\"Helvetica,sans-Serif\" font-size=\"14.00\">class = No fraud</text>\n</g>\n<!-- 0&#45;&gt;1 -->\n<g id=\"edge1\" class=\"edge\">\n<title>0&#45;&gt;1</title>\n<path fill=\"none\" stroke=\"black\" d=\"M431.23,-579.91C424.09,-570.92 416.46,-561.32 409.09,-552.05\"/>\n<polygon fill=\"black\" stroke=\"black\" points=\"411.67,-549.67 402.71,-544.02 406.19,-554.03 411.67,-549.67\"/>\n<text text-anchor=\"middle\" x=\"399.87\" y=\"-565.16\" font-family=\"Helvetica,sans-Serif\" font-size=\"14.00\">True</text>\n</g>\n<!-- 2 -->\n<g id=\"node15\" class=\"node\">\n<title>2</title>\n<path fill=\"#e58139\" stroke=\"black\" d=\"M607,-536.5C607,-536.5 506,-536.5 506,-536.5 500,-536.5 494,-530.5 494,-524.5 494,-524.5 494,-480.5 494,-480.5 494,-474.5 500,-468.5 506,-468.5 506,-468.5 607,-468.5 607,-468.5 613,-468.5 619,-474.5 619,-480.5 619,-480.5 619,-524.5 619,-524.5 619,-530.5 613,-536.5 607,-536.5\"/>\n<text text-anchor=\"middle\" x=\"556.5\" y=\"-521.3\" font-family=\"Helvetica,sans-Serif\" font-size=\"14.00\">gini = 0.005</text>\n<text text-anchor=\"middle\" x=\"556.5\" y=\"-506.3\" font-family=\"Helvetica,sans-Serif\" font-size=\"14.00\">samples = 8555</text>\n<text text-anchor=\"middle\" x=\"556.5\" y=\"-491.3\" font-family=\"Helvetica,sans-Serif\" font-size=\"14.00\">value = [8535, 20]</text>\n<text text-anchor=\"middle\" x=\"556.5\" y=\"-476.3\" font-family=\"Helvetica,sans-Serif\" font-size=\"14.00\">class = No fraud</text>\n</g>\n<!-- 0&#45;&gt;2 -->\n<g id=\"edge14\" class=\"edge\">\n<title>0&#45;&gt;2</title>\n<path fill=\"none\" stroke=\"black\" d=\"M495.77,-579.91C504.8,-568.54 514.63,-556.18 523.69,-544.77\"/>\n<polygon fill=\"black\" stroke=\"black\" points=\"526.65,-546.67 530.14,-536.67 521.17,-542.32 526.65,-546.67\"/>\n<text text-anchor=\"middle\" x=\"532.98\" y=\"-557.81\" font-family=\"Helvetica,sans-Serif\" font-size=\"14.00\">False</text>\n</g>\n<!-- 3 -->\n<g id=\"node3\" class=\"node\">\n<title>3</title>\n<path fill=\"#eb9f68\" stroke=\"black\" d=\"M350,-425C350,-425 257,-425 257,-425 251,-425 245,-419 245,-413 245,-413 245,-354 245,-354 245,-348 251,-342 257,-342 257,-342 350,-342 350,-342 356,-342 362,-348 362,-354 362,-354 362,-413 362,-413 362,-419 356,-425 350,-425\"/>\n<text text-anchor=\"middle\" x=\"303.5\" y=\"-409.8\" font-family=\"Helvetica,sans-Serif\" font-size=\"14.00\">Date_diff &lt;= 2.5</text>\n<text text-anchor=\"middle\" x=\"303.5\" y=\"-394.8\" font-family=\"Helvetica,sans-Serif\" font-size=\"14.00\">gini = 0.309</text>\n<text text-anchor=\"middle\" x=\"303.5\" y=\"-379.8\" font-family=\"Helvetica,sans-Serif\" font-size=\"14.00\">samples = 413</text>\n<text text-anchor=\"middle\" x=\"303.5\" y=\"-364.8\" font-family=\"Helvetica,sans-Serif\" font-size=\"14.00\">value = [334, 79]</text>\n<text text-anchor=\"middle\" x=\"303.5\" y=\"-349.8\" font-family=\"Helvetica,sans-Serif\" font-size=\"14.00\">class = No fraud</text>\n</g>\n<!-- 1&#45;&gt;3 -->\n<g id=\"edge2\" class=\"edge\">\n<title>1&#45;&gt;3</title>\n<path fill=\"none\" stroke=\"black\" d=\"M347.25,-460.91C342.27,-452.2 336.94,-442.9 331.79,-433.89\"/>\n<polygon fill=\"black\" stroke=\"black\" points=\"334.71,-431.96 326.7,-425.02 328.64,-435.44 334.71,-431.96\"/>\n</g>\n<!-- 4 -->\n<g id=\"node14\" class=\"node\">\n<title>4</title>\n<path fill=\"#e58139\" stroke=\"black\" d=\"M483,-417.5C483,-417.5 392,-417.5 392,-417.5 386,-417.5 380,-411.5 380,-405.5 380,-405.5 380,-361.5 380,-361.5 380,-355.5 386,-349.5 392,-349.5 392,-349.5 483,-349.5 483,-349.5 489,-349.5 495,-355.5 495,-361.5 495,-361.5 495,-405.5 495,-405.5 495,-411.5 489,-417.5 483,-417.5\"/>\n<text text-anchor=\"middle\" x=\"437.5\" y=\"-402.3\" font-family=\"Helvetica,sans-Serif\" font-size=\"14.00\">gini = 0.0</text>\n<text text-anchor=\"middle\" x=\"437.5\" y=\"-387.3\" font-family=\"Helvetica,sans-Serif\" font-size=\"14.00\">samples = 140</text>\n<text text-anchor=\"middle\" x=\"437.5\" y=\"-372.3\" font-family=\"Helvetica,sans-Serif\" font-size=\"14.00\">value = [140, 0]</text>\n<text text-anchor=\"middle\" x=\"437.5\" y=\"-357.3\" font-family=\"Helvetica,sans-Serif\" font-size=\"14.00\">class = No fraud</text>\n</g>\n<!-- 1&#45;&gt;4 -->\n<g id=\"edge13\" class=\"edge\">\n<title>1&#45;&gt;4</title>\n<path fill=\"none\" stroke=\"black\" d=\"M393.75,-460.91C400.13,-449.76 407.06,-437.66 413.48,-426.44\"/>\n<polygon fill=\"black\" stroke=\"black\" points=\"416.57,-428.08 418.51,-417.67 410.5,-424.61 416.57,-428.08\"/>\n</g>\n<!-- 5 -->\n<g id=\"node4\" class=\"node\">\n<title>5</title>\n<path fill=\"#f5d1b7\" stroke=\"black\" d=\"M284,-306C284,-306 129,-306 129,-306 123,-306 117,-300 117,-294 117,-294 117,-235 117,-235 117,-229 123,-223 129,-223 129,-223 284,-223 284,-223 290,-223 296,-229 296,-235 296,-235 296,-294 296,-294 296,-300 290,-306 284,-306\"/>\n<text text-anchor=\"middle\" x=\"206.5\" y=\"-290.8\" font-family=\"Helvetica,sans-Serif\" font-size=\"14.00\">EasinessToStage &lt;= 0.375</text>\n<text text-anchor=\"middle\" x=\"206.5\" y=\"-275.8\" font-family=\"Helvetica,sans-Serif\" font-size=\"14.00\">gini = 0.475</text>\n<text text-anchor=\"middle\" x=\"206.5\" y=\"-260.8\" font-family=\"Helvetica,sans-Serif\" font-size=\"14.00\">samples = 67</text>\n<text text-anchor=\"middle\" x=\"206.5\" y=\"-245.8\" font-family=\"Helvetica,sans-Serif\" font-size=\"14.00\">value = [41, 26]</text>\n<text text-anchor=\"middle\" x=\"206.5\" y=\"-230.8\" font-family=\"Helvetica,sans-Serif\" font-size=\"14.00\">class = No fraud</text>\n</g>\n<!-- 3&#45;&gt;5 -->\n<g id=\"edge3\" class=\"edge\">\n<title>3&#45;&gt;5</title>\n<path fill=\"none\" stroke=\"black\" d=\"M269.85,-341.91C262.32,-332.83 254.27,-323.12 246.52,-313.77\"/>\n<polygon fill=\"black\" stroke=\"black\" points=\"249.17,-311.49 240.09,-306.02 243.78,-315.95 249.17,-311.49\"/>\n</g>\n<!-- 6 -->\n<g id=\"node9\" class=\"node\">\n<title>6</title>\n<path fill=\"#ea985d\" stroke=\"black\" d=\"M475,-306C475,-306 326,-306 326,-306 320,-306 314,-300 314,-294 314,-294 314,-235 314,-235 314,-229 320,-223 326,-223 326,-223 475,-223 475,-223 481,-223 487,-229 487,-235 487,-235 487,-294 487,-294 487,-300 481,-306 475,-306\"/>\n<text text-anchor=\"middle\" x=\"400.5\" y=\"-290.8\" font-family=\"Helvetica,sans-Serif\" font-size=\"14.00\">CC_LossOfControl &lt;= 0.5</text>\n<text text-anchor=\"middle\" x=\"400.5\" y=\"-275.8\" font-family=\"Helvetica,sans-Serif\" font-size=\"14.00\">gini = 0.259</text>\n<text text-anchor=\"middle\" x=\"400.5\" y=\"-260.8\" font-family=\"Helvetica,sans-Serif\" font-size=\"14.00\">samples = 346</text>\n<text text-anchor=\"middle\" x=\"400.5\" y=\"-245.8\" font-family=\"Helvetica,sans-Serif\" font-size=\"14.00\">value = [293, 53]</text>\n<text text-anchor=\"middle\" x=\"400.5\" y=\"-230.8\" font-family=\"Helvetica,sans-Serif\" font-size=\"14.00\">class = No fraud</text>\n</g>\n<!-- 3&#45;&gt;6 -->\n<g id=\"edge8\" class=\"edge\">\n<title>3&#45;&gt;6</title>\n<path fill=\"none\" stroke=\"black\" d=\"M337.15,-341.91C344.68,-332.83 352.73,-323.12 360.48,-313.77\"/>\n<polygon fill=\"black\" stroke=\"black\" points=\"363.22,-315.95 366.91,-306.02 357.83,-311.49 363.22,-315.95\"/>\n</g>\n<!-- 7 -->\n<g id=\"node5\" class=\"node\">\n<title>7</title>\n<path fill=\"#f0b78f\" stroke=\"black\" d=\"M103,-179.5C103,-179.5 12,-179.5 12,-179.5 6,-179.5 0,-173.5 0,-167.5 0,-167.5 0,-123.5 0,-123.5 0,-117.5 6,-111.5 12,-111.5 12,-111.5 103,-111.5 103,-111.5 109,-111.5 115,-117.5 115,-123.5 115,-123.5 115,-167.5 115,-167.5 115,-173.5 109,-179.5 103,-179.5\"/>\n<text text-anchor=\"middle\" x=\"57.5\" y=\"-164.3\" font-family=\"Helvetica,sans-Serif\" font-size=\"14.00\">gini = 0.422</text>\n<text text-anchor=\"middle\" x=\"57.5\" y=\"-149.3\" font-family=\"Helvetica,sans-Serif\" font-size=\"14.00\">samples = 53</text>\n<text text-anchor=\"middle\" x=\"57.5\" y=\"-134.3\" font-family=\"Helvetica,sans-Serif\" font-size=\"14.00\">value = [37, 16]</text>\n<text text-anchor=\"middle\" x=\"57.5\" y=\"-119.3\" font-family=\"Helvetica,sans-Serif\" font-size=\"14.00\">class = No fraud</text>\n</g>\n<!-- 5&#45;&gt;7 -->\n<g id=\"edge4\" class=\"edge\">\n<title>5&#45;&gt;7</title>\n<path fill=\"none\" stroke=\"black\" d=\"M154.81,-222.91C139.63,-210.99 123.05,-197.98 107.96,-186.12\"/>\n<polygon fill=\"black\" stroke=\"black\" points=\"109.76,-183.09 99.74,-179.67 105.44,-188.6 109.76,-183.09\"/>\n</g>\n<!-- 8 -->\n<g id=\"node6\" class=\"node\">\n<title>8</title>\n<path fill=\"#88c4ef\" stroke=\"black\" d=\"M285.5,-187C285.5,-187 145.5,-187 145.5,-187 139.5,-187 133.5,-181 133.5,-175 133.5,-175 133.5,-116 133.5,-116 133.5,-110 139.5,-104 145.5,-104 145.5,-104 285.5,-104 285.5,-104 291.5,-104 297.5,-110 297.5,-116 297.5,-116 297.5,-175 297.5,-175 297.5,-181 291.5,-187 285.5,-187\"/>\n<text text-anchor=\"middle\" x=\"215.5\" y=\"-171.8\" font-family=\"Helvetica,sans-Serif\" font-size=\"14.00\">ClaimAmount &lt;= 196.07</text>\n<text text-anchor=\"middle\" x=\"215.5\" y=\"-156.8\" font-family=\"Helvetica,sans-Serif\" font-size=\"14.00\">gini = 0.408</text>\n<text text-anchor=\"middle\" x=\"215.5\" y=\"-141.8\" font-family=\"Helvetica,sans-Serif\" font-size=\"14.00\">samples = 14</text>\n<text text-anchor=\"middle\" x=\"215.5\" y=\"-126.8\" font-family=\"Helvetica,sans-Serif\" font-size=\"14.00\">value = [4, 10]</text>\n<text text-anchor=\"middle\" x=\"215.5\" y=\"-111.8\" font-family=\"Helvetica,sans-Serif\" font-size=\"14.00\">class = Fraud</text>\n</g>\n<!-- 5&#45;&gt;8 -->\n<g id=\"edge5\" class=\"edge\">\n<title>5&#45;&gt;8</title>\n<path fill=\"none\" stroke=\"black\" d=\"M209.62,-222.91C210.26,-214.56 210.95,-205.67 211.61,-197.02\"/>\n<polygon fill=\"black\" stroke=\"black\" points=\"215.11,-197.26 212.38,-187.02 208.13,-196.72 215.11,-197.26\"/>\n</g>\n<!-- 9 -->\n<g id=\"node7\" class=\"node\">\n<title>9</title>\n<path fill=\"#e58139\" stroke=\"black\" d=\"M223,-68C223,-68 132,-68 132,-68 126,-68 120,-62 120,-56 120,-56 120,-12 120,-12 120,-6 126,0 132,0 132,0 223,0 223,0 229,0 235,-6 235,-12 235,-12 235,-56 235,-56 235,-62 229,-68 223,-68\"/>\n<text text-anchor=\"middle\" x=\"177.5\" y=\"-52.8\" font-family=\"Helvetica,sans-Serif\" font-size=\"14.00\">gini = 0.0</text>\n<text text-anchor=\"middle\" x=\"177.5\" y=\"-37.8\" font-family=\"Helvetica,sans-Serif\" font-size=\"14.00\">samples = 4</text>\n<text text-anchor=\"middle\" x=\"177.5\" y=\"-22.8\" font-family=\"Helvetica,sans-Serif\" font-size=\"14.00\">value = [4, 0]</text>\n<text text-anchor=\"middle\" x=\"177.5\" y=\"-7.8\" font-family=\"Helvetica,sans-Serif\" font-size=\"14.00\">class = No fraud</text>\n</g>\n<!-- 8&#45;&gt;9 -->\n<g id=\"edge6\" class=\"edge\">\n<title>8&#45;&gt;9</title>\n<path fill=\"none\" stroke=\"black\" d=\"M201.35,-103.73C198.44,-95.34 195.36,-86.47 192.42,-78.01\"/>\n<polygon fill=\"black\" stroke=\"black\" points=\"195.64,-76.6 189.06,-68.3 189.03,-78.89 195.64,-76.6\"/>\n</g>\n<!-- 10 -->\n<g id=\"node8\" class=\"node\">\n<title>10</title>\n<path fill=\"#399de5\" stroke=\"black\" d=\"M343.5,-68C343.5,-68 265.5,-68 265.5,-68 259.5,-68 253.5,-62 253.5,-56 253.5,-56 253.5,-12 253.5,-12 253.5,-6 259.5,0 265.5,0 265.5,0 343.5,0 343.5,0 349.5,0 355.5,-6 355.5,-12 355.5,-12 355.5,-56 355.5,-56 355.5,-62 349.5,-68 343.5,-68\"/>\n<text text-anchor=\"middle\" x=\"304.5\" y=\"-52.8\" font-family=\"Helvetica,sans-Serif\" font-size=\"14.00\">gini = 0.0</text>\n<text text-anchor=\"middle\" x=\"304.5\" y=\"-37.8\" font-family=\"Helvetica,sans-Serif\" font-size=\"14.00\">samples = 10</text>\n<text text-anchor=\"middle\" x=\"304.5\" y=\"-22.8\" font-family=\"Helvetica,sans-Serif\" font-size=\"14.00\">value = [0, 10]</text>\n<text text-anchor=\"middle\" x=\"304.5\" y=\"-7.8\" font-family=\"Helvetica,sans-Serif\" font-size=\"14.00\">class = Fraud</text>\n</g>\n<!-- 8&#45;&gt;10 -->\n<g id=\"edge7\" class=\"edge\">\n<title>8&#45;&gt;10</title>\n<path fill=\"none\" stroke=\"black\" d=\"M248.64,-103.73C255.98,-94.7 263.76,-85.12 271.11,-76.08\"/>\n<polygon fill=\"black\" stroke=\"black\" points=\"273.84,-78.27 277.43,-68.3 268.41,-73.85 273.84,-78.27\"/>\n</g>\n<!-- 11 -->\n<g id=\"node10\" class=\"node\">\n<title>11</title>\n<path fill=\"#e89254\" stroke=\"black\" d=\"M438,-179.5C438,-179.5 345,-179.5 345,-179.5 339,-179.5 333,-173.5 333,-167.5 333,-167.5 333,-123.5 333,-123.5 333,-117.5 339,-111.5 345,-111.5 345,-111.5 438,-111.5 438,-111.5 444,-111.5 450,-117.5 450,-123.5 450,-123.5 450,-167.5 450,-167.5 450,-173.5 444,-179.5 438,-179.5\"/>\n<text text-anchor=\"middle\" x=\"391.5\" y=\"-164.3\" font-family=\"Helvetica,sans-Serif\" font-size=\"14.00\">gini = 0.208</text>\n<text text-anchor=\"middle\" x=\"391.5\" y=\"-149.3\" font-family=\"Helvetica,sans-Serif\" font-size=\"14.00\">samples = 271</text>\n<text text-anchor=\"middle\" x=\"391.5\" y=\"-134.3\" font-family=\"Helvetica,sans-Serif\" font-size=\"14.00\">value = [239, 32]</text>\n<text text-anchor=\"middle\" x=\"391.5\" y=\"-119.3\" font-family=\"Helvetica,sans-Serif\" font-size=\"14.00\">class = No fraud</text>\n</g>\n<!-- 6&#45;&gt;11 -->\n<g id=\"edge9\" class=\"edge\">\n<title>6&#45;&gt;11</title>\n<path fill=\"none\" stroke=\"black\" d=\"M397.38,-222.91C396.55,-212.2 395.66,-200.62 394.83,-189.78\"/>\n<polygon fill=\"black\" stroke=\"black\" points=\"398.31,-189.37 394.05,-179.67 391.33,-189.91 398.31,-189.37\"/>\n</g>\n<!-- 12 -->\n<g id=\"node11\" class=\"node\">\n<title>12</title>\n<path fill=\"#efb286\" stroke=\"black\" d=\"M635,-187C635,-187 480,-187 480,-187 474,-187 468,-181 468,-175 468,-175 468,-116 468,-116 468,-110 474,-104 480,-104 480,-104 635,-104 635,-104 641,-104 647,-110 647,-116 647,-116 647,-175 647,-175 647,-181 641,-187 635,-187\"/>\n<text text-anchor=\"middle\" x=\"557.5\" y=\"-171.8\" font-family=\"Helvetica,sans-Serif\" font-size=\"14.00\">ClaimAmount &lt;= 3821.945</text>\n<text text-anchor=\"middle\" x=\"557.5\" y=\"-156.8\" font-family=\"Helvetica,sans-Serif\" font-size=\"14.00\">gini = 0.403</text>\n<text text-anchor=\"middle\" x=\"557.5\" y=\"-141.8\" font-family=\"Helvetica,sans-Serif\" font-size=\"14.00\">samples = 75</text>\n<text text-anchor=\"middle\" x=\"557.5\" y=\"-126.8\" font-family=\"Helvetica,sans-Serif\" font-size=\"14.00\">value = [54, 21]</text>\n<text text-anchor=\"middle\" x=\"557.5\" y=\"-111.8\" font-family=\"Helvetica,sans-Serif\" font-size=\"14.00\">class = No fraud</text>\n</g>\n<!-- 6&#45;&gt;12 -->\n<g id=\"edge10\" class=\"edge\">\n<title>6&#45;&gt;12</title>\n<path fill=\"none\" stroke=\"black\" d=\"M454.97,-222.91C467.88,-213.29 481.75,-202.95 494.98,-193.09\"/>\n<polygon fill=\"black\" stroke=\"black\" points=\"497.2,-195.8 503.13,-187.02 493.02,-190.19 497.2,-195.8\"/>\n</g>\n<!-- 13 -->\n<g id=\"node12\" class=\"node\">\n<title>13</title>\n<path fill=\"#ea9b61\" stroke=\"black\" d=\"M510,-68C510,-68 419,-68 419,-68 413,-68 407,-62 407,-56 407,-56 407,-12 407,-12 407,-6 413,0 419,0 419,0 510,0 510,0 516,0 522,-6 522,-12 522,-12 522,-56 522,-56 522,-62 516,-68 510,-68\"/>\n<text text-anchor=\"middle\" x=\"464.5\" y=\"-52.8\" font-family=\"Helvetica,sans-Serif\" font-size=\"14.00\">gini = 0.282</text>\n<text text-anchor=\"middle\" x=\"464.5\" y=\"-37.8\" font-family=\"Helvetica,sans-Serif\" font-size=\"14.00\">samples = 53</text>\n<text text-anchor=\"middle\" x=\"464.5\" y=\"-22.8\" font-family=\"Helvetica,sans-Serif\" font-size=\"14.00\">value = [44, 9]</text>\n<text text-anchor=\"middle\" x=\"464.5\" y=\"-7.8\" font-family=\"Helvetica,sans-Serif\" font-size=\"14.00\">class = No fraud</text>\n</g>\n<!-- 12&#45;&gt;13 -->\n<g id=\"edge11\" class=\"edge\">\n<title>12&#45;&gt;13</title>\n<path fill=\"none\" stroke=\"black\" d=\"M522.87,-103.73C515.2,-94.7 507.07,-85.12 499.39,-76.08\"/>\n<polygon fill=\"black\" stroke=\"black\" points=\"501.92,-73.66 492.78,-68.3 496.59,-78.19 501.92,-73.66\"/>\n</g>\n<!-- 14 -->\n<g id=\"node13\" class=\"node\">\n<title>14</title>\n<path fill=\"#deeffb\" stroke=\"black\" d=\"M638.5,-68C638.5,-68 552.5,-68 552.5,-68 546.5,-68 540.5,-62 540.5,-56 540.5,-56 540.5,-12 540.5,-12 540.5,-6 546.5,0 552.5,0 552.5,0 638.5,0 638.5,0 644.5,0 650.5,-6 650.5,-12 650.5,-12 650.5,-56 650.5,-56 650.5,-62 644.5,-68 638.5,-68\"/>\n<text text-anchor=\"middle\" x=\"595.5\" y=\"-52.8\" font-family=\"Helvetica,sans-Serif\" font-size=\"14.00\">gini = 0.496</text>\n<text text-anchor=\"middle\" x=\"595.5\" y=\"-37.8\" font-family=\"Helvetica,sans-Serif\" font-size=\"14.00\">samples = 22</text>\n<text text-anchor=\"middle\" x=\"595.5\" y=\"-22.8\" font-family=\"Helvetica,sans-Serif\" font-size=\"14.00\">value = [10, 12]</text>\n<text text-anchor=\"middle\" x=\"595.5\" y=\"-7.8\" font-family=\"Helvetica,sans-Serif\" font-size=\"14.00\">class = Fraud</text>\n</g>\n<!-- 12&#45;&gt;14 -->\n<g id=\"edge12\" class=\"edge\">\n<title>12&#45;&gt;14</title>\n<path fill=\"none\" stroke=\"black\" d=\"M571.65,-103.73C574.56,-95.34 577.64,-86.47 580.58,-78.01\"/>\n<polygon fill=\"black\" stroke=\"black\" points=\"583.97,-78.89 583.94,-68.3 577.36,-76.6 583.97,-78.89\"/>\n</g>\n</g>\n</svg>\n"
          },
          "metadata": {},
          "execution_count": 32
        }
      ]
    },
    {
      "cell_type": "markdown",
      "source": [
        "## 3.5 Best model performance"
      ],
      "metadata": {
        "id": "fsyuFw6_Y6go"
      }
    },
    {
      "cell_type": "code",
      "source": [
        "# AUC\n",
        "y_pred_prob = classifier_DT.predict_proba(X_test)[:,1]  \n",
        "print(\"AUC: \" + str(metrics.roc_auc_score(y_test,y_pred_prob)))"
      ],
      "metadata": {
        "colab": {
          "base_uri": "https://localhost:8080/"
        },
        "id": "seFk5NslY8Gs",
        "outputId": "dab961f7-e039-4ddc-9225-9bccf0a2cb52"
      },
      "execution_count": 33,
      "outputs": [
        {
          "output_type": "stream",
          "name": "stdout",
          "text": [
            "AUC: 0.8336580423940149\n"
          ]
        }
      ]
    },
    {
      "cell_type": "markdown",
      "source": [
        "## 3.6 Set the threshold (using J statistics)"
      ],
      "metadata": {
        "id": "6DxQlQgWZO6V"
      }
    },
    {
      "cell_type": "code",
      "source": [
        "y_pred_prob = classifier_DT.predict_proba(X_valid)[:,1]\n",
        "fpr, tpr, thresholds = metrics.roc_curve(y_valid, y_pred_prob)"
      ],
      "metadata": {
        "id": "bBR7R21OZTC4"
      },
      "execution_count": 34,
      "outputs": []
    },
    {
      "cell_type": "code",
      "source": [
        "J = tpr - fpr\n",
        "J"
      ],
      "metadata": {
        "colab": {
          "base_uri": "https://localhost:8080/"
        },
        "id": "dkLRCuAuZXn5",
        "outputId": "d6fdaf7b-7cc0-4d50-c9d3-89064e817f2e"
      },
      "execution_count": 35,
      "outputs": [
        {
          "output_type": "execute_result",
          "data": {
            "text/plain": [
              "array([0.        , 0.1       , 0.09902724, 0.29513619, 0.29416342,\n",
              "       0.66303502, 0.01848249, 0.        ])"
            ]
          },
          "metadata": {},
          "execution_count": 35
        }
      ]
    },
    {
      "cell_type": "code",
      "source": [
        "print(\"The best threshold according to the J statistic is \" + str(round(thresholds[np.argmax(J)],2)))"
      ],
      "metadata": {
        "colab": {
          "base_uri": "https://localhost:8080/"
        },
        "id": "EmE3Hb95ZaF7",
        "outputId": "2a4b9b6d-3598-44a5-c00e-8ef70bf08db1"
      },
      "execution_count": 36,
      "outputs": [
        {
          "output_type": "stream",
          "name": "stdout",
          "text": [
            "The best threshold according to the J statistic is 0.12\n"
          ]
        }
      ]
    },
    {
      "cell_type": "code",
      "source": [
        "threshold = 0.12\n",
        "y_pred =classifier_DT.predict_proba(X_test)[:,1]\n",
        "y_test_pred = np.where(y_pred < threshold, 0, 1)\n",
        "cm = metrics.confusion_matrix(y_test, y_test_pred)\n",
        "\n",
        "tp = cm[1][1]\n",
        "fp = cm[0][1]\n",
        "tn = cm[0][0]\n",
        "fn = cm[1][0]\n",
        "\n",
        "Detection_Rate = (tp + fp)  / (tp+fp+tn+fn)\n",
        "Hit_Rate = tp / (tp + fp)\n",
        "\n",
        "print(\"threshold:\",threshold, \"Detection Rate:\",round((Detection_Rate)*100,1),\"%\", \"Hit Rate:\",(Hit_Rate)*100,\"%\")"
      ],
      "metadata": {
        "colab": {
          "base_uri": "https://localhost:8080/"
        },
        "id": "pG5RaDquSeZL",
        "outputId": "17b6ee78-4347-4216-dec7-6ff5a7636d2f"
      },
      "execution_count": 37,
      "outputs": [
        {
          "output_type": "stream",
          "name": "stdout",
          "text": [
            "threshold: 0.12 Detection Rate: 1.2 % Hit Rate: 20.0 %\n"
          ]
        }
      ]
    },
    {
      "cell_type": "markdown",
      "source": [
        "## 3.7 Calculating hit and detection Rates, across different thresholds"
      ],
      "metadata": {
        "id": "UkcCbHHXZBc4"
      }
    },
    {
      "cell_type": "code",
      "source": [
        "# for loop x_test data set\n",
        "threshold_list, detection_rate_list, hit_rate_list = [], [], []\n",
        "for t in np.arange(0,1,0.01):\n",
        "    y_pred =classifier_DT.predict_proba(X_test)[:,1]\n",
        "    y_test_pred = np.where(y_pred < t, 0, 1)\n",
        "    \n",
        "    tn, fp, fn, tp = metrics.confusion_matrix(y_test, y_test_pred).ravel()\n",
        "\n",
        "    Detection_Rate = (tp + fp)  / (tp+fp+tn+fn)\n",
        "    Hit_Rate = tp / (tp + fp)\n",
        "\n",
        "    threshold_list.append(t)\n",
        "    detection_rate_list.append(Detection_Rate)\n",
        "    hit_rate_list.append(Hit_Rate)\n",
        "\n",
        "final = pd.DataFrame({\"Threshold\": threshold_list, \"Detection_rate\": detection_rate_list, \"Hit_rate\": hit_rate_list})"
      ],
      "metadata": {
        "id": "samg7MxZZCpZ"
      },
      "execution_count": 38,
      "outputs": []
    },
    {
      "cell_type": "code",
      "source": [
        "conf_matrix = confusion_matrix(y_test, y_test_pred)\n",
        "conf_matrix"
      ],
      "metadata": {
        "colab": {
          "base_uri": "https://localhost:8080/"
        },
        "id": "kQNJrIT7ZIdr",
        "outputId": "503175c5-d42a-4911-954b-ad0ec24e9809"
      },
      "execution_count": 39,
      "outputs": [
        {
          "output_type": "execute_result",
          "data": {
            "text/plain": [
              "array([[2406,    0],\n",
              "       [  15,    1]])"
            ]
          },
          "metadata": {},
          "execution_count": 39
        }
      ]
    },
    {
      "cell_type": "markdown",
      "source": [
        "## 3.8 Visualisions"
      ],
      "metadata": {
        "id": "WbY5W7BfZtik"
      }
    },
    {
      "cell_type": "code",
      "source": [
        "sns.scatterplot(hit_rate_list, detection_rate_list)\n",
        "\n",
        "plt.xlabel('Detection Rate')\n",
        "plt.ylabel('Hit Rate')\n",
        "plt.title('Detection Rate and Hit Rate trade-off')\n",
        "plt.show()"
      ],
      "metadata": {
        "colab": {
          "base_uri": "https://localhost:8080/",
          "height": 351
        },
        "id": "J6zDGbSrZvmC",
        "outputId": "378cbb92-86e7-4824-cc4f-06d91bd97276"
      },
      "execution_count": 40,
      "outputs": [
        {
          "output_type": "stream",
          "name": "stderr",
          "text": [
            "/usr/local/lib/python3.8/dist-packages/seaborn/_decorators.py:36: FutureWarning: Pass the following variables as keyword args: x, y. From version 0.12, the only valid positional argument will be `data`, and passing other arguments without an explicit keyword will result in an error or misinterpretation.\n",
            "  warnings.warn(\n"
          ]
        },
        {
          "output_type": "display_data",
          "data": {
            "text/plain": [
              "<Figure size 432x288 with 1 Axes>"
            ],
            "image/png": "[encoded data removed]"
          },
          "metadata": {
            "needs_background": "light"
          }
        }
      ]
    },
    {
      "cell_type": "code",
      "source": [
        "sns.scatterplot(threshold_list, detection_rate_list, label='Detection Rate')\n",
        "sns.scatterplot(threshold_list, hit_rate_list, label='Hit Rate')\n",
        "\n",
        "plt.xlabel('Threshold')\n",
        "plt.ylabel('Rate')\n",
        "plt.title('Detection and Hit for different values of \"Threshold\"')\n",
        "plt.legend()\n",
        "plt.show()"
      ],
      "metadata": {
        "colab": {
          "base_uri": "https://localhost:8080/",
          "height": 386
        },
        "id": "7FWuTg_7Zyan",
        "outputId": "6788c680-4f99-48aa-dac7-58876a9e7494"
      },
      "execution_count": 41,
      "outputs": [
        {
          "output_type": "stream",
          "name": "stderr",
          "text": [
            "/usr/local/lib/python3.8/dist-packages/seaborn/_decorators.py:36: FutureWarning: Pass the following variables as keyword args: x, y. From version 0.12, the only valid positional argument will be `data`, and passing other arguments without an explicit keyword will result in an error or misinterpretation.\n",
            "  warnings.warn(\n",
            "/usr/local/lib/python3.8/dist-packages/seaborn/_decorators.py:36: FutureWarning: Pass the following variables as keyword args: x, y. From version 0.12, the only valid positional argument will be `data`, and passing other arguments without an explicit keyword will result in an error or misinterpretation.\n",
            "  warnings.warn(\n"
          ]
        },
        {
          "output_type": "display_data",
          "data": {
            "text/plain": [
              "<Figure size 432x288 with 1 Axes>"
            ],
            "image/png": "[encoded data removed]"
          },
          "metadata": {
            "needs_background": "light"
          }
        }
      ]
    },
    {
      "cell_type": "markdown",
      "source": [
        "# **4. Neural Network**"
      ],
      "metadata": {
        "id": "SiBcG1CMiOTQ"
      }
    },
    {
      "cell_type": "markdown",
      "source": [
        "## 4.1 Split data"
      ],
      "metadata": {
        "id": "RM3hJKHrjOmK"
      }
    },
    {
      "cell_type": "code",
      "source": [
        "df = pd.read_csv(\"/content/drive/MyDrive/ADL /Clean data v3.csv\")"
      ],
      "metadata": {
        "id": "eIbbwAuFia6c"
      },
      "execution_count": 42,
      "outputs": []
    },
    {
      "cell_type": "code",
      "source": [
        "df = df.drop(columns=['Unnamed: 0'])"
      ],
      "metadata": {
        "id": "Qa5dnunUi_Cl"
      },
      "execution_count": 43,
      "outputs": []
    },
    {
      "cell_type": "code",
      "source": [
        "dfC = df.copy()\n",
        "dfC1 = dfC[dfC.Fraud==1]\n",
        "dfC0 = dfC[dfC.Fraud==0]"
      ],
      "metadata": {
        "id": "F0WjtcE2jHKz"
      },
      "execution_count": 44,
      "outputs": []
    },
    {
      "cell_type": "code",
      "source": [
        "dfX1 = dfC1.drop(columns=[\"Fraud\"])\n",
        "dfY1 = dfC1[[\"Fraud\"]]\n",
        "\n",
        "dfX0 = dfC0.drop(columns=[\"Fraud\"])\n",
        "dfY0 = dfC0[[\"Fraud\"]]"
      ],
      "metadata": {
        "id": "FbqyfrG5jMK6"
      },
      "execution_count": 45,
      "outputs": []
    },
    {
      "cell_type": "code",
      "source": [
        "X1_train, X1_test, y1_train, y1_test = train_test_split(dfX1, dfY1, test_size=0.4, random_state=172)\n",
        "X1_test, X1_val, y1_test, y1_val = train_test_split(X1_test, y1_test, test_size=0.5, random_state=172)\n",
        "\n",
        "X0_train, X0_test, y0_train, y0_test = train_test_split(dfX0, dfY0, test_size=0.4, random_state=172)\n",
        "X0_test, X0_val, y0_test, y0_val = train_test_split(X0_test, y0_test, test_size=0.5, random_state=172)"
      ],
      "metadata": {
        "id": "YERltH2ZjjTJ"
      },
      "execution_count": 46,
      "outputs": []
    },
    {
      "cell_type": "code",
      "source": [
        "X_train = X1_train.append(X0_train)\n",
        "X_val = X1_val.append(X0_val)\n",
        "X_test = X1_test.append(X0_test)\n",
        "\n",
        "y_train = y1_train.append(y0_train)\n",
        "y_val = y1_val.append(y0_val)\n",
        "y_test = y1_test.append(y0_test)"
      ],
      "metadata": {
        "id": "Fm3AiNTrkKTf"
      },
      "execution_count": 47,
      "outputs": []
    },
    {
      "cell_type": "code",
      "source": [
        "X_train = X_train.to_numpy()\n",
        "X_val = X_val.to_numpy()\n",
        "X_test = X_test.to_numpy()\n",
        "\n",
        "y_train = y_train.to_numpy()\n",
        "y_val = y_val.to_numpy()\n",
        "y_test = y_test.to_numpy()\n",
        "\n",
        "X_train.shape, X_test.shape, X_val.shape, y_train.shape, y_test.shape, y_val.shape"
      ],
      "metadata": {
        "colab": {
          "base_uri": "https://localhost:8080/"
        },
        "id": "MvEsINeJkK7I",
        "outputId": "dd3db1b3-0898-4ce3-9bc7-587552d11835"
      },
      "execution_count": 48,
      "outputs": [
        {
          "output_type": "execute_result",
          "data": {
            "text/plain": [
              "((6918, 71), (2306, 71), (2306, 71), (6918, 1), (2306, 1), (2306, 1))"
            ]
          },
          "metadata": {},
          "execution_count": 48
        }
      ]
    },
    {
      "cell_type": "markdown",
      "source": [
        "## 4.2 Build neural network"
      ],
      "metadata": {
        "id": "9ZXKiZ42kfP2"
      }
    },
    {
      "cell_type": "markdown",
      "source": [
        "## 1) SGD"
      ],
      "metadata": {
        "id": "Y9QeUPblldMW"
      }
    },
    {
      "cell_type": "markdown",
      "source": [
        "I started from a 2-hidden-layers SGD neural network, 10 units each, with 0.01 learning rate and 0.9 momentum. The accuracy does not improve after reaching 99.00%.\n",
        "\n",
        "I then tried with a lower learning rate (0.001), a smaller batch size (16), adding L2 regularisation (0.9), adding dropout regularisation (0.2), having more units per hidden layer (20), having additional hidden layer. Even though some of the tested models have very big initial loss, all of them coverge to a small loss at the end.\n",
        "\n",
        "However, none of them can improve the training and validation accuracy beyond 99.00%."
      ],
      "metadata": {
        "id": "HipU9qOHlgsJ"
      }
    },
    {
      "cell_type": "markdown",
      "source": [
        "## 2) RMSprop"
      ],
      "metadata": {
        "id": "uxUIa2I5lj5E"
      }
    },
    {
      "cell_type": "markdown",
      "source": [
        "I tried with a RMSprop neural network, with 2 size-20 hidden layers, 0.2 dropout rate, 0.01 L2 regularisation parameter, batch size of 16. The result is still the same, having 99.00% training and validation accuracy, and the loss converging to a very small value."
      ],
      "metadata": {
        "id": "4wrQYi0blpaL"
      }
    },
    {
      "cell_type": "markdown",
      "source": [
        "## 3) Adam"
      ],
      "metadata": {
        "id": "GNr2WBlyluBI"
      }
    },
    {
      "cell_type": "markdown",
      "source": [
        "I tried with an Adam neural network, with a same setting as the RMSprop one, having a 0.9 beta 1, 0.999 beta 2, and 1e-07 epsilon. The result is not the same, but very similar, having 98.99% training accuracy, 99.00% validation accuracy."
      ],
      "metadata": {
        "id": "HAgOynR7lwc1"
      }
    },
    {
      "cell_type": "code",
      "source": [
        "num_units = 20\n",
        "\n",
        "reg_param = 0.01\n",
        "regularizer = tf.keras.regularizers.l2(reg_param)\n",
        "\n",
        "model = tf.keras.models.Sequential([\n",
        "    tf.keras.layers.Dropout(rate=0.2),\n",
        "    tf.keras.layers.Dense(num_units, activation=\"relu\", kernel_regularizer=regularizer),\n",
        "    tf.keras.layers.Dropout(rate=0.2),\n",
        "    tf.keras.layers.Dense(num_units, activation=\"relu\", kernel_regularizer=regularizer),\n",
        "    tf.keras.layers.Dropout(rate=0.2),\n",
        "    tf.keras.layers.Dense(1, activation=\"sigmoid\", kernel_regularizer=regularizer)\n",
        "])\n",
        "\n",
        "model.compile(loss=\"binary_crossentropy\",\n",
        "              optimizer=tf.keras.optimizers.Adam(learning_rate=0.001, beta_1=0.9, beta_2=0.999, epsilon=1e-07),\n",
        "              metrics=[\"accuracy\"])\n",
        "\n",
        "log1Adam = model.fit(X_train, y_train, epochs=10, batch_size=16,\n",
        "                    validation_data=(X_val, y_val))"
      ],
      "metadata": {
        "colab": {
          "base_uri": "https://localhost:8080/"
        },
        "id": "lx2QBzwTlqMr",
        "outputId": "3cdb4c2e-2295-45e5-c249-1aea7748b966"
      },
      "execution_count": 49,
      "outputs": [
        {
          "output_type": "stream",
          "name": "stdout",
          "text": [
            "Epoch 1/10\n",
            "433/433 [==============================] - 2s 3ms/step - loss: 13.8192 - accuracy: 0.9295 - val_loss: 7.3495 - val_accuracy: 0.9900\n",
            "Epoch 2/10\n",
            "433/433 [==============================] - 1s 2ms/step - loss: 5.1478 - accuracy: 0.9733 - val_loss: 3.9275 - val_accuracy: 0.9900\n",
            "Epoch 3/10\n",
            "433/433 [==============================] - 1s 2ms/step - loss: 2.6844 - accuracy: 0.9750 - val_loss: 2.2672 - val_accuracy: 0.9900\n",
            "Epoch 4/10\n",
            "433/433 [==============================] - 1s 2ms/step - loss: 1.8396 - accuracy: 0.9780 - val_loss: 0.7432 - val_accuracy: 0.9900\n",
            "Epoch 5/10\n",
            "433/433 [==============================] - 1s 2ms/step - loss: 1.0467 - accuracy: 0.9789 - val_loss: 0.6304 - val_accuracy: 0.9900\n",
            "Epoch 6/10\n",
            "433/433 [==============================] - 1s 2ms/step - loss: 0.6199 - accuracy: 0.9809 - val_loss: 0.3853 - val_accuracy: 0.9900\n",
            "Epoch 7/10\n",
            "433/433 [==============================] - 1s 3ms/step - loss: 0.4838 - accuracy: 0.9855 - val_loss: 0.2388 - val_accuracy: 0.9900\n",
            "Epoch 8/10\n",
            "433/433 [==============================] - 1s 3ms/step - loss: 0.3589 - accuracy: 0.9861 - val_loss: 0.1906 - val_accuracy: 0.9900\n",
            "Epoch 9/10\n",
            "433/433 [==============================] - 1s 3ms/step - loss: 0.2649 - accuracy: 0.9896 - val_loss: 0.1950 - val_accuracy: 0.9900\n",
            "Epoch 10/10\n",
            "433/433 [==============================] - 1s 2ms/step - loss: 0.2458 - accuracy: 0.9893 - val_loss: 0.1859 - val_accuracy: 0.9900\n"
          ]
        }
      ]
    },
    {
      "cell_type": "markdown",
      "source": [
        "As all 3 models have the same result, I then use Adam for hyperparameter tuning."
      ],
      "metadata": {
        "id": "wBN_5Pgnl4vC"
      }
    },
    {
      "cell_type": "code",
      "source": [
        "rm -rf ./logs/kt_tutorial_2"
      ],
      "metadata": {
        "id": "kkWhm_WBl31E"
      },
      "execution_count": 50,
      "outputs": []
    },
    {
      "cell_type": "code",
      "source": [
        "def train_model(hp):    \n",
        "    num_units = hp.Int('num_units', min_value = 8, max_value = 128) \n",
        "    dropout_rate = hp.Float('dropout_rate', min_value = 0.1, max_value = 0.3)\n",
        "    learning_rate = hp.Float('learning_rate', min_value = 0.0001, max_value = 0.1, sampling='log')\n",
        "\n",
        "    reg_param = hp.Choice(\"reg_param\", [0.1, 0.01, 0.001, 0.0001])\n",
        "    regularizer = tf.keras.regularizers.l2(reg_param)\n",
        "\n",
        "    model = tf.keras.models.Sequential([\n",
        "        tf.keras.layers.Dropout(dropout_rate),\n",
        "        tf.keras.layers.Dense(num_units, activation=\"relu\", kernel_regularizer=regularizer),\n",
        "        tf.keras.layers.Dropout(dropout_rate),\n",
        "        tf.keras.layers.Dense(num_units, activation=\"relu\", kernel_regularizer=regularizer),\n",
        "        tf.keras.layers.Dense(1, activation=\"sigmoid\")])\n",
        "    \n",
        "    model.compile(  optimizer=tf.keras.optimizers.experimental.Adam(learning_rate = learning_rate,\n",
        "                                                                    beta_1 = 0.9, beta_2 = 0.999,\n",
        "                                                                    epsilon = 1e-07),\n",
        "                    loss='binary_crossentropy',\n",
        "                    metrics = [\"accuracy\"])\n",
        "    \n",
        "    return model"
      ],
      "metadata": {
        "id": "FI7Ry-Mlommn"
      },
      "execution_count": 51,
      "outputs": []
    },
    {
      "cell_type": "code",
      "source": [
        "tuner = kt.Hyperband(train_model,\n",
        "                     objective='val_accuracy',\n",
        "                     max_epochs=5,\n",
        "                     factor=3,\n",
        "                     directory='logs',\n",
        "                     project_name='kt_tutorial_2')\n",
        "tuner.search(X_train, y_train, validation_data=(X_val,y_val))"
      ],
      "metadata": {
        "colab": {
          "base_uri": "https://localhost:8080/"
        },
        "id": "0NsAnIWeoo6k",
        "outputId": "7cdeb044-04fa-404f-ac45-5c7715a7af86"
      },
      "execution_count": 52,
      "outputs": [
        {
          "output_type": "stream",
          "name": "stdout",
          "text": [
            "Trial 10 Complete [00h 00m 06s]\n",
            "val_accuracy: 0.9900259971618652\n",
            "\n",
            "Best val_accuracy So Far: 0.9900259971618652\n",
            "Total elapsed time: 00h 00m 37s\n"
          ]
        }
      ]
    },
    {
      "cell_type": "code",
      "source": [
        "best_hps = tuner.get_best_hyperparameters()[0]\n",
        "print(\"Best number of hidden units:\", best_hps['num_units'])\n",
        "print(\"Best dropout rate:\", best_hps['dropout_rate'])\n",
        "print(\"Best learning rate:\", best_hps['learning_rate'])\n",
        "print(\"Best L2 reg parameter:\", best_hps['reg_param'])\n",
        "\n",
        "\n",
        "best_model = tuner.hypermodel.build(best_hps)\n",
        "early_stopping_cb = tf.keras.callbacks.EarlyStopping(patience=5, restore_best_weights=True)\n",
        "\n",
        "log = best_model.fit(X_train, y_train,\n",
        "               epochs=30,\n",
        "               validation_data=(X_test,y_test),\n",
        "               callbacks=[early_stopping_cb])"
      ],
      "metadata": {
        "colab": {
          "base_uri": "https://localhost:8080/"
        },
        "id": "2q4c4IVGorRt",
        "outputId": "065421af-6f56-4517-8d95-79e7aa354d05"
      },
      "execution_count": 53,
      "outputs": [
        {
          "output_type": "stream",
          "name": "stdout",
          "text": [
            "Best number of hidden units: 42\n",
            "Best dropout rate: 0.1400688086537003\n",
            "Best learning rate: 0.0004827637265189225\n",
            "Best L2 reg parameter: 0.001\n",
            "Epoch 1/30\n",
            "217/217 [==============================] - 2s 4ms/step - loss: 2.4870 - accuracy: 0.9579 - val_loss: 0.5984 - val_accuracy: 0.9900\n",
            "Epoch 2/30\n",
            "217/217 [==============================] - 1s 3ms/step - loss: 0.8579 - accuracy: 0.9790 - val_loss: 7.5491 - val_accuracy: 0.7298\n",
            "Epoch 3/30\n",
            "217/217 [==============================] - 1s 3ms/step - loss: 0.8982 - accuracy: 0.9815 - val_loss: 0.4343 - val_accuracy: 0.9900\n",
            "Epoch 4/30\n",
            "217/217 [==============================] - 1s 3ms/step - loss: 0.8162 - accuracy: 0.9828 - val_loss: 0.2415 - val_accuracy: 0.9900\n",
            "Epoch 5/30\n",
            "217/217 [==============================] - 1s 3ms/step - loss: 0.5794 - accuracy: 0.9796 - val_loss: 0.3552 - val_accuracy: 0.9900\n",
            "Epoch 6/30\n",
            "217/217 [==============================] - 1s 2ms/step - loss: 0.6506 - accuracy: 0.9812 - val_loss: 0.2787 - val_accuracy: 0.9900\n",
            "Epoch 7/30\n",
            "217/217 [==============================] - 1s 2ms/step - loss: 0.7542 - accuracy: 0.9808 - val_loss: 0.4734 - val_accuracy: 0.9900\n",
            "Epoch 8/30\n",
            "217/217 [==============================] - 1s 2ms/step - loss: 0.6020 - accuracy: 0.9831 - val_loss: 0.1687 - val_accuracy: 0.9900\n",
            "Epoch 9/30\n",
            "217/217 [==============================] - 0s 2ms/step - loss: 0.3642 - accuracy: 0.9814 - val_loss: 0.1555 - val_accuracy: 0.9900\n",
            "Epoch 10/30\n",
            "217/217 [==============================] - 1s 2ms/step - loss: 0.3591 - accuracy: 0.9841 - val_loss: 0.2725 - val_accuracy: 0.9900\n",
            "Epoch 11/30\n",
            "217/217 [==============================] - 0s 2ms/step - loss: 0.4953 - accuracy: 0.9828 - val_loss: 0.3762 - val_accuracy: 0.9900\n",
            "Epoch 12/30\n",
            "217/217 [==============================] - 0s 2ms/step - loss: 0.3425 - accuracy: 0.9835 - val_loss: 0.1404 - val_accuracy: 0.9900\n",
            "Epoch 13/30\n",
            "217/217 [==============================] - 0s 2ms/step - loss: 0.5333 - accuracy: 0.9828 - val_loss: 0.4023 - val_accuracy: 0.9900\n",
            "Epoch 14/30\n",
            "217/217 [==============================] - 1s 2ms/step - loss: 0.2716 - accuracy: 0.9845 - val_loss: 0.2268 - val_accuracy: 0.9900\n",
            "Epoch 15/30\n",
            "217/217 [==============================] - 1s 2ms/step - loss: 0.3159 - accuracy: 0.9844 - val_loss: 0.1126 - val_accuracy: 0.9900\n",
            "Epoch 16/30\n",
            "217/217 [==============================] - 1s 2ms/step - loss: 0.3688 - accuracy: 0.9805 - val_loss: 0.2734 - val_accuracy: 0.9900\n",
            "Epoch 17/30\n",
            "217/217 [==============================] - 0s 2ms/step - loss: 0.2900 - accuracy: 0.9840 - val_loss: 0.1248 - val_accuracy: 0.9900\n",
            "Epoch 18/30\n",
            "217/217 [==============================] - 0s 2ms/step - loss: 0.3516 - accuracy: 0.9847 - val_loss: 0.1186 - val_accuracy: 0.9900\n",
            "Epoch 19/30\n",
            "217/217 [==============================] - 1s 2ms/step - loss: 0.3311 - accuracy: 0.9855 - val_loss: 0.5882 - val_accuracy: 0.9900\n",
            "Epoch 20/30\n",
            "217/217 [==============================] - 1s 3ms/step - loss: 0.3226 - accuracy: 0.9837 - val_loss: 0.1039 - val_accuracy: 0.9900\n",
            "Epoch 21/30\n",
            "217/217 [==============================] - 1s 3ms/step - loss: 0.3086 - accuracy: 0.9837 - val_loss: 0.1364 - val_accuracy: 0.9900\n",
            "Epoch 22/30\n",
            "217/217 [==============================] - 1s 2ms/step - loss: 0.1764 - accuracy: 0.9861 - val_loss: 0.1068 - val_accuracy: 0.9900\n",
            "Epoch 23/30\n",
            "217/217 [==============================] - 0s 2ms/step - loss: 0.2290 - accuracy: 0.9851 - val_loss: 0.1291 - val_accuracy: 0.9900\n",
            "Epoch 24/30\n",
            "217/217 [==============================] - 0s 2ms/step - loss: 0.1979 - accuracy: 0.9857 - val_loss: 0.1004 - val_accuracy: 0.9900\n",
            "Epoch 25/30\n",
            "217/217 [==============================] - 1s 3ms/step - loss: 0.1728 - accuracy: 0.9845 - val_loss: 0.1518 - val_accuracy: 0.9900\n",
            "Epoch 26/30\n",
            "217/217 [==============================] - 1s 3ms/step - loss: 0.2049 - accuracy: 0.9861 - val_loss: 0.1160 - val_accuracy: 0.9900\n",
            "Epoch 27/30\n",
            "217/217 [==============================] - 1s 3ms/step - loss: 0.2722 - accuracy: 0.9855 - val_loss: 0.1001 - val_accuracy: 0.9900\n",
            "Epoch 28/30\n",
            "217/217 [==============================] - 1s 3ms/step - loss: 0.2084 - accuracy: 0.9851 - val_loss: 0.1214 - val_accuracy: 0.9900\n",
            "Epoch 29/30\n",
            "217/217 [==============================] - 1s 3ms/step - loss: 0.1973 - accuracy: 0.9874 - val_loss: 0.0988 - val_accuracy: 0.9900\n",
            "Epoch 30/30\n",
            "217/217 [==============================] - 1s 3ms/step - loss: 0.1479 - accuracy: 0.9855 - val_loss: 0.0971 - val_accuracy: 0.9900\n"
          ]
        }
      ]
    },
    {
      "cell_type": "markdown",
      "source": [
        "## 4.3 Find optimal threshold for classification"
      ],
      "metadata": {
        "id": "eGYSVHzJou5-"
      }
    },
    {
      "cell_type": "code",
      "source": [
        "load_model = tf.keras.models.load_model('Neural Network_final_model.h5')\n",
        "\n",
        "log = load_model.fit(X_train, y_train,\n",
        "               epochs=30,\n",
        "               validation_data=(X_val,y_val),\n",
        "               callbacks=[early_stopping_cb])"
      ],
      "metadata": {
        "colab": {
          "base_uri": "https://localhost:8080/"
        },
        "id": "Q5N6LxT_owV2",
        "outputId": "8834cf23-5e66-44ce-ba95-22f9073d7d6f"
      },
      "execution_count": 55,
      "outputs": [
        {
          "output_type": "stream",
          "name": "stdout",
          "text": [
            "Epoch 1/30\n",
            "217/217 [==============================] - 1s 3ms/step - loss: 1.0369 - accuracy: 0.9840 - val_loss: 1.0152 - val_accuracy: 0.9900\n",
            "Epoch 2/30\n",
            "217/217 [==============================] - 0s 2ms/step - loss: 0.9996 - accuracy: 0.9855 - val_loss: 0.8816 - val_accuracy: 0.9900\n",
            "Epoch 3/30\n",
            "217/217 [==============================] - 0s 2ms/step - loss: 1.0151 - accuracy: 0.9792 - val_loss: 0.9475 - val_accuracy: 0.9900\n",
            "Epoch 4/30\n",
            "217/217 [==============================] - 1s 3ms/step - loss: 0.9782 - accuracy: 0.9842 - val_loss: 0.7951 - val_accuracy: 0.9900\n",
            "Epoch 5/30\n",
            "217/217 [==============================] - 1s 2ms/step - loss: 0.9470 - accuracy: 0.9850 - val_loss: 1.1629 - val_accuracy: 0.9900\n",
            "Epoch 6/30\n",
            "217/217 [==============================] - 1s 2ms/step - loss: 0.9521 - accuracy: 0.9822 - val_loss: 0.8229 - val_accuracy: 0.9900\n",
            "Epoch 7/30\n",
            "217/217 [==============================] - 1s 2ms/step - loss: 0.8353 - accuracy: 0.9850 - val_loss: 0.8254 - val_accuracy: 0.9900\n",
            "Epoch 8/30\n",
            "217/217 [==============================] - 1s 2ms/step - loss: 0.8354 - accuracy: 0.9840 - val_loss: 0.8186 - val_accuracy: 0.9900\n",
            "Epoch 9/30\n",
            "217/217 [==============================] - 1s 2ms/step - loss: 0.8697 - accuracy: 0.9842 - val_loss: 0.9007 - val_accuracy: 0.9900\n"
          ]
        }
      ]
    },
    {
      "cell_type": "code",
      "source": [
        "load_model.get_config()"
      ],
      "metadata": {
        "colab": {
          "base_uri": "https://localhost:8080/"
        },
        "id": "jhzlMsjMo0Q-",
        "outputId": "616a8072-bd3f-4b2a-c36b-d6d6640ed853"
      },
      "execution_count": 56,
      "outputs": [
        {
          "output_type": "execute_result",
          "data": {
            "text/plain": [
              "{'name': 'sequential_1',\n",
              " 'layers': [{'class_name': 'InputLayer',\n",
              "   'config': {'batch_input_shape': (None, 71),\n",
              "    'dtype': 'float32',\n",
              "    'sparse': False,\n",
              "    'ragged': False,\n",
              "    'name': 'dropout_2_input'}},\n",
              "  {'class_name': 'Dropout',\n",
              "   'config': {'name': 'dropout_2',\n",
              "    'trainable': True,\n",
              "    'dtype': 'float32',\n",
              "    'rate': 0.1647608817858867,\n",
              "    'noise_shape': None,\n",
              "    'seed': None}},\n",
              "  {'class_name': 'Dense',\n",
              "   'config': {'name': 'dense_3',\n",
              "    'trainable': True,\n",
              "    'dtype': 'float32',\n",
              "    'units': 28,\n",
              "    'activation': 'relu',\n",
              "    'use_bias': True,\n",
              "    'kernel_initializer': {'class_name': 'GlorotUniform',\n",
              "     'config': {'seed': None}},\n",
              "    'bias_initializer': {'class_name': 'Zeros', 'config': {}},\n",
              "    'kernel_regularizer': {'class_name': 'L2',\n",
              "     'config': {'l2': 0.10000000149011612}},\n",
              "    'bias_regularizer': None,\n",
              "    'activity_regularizer': None,\n",
              "    'kernel_constraint': None,\n",
              "    'bias_constraint': None}},\n",
              "  {'class_name': 'Dropout',\n",
              "   'config': {'name': 'dropout_3',\n",
              "    'trainable': True,\n",
              "    'dtype': 'float32',\n",
              "    'rate': 0.1647608817858867,\n",
              "    'noise_shape': None,\n",
              "    'seed': None}},\n",
              "  {'class_name': 'Dense',\n",
              "   'config': {'name': 'dense_4',\n",
              "    'trainable': True,\n",
              "    'dtype': 'float32',\n",
              "    'units': 28,\n",
              "    'activation': 'relu',\n",
              "    'use_bias': True,\n",
              "    'kernel_initializer': {'class_name': 'GlorotUniform',\n",
              "     'config': {'seed': None}},\n",
              "    'bias_initializer': {'class_name': 'Zeros', 'config': {}},\n",
              "    'kernel_regularizer': {'class_name': 'L2',\n",
              "     'config': {'l2': 0.10000000149011612}},\n",
              "    'bias_regularizer': None,\n",
              "    'activity_regularizer': None,\n",
              "    'kernel_constraint': None,\n",
              "    'bias_constraint': None}},\n",
              "  {'class_name': 'Dense',\n",
              "   'config': {'name': 'dense_5',\n",
              "    'trainable': True,\n",
              "    'dtype': 'float32',\n",
              "    'units': 1,\n",
              "    'activation': 'sigmoid',\n",
              "    'use_bias': True,\n",
              "    'kernel_initializer': {'class_name': 'GlorotUniform',\n",
              "     'config': {'seed': None}},\n",
              "    'bias_initializer': {'class_name': 'Zeros', 'config': {}},\n",
              "    'kernel_regularizer': None,\n",
              "    'bias_regularizer': None,\n",
              "    'activity_regularizer': None,\n",
              "    'kernel_constraint': None,\n",
              "    'bias_constraint': None}}]}"
            ]
          },
          "metadata": {},
          "execution_count": 56
        }
      ]
    },
    {
      "cell_type": "code",
      "source": [
        "threshold_list = np.arange(0, 0.4, 0.01)\n",
        "\n",
        "y_probs = load_model(X_test).numpy() \n",
        "d = [-1]\n",
        "h = [-1]\n",
        "\n",
        "for threshold in threshold_list:\n",
        "\n",
        "  y_preds = np.where(y_probs < threshold, 0, 1)\n",
        "  tn, fp, fn, tp = metrics.confusion_matrix(y_test, y_preds).ravel()\n",
        "\n",
        "  detectionRate = (tp+fp)/len(X_test)\n",
        "  hitRate = tp / (tp+fp)\n",
        "\n",
        "  d.append(detectionRate)\n",
        "  h.append(hitRate)\n",
        "\n",
        "d = d[1:]\n",
        "h = h[1:]\n",
        "\n",
        "len(d), len(h)"
      ],
      "metadata": {
        "colab": {
          "base_uri": "https://localhost:8080/"
        },
        "id": "z5309J98o2jQ",
        "outputId": "19c9c054-5132-419e-e31f-c49d97f285c7"
      },
      "execution_count": 57,
      "outputs": [
        {
          "output_type": "stream",
          "name": "stderr",
          "text": [
            "<ipython-input-57-62e3c34e1566>:13: RuntimeWarning: invalid value encountered in long_scalars\n",
            "  hitRate = tp / (tp+fp)\n",
            "<ipython-input-57-62e3c34e1566>:13: RuntimeWarning: invalid value encountered in long_scalars\n",
            "  hitRate = tp / (tp+fp)\n",
            "<ipython-input-57-62e3c34e1566>:13: RuntimeWarning: invalid value encountered in long_scalars\n",
            "  hitRate = tp / (tp+fp)\n",
            "<ipython-input-57-62e3c34e1566>:13: RuntimeWarning: invalid value encountered in long_scalars\n",
            "  hitRate = tp / (tp+fp)\n",
            "<ipython-input-57-62e3c34e1566>:13: RuntimeWarning: invalid value encountered in long_scalars\n",
            "  hitRate = tp / (tp+fp)\n",
            "<ipython-input-57-62e3c34e1566>:13: RuntimeWarning: invalid value encountered in long_scalars\n",
            "  hitRate = tp / (tp+fp)\n",
            "<ipython-input-57-62e3c34e1566>:13: RuntimeWarning: invalid value encountered in long_scalars\n",
            "  hitRate = tp / (tp+fp)\n",
            "<ipython-input-57-62e3c34e1566>:13: RuntimeWarning: invalid value encountered in long_scalars\n",
            "  hitRate = tp / (tp+fp)\n",
            "<ipython-input-57-62e3c34e1566>:13: RuntimeWarning: invalid value encountered in long_scalars\n",
            "  hitRate = tp / (tp+fp)\n",
            "<ipython-input-57-62e3c34e1566>:13: RuntimeWarning: invalid value encountered in long_scalars\n",
            "  hitRate = tp / (tp+fp)\n",
            "<ipython-input-57-62e3c34e1566>:13: RuntimeWarning: invalid value encountered in long_scalars\n",
            "  hitRate = tp / (tp+fp)\n",
            "<ipython-input-57-62e3c34e1566>:13: RuntimeWarning: invalid value encountered in long_scalars\n",
            "  hitRate = tp / (tp+fp)\n",
            "<ipython-input-57-62e3c34e1566>:13: RuntimeWarning: invalid value encountered in long_scalars\n",
            "  hitRate = tp / (tp+fp)\n",
            "<ipython-input-57-62e3c34e1566>:13: RuntimeWarning: invalid value encountered in long_scalars\n",
            "  hitRate = tp / (tp+fp)\n",
            "<ipython-input-57-62e3c34e1566>:13: RuntimeWarning: invalid value encountered in long_scalars\n",
            "  hitRate = tp / (tp+fp)\n",
            "<ipython-input-57-62e3c34e1566>:13: RuntimeWarning: invalid value encountered in long_scalars\n",
            "  hitRate = tp / (tp+fp)\n",
            "<ipython-input-57-62e3c34e1566>:13: RuntimeWarning: invalid value encountered in long_scalars\n",
            "  hitRate = tp / (tp+fp)\n",
            "<ipython-input-57-62e3c34e1566>:13: RuntimeWarning: invalid value encountered in long_scalars\n",
            "  hitRate = tp / (tp+fp)\n",
            "<ipython-input-57-62e3c34e1566>:13: RuntimeWarning: invalid value encountered in long_scalars\n",
            "  hitRate = tp / (tp+fp)\n",
            "<ipython-input-57-62e3c34e1566>:13: RuntimeWarning: invalid value encountered in long_scalars\n",
            "  hitRate = tp / (tp+fp)\n",
            "<ipython-input-57-62e3c34e1566>:13: RuntimeWarning: invalid value encountered in long_scalars\n",
            "  hitRate = tp / (tp+fp)\n",
            "<ipython-input-57-62e3c34e1566>:13: RuntimeWarning: invalid value encountered in long_scalars\n",
            "  hitRate = tp / (tp+fp)\n",
            "<ipython-input-57-62e3c34e1566>:13: RuntimeWarning: invalid value encountered in long_scalars\n",
            "  hitRate = tp / (tp+fp)\n",
            "<ipython-input-57-62e3c34e1566>:13: RuntimeWarning: invalid value encountered in long_scalars\n",
            "  hitRate = tp / (tp+fp)\n",
            "<ipython-input-57-62e3c34e1566>:13: RuntimeWarning: invalid value encountered in long_scalars\n",
            "  hitRate = tp / (tp+fp)\n",
            "<ipython-input-57-62e3c34e1566>:13: RuntimeWarning: invalid value encountered in long_scalars\n",
            "  hitRate = tp / (tp+fp)\n",
            "<ipython-input-57-62e3c34e1566>:13: RuntimeWarning: invalid value encountered in long_scalars\n",
            "  hitRate = tp / (tp+fp)\n",
            "<ipython-input-57-62e3c34e1566>:13: RuntimeWarning: invalid value encountered in long_scalars\n",
            "  hitRate = tp / (tp+fp)\n"
          ]
        },
        {
          "output_type": "execute_result",
          "data": {
            "text/plain": [
              "(40, 40)"
            ]
          },
          "metadata": {},
          "execution_count": 57
        }
      ]
    },
    {
      "cell_type": "code",
      "source": [
        "NNdh = pd.DataFrame(list(zip(threshold_list, d, h)), columns=['Threshold', 'Detection_rate', 'Hit_rate'])"
      ],
      "metadata": {
        "id": "onhalAuwo5Ie"
      },
      "execution_count": 58,
      "outputs": []
    },
    {
      "cell_type": "code",
      "source": [
        "NNdh.to_csv(\"NN_dh.csv\")"
      ],
      "metadata": {
        "id": "EQJ73c5to63o"
      },
      "execution_count": 59,
      "outputs": []
    },
    {
      "cell_type": "code",
      "source": [
        "plt.plot(NNdh.Threshold, NNdh.Detection_rate, label='Detection Rate')\n",
        "plt.plot(NNdh.Threshold, NNdh.Hit_rate, label='Hit Rate')\n",
        "plt.title(\"Detection Rate and Hit Rate at different threshold with Adam\")\n",
        "plt.xlabel(\"Threshold\")\n",
        "plt.ylabel(\"Detection/Hit Rate\")\n",
        "plt.legend()"
      ],
      "metadata": {
        "colab": {
          "base_uri": "https://localhost:8080/",
          "height": 313
        },
        "id": "8dZiEJi_o8SB",
        "outputId": "a2f2aecd-fa46-42c0-afa1-31bc41451776"
      },
      "execution_count": 60,
      "outputs": [
        {
          "output_type": "execute_result",
          "data": {
            "text/plain": [
              "<matplotlib.legend.Legend at 0x7ff88534ec70>"
            ]
          },
          "metadata": {},
          "execution_count": 60
        },
        {
          "output_type": "display_data",
          "data": {
            "text/plain": [
              "<Figure size 432x288 with 1 Axes>"
            ],
            "image/png": "[encoded data removed]"
          },
          "metadata": {
            "needs_background": "light"
          }
        }
      ]
    },
    {
      "cell_type": "markdown",
      "source": [
        "## 4.4 Loss part"
      ],
      "metadata": {
        "id": "YuYDSI_mpA2s"
      }
    },
    {
      "cell_type": "code",
      "source": [
        "plt.plot(log.history['loss'],label = \"training loss\",color='darkgreen')\n",
        "plt.plot(log.history['val_loss'], label = \"validation loss\",color='darkblue')\n",
        "plt.xlabel(\"Epoch\")\n",
        "plt.ylabel(\"Loss\")\n",
        "plt.title(\"Loss during Model Fitting\")\n",
        "plt.legend()\n",
        "plt.show()"
      ],
      "metadata": {
        "colab": {
          "base_uri": "https://localhost:8080/",
          "height": 295
        },
        "id": "Gyb3r7DApDvK",
        "outputId": "2d2f863a-959f-4f6c-ebd0-8e0cfaadc449"
      },
      "execution_count": 61,
      "outputs": [
        {
          "output_type": "display_data",
          "data": {
            "text/plain": [
              "<Figure size 432x288 with 1 Axes>"
            ],
            "image/png": "[encoded data removed]"
          },
          "metadata": {
            "needs_background": "light"
          }
        }
      ]
    },
    {
      "cell_type": "markdown",
      "source": [
        "# 5. Autoencoder"
      ],
      "metadata": {
        "id": "Znx8xB_sqGJY"
      }
    },
    {
      "cell_type": "code",
      "source": [
        "df = pd.read_csv(\"/content/drive/MyDrive/ADL /Clean data v3.csv\")"
      ],
      "metadata": {
        "id": "PCuRIHn2qH7U"
      },
      "execution_count": 62,
      "outputs": []
    },
    {
      "cell_type": "code",
      "source": [
        "df = df.drop(columns=['Unnamed: 0'])"
      ],
      "metadata": {
        "id": "gye-UQcPqXuO"
      },
      "execution_count": 63,
      "outputs": []
    },
    {
      "cell_type": "markdown",
      "source": [
        "## (a) Split data"
      ],
      "metadata": {
        "id": "2pEFCtbYqa3H"
      }
    },
    {
      "cell_type": "code",
      "source": [
        "dfC = df.copy()\n",
        "\n",
        "dfC1 = dfC[dfC.Fraud==1]\n",
        "dfC0 = dfC[dfC.Fraud==0]\n",
        "\n",
        "dfX1 = dfC1.drop(columns=[\"Fraud\"])\n",
        "dfY1 = dfC1[[\"Fraud\"]]\n",
        "\n",
        "dfX0 = dfC0.drop(columns=[\"Fraud\"])\n",
        "dfY0 = dfC0[[\"Fraud\"]]\n",
        "\n",
        "X1_test, X1_val, y1_test, y1_val = train_test_split(dfX1, dfY1, test_size=0.5, random_state=172) # test and validation with fraud\n",
        "\n",
        "X0_train, X0_test, y0_train, y0_test = train_test_split(dfX0, dfY0, test_size=0.4, random_state=172) # train and test no fraud\n",
        "X0_test, X0_val, y0_test, y0_val = train_test_split(X0_test, y0_test, test_size=0.5, random_state=172) # test and val no fraud\n",
        "\n",
        "X_train = X0_train\n",
        "X_val = X1_val.append(X0_val)\n",
        "X_test = X1_test.append(X0_test)\n",
        "\n",
        "X_val\n",
        "\n",
        "y_train = y0_train\n",
        "y_val = y1_val.append(y0_val)\n",
        "y_test = y1_test.append(y0_test)\n",
        "\n",
        "X_train = X_train.values\n",
        "X_val = X_val.values\n",
        "X_test = X_test.values\n",
        "\n",
        "y_train = y_train.values\n",
        "y_val = y_val.values\n",
        "y_test = y_test.values"
      ],
      "metadata": {
        "id": "1jnGqumoqZER"
      },
      "execution_count": 64,
      "outputs": []
    },
    {
      "cell_type": "markdown",
      "source": [
        "## (b) Create autoencoder"
      ],
      "metadata": {
        "id": "Vh6llHIfqtyO"
      }
    },
    {
      "cell_type": "code",
      "source": [
        "tf.keras.backend.clear_session()"
      ],
      "metadata": {
        "id": "JOOmegf5q2t0"
      },
      "execution_count": 65,
      "outputs": []
    },
    {
      "cell_type": "markdown",
      "source": [
        "### (1) scale data"
      ],
      "metadata": {
        "id": "QlgoO_yVM5uQ"
      }
    },
    {
      "cell_type": "code",
      "source": [
        "scaler = MinMaxScaler()\n",
        "X_train = scaler.fit_transform(X_train)\n",
        "X_test  = scaler.transform(X_test)\n",
        "X_val = scaler.transform(X_val)"
      ],
      "metadata": {
        "id": "y5rVtJVmM3-d"
      },
      "execution_count": 66,
      "outputs": []
    },
    {
      "cell_type": "markdown",
      "source": [
        "### (2) adjust value here"
      ],
      "metadata": {
        "id": "3JMVCMC4NAU6"
      }
    },
    {
      "cell_type": "code",
      "source": [
        "# adjust value here\n",
        "en1 = 71\n",
        "en2 = 40\n",
        "en3 = 10\n",
        "dn1 = 10\n",
        "dn2 = 40\n",
        "dn3 = 71\n",
        "\n",
        "# ModelCheckpoint to SAVE the best model\n",
        "checkpoint_cb = tf.keras.callbacks.ModelCheckpoint(\"model_Final.h5\", \n",
        "                                                   save_best_only=True) # save_best_only=True => to look at validation loss\n",
        "\n",
        "early_stopping_cb = tf.keras.callbacks.EarlyStopping(patience=5, restore_best_weights=True,monitor='val_loss')\n",
        "\n",
        "ep = 10\n",
        "bs = 32\n",
        "\n",
        "# reg_param = 0.01\n",
        "# regularizer = tf.keras.regularizers.l2(reg_param)\n",
        "\n",
        "# learningrate = 0.001\n",
        "# Adam_optimizer = tf.keras.optimizers.Adam(learning_rate=learningrate, beta_1=0.9, beta_2=0.999, epsilon=1e-07)"
      ],
      "metadata": {
        "id": "mBrllgwrNFjJ"
      },
      "execution_count": 67,
      "outputs": []
    },
    {
      "cell_type": "markdown",
      "source": [
        "### (3) build autoencoder"
      ],
      "metadata": {
        "id": "OMCT-IqxNHrL"
      }
    },
    {
      "cell_type": "code",
      "source": [
        "# encoder\n",
        "encoder = tf.keras.Sequential([\n",
        "    tf.keras.layers.Dense(en1, activation=\"tanh\"),\n",
        "    tf.keras.layers.Dense(en2, activation=\"relu\"),\n",
        "    tf.keras.layers.Dense(en3, activation=\"relu\")])\n",
        "\n",
        "# decoder\n",
        "decoder = tf.keras.Sequential([\n",
        "    tf.keras.layers.Dense(dn1, activation=\"relu\"),\n",
        "    tf.keras.layers.Dense(dn2, activation=\"relu\"),\n",
        "    tf.keras.layers.Dense(dn3, activation=\"tanh\")])\n",
        "\n",
        "autoencoder = tf.keras.Sequential([encoder,decoder])"
      ],
      "metadata": {
        "id": "Owz20PTYNNrW"
      },
      "execution_count": 68,
      "outputs": []
    },
    {
      "cell_type": "code",
      "source": [
        "autoencoder.compile(optimizer=\"adam\",\n",
        "                    loss='mean_squared_error')"
      ],
      "metadata": {
        "id": "gh9JSAbZNOPC"
      },
      "execution_count": 69,
      "outputs": []
    },
    {
      "cell_type": "code",
      "source": [
        "history = autoencoder.fit(x=X_train, y=X_train,\n",
        "                epochs=ep,batch_size=bs,\n",
        "                validation_data=(X_val, X_val),\n",
        "                callbacks=[early_stopping_cb,checkpoint_cb]).history"
      ],
      "metadata": {
        "colab": {
          "base_uri": "https://localhost:8080/"
        },
        "id": "iB4M4URzNPjU",
        "outputId": "5925389d-9ae3-46c9-f32a-c63050401d73"
      },
      "execution_count": 70,
      "outputs": [
        {
          "output_type": "stream",
          "name": "stdout",
          "text": [
            "Epoch 1/10\n",
            "215/215 [==============================] - 2s 3ms/step - loss: 0.0522 - val_loss: 0.0353\n",
            "Epoch 2/10\n",
            "215/215 [==============================] - 1s 3ms/step - loss: 0.0312 - val_loss: 0.0299\n",
            "Epoch 3/10\n",
            "215/215 [==============================] - 1s 3ms/step - loss: 0.0275 - val_loss: 0.0272\n",
            "Epoch 4/10\n",
            "215/215 [==============================] - 1s 3ms/step - loss: 0.0253 - val_loss: 0.0253\n",
            "Epoch 5/10\n",
            "215/215 [==============================] - 1s 3ms/step - loss: 0.0238 - val_loss: 0.0240\n",
            "Epoch 6/10\n",
            "215/215 [==============================] - 1s 4ms/step - loss: 0.0228 - val_loss: 0.0233\n",
            "Epoch 7/10\n",
            "215/215 [==============================] - 1s 3ms/step - loss: 0.0221 - val_loss: 0.0224\n",
            "Epoch 8/10\n",
            "215/215 [==============================] - 0s 2ms/step - loss: 0.0215 - val_loss: 0.0221\n",
            "Epoch 9/10\n",
            "215/215 [==============================] - 1s 2ms/step - loss: 0.0210 - val_loss: 0.0220\n",
            "Epoch 10/10\n",
            "215/215 [==============================] - 0s 2ms/step - loss: 0.0206 - val_loss: 0.0210\n"
          ]
        }
      ]
    },
    {
      "cell_type": "markdown",
      "source": [
        "### (4) training loss vs validation loss"
      ],
      "metadata": {
        "id": "qo2fm5rUNXr-"
      }
    },
    {
      "cell_type": "code",
      "source": [
        "# visualization\n",
        "plt.plot(history['loss'],label = \"training loss\")\n",
        "plt.plot(history['val_loss'], label = \"validation loss\")\n",
        "plt.xlabel('Epoch')\n",
        "plt.ylabel('Loss')\n",
        "plt.legend()\n",
        "plt.show()"
      ],
      "metadata": {
        "colab": {
          "base_uri": "https://localhost:8080/",
          "height": 279
        },
        "id": "TVusRabUNgNS",
        "outputId": "e0970281-a942-4b48-d894-3bd5327d6af9"
      },
      "execution_count": 71,
      "outputs": [
        {
          "output_type": "display_data",
          "data": {
            "text/plain": [
              "<Figure size 432x288 with 1 Axes>"
            ],
            "image/png": "[encoded data removed]"
          },
          "metadata": {
            "needs_background": "light"
          }
        }
      ]
    },
    {
      "cell_type": "code",
      "source": [
        "autoencoder.summary()"
      ],
      "metadata": {
        "colab": {
          "base_uri": "https://localhost:8080/"
        },
        "id": "Xe9LPIpqYSS_",
        "outputId": "1405c277-c0b8-4d7a-af13-759fa4452c64"
      },
      "execution_count": 72,
      "outputs": [
        {
          "output_type": "stream",
          "name": "stdout",
          "text": [
            "Model: \"sequential_2\"\n",
            "_________________________________________________________________\n",
            " Layer (type)                Output Shape              Param #   \n",
            "=================================================================\n",
            " sequential (Sequential)     (None, 10)                8402      \n",
            "                                                                 \n",
            " sequential_1 (Sequential)   (None, 71)                3461      \n",
            "                                                                 \n",
            "=================================================================\n",
            "Total params: 11,863\n",
            "Trainable params: 11,863\n",
            "Non-trainable params: 0\n",
            "_________________________________________________________________\n"
          ]
        }
      ]
    },
    {
      "cell_type": "markdown",
      "source": [
        "### (5) load model"
      ],
      "metadata": {
        "id": "QPfHTn0YNSha"
      }
    },
    {
      "cell_type": "code",
      "source": [
        "autoencoder = tf.keras.models.load_model('model_Final.h5')"
      ],
      "metadata": {
        "id": "WMsmeI1RNQ6o"
      },
      "execution_count": 73,
      "outputs": []
    },
    {
      "cell_type": "markdown",
      "source": [
        "## (c) Errors between prediction and true data (histogram)"
      ],
      "metadata": {
        "id": "h01aqFvHNomm"
      }
    },
    {
      "cell_type": "code",
      "source": [
        "# make predictions on test set\n",
        "predictions = autoencoder.predict(X_val)\n",
        "\n",
        "# compute reconstruction errors\n",
        "mse = np.mean(np.power(X_val - predictions, 2), axis=1)\n",
        "\n",
        "yv = y_val[0:, 0]\n",
        "hist = pd.DataFrame({\"mse\":mse,\"y_valid\":yv})\n",
        "\n",
        "fraud = hist[hist[\"y_valid\"]==1]\n",
        "nonfraud = hist[hist[\"y_valid\"]==0]\n",
        "\n",
        "# plot histogram of errors for each type of claim\n",
        "plt.hist(nonfraud.mse, bins=50, alpha=0.5, label='Non-fraudulent', density=True)\n",
        "plt.hist(fraud.mse, bins=50, alpha=0.5, label='Fraudulent',density=True)\n",
        "plt.legend(loc='upper right')\n",
        "plt.xlabel('Reconstruction error')\n",
        "plt.ylabel('Density')\n",
        "plt.show()"
      ],
      "metadata": {
        "colab": {
          "base_uri": "https://localhost:8080/",
          "height": 297
        },
        "id": "CjosyqJaNWIg",
        "outputId": "fa10a670-8f86-448f-c432-9e74f6b9a628"
      },
      "execution_count": 74,
      "outputs": [
        {
          "output_type": "stream",
          "name": "stdout",
          "text": [
            "74/74 [==============================] - 0s 1ms/step\n"
          ]
        },
        {
          "output_type": "display_data",
          "data": {
            "text/plain": [
              "<Figure size 432x288 with 1 Axes>"
            ],
            "image/png": "[encoded data removed]"
          },
          "metadata": {
            "needs_background": "light"
          }
        }
      ]
    },
    {
      "cell_type": "markdown",
      "source": [
        "## (d) Make predictions"
      ],
      "metadata": {
        "id": "wZ_l4epANrxq"
      }
    },
    {
      "cell_type": "code",
      "source": [
        "# use X test to predict\n",
        "\n",
        "predictions = autoencoder.predict(X_test)\n",
        "\n",
        "mse = np.mean(np.power(X_test - predictions, 2), axis=1)\n",
        "\n",
        "y_test = y_test.reshape(-1)\n",
        "\n",
        "df_error = pd.DataFrame({'reconstruction_error': mse, 'True_class': y_test})"
      ],
      "metadata": {
        "colab": {
          "base_uri": "https://localhost:8080/"
        },
        "id": "5I2eEeo0Nvdm",
        "outputId": "f1c6e145-6c0b-4b6e-98ec-b64f06b18972"
      },
      "execution_count": 75,
      "outputs": [
        {
          "output_type": "stream",
          "name": "stdout",
          "text": [
            "74/74 [==============================] - 0s 1ms/step\n"
          ]
        }
      ]
    },
    {
      "cell_type": "code",
      "source": [
        "# for loop\n",
        "threshold_list, detection_rate_list, hit_rate_list = [], [], []\n",
        "for t in df_error.reconstruction_error:\n",
        "  y_pred = [1 if e > t else 0 for e in mse]\n",
        "  conf_matrix = confusion_matrix(y_test, y_pred)\n",
        "  tp = conf_matrix[1,1]\n",
        "  fp = conf_matrix[0,1]\n",
        "  tn = conf_matrix[0,0]\n",
        "  fn = conf_matrix[1,0]\n",
        "\n",
        "  Detection_Rate = (tp + fp)  / (tp+fp+tn+fn)\n",
        "  Hit_Rate = tp / (tp + fp)\n",
        "  \n",
        "  threshold_list.append(t)\n",
        "  detection_rate_list.append(Detection_Rate)\n",
        "  hit_rate_list.append(Hit_Rate)\n",
        "\n",
        "final = pd.DataFrame({\"Threshold\": threshold_list, \"Detection_rate\": detection_rate_list, \"Hit_rate\": hit_rate_list})"
      ],
      "metadata": {
        "colab": {
          "base_uri": "https://localhost:8080/"
        },
        "id": "--xBR5IeNw8J",
        "outputId": "4c10dcb0-91c7-44c4-88c4-92eb56284343"
      },
      "execution_count": 76,
      "outputs": [
        {
          "output_type": "stream",
          "name": "stderr",
          "text": [
            "<ipython-input-76-bc9211b4cae9>:12: RuntimeWarning: invalid value encountered in long_scalars\n",
            "  Hit_Rate = tp / (tp + fp)\n"
          ]
        }
      ]
    },
    {
      "cell_type": "markdown",
      "source": [
        "## (e) Set threshold"
      ],
      "metadata": {
        "id": "vqPbui_AN0w4"
      }
    },
    {
      "cell_type": "markdown",
      "source": [
        "we set the threshold at 0.036"
      ],
      "metadata": {
        "id": "pYFNUkP9N313"
      }
    },
    {
      "cell_type": "code",
      "source": [
        "# plot histogram of errors for each type of claim\n",
        "plt.hist(nonfraud.mse, bins=50, alpha=0.5, label='Non-fraudulent', density=True)\n",
        "plt.hist(fraud.mse, bins=50, alpha=0.5, label='Fraudulent',density=True)\n",
        "plt.axvline(x=0.036, color='r', linestyle = '--') # vertical\n",
        "plt.legend(loc='upper right')\n",
        "plt.xlabel('Reconstruction error')\n",
        "plt.ylabel('Density')\n",
        "plt.show()"
      ],
      "metadata": {
        "colab": {
          "base_uri": "https://localhost:8080/",
          "height": 279
        },
        "id": "3rF3qUENN2Vc",
        "outputId": "c259b6e6-f100-4620-af21-598874ac99c0"
      },
      "execution_count": 77,
      "outputs": [
        {
          "output_type": "display_data",
          "data": {
            "text/plain": [
              "<Figure size 432x288 with 1 Axes>"
            ],
            "image/png": "[encoded data removed]"
          },
          "metadata": {
            "needs_background": "light"
          }
        }
      ]
    },
    {
      "cell_type": "code",
      "source": [
        "f = final.copy()\n",
        "\n",
        "f[\"Threshold\"] = round(f.Threshold,3)\n",
        "f[\"Detection_rate\"] = round(f.Detection_rate,3)\n",
        "f[\"Hit_rate\"] = round(f.Hit_rate,3)"
      ],
      "metadata": {
        "id": "Gh1eYfKYOD5F"
      },
      "execution_count": 78,
      "outputs": []
    },
    {
      "cell_type": "code",
      "source": [
        "f1 = f[f[\"Threshold\"]==0.036]\n",
        "hmax = f1.Hit_rate.max()"
      ],
      "metadata": {
        "id": "xc56iPHyOKf2"
      },
      "execution_count": 79,
      "outputs": []
    },
    {
      "cell_type": "code",
      "source": [
        "r = f1[f1[\"Hit_rate\"]==hmax]"
      ],
      "metadata": {
        "id": "hsUDZhYdOMET"
      },
      "execution_count": 80,
      "outputs": []
    },
    {
      "cell_type": "code",
      "source": [
        "v = r.values"
      ],
      "metadata": {
        "id": "agCF-1ejaTG1"
      },
      "execution_count": 81,
      "outputs": []
    },
    {
      "cell_type": "code",
      "source": [
        "d = v[0][1]"
      ],
      "metadata": {
        "id": "uTcmbeyha_Gp"
      },
      "execution_count": 82,
      "outputs": []
    },
    {
      "cell_type": "code",
      "source": [
        "print(\"threshold:\",0.036, \"Hit Rate:\",round((f1.Hit_rate.max())*100,2),\"%\", \"Detection Rate:\",round((d*100),3),\"%\")"
      ],
      "metadata": {
        "colab": {
          "base_uri": "https://localhost:8080/"
        },
        "id": "iEYg0uNWOPNp",
        "outputId": "e3a11977-37f8-465f-9297-ba8d3b6ac790"
      },
      "execution_count": 83,
      "outputs": [
        {
          "output_type": "stream",
          "name": "stdout",
          "text": [
            "threshold: 0.036 Hit Rate: 6.8 % Detection Rate: 17.1 %\n"
          ]
        }
      ]
    },
    {
      "cell_type": "markdown",
      "source": [
        "### Some Viz"
      ],
      "metadata": {
        "id": "_rLD3iMWORTS"
      }
    },
    {
      "cell_type": "markdown",
      "source": [
        "#### (1) Detection Rate vs Threshold"
      ],
      "metadata": {
        "id": "Gs0uDR8WOYUq"
      }
    },
    {
      "cell_type": "code",
      "source": [
        "D = sns.lineplot(threshold_list, detection_rate_list, label='Detection Rate')\n",
        "D.set_xlabel(\"Threshold\", fontsize = 12)\n",
        "D.set_ylabel(\"Detection Rate\", fontsize = 12)"
      ],
      "metadata": {
        "colab": {
          "base_uri": "https://localhost:8080/",
          "height": 356
        },
        "id": "V1VCppUROcEB",
        "outputId": "297fec6e-d6dd-42e1-b4e8-d0f0fa64033c"
      },
      "execution_count": 84,
      "outputs": [
        {
          "output_type": "stream",
          "name": "stderr",
          "text": [
            "/usr/local/lib/python3.8/dist-packages/seaborn/_decorators.py:36: FutureWarning: Pass the following variables as keyword args: x, y. From version 0.12, the only valid positional argument will be `data`, and passing other arguments without an explicit keyword will result in an error or misinterpretation.\n",
            "  warnings.warn(\n"
          ]
        },
        {
          "output_type": "execute_result",
          "data": {
            "text/plain": [
              "Text(0, 0.5, 'Detection Rate')"
            ]
          },
          "metadata": {},
          "execution_count": 84
        },
        {
          "output_type": "display_data",
          "data": {
            "text/plain": [
              "<Figure size 432x288 with 1 Axes>"
            ],
            "image/png": "[encoded data removed]"
          },
          "metadata": {
            "needs_background": "light"
          }
        }
      ]
    },
    {
      "cell_type": "markdown",
      "source": [
        "#### (2) Hit Rate vs Threshold"
      ],
      "metadata": {
        "id": "4Y-S4c-LOeOs"
      }
    },
    {
      "cell_type": "code",
      "source": [
        "h = sns.lineplot(threshold_list, hit_rate_list, label='Hit Rate')\n",
        "h.set_xlabel(\"Threshold\", fontsize = 12)\n",
        "h.set_ylabel(\"HIT Rate\", fontsize = 12)"
      ],
      "metadata": {
        "colab": {
          "base_uri": "https://localhost:8080/",
          "height": 356
        },
        "id": "m87R6XCjOhc1",
        "outputId": "ae620570-90a3-4886-bebd-8ffa52c37e10"
      },
      "execution_count": 85,
      "outputs": [
        {
          "output_type": "stream",
          "name": "stderr",
          "text": [
            "/usr/local/lib/python3.8/dist-packages/seaborn/_decorators.py:36: FutureWarning: Pass the following variables as keyword args: x, y. From version 0.12, the only valid positional argument will be `data`, and passing other arguments without an explicit keyword will result in an error or misinterpretation.\n",
            "  warnings.warn(\n"
          ]
        },
        {
          "output_type": "execute_result",
          "data": {
            "text/plain": [
              "Text(0, 0.5, 'HIT Rate')"
            ]
          },
          "metadata": {},
          "execution_count": 85
        },
        {
          "output_type": "display_data",
          "data": {
            "text/plain": [
              "<Figure size 432x288 with 1 Axes>"
            ],
            "image/png": "[encoded data removed]"
          },
          "metadata": {
            "needs_background": "light"
          }
        }
      ]
    },
    {
      "cell_type": "markdown",
      "source": [
        "#### (3) Detection Rate vs Hit Rate"
      ],
      "metadata": {
        "id": "3qBE37InOi_v"
      }
    },
    {
      "cell_type": "code",
      "source": [
        "sns.scatterplot(hit_rate_list, detection_rate_list)\n",
        "plt.xlabel('Hit Rate')\n",
        "plt.ylabel('Detection Rate')"
      ],
      "metadata": {
        "colab": {
          "base_uri": "https://localhost:8080/",
          "height": 353
        },
        "id": "rZ3yddVZOnqt",
        "outputId": "f489f58f-4459-4836-8ebe-645ddfe7f067"
      },
      "execution_count": 86,
      "outputs": [
        {
          "output_type": "stream",
          "name": "stderr",
          "text": [
            "/usr/local/lib/python3.8/dist-packages/seaborn/_decorators.py:36: FutureWarning: Pass the following variables as keyword args: x, y. From version 0.12, the only valid positional argument will be `data`, and passing other arguments without an explicit keyword will result in an error or misinterpretation.\n",
            "  warnings.warn(\n"
          ]
        },
        {
          "output_type": "execute_result",
          "data": {
            "text/plain": [
              "Text(0, 0.5, 'Detection Rate')"
            ]
          },
          "metadata": {},
          "execution_count": 86
        },
        {
          "output_type": "display_data",
          "data": {
            "text/plain": [
              "<Figure size 432x288 with 1 Axes>"
            ],
            "image/png": "[encoded data removed]"
          },
          "metadata": {
            "needs_background": "light"
          }
        }
      ]
    },
    {
      "cell_type": "markdown",
      "source": [
        "#### (4) Detection Rate and Hit Rate at different threshold"
      ],
      "metadata": {
        "id": "ZZvGXQfrOsaJ"
      }
    },
    {
      "cell_type": "code",
      "source": [
        "sns.lineplot(threshold_list, detection_rate_list, label='Detection Rate')\n",
        "sns.lineplot(threshold_list, hit_rate_list, label='Hit Rate')\n",
        "\n",
        "plt.xlabel('Threshold')\n",
        "plt.ylabel('Rate')\n",
        "plt.title('Detection and Hit for different values of \"Threshold\"')\n",
        "plt.legend()\n",
        "plt.show()"
      ],
      "metadata": {
        "colab": {
          "base_uri": "https://localhost:8080/",
          "height": 386
        },
        "id": "OhXDc7TdOpHp",
        "outputId": "bc12d5ee-fb54-48b0-ad32-76bca6967e1d"
      },
      "execution_count": 87,
      "outputs": [
        {
          "output_type": "stream",
          "name": "stderr",
          "text": [
            "/usr/local/lib/python3.8/dist-packages/seaborn/_decorators.py:36: FutureWarning: Pass the following variables as keyword args: x, y. From version 0.12, the only valid positional argument will be `data`, and passing other arguments without an explicit keyword will result in an error or misinterpretation.\n",
            "  warnings.warn(\n",
            "/usr/local/lib/python3.8/dist-packages/seaborn/_decorators.py:36: FutureWarning: Pass the following variables as keyword args: x, y. From version 0.12, the only valid positional argument will be `data`, and passing other arguments without an explicit keyword will result in an error or misinterpretation.\n",
            "  warnings.warn(\n"
          ]
        },
        {
          "output_type": "display_data",
          "data": {
            "text/plain": [
              "<Figure size 432x288 with 1 Axes>"
            ],
            "image/png": "[encoded data removed]"
          },
          "metadata": {
            "needs_background": "light"
          }
        }
      ]
    },
    {
      "cell_type": "markdown",
      "source": [
        "## **6. Detection VS Hit Rate with Different Models**"
      ],
      "metadata": {
        "id": "8bGQwLjZpLKe"
      }
    },
    {
      "cell_type": "code",
      "source": [
        "# Decision Tree\n",
        "DTdh = pd.read_csv(\"/content/drive/MyDrive/ADL /DecisionTree_dh.csv\")\n",
        "DTdh = DTdh.drop(columns=['Unnamed: 0']).sort_values(\"Threshold\")"
      ],
      "metadata": {
        "id": "38UcRYr3pLr3"
      },
      "execution_count": 88,
      "outputs": []
    },
    {
      "cell_type": "code",
      "source": [
        "# Neural Network\n",
        "NNdh = pd.read_csv(\"/content/drive/MyDrive/ADL /NN_dh.csv\")\n",
        "NNdh = NNdh.drop(columns=['Unnamed: 0']).sort_values(\"Threshold\")"
      ],
      "metadata": {
        "id": "1xnBsgfDP1W3"
      },
      "execution_count": 89,
      "outputs": []
    },
    {
      "cell_type": "code",
      "source": [
        "# Autoencoder\n",
        "AEdh = pd.read_csv(\"/content/drive/MyDrive/ADL /Autoencoder_dh.csv\")\n",
        "AEdh = AEdh.drop(columns=['Unnamed: 0']).sort_values(\"Threshold\")"
      ],
      "metadata": {
        "id": "cpjTmJD1pNzi"
      },
      "execution_count": 90,
      "outputs": []
    },
    {
      "cell_type": "code",
      "source": [
        "plt.plot(NNdh.Detection_rate, NNdh.Hit_rate, label=\"neural network\")\n",
        "plt.plot(DTdh.Detection_rate, DTdh.Hit_rate, label=\"decisoin tree\")\n",
        "plt.plot(AEdh.Detection_rate, AEdh.Hit_rate, label=\"autoencoder\")\n",
        "plt.title(\"Detection Rate and Hit Rate with different models\")\n",
        "plt.xlabel(\"Detection Rate\")\n",
        "plt.ylabel(\"Hit Rate\")\n",
        "plt.ylim(0,0.25)\n",
        "plt.xlim(0,0.2)\n",
        "plt.legend()\n",
        "plt.show()"
      ],
      "metadata": {
        "colab": {
          "base_uri": "https://localhost:8080/",
          "height": 295
        },
        "id": "F52TQ6PSpQaR",
        "outputId": "512d99b7-fceb-4196-f040-9d75c7dc10c2"
      },
      "execution_count": 91,
      "outputs": [
        {
          "output_type": "display_data",
          "data": {
            "text/plain": [
              "<Figure size 432x288 with 1 Axes>"
            ],
            "image/png": "[encoded data removed]"
          },
          "metadata": {
            "needs_background": "light"
          }
        }
      ]
    },
    {
      "cell_type": "code",
      "source": [],
      "metadata": {
        "id": "60TXy_-Kbwu6"
      },
      "execution_count": null,
      "outputs": []
    }
  ]
}