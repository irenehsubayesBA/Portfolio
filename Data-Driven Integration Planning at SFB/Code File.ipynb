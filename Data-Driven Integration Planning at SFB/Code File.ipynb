{
 "cells": [
  {
   "cell_type": "code",
   "execution_count": 1,
   "id": "f554de51",
   "metadata": {
    "ExecuteTime": {
     "end_time": "2022-12-16T09:04:37.824545Z",
     "start_time": "2022-12-16T09:04:30.267443Z"
    }
   },
   "outputs": [],
   "source": [
    "import pandas as pd\n",
    "import numpy as np\n",
    "import matplotlib.pyplot as plt\n",
    "from sklearn.linear_model import LogisticRegression\n",
    "from sklearn import metrics\n",
    "import seaborn as sns\n",
    "from sklearn import preprocessing\n",
    "from sklearn.preprocessing import StandardScaler \n",
    "from sklearn.preprocessing import OrdinalEncoder\n",
    "import statsmodels.api as sm\n",
    "import statsmodels.formula.api as smf\n",
    "from sklearn.tree import DecisionTreeClassifier\n",
    "import graphviz as gp\n",
    "from sklearn.tree import export_graphviz\n",
    "from sklearn.tree import DecisionTreeRegressor\n",
    "from sklearn.ensemble import RandomForestRegressor\n",
    "from sklearn.ensemble import GradientBoostingRegressor\n",
    "from sklearn.tree import export_graphviz\n",
    "from sklearn.metrics import accuracy_score\n",
    "from sklearn.metrics import mean_squared_error"
   ]
  },
  {
   "cell_type": "code",
   "execution_count": 2,
   "id": "0008a8a1",
   "metadata": {
    "ExecuteTime": {
     "end_time": "2022-12-16T09:04:38.108637Z",
     "start_time": "2022-12-16T09:04:37.888643Z"
    },
    "scrolled": true
   },
   "outputs": [],
   "source": [
    "# read data\n",
    "df = pd.read_csv(\"employee_attrition_previous_closure.csv\")"
   ]
  },
  {
   "cell_type": "markdown",
   "id": "0b5e8d5e",
   "metadata": {},
   "source": [
    "# Pre-Processing data"
   ]
  },
  {
   "cell_type": "code",
   "execution_count": 3,
   "id": "d57da79c",
   "metadata": {
    "ExecuteTime": {
     "end_time": "2022-12-16T09:04:38.272727Z",
     "start_time": "2022-12-16T09:04:38.251156Z"
    },
    "scrolled": true
   },
   "outputs": [
    {
     "name": "stdout",
     "output_type": "stream",
     "text": [
      "<class 'pandas.core.frame.DataFrame'>\n",
      "RangeIndex: 1029 entries, 0 to 1028\n",
      "Data columns (total 35 columns):\n",
      " #   Column                    Non-Null Count  Dtype  \n",
      "---  ------                    --------------  -----  \n",
      " 0   Age                       893 non-null    float64\n",
      " 1   Attrition                 1029 non-null   object \n",
      " 2   BusinessTravel            1024 non-null   object \n",
      " 3   DailyRate                 1002 non-null   float64\n",
      " 4   Department                1029 non-null   object \n",
      " 5   DistanceFromHome          934 non-null    float64\n",
      " 6   Education                 1029 non-null   int64  \n",
      " 7   EducationField            1029 non-null   object \n",
      " 8   EmployeeCount             1029 non-null   int64  \n",
      " 9   EmployeeNumber            1029 non-null   int64  \n",
      " 10  EnvironmentSatisfaction   1029 non-null   int64  \n",
      " 11  Gender                    1029 non-null   object \n",
      " 12  HourlyRate                1029 non-null   int64  \n",
      " 13  JobInvolvement            1029 non-null   int64  \n",
      " 14  JobLevel                  1029 non-null   int64  \n",
      " 15  JobRole                   1029 non-null   object \n",
      " 16  JobSatisfaction           1029 non-null   int64  \n",
      " 17  MaritalStatus             1024 non-null   object \n",
      " 18  MonthlyIncome             1029 non-null   int64  \n",
      " 19  MonthlyRate               1029 non-null   int64  \n",
      " 20  NumCompaniesWorked        1029 non-null   int64  \n",
      " 21  Over18                    1029 non-null   object \n",
      " 22  OverTime                  1029 non-null   object \n",
      " 23  PercentSalaryHike         1029 non-null   int64  \n",
      " 24  PerformanceRating         1029 non-null   int64  \n",
      " 25  RelationshipSatisfaction  1029 non-null   int64  \n",
      " 26  StandardHours             1029 non-null   int64  \n",
      " 27  StockOptionLevel          1029 non-null   int64  \n",
      " 28  TotalWorkingYears         1029 non-null   int64  \n",
      " 29  TrainingTimesLastYear     1029 non-null   int64  \n",
      " 30  WorkLifeBalance           1029 non-null   int64  \n",
      " 31  YearsAtCompany            1029 non-null   int64  \n",
      " 32  YearsInCurrentRole        1029 non-null   int64  \n",
      " 33  YearsSinceLastPromotion   1029 non-null   int64  \n",
      " 34  YearsWithCurrManager      1029 non-null   int64  \n",
      "dtypes: float64(3), int64(23), object(9)\n",
      "memory usage: 281.5+ KB\n"
     ]
    }
   ],
   "source": [
    "df.info()"
   ]
  },
  {
   "cell_type": "markdown",
   "id": "f8fc500f",
   "metadata": {},
   "source": [
    "### Check duplicates"
   ]
  },
  {
   "cell_type": "code",
   "execution_count": 4,
   "id": "b47fde71",
   "metadata": {
    "ExecuteTime": {
     "end_time": "2022-12-16T09:04:38.387225Z",
     "start_time": "2022-12-16T09:04:38.363441Z"
    }
   },
   "outputs": [
    {
     "name": "stdout",
     "output_type": "stream",
     "text": [
      "False\n"
     ]
    }
   ],
   "source": [
    "dups = df.duplicated() #checks each row of the dataset and returns TRUE or FALSE depending on whether it is a duplicate\n",
    "print(dups.any()) #returns TRUE if there is any value in dups that is equal to TRUE"
   ]
  },
  {
   "cell_type": "code",
   "execution_count": 5,
   "id": "6e111ec2",
   "metadata": {
    "ExecuteTime": {
     "end_time": "2022-12-16T09:04:38.487037Z",
     "start_time": "2022-12-16T09:04:38.472532Z"
    }
   },
   "outputs": [
    {
     "data": {
      "text/plain": [
       "array([False, False, False, False, False, False, False, False, False,\n",
       "       False, False, False, False, False, False, False, False, False,\n",
       "       False, False, False, False, False, False, False, False, False,\n",
       "       False, False, False, False, False, False, False, False])"
      ]
     },
     "execution_count": 5,
     "metadata": {},
     "output_type": "execute_result"
    }
   ],
   "source": [
    "df.columns.duplicated()"
   ]
  },
  {
   "cell_type": "markdown",
   "id": "02506ef5",
   "metadata": {},
   "source": [
    "### Check unique value"
   ]
  },
  {
   "cell_type": "code",
   "execution_count": 6,
   "id": "9b2a285b",
   "metadata": {
    "ExecuteTime": {
     "end_time": "2022-12-16T09:04:38.610513Z",
     "start_time": "2022-12-16T09:04:38.564854Z"
    },
    "scrolled": true
   },
   "outputs": [
    {
     "data": {
      "text/plain": [
       "Age                           39\n",
       "Attrition                      2\n",
       "BusinessTravel                 3\n",
       "DailyRate                    692\n",
       "Department                     3\n",
       "DistanceFromHome              27\n",
       "Education                      5\n",
       "EducationField                 6\n",
       "EmployeeCount                  1\n",
       "EmployeeNumber              1029\n",
       "EnvironmentSatisfaction        4\n",
       "Gender                         2\n",
       "HourlyRate                    71\n",
       "JobInvolvement                 4\n",
       "JobLevel                       5\n",
       "JobRole                        9\n",
       "JobSatisfaction                4\n",
       "MaritalStatus                  3\n",
       "MonthlyIncome                963\n",
       "MonthlyRate                 1010\n",
       "NumCompaniesWorked            10\n",
       "Over18                         1\n",
       "OverTime                       2\n",
       "PercentSalaryHike             15\n",
       "PerformanceRating              2\n",
       "RelationshipSatisfaction       4\n",
       "StandardHours                  1\n",
       "StockOptionLevel               4\n",
       "TotalWorkingYears             40\n",
       "TrainingTimesLastYear          7\n",
       "WorkLifeBalance                4\n",
       "YearsAtCompany                32\n",
       "YearsInCurrentRole            19\n",
       "YearsSinceLastPromotion       16\n",
       "YearsWithCurrManager          17\n",
       "dtype: int64"
      ]
     },
     "execution_count": 6,
     "metadata": {},
     "output_type": "execute_result"
    }
   ],
   "source": [
    "df.nunique()"
   ]
  },
  {
   "cell_type": "code",
   "execution_count": 7,
   "id": "e817a5ac",
   "metadata": {
    "ExecuteTime": {
     "end_time": "2022-12-16T09:04:38.815424Z",
     "start_time": "2022-12-16T09:04:38.801308Z"
    }
   },
   "outputs": [],
   "source": [
    "# drop columns with only one unique value\n",
    "df = df.drop(columns=['StandardHours'])\n",
    "df = df.drop(columns=['Over18'])\n",
    "df = df.drop(columns=['EmployeeCount'])\n",
    "\n",
    "# drop irrelevant column\n",
    "df = df.drop(columns=['EmployeeNumber'])"
   ]
  },
  {
   "cell_type": "markdown",
   "id": "197a8b13",
   "metadata": {},
   "source": [
    "### Check empty cells"
   ]
  },
  {
   "cell_type": "code",
   "execution_count": 8,
   "id": "d6efb326",
   "metadata": {
    "ExecuteTime": {
     "end_time": "2022-12-16T09:04:45.098792Z",
     "start_time": "2022-12-16T09:04:45.086528Z"
    },
    "scrolled": true
   },
   "outputs": [
    {
     "data": {
      "text/plain": [
       "Age                          True\n",
       "Attrition                   False\n",
       "BusinessTravel               True\n",
       "DailyRate                    True\n",
       "Department                  False\n",
       "DistanceFromHome             True\n",
       "Education                   False\n",
       "EducationField              False\n",
       "EnvironmentSatisfaction     False\n",
       "Gender                      False\n",
       "HourlyRate                  False\n",
       "JobInvolvement              False\n",
       "JobLevel                    False\n",
       "JobRole                     False\n",
       "JobSatisfaction             False\n",
       "MaritalStatus                True\n",
       "MonthlyIncome               False\n",
       "MonthlyRate                 False\n",
       "NumCompaniesWorked          False\n",
       "OverTime                    False\n",
       "PercentSalaryHike           False\n",
       "PerformanceRating           False\n",
       "RelationshipSatisfaction    False\n",
       "StockOptionLevel            False\n",
       "TotalWorkingYears           False\n",
       "TrainingTimesLastYear       False\n",
       "WorkLifeBalance             False\n",
       "YearsAtCompany              False\n",
       "YearsInCurrentRole          False\n",
       "YearsSinceLastPromotion     False\n",
       "YearsWithCurrManager        False\n",
       "dtype: bool"
      ]
     },
     "execution_count": 8,
     "metadata": {},
     "output_type": "execute_result"
    }
   ],
   "source": [
    "df.isna().any()"
   ]
  },
  {
   "cell_type": "markdown",
   "id": "d5cb2a46",
   "metadata": {},
   "source": [
    "#### Categogrical data"
   ]
  },
  {
   "cell_type": "code",
   "execution_count": 9,
   "id": "382a4eeb",
   "metadata": {
    "ExecuteTime": {
     "end_time": "2022-12-16T09:04:46.672775Z",
     "start_time": "2022-12-16T09:04:46.660973Z"
    }
   },
   "outputs": [
    {
     "data": {
      "text/plain": [
       "array(['Travel_Rarely', 'Travel_Frequently', 'Non-Travel', nan],\n",
       "      dtype=object)"
      ]
     },
     "execution_count": 9,
     "metadata": {},
     "output_type": "execute_result"
    }
   ],
   "source": [
    "df.BusinessTravel.unique()"
   ]
  },
  {
   "cell_type": "code",
   "execution_count": 10,
   "id": "6c30672a",
   "metadata": {
    "ExecuteTime": {
     "end_time": "2022-12-16T09:04:47.193888Z",
     "start_time": "2022-12-16T09:04:47.185941Z"
    }
   },
   "outputs": [
    {
     "data": {
      "text/plain": [
       "5"
      ]
     },
     "execution_count": 10,
     "metadata": {},
     "output_type": "execute_result"
    }
   ],
   "source": [
    "df.BusinessTravel.isna().sum()"
   ]
  },
  {
   "cell_type": "code",
   "execution_count": 11,
   "id": "fbc1303a",
   "metadata": {
    "ExecuteTime": {
     "end_time": "2022-12-16T09:04:47.680597Z",
     "start_time": "2022-12-16T09:04:47.672896Z"
    }
   },
   "outputs": [],
   "source": [
    "# fill in missing values with the value appears most\n",
    "values = {\"BusinessTravel\": \"Travel_Rarely\"}\n",
    "df=df.fillna(value=values)"
   ]
  },
  {
   "cell_type": "code",
   "execution_count": 12,
   "id": "97e836a9",
   "metadata": {
    "ExecuteTime": {
     "end_time": "2022-12-16T09:04:49.735799Z",
     "start_time": "2022-12-16T09:04:49.720175Z"
    }
   },
   "outputs": [
    {
     "data": {
      "text/plain": [
       "Travel_Rarely        728\n",
       "Travel_Frequently    199\n",
       "Non-Travel           102\n",
       "Name: BusinessTravel, dtype: int64"
      ]
     },
     "execution_count": 12,
     "metadata": {},
     "output_type": "execute_result"
    }
   ],
   "source": [
    "df['BusinessTravel'].value_counts()"
   ]
  },
  {
   "cell_type": "code",
   "execution_count": 13,
   "id": "aecd7708",
   "metadata": {
    "ExecuteTime": {
     "end_time": "2022-12-16T09:04:51.347990Z",
     "start_time": "2022-12-16T09:04:51.340330Z"
    }
   },
   "outputs": [
    {
     "data": {
      "text/plain": [
       "array(['Divorced', 'Single', 'Married', nan], dtype=object)"
      ]
     },
     "execution_count": 13,
     "metadata": {},
     "output_type": "execute_result"
    }
   ],
   "source": [
    "df.MaritalStatus.unique()"
   ]
  },
  {
   "cell_type": "code",
   "execution_count": 14,
   "id": "095c44f9",
   "metadata": {
    "ExecuteTime": {
     "end_time": "2022-12-16T09:04:51.862802Z",
     "start_time": "2022-12-16T09:04:51.853767Z"
    }
   },
   "outputs": [
    {
     "data": {
      "text/plain": [
       "Married     474\n",
       "Single      320\n",
       "Divorced    230\n",
       "Name: MaritalStatus, dtype: int64"
      ]
     },
     "execution_count": 14,
     "metadata": {},
     "output_type": "execute_result"
    }
   ],
   "source": [
    "df['MaritalStatus'].value_counts()"
   ]
  },
  {
   "cell_type": "code",
   "execution_count": 15,
   "id": "f17b0d36",
   "metadata": {
    "ExecuteTime": {
     "end_time": "2022-12-16T09:04:52.422283Z",
     "start_time": "2022-12-16T09:04:52.417329Z"
    }
   },
   "outputs": [
    {
     "data": {
      "text/plain": [
       "5"
      ]
     },
     "execution_count": 15,
     "metadata": {},
     "output_type": "execute_result"
    }
   ],
   "source": [
    "df.MaritalStatus.isna().sum()\n",
    "# deal with missing values in this one using \"getdummy\" later"
   ]
  },
  {
   "cell_type": "code",
   "execution_count": 16,
   "id": "bc5e10bd",
   "metadata": {
    "ExecuteTime": {
     "end_time": "2022-12-16T09:04:52.970736Z",
     "start_time": "2022-12-16T09:04:52.950002Z"
    }
   },
   "outputs": [
    {
     "data": {
      "text/plain": [
       "Married     474\n",
       "Single      320\n",
       "Divorced    230\n",
       "Name: MaritalStatus, dtype: int64"
      ]
     },
     "execution_count": 16,
     "metadata": {},
     "output_type": "execute_result"
    }
   ],
   "source": [
    "df['MaritalStatus'].value_counts()"
   ]
  },
  {
   "cell_type": "code",
   "execution_count": 17,
   "id": "9fdad6a9",
   "metadata": {
    "ExecuteTime": {
     "end_time": "2022-12-16T09:04:53.417960Z",
     "start_time": "2022-12-16T09:04:53.412126Z"
    }
   },
   "outputs": [],
   "source": [
    "# fill in missing values with the value appears most\n",
    "values = {\"MaritalStatus\": \"Married\"}\n",
    "df=df.fillna(value=values)"
   ]
  },
  {
   "cell_type": "markdown",
   "id": "c8cba326",
   "metadata": {},
   "source": [
    "#### Numerical data"
   ]
  },
  {
   "cell_type": "code",
   "execution_count": 18,
   "id": "a545ac75",
   "metadata": {
    "ExecuteTime": {
     "end_time": "2022-12-16T09:04:54.418823Z",
     "start_time": "2022-12-16T09:04:54.412120Z"
    },
    "scrolled": true
   },
   "outputs": [
    {
     "data": {
      "text/plain": [
       "27"
      ]
     },
     "execution_count": 18,
     "metadata": {},
     "output_type": "execute_result"
    }
   ],
   "source": [
    "df.DailyRate.isna().sum()"
   ]
  },
  {
   "cell_type": "code",
   "execution_count": 19,
   "id": "c9c64ccf",
   "metadata": {
    "ExecuteTime": {
     "end_time": "2022-12-16T09:04:54.847237Z",
     "start_time": "2022-12-16T09:04:54.837714Z"
    }
   },
   "outputs": [
    {
     "data": {
      "text/plain": [
       "95"
      ]
     },
     "execution_count": 19,
     "metadata": {},
     "output_type": "execute_result"
    }
   ],
   "source": [
    "df.DistanceFromHome.isna().sum()"
   ]
  },
  {
   "cell_type": "code",
   "execution_count": 20,
   "id": "cf9f9336",
   "metadata": {
    "ExecuteTime": {
     "end_time": "2022-12-16T09:04:55.455413Z",
     "start_time": "2022-12-16T09:04:55.443351Z"
    }
   },
   "outputs": [
    {
     "data": {
      "text/plain": [
       "136"
      ]
     },
     "execution_count": 20,
     "metadata": {},
     "output_type": "execute_result"
    }
   ],
   "source": [
    "df.Age.isna().sum()"
   ]
  },
  {
   "cell_type": "code",
   "execution_count": 21,
   "id": "25e8ae6d",
   "metadata": {
    "ExecuteTime": {
     "end_time": "2022-12-15T19:59:32.079470Z",
     "start_time": "2022-12-15T19:59:32.063791Z"
    }
   },
   "outputs": [
    {
     "data": {
      "text/plain": [
       "(1029,)"
      ]
     },
     "execution_count": 21,
     "metadata": {},
     "output_type": "execute_result"
    }
   ],
   "source": [
    "df.Age.shape"
   ]
  },
  {
   "cell_type": "markdown",
   "id": "a3dbb42f",
   "metadata": {},
   "source": [
    "##### Check the % of missing values to decide if it needs to be dropped"
   ]
  },
  {
   "cell_type": "code",
   "execution_count": 22,
   "id": "6a6a0306",
   "metadata": {
    "ExecuteTime": {
     "end_time": "2022-12-15T19:59:32.862705Z",
     "start_time": "2022-12-15T19:59:32.850825Z"
    }
   },
   "outputs": [
    {
     "data": {
      "text/plain": [
       "0.13216715257531583"
      ]
     },
     "execution_count": 22,
     "metadata": {},
     "output_type": "execute_result"
    }
   ],
   "source": [
    "136/1029"
   ]
  },
  {
   "cell_type": "code",
   "execution_count": 23,
   "id": "40a17539",
   "metadata": {
    "ExecuteTime": {
     "end_time": "2022-12-16T09:06:22.680664Z",
     "start_time": "2022-12-16T09:06:22.665138Z"
    }
   },
   "outputs": [
    {
     "data": {
      "text/plain": [
       "0.0923226433430515"
      ]
     },
     "execution_count": 23,
     "metadata": {},
     "output_type": "execute_result"
    }
   ],
   "source": [
    "95/1029"
   ]
  },
  {
   "cell_type": "code",
   "execution_count": 24,
   "id": "97eb4ca4",
   "metadata": {
    "ExecuteTime": {
     "end_time": "2022-12-16T09:06:32.272458Z",
     "start_time": "2022-12-16T09:06:32.260183Z"
    }
   },
   "outputs": [
    {
     "data": {
      "text/plain": [
       "0.026239067055393587"
      ]
     },
     "execution_count": 24,
     "metadata": {},
     "output_type": "execute_result"
    }
   ],
   "source": [
    "27/1029"
   ]
  },
  {
   "cell_type": "markdown",
   "id": "2fa22527",
   "metadata": {},
   "source": [
    "### Imputation"
   ]
  },
  {
   "cell_type": "code",
   "execution_count": 30,
   "id": "42974611",
   "metadata": {
    "ExecuteTime": {
     "end_time": "2022-12-16T09:08:01.395735Z",
     "start_time": "2022-12-16T09:08:01.387330Z"
    }
   },
   "outputs": [],
   "source": [
    "df_clean = df.copy()"
   ]
  },
  {
   "cell_type": "code",
   "execution_count": 31,
   "id": "ef29cf2d",
   "metadata": {
    "ExecuteTime": {
     "end_time": "2022-12-16T09:08:02.051531Z",
     "start_time": "2022-12-16T09:08:02.034224Z"
    }
   },
   "outputs": [],
   "source": [
    "# Age\n",
    "from sklearn.impute import KNNImputer\n",
    "imputer = KNNImputer(n_neighbors=1)\n",
    "df_clean[[\"Age\"]] = imputer.fit_transform(df_clean[[\"Age\"]])"
   ]
  },
  {
   "cell_type": "code",
   "execution_count": 32,
   "id": "fb43fc5e",
   "metadata": {
    "ExecuteTime": {
     "end_time": "2022-12-16T09:08:02.718491Z",
     "start_time": "2022-12-16T09:08:02.702976Z"
    }
   },
   "outputs": [],
   "source": [
    "# DailyRate\n",
    "from sklearn.impute import KNNImputer\n",
    "imputer = KNNImputer(n_neighbors=1)\n",
    "df_clean[[\"DailyRate\"]] = imputer.fit_transform(df_clean[[\"DailyRate\"]])"
   ]
  },
  {
   "cell_type": "code",
   "execution_count": 33,
   "id": "1e541a21",
   "metadata": {
    "ExecuteTime": {
     "end_time": "2022-12-16T09:08:03.149564Z",
     "start_time": "2022-12-16T09:08:03.137284Z"
    }
   },
   "outputs": [],
   "source": [
    "# DistanceFromHome\n",
    "from sklearn.impute import KNNImputer\n",
    "imputer = KNNImputer(n_neighbors=1)\n",
    "df_clean[[\"DistanceFromHome\"]] = imputer.fit_transform(df_clean[[\"DistanceFromHome\"]])"
   ]
  },
  {
   "cell_type": "markdown",
   "id": "e7ab5924",
   "metadata": {},
   "source": [
    "# Transform data"
   ]
  },
  {
   "cell_type": "markdown",
   "id": "58950329",
   "metadata": {},
   "source": [
    "## Ordinal Encoding"
   ]
  },
  {
   "cell_type": "code",
   "execution_count": 34,
   "id": "fa628537",
   "metadata": {
    "ExecuteTime": {
     "end_time": "2022-12-16T09:08:08.009064Z",
     "start_time": "2022-12-16T09:08:08.000972Z"
    }
   },
   "outputs": [],
   "source": [
    "df_clean[\"Attrition\"] = df_clean[\"Attrition\"].replace(\"Yes\",1)\n",
    "df_clean[\"Attrition\"] = df_clean[\"Attrition\"].replace(\"No\",0)"
   ]
  },
  {
   "cell_type": "code",
   "execution_count": 35,
   "id": "2e5aece7",
   "metadata": {
    "ExecuteTime": {
     "end_time": "2022-12-16T09:08:08.667312Z",
     "start_time": "2022-12-16T09:08:08.660062Z"
    }
   },
   "outputs": [],
   "source": [
    "df_clean[\"OverTime\"] = df_clean[\"OverTime\"].replace(\"Yes\",1)\n",
    "df_clean[\"OverTime\"] = df_clean[\"OverTime\"].replace(\"No\",0)"
   ]
  },
  {
   "cell_type": "code",
   "execution_count": 36,
   "id": "ec9c5780",
   "metadata": {
    "ExecuteTime": {
     "end_time": "2022-12-16T09:08:10.198601Z",
     "start_time": "2022-12-16T09:08:10.190250Z"
    }
   },
   "outputs": [],
   "source": [
    "df_clean[\"Gender\"] = df_clean[\"Gender\"].replace(\"Male\",1)\n",
    "df_clean[\"Gender\"] = df_clean[\"Gender\"].replace(\"Female\",0)"
   ]
  },
  {
   "cell_type": "code",
   "execution_count": 37,
   "id": "cf9d6c86",
   "metadata": {
    "ExecuteTime": {
     "end_time": "2022-12-16T09:08:10.904097Z",
     "start_time": "2022-12-16T09:08:10.891950Z"
    }
   },
   "outputs": [],
   "source": [
    "# ordinal encoding\n",
    "encoder = OrdinalEncoder(categories=[['Non-Travel','Travel_Rarely','Travel_Frequently']])\n",
    "df_clean[\"BusinessTravel\"] = encoder.fit_transform(df_clean[[\"BusinessTravel\"]]) # transform data"
   ]
  },
  {
   "cell_type": "markdown",
   "id": "6720eafb",
   "metadata": {},
   "source": [
    "## One-hot encoding"
   ]
  },
  {
   "cell_type": "code",
   "execution_count": 38,
   "id": "d865d105",
   "metadata": {
    "ExecuteTime": {
     "end_time": "2022-12-16T09:08:15.712341Z",
     "start_time": "2022-12-16T09:08:15.616510Z"
    }
   },
   "outputs": [],
   "source": [
    "df_clean=df_clean.merge(pd.get_dummies(df_clean.Department),left_index=True, right_index=True)"
   ]
  },
  {
   "cell_type": "code",
   "execution_count": 39,
   "id": "7d44253d",
   "metadata": {
    "ExecuteTime": {
     "end_time": "2022-12-16T09:08:16.433306Z",
     "start_time": "2022-12-16T09:08:16.428083Z"
    }
   },
   "outputs": [],
   "source": [
    "df_clean.rename(columns={\"Human Resources\":\"Dep_Human Resources\"},inplace=True)"
   ]
  },
  {
   "cell_type": "code",
   "execution_count": 40,
   "id": "99805ea1",
   "metadata": {
    "ExecuteTime": {
     "end_time": "2022-12-16T09:08:16.942448Z",
     "start_time": "2022-12-16T09:08:16.933634Z"
    }
   },
   "outputs": [],
   "source": [
    "df_clean=df_clean.merge(pd.get_dummies(df_clean.EducationField),left_index=True, right_index=True)"
   ]
  },
  {
   "cell_type": "code",
   "execution_count": 41,
   "id": "f7253d54",
   "metadata": {
    "ExecuteTime": {
     "end_time": "2022-12-16T09:08:17.343555Z",
     "start_time": "2022-12-16T09:08:17.336160Z"
    }
   },
   "outputs": [],
   "source": [
    "df_clean=df_clean.merge(pd.get_dummies(df_clean.JobRole),left_index=True, right_index=True)"
   ]
  },
  {
   "cell_type": "code",
   "execution_count": 42,
   "id": "074237bd",
   "metadata": {
    "ExecuteTime": {
     "end_time": "2022-12-16T09:08:17.844752Z",
     "start_time": "2022-12-16T09:08:17.838147Z"
    }
   },
   "outputs": [],
   "source": [
    "df_clean=df_clean.merge(pd.get_dummies(df_clean.MaritalStatus),left_index=True, right_index=True)"
   ]
  },
  {
   "cell_type": "code",
   "execution_count": 43,
   "id": "1e36625a",
   "metadata": {
    "ExecuteTime": {
     "end_time": "2022-12-16T09:08:18.555912Z",
     "start_time": "2022-12-16T09:08:18.532756Z"
    },
    "scrolled": true
   },
   "outputs": [
    {
     "data": {
      "text/plain": [
       "Age                          False\n",
       "Attrition                    False\n",
       "BusinessTravel               False\n",
       "DailyRate                    False\n",
       "Department                   False\n",
       "DistanceFromHome             False\n",
       "Education                    False\n",
       "EducationField               False\n",
       "EnvironmentSatisfaction      False\n",
       "Gender                       False\n",
       "HourlyRate                   False\n",
       "JobInvolvement               False\n",
       "JobLevel                     False\n",
       "JobRole                      False\n",
       "JobSatisfaction              False\n",
       "MaritalStatus                False\n",
       "MonthlyIncome                False\n",
       "MonthlyRate                  False\n",
       "NumCompaniesWorked           False\n",
       "OverTime                     False\n",
       "PercentSalaryHike            False\n",
       "PerformanceRating            False\n",
       "RelationshipSatisfaction     False\n",
       "StockOptionLevel             False\n",
       "TotalWorkingYears            False\n",
       "TrainingTimesLastYear        False\n",
       "WorkLifeBalance              False\n",
       "YearsAtCompany               False\n",
       "YearsInCurrentRole           False\n",
       "YearsSinceLastPromotion      False\n",
       "YearsWithCurrManager         False\n",
       "Dep_Human Resources          False\n",
       "Research & Development       False\n",
       "Sales                        False\n",
       "Human Resources_x            False\n",
       "Life Sciences                False\n",
       "Marketing                    False\n",
       "Medical                      False\n",
       "Other                        False\n",
       "Technical Degree             False\n",
       "Healthcare Representative    False\n",
       "Human Resources_y            False\n",
       "Laboratory Technician        False\n",
       "Manager                      False\n",
       "Manufacturing Director       False\n",
       "Research Director            False\n",
       "Research Scientist           False\n",
       "Sales Executive              False\n",
       "Sales Representative         False\n",
       "Divorced                     False\n",
       "Married                      False\n",
       "Single                       False\n",
       "dtype: bool"
      ]
     },
     "execution_count": 43,
     "metadata": {},
     "output_type": "execute_result"
    }
   ],
   "source": [
    "df_clean.isna().any()"
   ]
  },
  {
   "cell_type": "code",
   "execution_count": 44,
   "id": "fcea1747",
   "metadata": {
    "ExecuteTime": {
     "end_time": "2022-12-16T09:08:23.606367Z",
     "start_time": "2022-12-16T09:08:23.588622Z"
    }
   },
   "outputs": [],
   "source": [
    "df_clean.drop(columns=\"Department\",inplace=True)\n",
    "df_clean.drop(columns=\"EducationField\",inplace=True)\n",
    "df_clean.drop(columns=\"JobRole\",inplace=True)\n",
    "df_clean.drop(columns=\"MaritalStatus\",inplace=True)"
   ]
  },
  {
   "cell_type": "markdown",
   "id": "d36e2497",
   "metadata": {},
   "source": [
    "# Logistic regression"
   ]
  },
  {
   "cell_type": "markdown",
   "id": "b4475031",
   "metadata": {},
   "source": [
    "## Split data"
   ]
  },
  {
   "cell_type": "code",
   "execution_count": 45,
   "id": "d214194a",
   "metadata": {
    "ExecuteTime": {
     "end_time": "2022-12-16T09:08:31.638810Z",
     "start_time": "2022-12-16T09:08:31.627903Z"
    }
   },
   "outputs": [],
   "source": [
    "from sklearn.model_selection import train_test_split\n",
    "from sklearn.metrics import roc_curve\n",
    "from sklearn.metrics import roc_auc_score"
   ]
  },
  {
   "cell_type": "code",
   "execution_count": 46,
   "id": "2b0953af",
   "metadata": {
    "ExecuteTime": {
     "end_time": "2022-12-16T09:08:32.218219Z",
     "start_time": "2022-12-16T09:08:32.205431Z"
    }
   },
   "outputs": [],
   "source": [
    "Y=df_clean[\"Attrition\"] #creating the dependent variable\n",
    "X=df_clean.drop(columns=[\"Attrition\"])"
   ]
  },
  {
   "cell_type": "code",
   "execution_count": 47,
   "id": "bbd8d24f",
   "metadata": {
    "ExecuteTime": {
     "end_time": "2022-12-16T09:08:32.723084Z",
     "start_time": "2022-12-16T09:08:32.705987Z"
    }
   },
   "outputs": [],
   "source": [
    "# Split data(X,Y) into train(X,Y), other(test and validation)(X,Y)\n",
    "trainX, otherX, trainY, otherY = train_test_split(X, Y, test_size=0.5,random_state = 726)"
   ]
  },
  {
   "cell_type": "code",
   "execution_count": 48,
   "id": "ff66634d",
   "metadata": {
    "ExecuteTime": {
     "end_time": "2022-12-16T09:08:33.355634Z",
     "start_time": "2022-12-16T09:08:33.346333Z"
    }
   },
   "outputs": [],
   "source": [
    "# Split other into test and validation\n",
    "testX, validationX, testY, validationY = train_test_split(otherX, otherY, test_size=0.5,random_state = 2000)"
   ]
  },
  {
   "cell_type": "code",
   "execution_count": 49,
   "id": "c2c7b880",
   "metadata": {
    "ExecuteTime": {
     "end_time": "2022-12-16T09:08:33.929853Z",
     "start_time": "2022-12-16T09:08:33.871926Z"
    }
   },
   "outputs": [
    {
     "name": "stdout",
     "output_type": "stream",
     "text": [
      "[0.0023853]\n",
      "[[ 1.10911177e-02  3.47116824e-02  1.83993531e-04 -4.27376996e-03\n",
      "   8.28709504e-02 -6.68991997e-02  3.18850637e-03 -2.22369303e-03\n",
      "  -5.87348507e-02 -4.27504628e-03 -5.79905387e-02 -3.75817660e-05\n",
      "   1.61527344e-05  1.62386609e-01  8.18183327e-02 -5.33046011e-02\n",
      "  -4.41247671e-03 -3.38047450e-02 -4.24665531e-02 -9.66534392e-02\n",
      "  -1.11256926e-01 -1.66976324e-02  7.67932328e-02 -1.08829027e-01\n",
      "   8.04987875e-02 -9.71896501e-02 -1.50582132e-03 -2.00453297e-02\n",
      "   2.39366132e-02  1.07185148e-03 -1.28857189e-02  2.13277596e-02\n",
      "  -8.65800719e-03 -9.71485807e-03  1.12444353e-02 -1.69274803e-02\n",
      "  -1.50582132e-03  9.14350329e-03  6.40910060e-04 -1.37328390e-03\n",
      "  -5.02909826e-03 -2.75846574e-03  4.50583807e-03  1.56893604e-02\n",
      "  -1.49867710e-02 -1.68597764e-02  3.42320096e-02]]\n"
     ]
    },
    {
     "name": "stderr",
     "output_type": "stream",
     "text": [
      "/opt/anaconda3/envs/DT_virtual_env/lib/python3.10/site-packages/sklearn/linear_model/_logistic.py:444: ConvergenceWarning: lbfgs failed to converge (status=1):\n",
      "STOP: TOTAL NO. of ITERATIONS REACHED LIMIT.\n",
      "\n",
      "Increase the number of iterations (max_iter) or scale the data as shown in:\n",
      "    https://scikit-learn.org/stable/modules/preprocessing.html\n",
      "Please also refer to the documentation for alternative solver options:\n",
      "    https://scikit-learn.org/stable/modules/linear_model.html#logistic-regression\n",
      "  n_iter_i = _check_optimize_result(\n"
     ]
    }
   ],
   "source": [
    "logm = LogisticRegression()\n",
    "logm.fit(trainX, trainY.values.ravel()) # Fit a logistic regression with vector Y as dependent and matrix X as independent\n",
    "print(logm.intercept_)\n",
    "print(logm.coef_)"
   ]
  },
  {
   "cell_type": "code",
   "execution_count": 50,
   "id": "f5339ece",
   "metadata": {
    "ExecuteTime": {
     "end_time": "2022-12-16T09:08:37.232794Z",
     "start_time": "2022-12-16T09:08:37.213279Z"
    }
   },
   "outputs": [
    {
     "data": {
      "text/plain": [
       "array([[0.80127679, 0.19872321],\n",
       "       [0.97617652, 0.02382348],\n",
       "       [0.67251167, 0.32748833],\n",
       "       [0.73074532, 0.26925468],\n",
       "       [0.56640339, 0.43359661],\n",
       "       [0.94702267, 0.05297733],\n",
       "       [0.83048706, 0.16951294],\n",
       "       [0.81736088, 0.18263912],\n",
       "       [0.71418135, 0.28581865],\n",
       "       [0.96625129, 0.03374871],\n",
       "       [0.95780309, 0.04219691],\n",
       "       [0.85789408, 0.14210592],\n",
       "       [0.67797461, 0.32202539],\n",
       "       [0.77825648, 0.22174352],\n",
       "       [0.91839577, 0.08160423],\n",
       "       [0.91556228, 0.08443772],\n",
       "       [0.92076158, 0.07923842],\n",
       "       [0.93757524, 0.06242476],\n",
       "       [0.90512082, 0.09487918],\n",
       "       [0.84912532, 0.15087468],\n",
       "       [0.90015825, 0.09984175],\n",
       "       [0.98675708, 0.01324292],\n",
       "       [0.82456925, 0.17543075],\n",
       "       [0.85476931, 0.14523069],\n",
       "       [0.86625295, 0.13374705],\n",
       "       [0.96043271, 0.03956729],\n",
       "       [0.81160452, 0.18839548],\n",
       "       [0.98425989, 0.01574011],\n",
       "       [0.98020308, 0.01979692],\n",
       "       [0.69080828, 0.30919172],\n",
       "       [0.66763697, 0.33236303],\n",
       "       [0.91101768, 0.08898232],\n",
       "       [0.71831569, 0.28168431],\n",
       "       [0.77648157, 0.22351843],\n",
       "       [0.89259229, 0.10740771],\n",
       "       [0.74803342, 0.25196658],\n",
       "       [0.91593378, 0.08406622],\n",
       "       [0.92872953, 0.07127047],\n",
       "       [0.8030367 , 0.1969633 ],\n",
       "       [0.97875549, 0.02124451],\n",
       "       [0.87279361, 0.12720639],\n",
       "       [0.93421454, 0.06578546],\n",
       "       [0.93099602, 0.06900398],\n",
       "       [0.97235755, 0.02764245],\n",
       "       [0.98378062, 0.01621938],\n",
       "       [0.78259442, 0.21740558],\n",
       "       [0.82696052, 0.17303948],\n",
       "       [0.76254862, 0.23745138],\n",
       "       [0.80511713, 0.19488287],\n",
       "       [0.73643705, 0.26356295],\n",
       "       [0.59311381, 0.40688619],\n",
       "       [0.78979838, 0.21020162],\n",
       "       [0.85383048, 0.14616952],\n",
       "       [0.75792289, 0.24207711],\n",
       "       [0.74375062, 0.25624938],\n",
       "       [0.91578071, 0.08421929],\n",
       "       [0.69974996, 0.30025004],\n",
       "       [0.84813286, 0.15186714],\n",
       "       [0.82344791, 0.17655209],\n",
       "       [0.72922642, 0.27077358],\n",
       "       [0.94928501, 0.05071499],\n",
       "       [0.78503483, 0.21496517],\n",
       "       [0.76496018, 0.23503982],\n",
       "       [0.81161464, 0.18838536],\n",
       "       [0.85541415, 0.14458585],\n",
       "       [0.96801553, 0.03198447],\n",
       "       [0.98705243, 0.01294757],\n",
       "       [0.9636536 , 0.0363464 ],\n",
       "       [0.93022637, 0.06977363],\n",
       "       [0.76670827, 0.23329173],\n",
       "       [0.84673153, 0.15326847],\n",
       "       [0.9015173 , 0.0984827 ],\n",
       "       [0.91670728, 0.08329272],\n",
       "       [0.7406913 , 0.2593087 ],\n",
       "       [0.88725696, 0.11274304],\n",
       "       [0.82153105, 0.17846895],\n",
       "       [0.77922033, 0.22077967],\n",
       "       [0.98943155, 0.01056845],\n",
       "       [0.89601608, 0.10398392],\n",
       "       [0.81781231, 0.18218769],\n",
       "       [0.93955107, 0.06044893],\n",
       "       [0.8795297 , 0.1204703 ],\n",
       "       [0.7568358 , 0.2431642 ],\n",
       "       [0.88692393, 0.11307607],\n",
       "       [0.73522108, 0.26477892],\n",
       "       [0.78233122, 0.21766878],\n",
       "       [0.85491514, 0.14508486],\n",
       "       [0.87613523, 0.12386477],\n",
       "       [0.9711422 , 0.0288578 ],\n",
       "       [0.90109791, 0.09890209],\n",
       "       [0.97966262, 0.02033738],\n",
       "       [0.88797977, 0.11202023],\n",
       "       [0.69272363, 0.30727637],\n",
       "       [0.91245102, 0.08754898],\n",
       "       [0.89442059, 0.10557941],\n",
       "       [0.77958228, 0.22041772],\n",
       "       [0.87131272, 0.12868728],\n",
       "       [0.86425143, 0.13574857],\n",
       "       [0.66522884, 0.33477116],\n",
       "       [0.95582918, 0.04417082],\n",
       "       [0.81241218, 0.18758782],\n",
       "       [0.95847675, 0.04152325],\n",
       "       [0.97091731, 0.02908269],\n",
       "       [0.80998862, 0.19001138],\n",
       "       [0.93041548, 0.06958452],\n",
       "       [0.82828634, 0.17171366],\n",
       "       [0.94218301, 0.05781699],\n",
       "       [0.71534766, 0.28465234],\n",
       "       [0.96284606, 0.03715394],\n",
       "       [0.75922056, 0.24077944],\n",
       "       [0.8465156 , 0.1534844 ],\n",
       "       [0.88307575, 0.11692425],\n",
       "       [0.58598321, 0.41401679],\n",
       "       [0.9359107 , 0.0640893 ],\n",
       "       [0.94862498, 0.05137502],\n",
       "       [0.51453033, 0.48546967],\n",
       "       [0.60982457, 0.39017543],\n",
       "       [0.95403191, 0.04596809],\n",
       "       [0.98830205, 0.01169795],\n",
       "       [0.93835195, 0.06164805],\n",
       "       [0.80705145, 0.19294855],\n",
       "       [0.98070934, 0.01929066],\n",
       "       [0.83288313, 0.16711687],\n",
       "       [0.97072315, 0.02927685],\n",
       "       [0.82034273, 0.17965727],\n",
       "       [0.88830613, 0.11169387],\n",
       "       [0.76432339, 0.23567661],\n",
       "       [0.95102441, 0.04897559],\n",
       "       [0.82865586, 0.17134414],\n",
       "       [0.77096642, 0.22903358],\n",
       "       [0.87290273, 0.12709727],\n",
       "       [0.73082543, 0.26917457],\n",
       "       [0.83066252, 0.16933748],\n",
       "       [0.85047322, 0.14952678],\n",
       "       [0.85187811, 0.14812189],\n",
       "       [0.72659315, 0.27340685],\n",
       "       [0.89836852, 0.10163148],\n",
       "       [0.97238061, 0.02761939],\n",
       "       [0.88668313, 0.11331687],\n",
       "       [0.9581093 , 0.0418907 ],\n",
       "       [0.8347693 , 0.1652307 ],\n",
       "       [0.80677698, 0.19322302],\n",
       "       [0.87140726, 0.12859274],\n",
       "       [0.98397886, 0.01602114],\n",
       "       [0.80496961, 0.19503039],\n",
       "       [0.88314347, 0.11685653],\n",
       "       [0.84751552, 0.15248448],\n",
       "       [0.94033325, 0.05966675],\n",
       "       [0.86224701, 0.13775299],\n",
       "       [0.96546076, 0.03453924],\n",
       "       [0.82723719, 0.17276281],\n",
       "       [0.83880688, 0.16119312],\n",
       "       [0.95690901, 0.04309099],\n",
       "       [0.70510929, 0.29489071],\n",
       "       [0.81797624, 0.18202376],\n",
       "       [0.91628555, 0.08371445],\n",
       "       [0.8530583 , 0.1469417 ],\n",
       "       [0.8030743 , 0.1969257 ],\n",
       "       [0.87390281, 0.12609719],\n",
       "       [0.74704905, 0.25295095],\n",
       "       [0.97855459, 0.02144541],\n",
       "       [0.97335577, 0.02664423],\n",
       "       [0.82432767, 0.17567233],\n",
       "       [0.51787676, 0.48212324],\n",
       "       [0.86150857, 0.13849143],\n",
       "       [0.98302706, 0.01697294],\n",
       "       [0.73446661, 0.26553339],\n",
       "       [0.97393651, 0.02606349],\n",
       "       [0.91909251, 0.08090749],\n",
       "       [0.80952048, 0.19047952],\n",
       "       [0.8880718 , 0.1119282 ],\n",
       "       [0.96993976, 0.03006024],\n",
       "       [0.73069151, 0.26930849],\n",
       "       [0.85531758, 0.14468242],\n",
       "       [0.94559051, 0.05440949],\n",
       "       [0.75751207, 0.24248793],\n",
       "       [0.90427164, 0.09572836],\n",
       "       [0.97017438, 0.02982562],\n",
       "       [0.93914302, 0.06085698],\n",
       "       [0.69488962, 0.30511038],\n",
       "       [0.69309603, 0.30690397],\n",
       "       [0.79098813, 0.20901187],\n",
       "       [0.82069742, 0.17930258],\n",
       "       [0.94511501, 0.05488499],\n",
       "       [0.95320851, 0.04679149],\n",
       "       [0.85529915, 0.14470085],\n",
       "       [0.81730752, 0.18269248],\n",
       "       [0.94960849, 0.05039151],\n",
       "       [0.80520568, 0.19479432],\n",
       "       [0.91651929, 0.08348071],\n",
       "       [0.8606362 , 0.1393638 ],\n",
       "       [0.52582427, 0.47417573],\n",
       "       [0.89625754, 0.10374246],\n",
       "       [0.65983474, 0.34016526],\n",
       "       [0.82767102, 0.17232898],\n",
       "       [0.6730679 , 0.3269321 ],\n",
       "       [0.73262291, 0.26737709],\n",
       "       [0.79034875, 0.20965125],\n",
       "       [0.81767542, 0.18232458],\n",
       "       [0.89524021, 0.10475979],\n",
       "       [0.97771682, 0.02228318],\n",
       "       [0.83695132, 0.16304868],\n",
       "       [0.83644106, 0.16355894],\n",
       "       [0.91518404, 0.08481596],\n",
       "       [0.90877017, 0.09122983],\n",
       "       [0.73643886, 0.26356114],\n",
       "       [0.99008848, 0.00991152],\n",
       "       [0.93982187, 0.06017813],\n",
       "       [0.56412874, 0.43587126],\n",
       "       [0.89481532, 0.10518468],\n",
       "       [0.8288966 , 0.1711034 ],\n",
       "       [0.53026168, 0.46973832],\n",
       "       [0.93996634, 0.06003366],\n",
       "       [0.80387694, 0.19612306],\n",
       "       [0.98367682, 0.01632318],\n",
       "       [0.90920717, 0.09079283],\n",
       "       [0.83182035, 0.16817965],\n",
       "       [0.90636469, 0.09363531],\n",
       "       [0.95368707, 0.04631293],\n",
       "       [0.87419828, 0.12580172],\n",
       "       [0.8305471 , 0.1694529 ],\n",
       "       [0.78373793, 0.21626207],\n",
       "       [0.89979726, 0.10020274],\n",
       "       [0.71619503, 0.28380497],\n",
       "       [0.84970276, 0.15029724],\n",
       "       [0.74192203, 0.25807797],\n",
       "       [0.79815634, 0.20184366],\n",
       "       [0.98648121, 0.01351879],\n",
       "       [0.92426881, 0.07573119],\n",
       "       [0.66147263, 0.33852737],\n",
       "       [0.91099315, 0.08900685],\n",
       "       [0.94613208, 0.05386792],\n",
       "       [0.88173374, 0.11826626],\n",
       "       [0.84668992, 0.15331008],\n",
       "       [0.81770737, 0.18229263],\n",
       "       [0.55775805, 0.44224195],\n",
       "       [0.78708615, 0.21291385],\n",
       "       [0.98286676, 0.01713324],\n",
       "       [0.46576251, 0.53423749],\n",
       "       [0.82388321, 0.17611679],\n",
       "       [0.86983238, 0.13016762],\n",
       "       [0.96804065, 0.03195935],\n",
       "       [0.92550004, 0.07449996],\n",
       "       [0.68895264, 0.31104736],\n",
       "       [0.82051186, 0.17948814],\n",
       "       [0.68637756, 0.31362244],\n",
       "       [0.827336  , 0.172664  ],\n",
       "       [0.96889464, 0.03110536],\n",
       "       [0.84162965, 0.15837035],\n",
       "       [0.90004787, 0.09995213],\n",
       "       [0.83537797, 0.16462203],\n",
       "       [0.84800009, 0.15199991],\n",
       "       [0.80063568, 0.19936432],\n",
       "       [0.88782692, 0.11217308],\n",
       "       [0.93231511, 0.06768489],\n",
       "       [0.84314384, 0.15685616],\n",
       "       [0.94686276, 0.05313724],\n",
       "       [0.6104769 , 0.3895231 ]])"
      ]
     },
     "execution_count": 50,
     "metadata": {},
     "output_type": "execute_result"
    }
   ],
   "source": [
    "logm.predict_proba(validationX)"
   ]
  },
  {
   "cell_type": "markdown",
   "id": "ec078258",
   "metadata": {},
   "source": [
    "## coefficeient"
   ]
  },
  {
   "cell_type": "code",
   "execution_count": 51,
   "id": "c4713ef7",
   "metadata": {
    "ExecuteTime": {
     "end_time": "2022-12-16T09:08:47.479759Z",
     "start_time": "2022-12-16T09:08:47.456400Z"
    }
   },
   "outputs": [
    {
     "data": {
      "text/html": [
       "<div>\n",
       "<style scoped>\n",
       "    .dataframe tbody tr th:only-of-type {\n",
       "        vertical-align: middle;\n",
       "    }\n",
       "\n",
       "    .dataframe tbody tr th {\n",
       "        vertical-align: top;\n",
       "    }\n",
       "\n",
       "    .dataframe thead th {\n",
       "        text-align: right;\n",
       "    }\n",
       "</style>\n",
       "<table border=\"1\" class=\"dataframe\">\n",
       "  <thead>\n",
       "    <tr style=\"text-align: right;\">\n",
       "      <th></th>\n",
       "      <th>Variable</th>\n",
       "      <th>Coeff</th>\n",
       "    </tr>\n",
       "  </thead>\n",
       "  <tbody>\n",
       "    <tr>\n",
       "      <th>13</th>\n",
       "      <td>NumCompaniesWorked</td>\n",
       "      <td>0.162387</td>\n",
       "    </tr>\n",
       "    <tr>\n",
       "      <th>4</th>\n",
       "      <td>Education</td>\n",
       "      <td>0.082871</td>\n",
       "    </tr>\n",
       "    <tr>\n",
       "      <th>14</th>\n",
       "      <td>OverTime</td>\n",
       "      <td>0.081818</td>\n",
       "    </tr>\n",
       "    <tr>\n",
       "      <th>24</th>\n",
       "      <td>YearsSinceLastPromotion</td>\n",
       "      <td>0.080499</td>\n",
       "    </tr>\n",
       "    <tr>\n",
       "      <th>22</th>\n",
       "      <td>YearsAtCompany</td>\n",
       "      <td>0.076793</td>\n",
       "    </tr>\n",
       "  </tbody>\n",
       "</table>\n",
       "</div>"
      ],
      "text/plain": [
       "                   Variable     Coeff\n",
       "13       NumCompaniesWorked  0.162387\n",
       "4                 Education  0.082871\n",
       "14                 OverTime  0.081818\n",
       "24  YearsSinceLastPromotion  0.080499\n",
       "22           YearsAtCompany  0.076793"
      ]
     },
     "execution_count": 51,
     "metadata": {},
     "output_type": "execute_result"
    }
   ],
   "source": [
    "summary = pd.DataFrame([trainX.columns, logm.coef_[0]]).T.sort_values(by = 1, ascending = False)\n",
    "summary.columns = ['Variable', 'Coeff']\n",
    "summary.head(n = 5)"
   ]
  },
  {
   "cell_type": "markdown",
   "id": "02ba21b5",
   "metadata": {},
   "source": [
    "**we can see the dataframe above, ```NumCompaniesWorked``` is the most inflencial factor to ```attrition```**"
   ]
  },
  {
   "cell_type": "markdown",
   "id": "d63580f6",
   "metadata": {},
   "source": [
    "## AUC"
   ]
  },
  {
   "cell_type": "code",
   "execution_count": 52,
   "id": "2dc0109b",
   "metadata": {
    "ExecuteTime": {
     "end_time": "2022-12-16T09:11:01.410815Z",
     "start_time": "2022-12-16T09:11:01.389716Z"
    }
   },
   "outputs": [],
   "source": [
    "Y_probs = logm.predict_proba(validationX)[:,1]"
   ]
  },
  {
   "cell_type": "code",
   "execution_count": 53,
   "id": "733390d6",
   "metadata": {
    "ExecuteTime": {
     "end_time": "2022-12-16T09:11:02.453462Z",
     "start_time": "2022-12-16T09:11:02.096725Z"
    }
   },
   "outputs": [
    {
     "data": {
      "image/png": "[encoded data removed]",
      "text/plain": [
       "<Figure size 432x288 with 1 Axes>"
      ]
     },
     "metadata": {
      "needs_background": "light"
     },
     "output_type": "display_data"
    }
   ],
   "source": [
    "from matplotlib import pyplot\n",
    "fpr, tpr, thresholds = metrics.roc_curve(validationY,Y_probs)\n",
    "pyplot.plot(fpr, tpr, linewidth=4)\n",
    "plt.show()"
   ]
  },
  {
   "cell_type": "code",
   "execution_count": 54,
   "id": "a50568c9",
   "metadata": {
    "ExecuteTime": {
     "end_time": "2022-12-16T09:11:04.043657Z",
     "start_time": "2022-12-16T09:11:04.023393Z"
    }
   },
   "outputs": [
    {
     "data": {
      "text/plain": [
       "0.7307692307692308"
      ]
     },
     "execution_count": 54,
     "metadata": {},
     "output_type": "execute_result"
    }
   ],
   "source": [
    "roc_auc_score(validationY,Y_probs)"
   ]
  },
  {
   "cell_type": "markdown",
   "id": "f701e33a",
   "metadata": {},
   "source": [
    "## Result"
   ]
  },
  {
   "cell_type": "code",
   "execution_count": 55,
   "id": "7efabe4c",
   "metadata": {
    "ExecuteTime": {
     "end_time": "2022-12-16T09:11:46.335421Z",
     "start_time": "2022-12-16T09:11:46.322088Z"
    },
    "scrolled": true
   },
   "outputs": [
    {
     "data": {
      "text/plain": [
       "[0.8012767869211175,\n",
       " 0.9761765163972791,\n",
       " 0.6725116700573397,\n",
       " 0.7307453195545732,\n",
       " 0.5664033878087492,\n",
       " 0.947022672603209,\n",
       " 0.830487055633383,\n",
       " 0.8173608809846471,\n",
       " 0.7141813531800429,\n",
       " 0.9662512879009872,\n",
       " 0.9578030909720032,\n",
       " 0.8578940786874427,\n",
       " 0.6779746136131848,\n",
       " 0.7782564793959318,\n",
       " 0.9183957728450521,\n",
       " 0.9155622787281059,\n",
       " 0.9207615781853304,\n",
       " 0.9375752439652781,\n",
       " 0.905120819278929,\n",
       " 0.849125319703098,\n",
       " 0.9001582478901093,\n",
       " 0.9867570789409268,\n",
       " 0.8245692499083644,\n",
       " 0.8547693054713006,\n",
       " 0.866252947721855,\n",
       " 0.9604327132531715,\n",
       " 0.8116045247360326,\n",
       " 0.984259891815018,\n",
       " 0.9802030848424006,\n",
       " 0.69080828199489,\n",
       " 0.6676369733898679,\n",
       " 0.9110176772453764,\n",
       " 0.7183156899754706,\n",
       " 0.7764815666921551,\n",
       " 0.8925922947312234,\n",
       " 0.7480334166210493,\n",
       " 0.9159337815227433,\n",
       " 0.9287295270385535,\n",
       " 0.8030366973238798,\n",
       " 0.978755487060305,\n",
       " 0.8727936122019659,\n",
       " 0.9342145423709385,\n",
       " 0.9309960230979605,\n",
       " 0.9723575546152083,\n",
       " 0.9837806224915772,\n",
       " 0.7825944195451868,\n",
       " 0.8269605194463174,\n",
       " 0.7625486152784641,\n",
       " 0.8051171289508663,\n",
       " 0.7364370495235906,\n",
       " 0.593113806921726,\n",
       " 0.7897983846671763,\n",
       " 0.8538304846256247,\n",
       " 0.75792288983584,\n",
       " 0.7437506163048094,\n",
       " 0.9157807079696394,\n",
       " 0.6997499631835546,\n",
       " 0.8481328637531328,\n",
       " 0.8234479097269569,\n",
       " 0.7292264170043219,\n",
       " 0.9492850137826383,\n",
       " 0.7850348337180447,\n",
       " 0.7649601765856409,\n",
       " 0.8116146427951257,\n",
       " 0.8554141543534222,\n",
       " 0.9680155264948952,\n",
       " 0.9870524271365121,\n",
       " 0.963653597609248,\n",
       " 0.9302263661514086,\n",
       " 0.7667082663500282,\n",
       " 0.8467315343289187,\n",
       " 0.9015173003524053,\n",
       " 0.9167072789404048,\n",
       " 0.7406912954957863,\n",
       " 0.8872569556078777,\n",
       " 0.8215310511993992,\n",
       " 0.7792203306011419,\n",
       " 0.9894315465296326,\n",
       " 0.8960160777795226,\n",
       " 0.8178123051762828,\n",
       " 0.9395510698712619,\n",
       " 0.8795296985940455,\n",
       " 0.7568358030396332,\n",
       " 0.8869239261802063,\n",
       " 0.7352210813709217,\n",
       " 0.7823312235349166,\n",
       " 0.8549151383986497,\n",
       " 0.8761352270044146,\n",
       " 0.9711422024141996,\n",
       " 0.9010979144135434,\n",
       " 0.9796626225254406,\n",
       " 0.8879797742200952,\n",
       " 0.6927236273769042,\n",
       " 0.9124510220747717,\n",
       " 0.8944205911741802,\n",
       " 0.7795822831690211,\n",
       " 0.8713127176034132,\n",
       " 0.8642514255679317,\n",
       " 0.6652288370862424,\n",
       " 0.9558291799058355,\n",
       " 0.8124121786017153,\n",
       " 0.9584767473226968,\n",
       " 0.9709173055598481,\n",
       " 0.8099886188859003,\n",
       " 0.9304154810427383,\n",
       " 0.828286343175848,\n",
       " 0.9421830121130079,\n",
       " 0.715347661148285,\n",
       " 0.9628460620289808,\n",
       " 0.7592205645474585,\n",
       " 0.846515601686594,\n",
       " 0.8830757518407806,\n",
       " 0.5859832086194157,\n",
       " 0.93591069825554,\n",
       " 0.9486249848897631,\n",
       " 0.5145303295441539,\n",
       " 0.6098245744772406,\n",
       " 0.9540319115826537,\n",
       " 0.9883020539866565,\n",
       " 0.938351947087668,\n",
       " 0.8070514523170268,\n",
       " 0.9807093446361268,\n",
       " 0.8328831342996044,\n",
       " 0.9707231538835756,\n",
       " 0.8203427270433652,\n",
       " 0.8883061294759622,\n",
       " 0.7643233933795237,\n",
       " 0.9510244070440389,\n",
       " 0.82865585780471,\n",
       " 0.7709664170969188,\n",
       " 0.8729027312174116,\n",
       " 0.730825427550289,\n",
       " 0.8306625219342848,\n",
       " 0.8504732230255406,\n",
       " 0.8518781081121795,\n",
       " 0.726593148495026,\n",
       " 0.8983685222756219,\n",
       " 0.9723806123330438,\n",
       " 0.8866831260956755,\n",
       " 0.9581092999321374,\n",
       " 0.8347692968809286,\n",
       " 0.8067769761311292,\n",
       " 0.8714072574076582,\n",
       " 0.9839788562659506,\n",
       " 0.8049696112105287,\n",
       " 0.8831434727521205,\n",
       " 0.8475155185069069,\n",
       " 0.9403332477613227,\n",
       " 0.8622470111268841,\n",
       " 0.9654607640693313,\n",
       " 0.8272371937793978,\n",
       " 0.8388068758786301,\n",
       " 0.9569090143653292,\n",
       " 0.7051092904577954,\n",
       " 0.8179762369528024,\n",
       " 0.9162855548738513,\n",
       " 0.853058297427818,\n",
       " 0.8030742972316817,\n",
       " 0.8739028057783145,\n",
       " 0.7470490453274194,\n",
       " 0.978554589289502,\n",
       " 0.9733557705096382,\n",
       " 0.8243276739769635,\n",
       " 0.5178767567158002,\n",
       " 0.8615085680389192,\n",
       " 0.9830270648563378,\n",
       " 0.7344666061811347,\n",
       " 0.973936508123197,\n",
       " 0.9190925086542788,\n",
       " 0.8095204800091522,\n",
       " 0.8880718048970817,\n",
       " 0.9699397643570109,\n",
       " 0.7306915072282232,\n",
       " 0.8553175803928411,\n",
       " 0.94559051211971,\n",
       " 0.757512066477452,\n",
       " 0.9042716431845625,\n",
       " 0.9701743784371574,\n",
       " 0.9391430246703016,\n",
       " 0.694889615646431,\n",
       " 0.6930960264126934,\n",
       " 0.7909881347834646,\n",
       " 0.8206974225804682,\n",
       " 0.9451150069477406,\n",
       " 0.9532085072442772,\n",
       " 0.8552991522857643,\n",
       " 0.8173075245934927,\n",
       " 0.9496084937605133,\n",
       " 0.8052056769766093,\n",
       " 0.9165192926982682,\n",
       " 0.8606362023335588,\n",
       " 0.5258242677886554,\n",
       " 0.8962575400360231,\n",
       " 0.6598347356119275,\n",
       " 0.8276710176307339,\n",
       " 0.6730678980790119,\n",
       " 0.7326229052155958,\n",
       " 0.7903487499847495,\n",
       " 0.8176754152186876,\n",
       " 0.8952402119801784,\n",
       " 0.9777168163092386,\n",
       " 0.8369513153746064,\n",
       " 0.8364410608996943,\n",
       " 0.9151840418909931,\n",
       " 0.9087701707016971,\n",
       " 0.7364388556362507,\n",
       " 0.9900884810840959,\n",
       " 0.9398218697000943,\n",
       " 0.564128737621783,\n",
       " 0.8948153180746092,\n",
       " 0.8288965963173502,\n",
       " 0.5302616826303038,\n",
       " 0.9399663412026668,\n",
       " 0.8038769379695815,\n",
       " 0.9836768241962719,\n",
       " 0.9092071662122788,\n",
       " 0.8318203549212158,\n",
       " 0.906364694454573,\n",
       " 0.953687065215615,\n",
       " 0.8741982769873788,\n",
       " 0.8305470995340724,\n",
       " 0.783737932857155,\n",
       " 0.8997972645859258,\n",
       " 0.7161950311008843,\n",
       " 0.8497027583567189,\n",
       " 0.7419220317776416,\n",
       " 0.7981563408374683,\n",
       " 0.9864812110823873,\n",
       " 0.9242688113323234,\n",
       " 0.6614726282804748,\n",
       " 0.9109931470571784,\n",
       " 0.94613208265135,\n",
       " 0.8817337356790707,\n",
       " 0.8466899247933299,\n",
       " 0.8177073673819965,\n",
       " 0.5577580480820314,\n",
       " 0.7870861524344611,\n",
       " 0.9828667625416873,\n",
       " 0.465762511375552,\n",
       " 0.8238832064934823,\n",
       " 0.8698323826645389,\n",
       " 0.9680406462553589,\n",
       " 0.9255000400339151,\n",
       " 0.6889526397474048,\n",
       " 0.8205118573728085,\n",
       " 0.686377561576327,\n",
       " 0.8273359970243371,\n",
       " 0.9688946370173367,\n",
       " 0.8416296495497013,\n",
       " 0.9000478725880005,\n",
       " 0.835377966103466,\n",
       " 0.8480000894218119,\n",
       " 0.8006356836580872,\n",
       " 0.8878269224552316,\n",
       " 0.932315113294301,\n",
       " 0.8431438360884435,\n",
       " 0.9468627642614837,\n",
       " 0.6104769017100407]"
      ]
     },
     "execution_count": 55,
     "metadata": {},
     "output_type": "execute_result"
    }
   ],
   "source": [
    "# doesn't leave\n",
    "Y_probs_0 = logm.predict_proba(validationX)[:,0]\n",
    "Y_probs_0_list = list(Y_probs_0)\n",
    "Y_probs_0_list"
   ]
  },
  {
   "cell_type": "code",
   "execution_count": 56,
   "id": "61d5cb76",
   "metadata": {
    "ExecuteTime": {
     "end_time": "2022-12-16T09:12:15.261888Z",
     "start_time": "2022-12-16T09:12:15.244979Z"
    },
    "scrolled": true
   },
   "outputs": [
    {
     "data": {
      "text/plain": [
       "[0.19872321307888258,\n",
       " 0.023823483602720893,\n",
       " 0.3274883299426603,\n",
       " 0.2692546804454268,\n",
       " 0.4335966121912508,\n",
       " 0.052977327396790994,\n",
       " 0.16951294436661707,\n",
       " 0.18263911901535287,\n",
       " 0.285818646819957,\n",
       " 0.03374871209901277,\n",
       " 0.042196909027996825,\n",
       " 0.14210592131255734,\n",
       " 0.32202538638681527,\n",
       " 0.22174352060406818,\n",
       " 0.08160422715494786,\n",
       " 0.08443772127189411,\n",
       " 0.07923842181466961,\n",
       " 0.06242475603472189,\n",
       " 0.09487918072107104,\n",
       " 0.150874680296902,\n",
       " 0.09984175210989069,\n",
       " 0.013242921059073183,\n",
       " 0.17543075009163558,\n",
       " 0.14523069452869947,\n",
       " 0.13374705227814504,\n",
       " 0.03956728674682854,\n",
       " 0.18839547526396744,\n",
       " 0.015740108184981987,\n",
       " 0.019796915157599435,\n",
       " 0.30919171800511003,\n",
       " 0.3323630266101321,\n",
       " 0.08898232275462359,\n",
       " 0.28168431002452937,\n",
       " 0.22351843330784496,\n",
       " 0.10740770526877665,\n",
       " 0.2519665833789507,\n",
       " 0.08406621847725665,\n",
       " 0.07127047296144655,\n",
       " 0.1969633026761202,\n",
       " 0.021244512939695037,\n",
       " 0.12720638779803406,\n",
       " 0.06578545762906149,\n",
       " 0.06900397690203956,\n",
       " 0.02764244538479169,\n",
       " 0.016219377508422846,\n",
       " 0.21740558045481315,\n",
       " 0.17303948055368257,\n",
       " 0.23745138472153596,\n",
       " 0.19488287104913365,\n",
       " 0.2635629504764095,\n",
       " 0.406886193078274,\n",
       " 0.21020161533282367,\n",
       " 0.14616951537437525,\n",
       " 0.24207711016416003,\n",
       " 0.25624938369519057,\n",
       " 0.08421929203036059,\n",
       " 0.3002500368164454,\n",
       " 0.1518671362468672,\n",
       " 0.17655209027304303,\n",
       " 0.27077358299567816,\n",
       " 0.050714986217361695,\n",
       " 0.21496516628195525,\n",
       " 0.23503982341435914,\n",
       " 0.1883853572048743,\n",
       " 0.1445858456465779,\n",
       " 0.03198447350510479,\n",
       " 0.012947572863487942,\n",
       " 0.03634640239075201,\n",
       " 0.0697736338485914,\n",
       " 0.23329173364997177,\n",
       " 0.15326846567108135,\n",
       " 0.09848269964759468,\n",
       " 0.08329272105959513,\n",
       " 0.2593087045042138,\n",
       " 0.11274304439212231,\n",
       " 0.1784689488006008,\n",
       " 0.22077966939885807,\n",
       " 0.01056845347036742,\n",
       " 0.10398392222047738,\n",
       " 0.1821876948237172,\n",
       " 0.06044893012873809,\n",
       " 0.12047030140595451,\n",
       " 0.2431641969603668,\n",
       " 0.11307607381979365,\n",
       " 0.2647789186290783,\n",
       " 0.21766877646508345,\n",
       " 0.14508486160135028,\n",
       " 0.1238647729955854,\n",
       " 0.028857797585800465,\n",
       " 0.09890208558645662,\n",
       " 0.02033737747455941,\n",
       " 0.11202022577990478,\n",
       " 0.30727637262309576,\n",
       " 0.08754897792522827,\n",
       " 0.10557940882581987,\n",
       " 0.22041771683097888,\n",
       " 0.12868728239658678,\n",
       " 0.1357485744320684,\n",
       " 0.33477116291375764,\n",
       " 0.04417082009416454,\n",
       " 0.1875878213982847,\n",
       " 0.04152325267730313,\n",
       " 0.02908269444015186,\n",
       " 0.19001138111409963,\n",
       " 0.06958451895726167,\n",
       " 0.17171365682415193,\n",
       " 0.057816987886992105,\n",
       " 0.28465233885171504,\n",
       " 0.03715393797101913,\n",
       " 0.24077943545254157,\n",
       " 0.15348439831340596,\n",
       " 0.11692424815921944,\n",
       " 0.4140167913805844,\n",
       " 0.06408930174446008,\n",
       " 0.05137501511023687,\n",
       " 0.4854696704558461,\n",
       " 0.39017542552275936,\n",
       " 0.045968088417346384,\n",
       " 0.011697946013343482,\n",
       " 0.061648052912332045,\n",
       " 0.19294854768297318,\n",
       " 0.019290655363873203,\n",
       " 0.16711686570039558,\n",
       " 0.029276846116424497,\n",
       " 0.17965727295663483,\n",
       " 0.1116938705240378,\n",
       " 0.23567660662047635,\n",
       " 0.04897559295596106,\n",
       " 0.17134414219529004,\n",
       " 0.22903358290308118,\n",
       " 0.12709726878258842,\n",
       " 0.26917457244971094,\n",
       " 0.1693374780657152,\n",
       " 0.1495267769744594,\n",
       " 0.14812189188782057,\n",
       " 0.273406851504974,\n",
       " 0.10163147772437814,\n",
       " 0.027619387666956173,\n",
       " 0.11331687390432456,\n",
       " 0.0418907000678625,\n",
       " 0.16523070311907145,\n",
       " 0.19322302386887075,\n",
       " 0.12859274259234174,\n",
       " 0.016021143734049424,\n",
       " 0.19503038878947138,\n",
       " 0.11685652724787957,\n",
       " 0.15248448149309313,\n",
       " 0.05966675223867738,\n",
       " 0.1377529888731159,\n",
       " 0.03453923593066871,\n",
       " 0.17276280622060222,\n",
       " 0.16119312412136985,\n",
       " 0.04309098563467082,\n",
       " 0.29489070954220464,\n",
       " 0.18202376304719756,\n",
       " 0.0837144451261487,\n",
       " 0.14694170257218192,\n",
       " 0.19692570276831836,\n",
       " 0.1260971942216855,\n",
       " 0.2529509546725806,\n",
       " 0.021445410710498047,\n",
       " 0.026644229490361826,\n",
       " 0.17567232602303653,\n",
       " 0.48212324328419975,\n",
       " 0.1384914319610808,\n",
       " 0.01697293514366214,\n",
       " 0.2655333938188653,\n",
       " 0.026063491876803024,\n",
       " 0.08090749134572114,\n",
       " 0.19047951999084783,\n",
       " 0.11192819510291827,\n",
       " 0.030060235642989118,\n",
       " 0.26930849277177676,\n",
       " 0.14468241960715889,\n",
       " 0.054409487880289965,\n",
       " 0.24248793352254802,\n",
       " 0.0957283568154375,\n",
       " 0.02982562156284268,\n",
       " 0.060856975329698325,\n",
       " 0.30511038435356896,\n",
       " 0.3069039735873066,\n",
       " 0.20901186521653536,\n",
       " 0.17930257741953187,\n",
       " 0.05488499305225937,\n",
       " 0.04679149275572281,\n",
       " 0.14470084771423575,\n",
       " 0.18269247540650735,\n",
       " 0.05039150623948676,\n",
       " 0.19479432302339073,\n",
       " 0.08348070730173184,\n",
       " 0.13936379766644125,\n",
       " 0.47417573221134457,\n",
       " 0.10374245996397694,\n",
       " 0.3401652643880725,\n",
       " 0.1723289823692661,\n",
       " 0.32693210192098815,\n",
       " 0.2673770947844042,\n",
       " 0.2096512500152506,\n",
       " 0.18232458478131247,\n",
       " 0.10475978801982158,\n",
       " 0.02228318369076145,\n",
       " 0.16304868462539351,\n",
       " 0.16355893910030572,\n",
       " 0.08481595810900683,\n",
       " 0.09122982929830296,\n",
       " 0.2635611443637494,\n",
       " 0.009911518915904121,\n",
       " 0.060178130299905666,\n",
       " 0.435871262378217,\n",
       " 0.10518468192539077,\n",
       " 0.17110340368264979,\n",
       " 0.4697383173696962,\n",
       " 0.060033658797333245,\n",
       " 0.19612306203041854,\n",
       " 0.016323175803728145,\n",
       " 0.09079283378772122,\n",
       " 0.16817964507878427,\n",
       " 0.093635305545427,\n",
       " 0.046312934784385064,\n",
       " 0.12580172301262116,\n",
       " 0.16945290046592762,\n",
       " 0.21626206714284502,\n",
       " 0.1002027354140742,\n",
       " 0.28380496889911566,\n",
       " 0.150297241643281,\n",
       " 0.25807796822235834,\n",
       " 0.20184365916253172,\n",
       " 0.013518788917612766,\n",
       " 0.07573118866767663,\n",
       " 0.3385273717195251,\n",
       " 0.08900685294282158,\n",
       " 0.053867917348650034,\n",
       " 0.1182662643209294,\n",
       " 0.1533100752066701,\n",
       " 0.18229263261800357,\n",
       " 0.4422419519179686,\n",
       " 0.21291384756553888,\n",
       " 0.01713323745831277,\n",
       " 0.534237488624448,\n",
       " 0.17611679350651763,\n",
       " 0.13016761733546106,\n",
       " 0.03195935374464113,\n",
       " 0.07449995996608495,\n",
       " 0.3110473602525951,\n",
       " 0.1794881426271915,\n",
       " 0.31362243842367293,\n",
       " 0.17266400297566284,\n",
       " 0.03110536298266331,\n",
       " 0.1583703504502987,\n",
       " 0.09995212741199955,\n",
       " 0.16462203389653396,\n",
       " 0.15199991057818807,\n",
       " 0.19936431634191273,\n",
       " 0.11217307754476837,\n",
       " 0.06768488670569903,\n",
       " 0.15685616391155655,\n",
       " 0.05313723573851628,\n",
       " 0.3895230982899594]"
      ]
     },
     "execution_count": 56,
     "metadata": {},
     "output_type": "execute_result"
    }
   ],
   "source": [
    "# leave\n",
    "Y_probs_1=logm.predict_proba(validationX)[:,1]\n",
    "Y_probs_1_list = list(Y_probs_1)\n",
    "Y_probs_1_list"
   ]
  },
  {
   "cell_type": "markdown",
   "id": "f4c2ae29",
   "metadata": {},
   "source": [
    "# Predict probability in lyon"
   ]
  },
  {
   "cell_type": "code",
   "execution_count": 60,
   "id": "b5880143",
   "metadata": {
    "ExecuteTime": {
     "end_time": "2022-12-16T09:13:53.830616Z",
     "start_time": "2022-12-16T09:13:53.754436Z"
    },
    "scrolled": true
   },
   "outputs": [
    {
     "data": {
      "text/html": [
       "<div>\n",
       "<style scoped>\n",
       "    .dataframe tbody tr th:only-of-type {\n",
       "        vertical-align: middle;\n",
       "    }\n",
       "\n",
       "    .dataframe tbody tr th {\n",
       "        vertical-align: top;\n",
       "    }\n",
       "\n",
       "    .dataframe thead th {\n",
       "        text-align: right;\n",
       "    }\n",
       "</style>\n",
       "<table border=\"1\" class=\"dataframe\">\n",
       "  <thead>\n",
       "    <tr style=\"text-align: right;\">\n",
       "      <th></th>\n",
       "      <th>Age</th>\n",
       "      <th>BusinessTravel</th>\n",
       "      <th>DailyRate</th>\n",
       "      <th>Department</th>\n",
       "      <th>DistanceFromHome</th>\n",
       "      <th>Education</th>\n",
       "      <th>EducationField</th>\n",
       "      <th>EmployeeCount</th>\n",
       "      <th>EmployeeNumber</th>\n",
       "      <th>EnvironmentSatisfaction</th>\n",
       "      <th>...</th>\n",
       "      <th>RelationshipSatisfaction</th>\n",
       "      <th>StandardHours</th>\n",
       "      <th>StockOptionLevel</th>\n",
       "      <th>TotalWorkingYears</th>\n",
       "      <th>TrainingTimesLastYear</th>\n",
       "      <th>WorkLifeBalance</th>\n",
       "      <th>YearsAtCompany</th>\n",
       "      <th>YearsInCurrentRole</th>\n",
       "      <th>YearsSinceLastPromotion</th>\n",
       "      <th>YearsWithCurrManager</th>\n",
       "    </tr>\n",
       "  </thead>\n",
       "  <tbody>\n",
       "    <tr>\n",
       "      <th>0</th>\n",
       "      <td>NaN</td>\n",
       "      <td>Travel_Rarely</td>\n",
       "      <td>866.0</td>\n",
       "      <td>Sales</td>\n",
       "      <td>NaN</td>\n",
       "      <td>3</td>\n",
       "      <td>Medical</td>\n",
       "      <td>1</td>\n",
       "      <td>1469</td>\n",
       "      <td>4</td>\n",
       "      <td>...</td>\n",
       "      <td>4</td>\n",
       "      <td>80</td>\n",
       "      <td>0</td>\n",
       "      <td>6</td>\n",
       "      <td>4</td>\n",
       "      <td>3</td>\n",
       "      <td>5</td>\n",
       "      <td>4</td>\n",
       "      <td>1</td>\n",
       "      <td>3</td>\n",
       "    </tr>\n",
       "    <tr>\n",
       "      <th>1</th>\n",
       "      <td>53.0</td>\n",
       "      <td>Travel_Rarely</td>\n",
       "      <td>1084.0</td>\n",
       "      <td>Research &amp; Development</td>\n",
       "      <td>13.0</td>\n",
       "      <td>2</td>\n",
       "      <td>Medical</td>\n",
       "      <td>1</td>\n",
       "      <td>250</td>\n",
       "      <td>4</td>\n",
       "      <td>...</td>\n",
       "      <td>3</td>\n",
       "      <td>80</td>\n",
       "      <td>2</td>\n",
       "      <td>5</td>\n",
       "      <td>3</td>\n",
       "      <td>3</td>\n",
       "      <td>4</td>\n",
       "      <td>2</td>\n",
       "      <td>1</td>\n",
       "      <td>3</td>\n",
       "    </tr>\n",
       "    <tr>\n",
       "      <th>2</th>\n",
       "      <td>24.0</td>\n",
       "      <td>Travel_Rarely</td>\n",
       "      <td>240.0</td>\n",
       "      <td>Human Resources</td>\n",
       "      <td>22.0</td>\n",
       "      <td>1</td>\n",
       "      <td>Human Resources</td>\n",
       "      <td>1</td>\n",
       "      <td>1714</td>\n",
       "      <td>4</td>\n",
       "      <td>...</td>\n",
       "      <td>3</td>\n",
       "      <td>80</td>\n",
       "      <td>1</td>\n",
       "      <td>1</td>\n",
       "      <td>2</td>\n",
       "      <td>3</td>\n",
       "      <td>1</td>\n",
       "      <td>0</td>\n",
       "      <td>0</td>\n",
       "      <td>0</td>\n",
       "    </tr>\n",
       "    <tr>\n",
       "      <th>3</th>\n",
       "      <td>45.0</td>\n",
       "      <td>Travel_Rarely</td>\n",
       "      <td>1339.0</td>\n",
       "      <td>Research &amp; Development</td>\n",
       "      <td>7.0</td>\n",
       "      <td>3</td>\n",
       "      <td>Life Sciences</td>\n",
       "      <td>1</td>\n",
       "      <td>86</td>\n",
       "      <td>2</td>\n",
       "      <td>...</td>\n",
       "      <td>3</td>\n",
       "      <td>80</td>\n",
       "      <td>1</td>\n",
       "      <td>25</td>\n",
       "      <td>2</td>\n",
       "      <td>3</td>\n",
       "      <td>1</td>\n",
       "      <td>0</td>\n",
       "      <td>0</td>\n",
       "      <td>0</td>\n",
       "    </tr>\n",
       "    <tr>\n",
       "      <th>4</th>\n",
       "      <td>36.0</td>\n",
       "      <td>Travel_Rarely</td>\n",
       "      <td>1396.0</td>\n",
       "      <td>Research &amp; Development</td>\n",
       "      <td>NaN</td>\n",
       "      <td>2</td>\n",
       "      <td>Life Sciences</td>\n",
       "      <td>1</td>\n",
       "      <td>304</td>\n",
       "      <td>4</td>\n",
       "      <td>...</td>\n",
       "      <td>4</td>\n",
       "      <td>80</td>\n",
       "      <td>0</td>\n",
       "      <td>16</td>\n",
       "      <td>3</td>\n",
       "      <td>4</td>\n",
       "      <td>13</td>\n",
       "      <td>11</td>\n",
       "      <td>3</td>\n",
       "      <td>7</td>\n",
       "    </tr>\n",
       "    <tr>\n",
       "      <th>...</th>\n",
       "      <td>...</td>\n",
       "      <td>...</td>\n",
       "      <td>...</td>\n",
       "      <td>...</td>\n",
       "      <td>...</td>\n",
       "      <td>...</td>\n",
       "      <td>...</td>\n",
       "      <td>...</td>\n",
       "      <td>...</td>\n",
       "      <td>...</td>\n",
       "      <td>...</td>\n",
       "      <td>...</td>\n",
       "      <td>...</td>\n",
       "      <td>...</td>\n",
       "      <td>...</td>\n",
       "      <td>...</td>\n",
       "      <td>...</td>\n",
       "      <td>...</td>\n",
       "      <td>...</td>\n",
       "      <td>...</td>\n",
       "      <td>...</td>\n",
       "    </tr>\n",
       "    <tr>\n",
       "      <th>436</th>\n",
       "      <td>33.0</td>\n",
       "      <td>Travel_Frequently</td>\n",
       "      <td>430.0</td>\n",
       "      <td>Sales</td>\n",
       "      <td>7.0</td>\n",
       "      <td>3</td>\n",
       "      <td>Medical</td>\n",
       "      <td>1</td>\n",
       "      <td>1477</td>\n",
       "      <td>4</td>\n",
       "      <td>...</td>\n",
       "      <td>1</td>\n",
       "      <td>80</td>\n",
       "      <td>2</td>\n",
       "      <td>5</td>\n",
       "      <td>2</td>\n",
       "      <td>3</td>\n",
       "      <td>4</td>\n",
       "      <td>3</td>\n",
       "      <td>0</td>\n",
       "      <td>3</td>\n",
       "    </tr>\n",
       "    <tr>\n",
       "      <th>437</th>\n",
       "      <td>27.0</td>\n",
       "      <td>Non-Travel</td>\n",
       "      <td>210.0</td>\n",
       "      <td>Sales</td>\n",
       "      <td>1.0</td>\n",
       "      <td>1</td>\n",
       "      <td>Marketing</td>\n",
       "      <td>1</td>\n",
       "      <td>449</td>\n",
       "      <td>3</td>\n",
       "      <td>...</td>\n",
       "      <td>4</td>\n",
       "      <td>80</td>\n",
       "      <td>1</td>\n",
       "      <td>6</td>\n",
       "      <td>0</td>\n",
       "      <td>3</td>\n",
       "      <td>5</td>\n",
       "      <td>4</td>\n",
       "      <td>1</td>\n",
       "      <td>4</td>\n",
       "    </tr>\n",
       "    <tr>\n",
       "      <th>438</th>\n",
       "      <td>NaN</td>\n",
       "      <td>Travel_Rarely</td>\n",
       "      <td>1157.0</td>\n",
       "      <td>Research &amp; Development</td>\n",
       "      <td>2.0</td>\n",
       "      <td>4</td>\n",
       "      <td>Medical</td>\n",
       "      <td>1</td>\n",
       "      <td>440</td>\n",
       "      <td>1</td>\n",
       "      <td>...</td>\n",
       "      <td>4</td>\n",
       "      <td>80</td>\n",
       "      <td>0</td>\n",
       "      <td>5</td>\n",
       "      <td>4</td>\n",
       "      <td>2</td>\n",
       "      <td>3</td>\n",
       "      <td>2</td>\n",
       "      <td>2</td>\n",
       "      <td>2</td>\n",
       "    </tr>\n",
       "    <tr>\n",
       "      <th>439</th>\n",
       "      <td>39.0</td>\n",
       "      <td>Travel_Rarely</td>\n",
       "      <td>1383.0</td>\n",
       "      <td>Human Resources</td>\n",
       "      <td>2.0</td>\n",
       "      <td>3</td>\n",
       "      <td>Life Sciences</td>\n",
       "      <td>1</td>\n",
       "      <td>909</td>\n",
       "      <td>4</td>\n",
       "      <td>...</td>\n",
       "      <td>3</td>\n",
       "      <td>80</td>\n",
       "      <td>2</td>\n",
       "      <td>13</td>\n",
       "      <td>2</td>\n",
       "      <td>3</td>\n",
       "      <td>5</td>\n",
       "      <td>4</td>\n",
       "      <td>0</td>\n",
       "      <td>4</td>\n",
       "    </tr>\n",
       "    <tr>\n",
       "      <th>440</th>\n",
       "      <td>NaN</td>\n",
       "      <td>Travel_Rarely</td>\n",
       "      <td>104.0</td>\n",
       "      <td>Research &amp; Development</td>\n",
       "      <td>2.0</td>\n",
       "      <td>3</td>\n",
       "      <td>Life Sciences</td>\n",
       "      <td>1</td>\n",
       "      <td>1569</td>\n",
       "      <td>1</td>\n",
       "      <td>...</td>\n",
       "      <td>4</td>\n",
       "      <td>80</td>\n",
       "      <td>1</td>\n",
       "      <td>1</td>\n",
       "      <td>2</td>\n",
       "      <td>3</td>\n",
       "      <td>1</td>\n",
       "      <td>0</td>\n",
       "      <td>0</td>\n",
       "      <td>0</td>\n",
       "    </tr>\n",
       "  </tbody>\n",
       "</table>\n",
       "<p>441 rows × 34 columns</p>\n",
       "</div>"
      ],
      "text/plain": [
       "      Age     BusinessTravel  DailyRate              Department  \\\n",
       "0     NaN      Travel_Rarely      866.0                   Sales   \n",
       "1    53.0      Travel_Rarely     1084.0  Research & Development   \n",
       "2    24.0      Travel_Rarely      240.0         Human Resources   \n",
       "3    45.0      Travel_Rarely     1339.0  Research & Development   \n",
       "4    36.0      Travel_Rarely     1396.0  Research & Development   \n",
       "..    ...                ...        ...                     ...   \n",
       "436  33.0  Travel_Frequently      430.0                   Sales   \n",
       "437  27.0         Non-Travel      210.0                   Sales   \n",
       "438   NaN      Travel_Rarely     1157.0  Research & Development   \n",
       "439  39.0      Travel_Rarely     1383.0         Human Resources   \n",
       "440   NaN      Travel_Rarely      104.0  Research & Development   \n",
       "\n",
       "     DistanceFromHome  Education   EducationField  EmployeeCount  \\\n",
       "0                 NaN          3          Medical              1   \n",
       "1                13.0          2          Medical              1   \n",
       "2                22.0          1  Human Resources              1   \n",
       "3                 7.0          3    Life Sciences              1   \n",
       "4                 NaN          2    Life Sciences              1   \n",
       "..                ...        ...              ...            ...   \n",
       "436               7.0          3          Medical              1   \n",
       "437               1.0          1        Marketing              1   \n",
       "438               2.0          4          Medical              1   \n",
       "439               2.0          3    Life Sciences              1   \n",
       "440               2.0          3    Life Sciences              1   \n",
       "\n",
       "     EmployeeNumber  EnvironmentSatisfaction  ... RelationshipSatisfaction  \\\n",
       "0              1469                        4  ...                        4   \n",
       "1               250                        4  ...                        3   \n",
       "2              1714                        4  ...                        3   \n",
       "3                86                        2  ...                        3   \n",
       "4               304                        4  ...                        4   \n",
       "..              ...                      ...  ...                      ...   \n",
       "436            1477                        4  ...                        1   \n",
       "437             449                        3  ...                        4   \n",
       "438             440                        1  ...                        4   \n",
       "439             909                        4  ...                        3   \n",
       "440            1569                        1  ...                        4   \n",
       "\n",
       "     StandardHours  StockOptionLevel  TotalWorkingYears TrainingTimesLastYear  \\\n",
       "0               80                 0                  6                     4   \n",
       "1               80                 2                  5                     3   \n",
       "2               80                 1                  1                     2   \n",
       "3               80                 1                 25                     2   \n",
       "4               80                 0                 16                     3   \n",
       "..             ...               ...                ...                   ...   \n",
       "436             80                 2                  5                     2   \n",
       "437             80                 1                  6                     0   \n",
       "438             80                 0                  5                     4   \n",
       "439             80                 2                 13                     2   \n",
       "440             80                 1                  1                     2   \n",
       "\n",
       "     WorkLifeBalance YearsAtCompany  YearsInCurrentRole  \\\n",
       "0                  3              5                   4   \n",
       "1                  3              4                   2   \n",
       "2                  3              1                   0   \n",
       "3                  3              1                   0   \n",
       "4                  4             13                  11   \n",
       "..               ...            ...                 ...   \n",
       "436                3              4                   3   \n",
       "437                3              5                   4   \n",
       "438                2              3                   2   \n",
       "439                3              5                   4   \n",
       "440                3              1                   0   \n",
       "\n",
       "     YearsSinceLastPromotion  YearsWithCurrManager  \n",
       "0                          1                     3  \n",
       "1                          1                     3  \n",
       "2                          0                     0  \n",
       "3                          0                     0  \n",
       "4                          3                     7  \n",
       "..                       ...                   ...  \n",
       "436                        0                     3  \n",
       "437                        1                     4  \n",
       "438                        2                     2  \n",
       "439                        0                     4  \n",
       "440                        0                     0  \n",
       "\n",
       "[441 rows x 34 columns]"
      ]
     },
     "execution_count": 60,
     "metadata": {},
     "output_type": "execute_result"
    }
   ],
   "source": [
    "# read data\n",
    "df1 = pd.read_csv(\"employee_attrition_lyon.csv\")\n",
    "df1"
   ]
  },
  {
   "cell_type": "markdown",
   "id": "60e66f26",
   "metadata": {},
   "source": [
    "## Pre-Processing data"
   ]
  },
  {
   "cell_type": "code",
   "execution_count": 61,
   "id": "63382c87",
   "metadata": {
    "ExecuteTime": {
     "end_time": "2022-12-16T09:13:57.805106Z",
     "start_time": "2022-12-16T09:13:57.788983Z"
    }
   },
   "outputs": [],
   "source": [
    "# drop columns with only one unique value\n",
    "df1 = df1.drop(columns=['StandardHours'])\n",
    "df1 = df1.drop(columns=['Over18'])\n",
    "df1 = df1.drop(columns=['EmployeeCount'])\n",
    "\n",
    "# drop irrelevant column\n",
    "df1 = df1.drop(columns=['EmployeeNumber'])"
   ]
  },
  {
   "cell_type": "code",
   "execution_count": 62,
   "id": "ea034b98",
   "metadata": {
    "ExecuteTime": {
     "end_time": "2022-12-16T09:14:01.090326Z",
     "start_time": "2022-12-16T09:14:01.078474Z"
    }
   },
   "outputs": [],
   "source": [
    "# Age\n",
    "from sklearn.impute import KNNImputer\n",
    "imputer = KNNImputer(n_neighbors=1)\n",
    "df1[[\"Age\"]] = imputer.fit_transform(df1[[\"Age\"]])"
   ]
  },
  {
   "cell_type": "code",
   "execution_count": 63,
   "id": "2579b6ed",
   "metadata": {
    "ExecuteTime": {
     "end_time": "2022-12-16T09:14:01.626342Z",
     "start_time": "2022-12-16T09:14:01.610894Z"
    }
   },
   "outputs": [],
   "source": [
    "# DailyRate\n",
    "from sklearn.impute import KNNImputer\n",
    "imputer = KNNImputer(n_neighbors=1)\n",
    "df1[[\"DailyRate\"]] = imputer.fit_transform(df1[[\"DailyRate\"]])"
   ]
  },
  {
   "cell_type": "code",
   "execution_count": 64,
   "id": "72488b57",
   "metadata": {
    "ExecuteTime": {
     "end_time": "2022-12-16T09:14:02.177505Z",
     "start_time": "2022-12-16T09:14:02.161832Z"
    }
   },
   "outputs": [],
   "source": [
    "# DistanceFromHome\n",
    "from sklearn.impute import KNNImputer\n",
    "imputer = KNNImputer(n_neighbors=1)\n",
    "df1[[\"DistanceFromHome\"]] = imputer.fit_transform(df1[[\"DistanceFromHome\"]])"
   ]
  },
  {
   "cell_type": "code",
   "execution_count": 65,
   "id": "0fcaeefd",
   "metadata": {
    "ExecuteTime": {
     "end_time": "2022-12-16T09:14:02.694768Z",
     "start_time": "2022-12-16T09:14:02.688849Z"
    }
   },
   "outputs": [],
   "source": [
    "# fill in missing values with the value appears most\n",
    "values = {\"BusinessTravel\": \"Travel_Rarely\"}\n",
    "df1 = df1.fillna(value = values)"
   ]
  },
  {
   "cell_type": "code",
   "execution_count": 66,
   "id": "830fd27c",
   "metadata": {
    "ExecuteTime": {
     "end_time": "2022-12-16T09:14:03.161882Z",
     "start_time": "2022-12-16T09:14:03.155542Z"
    }
   },
   "outputs": [],
   "source": [
    "# fill in missing values with the value appears most\n",
    "values = {\"MaritalStatus\": \"Married\"}\n",
    "df1=df1.fillna(value=values)"
   ]
  },
  {
   "cell_type": "code",
   "execution_count": 67,
   "id": "31463ff3",
   "metadata": {
    "ExecuteTime": {
     "end_time": "2022-12-16T09:14:03.843486Z",
     "start_time": "2022-12-16T09:14:03.830312Z"
    }
   },
   "outputs": [],
   "source": [
    "df1[\"OverTime\"] = df1[\"OverTime\"].replace(\"Yes\",1)\n",
    "df1[\"OverTime\"] = df1[\"OverTime\"].replace(\"No\",0)\n",
    "df1[\"Gender\"] = df1[\"Gender\"].replace(\"Male\",1)\n",
    "df1[\"Gender\"] = df1[\"Gender\"].replace(\"Female\",0)"
   ]
  },
  {
   "cell_type": "code",
   "execution_count": 68,
   "id": "60351ee2",
   "metadata": {
    "ExecuteTime": {
     "end_time": "2022-12-16T09:14:04.285628Z",
     "start_time": "2022-12-16T09:14:04.274052Z"
    }
   },
   "outputs": [],
   "source": [
    "# ordinal encoding\n",
    "encoder = OrdinalEncoder(categories=[['Non-Travel','Travel_Rarely','Travel_Frequently']])\n",
    "df1[\"BusinessTravel\"] = encoder.fit_transform(df1[[\"BusinessTravel\"]]) # transform data"
   ]
  },
  {
   "cell_type": "code",
   "execution_count": 69,
   "id": "ee3253ce",
   "metadata": {
    "ExecuteTime": {
     "end_time": "2022-12-16T09:14:04.729929Z",
     "start_time": "2022-12-16T09:14:04.720505Z"
    }
   },
   "outputs": [],
   "source": [
    "df1=df1.merge(pd.get_dummies(df1.Department),left_index=True, right_index=True)\n",
    "df1.rename(columns={\"Human Resources\":\"Dep_Human Resources\"},inplace=True)"
   ]
  },
  {
   "cell_type": "code",
   "execution_count": 70,
   "id": "1b3eecf8",
   "metadata": {
    "ExecuteTime": {
     "end_time": "2022-12-16T09:14:05.169609Z",
     "start_time": "2022-12-16T09:14:05.149057Z"
    },
    "scrolled": true
   },
   "outputs": [
    {
     "name": "stdout",
     "output_type": "stream",
     "text": [
      "<class 'pandas.core.frame.DataFrame'>\n",
      "RangeIndex: 441 entries, 0 to 440\n",
      "Data columns (total 33 columns):\n",
      " #   Column                    Non-Null Count  Dtype  \n",
      "---  ------                    --------------  -----  \n",
      " 0   Age                       441 non-null    float64\n",
      " 1   BusinessTravel            441 non-null    float64\n",
      " 2   DailyRate                 441 non-null    float64\n",
      " 3   Department                441 non-null    object \n",
      " 4   DistanceFromHome          441 non-null    float64\n",
      " 5   Education                 441 non-null    int64  \n",
      " 6   EducationField            441 non-null    object \n",
      " 7   EnvironmentSatisfaction   441 non-null    int64  \n",
      " 8   Gender                    441 non-null    int64  \n",
      " 9   HourlyRate                441 non-null    int64  \n",
      " 10  JobInvolvement            441 non-null    int64  \n",
      " 11  JobLevel                  441 non-null    int64  \n",
      " 12  JobRole                   441 non-null    object \n",
      " 13  JobSatisfaction           441 non-null    int64  \n",
      " 14  MaritalStatus             441 non-null    object \n",
      " 15  MonthlyIncome             441 non-null    int64  \n",
      " 16  MonthlyRate               441 non-null    int64  \n",
      " 17  NumCompaniesWorked        441 non-null    int64  \n",
      " 18  OverTime                  441 non-null    int64  \n",
      " 19  PercentSalaryHike         441 non-null    int64  \n",
      " 20  PerformanceRating         441 non-null    int64  \n",
      " 21  RelationshipSatisfaction  441 non-null    int64  \n",
      " 22  StockOptionLevel          441 non-null    int64  \n",
      " 23  TotalWorkingYears         441 non-null    int64  \n",
      " 24  TrainingTimesLastYear     441 non-null    int64  \n",
      " 25  WorkLifeBalance           441 non-null    int64  \n",
      " 26  YearsAtCompany            441 non-null    int64  \n",
      " 27  YearsInCurrentRole        441 non-null    int64  \n",
      " 28  YearsSinceLastPromotion   441 non-null    int64  \n",
      " 29  YearsWithCurrManager      441 non-null    int64  \n",
      " 30  Dep_Human Resources       441 non-null    uint8  \n",
      " 31  Research & Development    441 non-null    uint8  \n",
      " 32  Sales                     441 non-null    uint8  \n",
      "dtypes: float64(4), int64(22), object(4), uint8(3)\n",
      "memory usage: 104.8+ KB\n"
     ]
    }
   ],
   "source": [
    "df1.info()"
   ]
  },
  {
   "cell_type": "code",
   "execution_count": 71,
   "id": "5500720a",
   "metadata": {
    "ExecuteTime": {
     "end_time": "2022-12-16T09:14:07.856825Z",
     "start_time": "2022-12-16T09:14:07.833872Z"
    }
   },
   "outputs": [],
   "source": [
    "# one-hot encoding\n",
    "df1=df1.merge(pd.get_dummies(df1.EducationField),left_index=True, right_index=True)\n",
    "df1=df1.merge(pd.get_dummies(df1.JobRole),left_index=True, right_index=True)\n",
    "df1=df1.merge(pd.get_dummies(df1.MaritalStatus),left_index=True, right_index=True)"
   ]
  },
  {
   "cell_type": "code",
   "execution_count": 72,
   "id": "9035235a",
   "metadata": {
    "ExecuteTime": {
     "end_time": "2022-12-16T09:14:08.328225Z",
     "start_time": "2022-12-16T09:14:08.316546Z"
    }
   },
   "outputs": [],
   "source": [
    "df1.drop(columns=\"Department\",inplace=True)\n",
    "df1.drop(columns=\"EducationField\",inplace=True)\n",
    "df1.drop(columns=\"JobRole\",inplace=True)\n",
    "df1.drop(columns=\"MaritalStatus\",inplace=True)"
   ]
  },
  {
   "cell_type": "markdown",
   "id": "ccb18472",
   "metadata": {},
   "source": [
    "## Logistic regression"
   ]
  },
  {
   "cell_type": "code",
   "execution_count": 73,
   "id": "99029764",
   "metadata": {
    "ExecuteTime": {
     "end_time": "2022-12-16T09:14:14.991906Z",
     "start_time": "2022-12-16T09:14:14.988814Z"
    }
   },
   "outputs": [],
   "source": [
    "#creating the dependent variable\n",
    "X = df1"
   ]
  },
  {
   "cell_type": "code",
   "execution_count": 74,
   "id": "a12f85bf",
   "metadata": {
    "ExecuteTime": {
     "end_time": "2022-12-16T09:14:15.716459Z",
     "start_time": "2022-12-16T09:14:15.691974Z"
    }
   },
   "outputs": [
    {
     "data": {
      "text/plain": [
       "array([[0.90005839, 0.09994161],\n",
       "       [0.76165911, 0.23834089],\n",
       "       [0.74225702, 0.25774298],\n",
       "       [0.95124202, 0.04875798],\n",
       "       [0.90225504, 0.09774496],\n",
       "       [0.90802751, 0.09197249],\n",
       "       [0.83057349, 0.16942651],\n",
       "       [0.59156424, 0.40843576],\n",
       "       [0.78064215, 0.21935785],\n",
       "       [0.82019727, 0.17980273],\n",
       "       [0.72873822, 0.27126178],\n",
       "       [0.91870479, 0.08129521],\n",
       "       [0.61502236, 0.38497764],\n",
       "       [0.88227639, 0.11772361],\n",
       "       [0.83455931, 0.16544069],\n",
       "       [0.91533054, 0.08466946],\n",
       "       [0.76369921, 0.23630079],\n",
       "       [0.93456341, 0.06543659],\n",
       "       [0.87997145, 0.12002855],\n",
       "       [0.89960469, 0.10039531],\n",
       "       [0.87024093, 0.12975907],\n",
       "       [0.89857704, 0.10142296],\n",
       "       [0.80962589, 0.19037411],\n",
       "       [0.82702236, 0.17297764],\n",
       "       [0.84082004, 0.15917996],\n",
       "       [0.98038701, 0.01961299],\n",
       "       [0.75818234, 0.24181766],\n",
       "       [0.95472643, 0.04527357],\n",
       "       [0.75712271, 0.24287729],\n",
       "       [0.85733018, 0.14266982],\n",
       "       [0.89948393, 0.10051607],\n",
       "       [0.89663061, 0.10336939],\n",
       "       [0.94440379, 0.05559621],\n",
       "       [0.86786175, 0.13213825],\n",
       "       [0.82579977, 0.17420023],\n",
       "       [0.91870881, 0.08129119],\n",
       "       [0.96963848, 0.03036152],\n",
       "       [0.54835299, 0.45164701],\n",
       "       [0.68679764, 0.31320236],\n",
       "       [0.85143613, 0.14856387],\n",
       "       [0.89959847, 0.10040153],\n",
       "       [0.74688216, 0.25311784],\n",
       "       [0.76304571, 0.23695429],\n",
       "       [0.79458018, 0.20541982],\n",
       "       [0.67000327, 0.32999673],\n",
       "       [0.85867302, 0.14132698],\n",
       "       [0.78876007, 0.21123993],\n",
       "       [0.68862175, 0.31137825],\n",
       "       [0.91092863, 0.08907137],\n",
       "       [0.82718769, 0.17281231],\n",
       "       [0.94933197, 0.05066803],\n",
       "       [0.87698246, 0.12301754],\n",
       "       [0.96784243, 0.03215757],\n",
       "       [0.88743038, 0.11256962],\n",
       "       [0.59994768, 0.40005232],\n",
       "       [0.9060709 , 0.0939291 ],\n",
       "       [0.80359769, 0.19640231],\n",
       "       [0.94617816, 0.05382184],\n",
       "       [0.78352801, 0.21647199],\n",
       "       [0.87903882, 0.12096118],\n",
       "       [0.85865594, 0.14134406],\n",
       "       [0.67284345, 0.32715655],\n",
       "       [0.88101249, 0.11898751],\n",
       "       [0.98423917, 0.01576083],\n",
       "       [0.78010582, 0.21989418],\n",
       "       [0.74319805, 0.25680195],\n",
       "       [0.93901706, 0.06098294],\n",
       "       [0.91436683, 0.08563317],\n",
       "       [0.90010933, 0.09989067],\n",
       "       [0.9442678 , 0.0557322 ],\n",
       "       [0.87665804, 0.12334196],\n",
       "       [0.92558594, 0.07441406],\n",
       "       [0.8798002 , 0.1201998 ],\n",
       "       [0.94025018, 0.05974982],\n",
       "       [0.73878123, 0.26121877],\n",
       "       [0.93539826, 0.06460174],\n",
       "       [0.81425989, 0.18574011],\n",
       "       [0.72923467, 0.27076533],\n",
       "       [0.96184316, 0.03815684],\n",
       "       [0.92258576, 0.07741424],\n",
       "       [0.99019111, 0.00980889],\n",
       "       [0.72498097, 0.27501903],\n",
       "       [0.97040639, 0.02959361],\n",
       "       [0.81301985, 0.18698015],\n",
       "       [0.95366065, 0.04633935],\n",
       "       [0.83336407, 0.16663593],\n",
       "       [0.94420945, 0.05579055],\n",
       "       [0.64885788, 0.35114212],\n",
       "       [0.8084347 , 0.1915653 ],\n",
       "       [0.95463228, 0.04536772],\n",
       "       [0.91176481, 0.08823519],\n",
       "       [0.82723037, 0.17276963],\n",
       "       [0.91114061, 0.08885939],\n",
       "       [0.77565433, 0.22434567],\n",
       "       [0.87993551, 0.12006449],\n",
       "       [0.9144049 , 0.0855951 ],\n",
       "       [0.91446807, 0.08553193],\n",
       "       [0.84888998, 0.15111002],\n",
       "       [0.86535855, 0.13464145],\n",
       "       [0.93284172, 0.06715828],\n",
       "       [0.98240253, 0.01759747],\n",
       "       [0.96300916, 0.03699084],\n",
       "       [0.91476266, 0.08523734],\n",
       "       [0.63688664, 0.36311336],\n",
       "       [0.9424798 , 0.0575202 ],\n",
       "       [0.9320334 , 0.0679666 ],\n",
       "       [0.73343422, 0.26656578],\n",
       "       [0.43850168, 0.56149832],\n",
       "       [0.86317522, 0.13682478],\n",
       "       [0.93781328, 0.06218672],\n",
       "       [0.64330325, 0.35669675],\n",
       "       [0.79662236, 0.20337764],\n",
       "       [0.87451581, 0.12548419],\n",
       "       [0.86811397, 0.13188603],\n",
       "       [0.78612957, 0.21387043],\n",
       "       [0.78977507, 0.21022493],\n",
       "       [0.77528031, 0.22471969],\n",
       "       [0.88190792, 0.11809208],\n",
       "       [0.93537858, 0.06462142],\n",
       "       [0.66299061, 0.33700939],\n",
       "       [0.77720984, 0.22279016],\n",
       "       [0.93847667, 0.06152333],\n",
       "       [0.81253755, 0.18746245],\n",
       "       [0.96462971, 0.03537029],\n",
       "       [0.82922318, 0.17077682],\n",
       "       [0.69135952, 0.30864048],\n",
       "       [0.80040107, 0.19959893],\n",
       "       [0.80653897, 0.19346103],\n",
       "       [0.87136987, 0.12863013],\n",
       "       [0.8683748 , 0.1316252 ],\n",
       "       [0.95958805, 0.04041195],\n",
       "       [0.75007479, 0.24992521],\n",
       "       [0.95469817, 0.04530183],\n",
       "       [0.95473538, 0.04526462],\n",
       "       [0.93763604, 0.06236396],\n",
       "       [0.83407077, 0.16592923],\n",
       "       [0.83913688, 0.16086312],\n",
       "       [0.82017587, 0.17982413],\n",
       "       [0.7810521 , 0.2189479 ],\n",
       "       [0.98374575, 0.01625425],\n",
       "       [0.7630851 , 0.2369149 ],\n",
       "       [0.96625496, 0.03374504],\n",
       "       [0.86374389, 0.13625611],\n",
       "       [0.93438812, 0.06561188],\n",
       "       [0.99524557, 0.00475443],\n",
       "       [0.92361591, 0.07638409],\n",
       "       [0.92708866, 0.07291134],\n",
       "       [0.77222691, 0.22777309],\n",
       "       [0.7061727 , 0.2938273 ],\n",
       "       [0.74711671, 0.25288329],\n",
       "       [0.9330318 , 0.0669682 ],\n",
       "       [0.95094141, 0.04905859],\n",
       "       [0.9066011 , 0.0933989 ],\n",
       "       [0.81486082, 0.18513918],\n",
       "       [0.80727849, 0.19272151],\n",
       "       [0.77386081, 0.22613919],\n",
       "       [0.84736901, 0.15263099],\n",
       "       [0.82121363, 0.17878637],\n",
       "       [0.91034764, 0.08965236],\n",
       "       [0.87214573, 0.12785427],\n",
       "       [0.74635846, 0.25364154],\n",
       "       [0.90702567, 0.09297433],\n",
       "       [0.89460877, 0.10539123],\n",
       "       [0.85749661, 0.14250339],\n",
       "       [0.96530956, 0.03469044],\n",
       "       [0.87290596, 0.12709404],\n",
       "       [0.89207334, 0.10792666],\n",
       "       [0.67081858, 0.32918142],\n",
       "       [0.92839262, 0.07160738],\n",
       "       [0.96820463, 0.03179537],\n",
       "       [0.85067157, 0.14932843],\n",
       "       [0.93832044, 0.06167956],\n",
       "       [0.49910239, 0.50089761],\n",
       "       [0.76168226, 0.23831774],\n",
       "       [0.82587323, 0.17412677],\n",
       "       [0.96511347, 0.03488653],\n",
       "       [0.62510377, 0.37489623],\n",
       "       [0.8972008 , 0.1027992 ],\n",
       "       [0.93520206, 0.06479794],\n",
       "       [0.79691197, 0.20308803],\n",
       "       [0.95737139, 0.04262861],\n",
       "       [0.8928931 , 0.1071069 ],\n",
       "       [0.9889076 , 0.0110924 ],\n",
       "       [0.79834297, 0.20165703],\n",
       "       [0.95644712, 0.04355288],\n",
       "       [0.80348474, 0.19651526],\n",
       "       [0.86871416, 0.13128584],\n",
       "       [0.93151954, 0.06848046],\n",
       "       [0.95436603, 0.04563397],\n",
       "       [0.9210343 , 0.0789657 ],\n",
       "       [0.89815572, 0.10184428],\n",
       "       [0.93976507, 0.06023493],\n",
       "       [0.95049799, 0.04950201],\n",
       "       [0.76417004, 0.23582996],\n",
       "       [0.93344041, 0.06655959],\n",
       "       [0.81426971, 0.18573029],\n",
       "       [0.65567099, 0.34432901],\n",
       "       [0.92028997, 0.07971003],\n",
       "       [0.86042414, 0.13957586],\n",
       "       [0.73328292, 0.26671708],\n",
       "       [0.87524625, 0.12475375],\n",
       "       [0.79165145, 0.20834855],\n",
       "       [0.83254084, 0.16745916],\n",
       "       [0.96545641, 0.03454359],\n",
       "       [0.98491532, 0.01508468],\n",
       "       [0.75386757, 0.24613243],\n",
       "       [0.95395633, 0.04604367],\n",
       "       [0.94023921, 0.05976079],\n",
       "       [0.9105829 , 0.0894171 ],\n",
       "       [0.92773561, 0.07226439],\n",
       "       [0.91835224, 0.08164776],\n",
       "       [0.81206072, 0.18793928],\n",
       "       [0.88604452, 0.11395548],\n",
       "       [0.7012546 , 0.2987454 ],\n",
       "       [0.94826921, 0.05173079],\n",
       "       [0.90874054, 0.09125946],\n",
       "       [0.78830014, 0.21169986],\n",
       "       [0.89873376, 0.10126624],\n",
       "       [0.73743509, 0.26256491],\n",
       "       [0.98171753, 0.01828247],\n",
       "       [0.86416865, 0.13583135],\n",
       "       [0.82122357, 0.17877643],\n",
       "       [0.93076801, 0.06923199],\n",
       "       [0.65384159, 0.34615841],\n",
       "       [0.74288157, 0.25711843],\n",
       "       [0.87093993, 0.12906007],\n",
       "       [0.71027931, 0.28972069],\n",
       "       [0.82940457, 0.17059543],\n",
       "       [0.91546105, 0.08453895],\n",
       "       [0.84303295, 0.15696705],\n",
       "       [0.75246041, 0.24753959],\n",
       "       [0.79141271, 0.20858729],\n",
       "       [0.97680658, 0.02319342],\n",
       "       [0.91401506, 0.08598494],\n",
       "       [0.89543432, 0.10456568],\n",
       "       [0.96246811, 0.03753189],\n",
       "       [0.95901877, 0.04098123],\n",
       "       [0.9038662 , 0.0961338 ],\n",
       "       [0.96438538, 0.03561462],\n",
       "       [0.96453763, 0.03546237],\n",
       "       [0.86407772, 0.13592228],\n",
       "       [0.93691455, 0.06308545],\n",
       "       [0.67729416, 0.32270584],\n",
       "       [0.96487194, 0.03512806],\n",
       "       [0.9156718 , 0.0843282 ],\n",
       "       [0.73113346, 0.26886654],\n",
       "       [0.86451099, 0.13548901],\n",
       "       [0.78589927, 0.21410073],\n",
       "       [0.61356447, 0.38643553],\n",
       "       [0.94825239, 0.05174761],\n",
       "       [0.72157108, 0.27842892],\n",
       "       [0.88621694, 0.11378306],\n",
       "       [0.91437757, 0.08562243],\n",
       "       [0.95814073, 0.04185927],\n",
       "       [0.93888784, 0.06111216],\n",
       "       [0.96250697, 0.03749303],\n",
       "       [0.63612229, 0.36387771],\n",
       "       [0.76523922, 0.23476078],\n",
       "       [0.37480994, 0.62519006],\n",
       "       [0.98208383, 0.01791617],\n",
       "       [0.8032246 , 0.1967754 ],\n",
       "       [0.94402514, 0.05597486],\n",
       "       [0.70875215, 0.29124785],\n",
       "       [0.80797401, 0.19202599],\n",
       "       [0.74214626, 0.25785374],\n",
       "       [0.9224116 , 0.0775884 ],\n",
       "       [0.97971352, 0.02028648],\n",
       "       [0.92300241, 0.07699759],\n",
       "       [0.73459411, 0.26540589],\n",
       "       [0.53571539, 0.46428461],\n",
       "       [0.80505967, 0.19494033],\n",
       "       [0.98002601, 0.01997399],\n",
       "       [0.74347153, 0.25652847],\n",
       "       [0.93129286, 0.06870714],\n",
       "       [0.93903256, 0.06096744],\n",
       "       [0.69418983, 0.30581017],\n",
       "       [0.72960961, 0.27039039],\n",
       "       [0.69064709, 0.30935291],\n",
       "       [0.93145895, 0.06854105],\n",
       "       [0.86715603, 0.13284397],\n",
       "       [0.83688583, 0.16311417],\n",
       "       [0.66336483, 0.33663517],\n",
       "       [0.4756366 , 0.5243634 ],\n",
       "       [0.94026872, 0.05973128],\n",
       "       [0.92451577, 0.07548423],\n",
       "       [0.81935472, 0.18064528],\n",
       "       [0.85982461, 0.14017539],\n",
       "       [0.70695844, 0.29304156],\n",
       "       [0.96853362, 0.03146638],\n",
       "       [0.93659292, 0.06340708],\n",
       "       [0.78132279, 0.21867721],\n",
       "       [0.93724045, 0.06275955],\n",
       "       [0.74977362, 0.25022638],\n",
       "       [0.90440055, 0.09559945],\n",
       "       [0.82676351, 0.17323649],\n",
       "       [0.76967732, 0.23032268],\n",
       "       [0.90009702, 0.09990298],\n",
       "       [0.84504784, 0.15495216],\n",
       "       [0.88404782, 0.11595218],\n",
       "       [0.91873605, 0.08126395],\n",
       "       [0.96271283, 0.03728717],\n",
       "       [0.81422803, 0.18577197],\n",
       "       [0.73926913, 0.26073087],\n",
       "       [0.71799907, 0.28200093],\n",
       "       [0.87411813, 0.12588187],\n",
       "       [0.97228907, 0.02771093],\n",
       "       [0.63108634, 0.36891366],\n",
       "       [0.87154737, 0.12845263],\n",
       "       [0.77015793, 0.22984207],\n",
       "       [0.81580221, 0.18419779],\n",
       "       [0.93123188, 0.06876812],\n",
       "       [0.74906273, 0.25093727],\n",
       "       [0.84820226, 0.15179774],\n",
       "       [0.8091738 , 0.1908262 ],\n",
       "       [0.97223247, 0.02776753],\n",
       "       [0.77475473, 0.22524527],\n",
       "       [0.95096654, 0.04903346],\n",
       "       [0.79650946, 0.20349054],\n",
       "       [0.94302323, 0.05697677],\n",
       "       [0.9847007 , 0.0152993 ],\n",
       "       [0.90399097, 0.09600903],\n",
       "       [0.93226795, 0.06773205],\n",
       "       [0.9277288 , 0.0722712 ],\n",
       "       [0.90403094, 0.09596906],\n",
       "       [0.82840278, 0.17159722],\n",
       "       [0.85030445, 0.14969555],\n",
       "       [0.95459483, 0.04540517],\n",
       "       [0.84652905, 0.15347095],\n",
       "       [0.87489844, 0.12510156],\n",
       "       [0.93488598, 0.06511402],\n",
       "       [0.80701946, 0.19298054],\n",
       "       [0.89774055, 0.10225945],\n",
       "       [0.99539248, 0.00460752],\n",
       "       [0.98560775, 0.01439225],\n",
       "       [0.96135009, 0.03864991],\n",
       "       [0.92748279, 0.07251721],\n",
       "       [0.91393609, 0.08606391],\n",
       "       [0.90056546, 0.09943454],\n",
       "       [0.82562109, 0.17437891],\n",
       "       [0.92866059, 0.07133941],\n",
       "       [0.82257101, 0.17742899],\n",
       "       [0.92413292, 0.07586708],\n",
       "       [0.91817295, 0.08182705],\n",
       "       [0.96110601, 0.03889399],\n",
       "       [0.81879034, 0.18120966],\n",
       "       [0.77187951, 0.22812049],\n",
       "       [0.65641109, 0.34358891],\n",
       "       [0.85207774, 0.14792226],\n",
       "       [0.93377546, 0.06622454],\n",
       "       [0.93483613, 0.06516387],\n",
       "       [0.88192122, 0.11807878],\n",
       "       [0.74706049, 0.25293951],\n",
       "       [0.94507947, 0.05492053],\n",
       "       [0.95770702, 0.04229298],\n",
       "       [0.81263744, 0.18736256],\n",
       "       [0.85382091, 0.14617909],\n",
       "       [0.80859761, 0.19140239],\n",
       "       [0.66292899, 0.33707101],\n",
       "       [0.97208376, 0.02791624],\n",
       "       [0.76628126, 0.23371874],\n",
       "       [0.78794441, 0.21205559],\n",
       "       [0.79461314, 0.20538686],\n",
       "       [0.7917277 , 0.2082723 ],\n",
       "       [0.70768036, 0.29231964],\n",
       "       [0.76197183, 0.23802817],\n",
       "       [0.90541743, 0.09458257],\n",
       "       [0.69909231, 0.30090769],\n",
       "       [0.92076418, 0.07923582],\n",
       "       [0.81435585, 0.18564415],\n",
       "       [0.79143355, 0.20856645],\n",
       "       [0.9438412 , 0.0561588 ],\n",
       "       [0.94599137, 0.05400863],\n",
       "       [0.91851903, 0.08148097],\n",
       "       [0.92047834, 0.07952166],\n",
       "       [0.900209  , 0.099791  ],\n",
       "       [0.67831552, 0.32168448],\n",
       "       [0.60793538, 0.39206462],\n",
       "       [0.97166042, 0.02833958],\n",
       "       [0.85010007, 0.14989993],\n",
       "       [0.81522219, 0.18477781],\n",
       "       [0.85079802, 0.14920198],\n",
       "       [0.78201965, 0.21798035],\n",
       "       [0.92143806, 0.07856194],\n",
       "       [0.77266731, 0.22733269],\n",
       "       [0.92305335, 0.07694665],\n",
       "       [0.89553529, 0.10446471],\n",
       "       [0.8675171 , 0.1324829 ],\n",
       "       [0.91868697, 0.08131303],\n",
       "       [0.67655228, 0.32344772],\n",
       "       [0.80973862, 0.19026138],\n",
       "       [0.82177077, 0.17822923],\n",
       "       [0.94285208, 0.05714792],\n",
       "       [0.78294806, 0.21705194],\n",
       "       [0.90469625, 0.09530375],\n",
       "       [0.80374169, 0.19625831],\n",
       "       [0.83211404, 0.16788596],\n",
       "       [0.93368832, 0.06631168],\n",
       "       [0.83970669, 0.16029331],\n",
       "       [0.81795716, 0.18204284],\n",
       "       [0.94014168, 0.05985832],\n",
       "       [0.93664433, 0.06335567],\n",
       "       [0.74504729, 0.25495271],\n",
       "       [0.87779065, 0.12220935],\n",
       "       [0.82762793, 0.17237207],\n",
       "       [0.81336229, 0.18663771],\n",
       "       [0.94775581, 0.05224419],\n",
       "       [0.53883756, 0.46116244],\n",
       "       [0.88303886, 0.11696114],\n",
       "       [0.53744441, 0.46255559],\n",
       "       [0.79669043, 0.20330957],\n",
       "       [0.80588953, 0.19411047],\n",
       "       [0.92964267, 0.07035733],\n",
       "       [0.96177438, 0.03822562],\n",
       "       [0.80875183, 0.19124817],\n",
       "       [0.42506944, 0.57493056],\n",
       "       [0.76341769, 0.23658231],\n",
       "       [0.82953792, 0.17046208],\n",
       "       [0.94372143, 0.05627857],\n",
       "       [0.61074468, 0.38925532],\n",
       "       [0.68521851, 0.31478149],\n",
       "       [0.8590251 , 0.1409749 ],\n",
       "       [0.93338385, 0.06661615],\n",
       "       [0.88528008, 0.11471992],\n",
       "       [0.88682986, 0.11317014],\n",
       "       [0.94972341, 0.05027659],\n",
       "       [0.95541421, 0.04458579],\n",
       "       [0.94551062, 0.05448938],\n",
       "       [0.77011876, 0.22988124],\n",
       "       [0.95198554, 0.04801446],\n",
       "       [0.60558658, 0.39441342],\n",
       "       [0.93721978, 0.06278022],\n",
       "       [0.61674232, 0.38325768],\n",
       "       [0.84403115, 0.15596885],\n",
       "       [0.83258931, 0.16741069],\n",
       "       [0.88861998, 0.11138002],\n",
       "       [0.95932753, 0.04067247],\n",
       "       [0.84762047, 0.15237953],\n",
       "       [0.86781643, 0.13218357],\n",
       "       [0.56464771, 0.43535229],\n",
       "       [0.78807324, 0.21192676],\n",
       "       [0.57606333, 0.42393667]])"
      ]
     },
     "execution_count": 74,
     "metadata": {},
     "output_type": "execute_result"
    }
   ],
   "source": [
    "logm.predict_proba(X)"
   ]
  },
  {
   "cell_type": "markdown",
   "id": "5688c877",
   "metadata": {
    "ExecuteTime": {
     "end_time": "2022-12-15T11:43:41.181839Z",
     "start_time": "2022-12-15T11:43:41.176661Z"
    }
   },
   "source": [
    "### Result"
   ]
  },
  {
   "cell_type": "code",
   "execution_count": 76,
   "id": "06d04c16",
   "metadata": {
    "ExecuteTime": {
     "end_time": "2022-12-16T09:15:15.979665Z",
     "start_time": "2022-12-16T09:15:15.962283Z"
    },
    "scrolled": true
   },
   "outputs": [
    {
     "data": {
      "text/plain": [
       "[0.09994161181415692,\n",
       " 0.23834088917552093,\n",
       " 0.25774297786519773,\n",
       " 0.04875798194051762,\n",
       " 0.09774495583449551,\n",
       " 0.09197248631289086,\n",
       " 0.16942651066675793,\n",
       " 0.408435759580558,\n",
       " 0.21935784547586007,\n",
       " 0.1798027346666544,\n",
       " 0.2712617762258977,\n",
       " 0.08129520860562763,\n",
       " 0.38497764428765113,\n",
       " 0.1177236087481236,\n",
       " 0.16544069342784112,\n",
       " 0.08466946301959123,\n",
       " 0.2363007934605901,\n",
       " 0.06543659259106344,\n",
       " 0.12002855322200072,\n",
       " 0.10039531192751844,\n",
       " 0.12975907295571965,\n",
       " 0.10142295732560083,\n",
       " 0.19037410643042463,\n",
       " 0.17297764126183193,\n",
       " 0.1591799631342817,\n",
       " 0.01961298900437655,\n",
       " 0.24181765767541658,\n",
       " 0.04527357426503618,\n",
       " 0.24287729205401679,\n",
       " 0.1426698191887107,\n",
       " 0.10051607211079426,\n",
       " 0.1033693907742639,\n",
       " 0.05559621298392732,\n",
       " 0.13213825375827587,\n",
       " 0.17420022566794535,\n",
       " 0.0812911935530703,\n",
       " 0.030361519789919963,\n",
       " 0.45164700854969037,\n",
       " 0.31320235583040057,\n",
       " 0.14856386627904636,\n",
       " 0.10040153102453685,\n",
       " 0.25311783848708347,\n",
       " 0.23695428996628132,\n",
       " 0.20541981941851892,\n",
       " 0.32999672641261696,\n",
       " 0.14132698290649903,\n",
       " 0.21123993229992927,\n",
       " 0.3113782471826527,\n",
       " 0.08907136979849332,\n",
       " 0.17281231294951924,\n",
       " 0.05066803376023948,\n",
       " 0.12301754195242054,\n",
       " 0.03215757073026961,\n",
       " 0.1125696227759563,\n",
       " 0.40005231721646095,\n",
       " 0.09392910420817598,\n",
       " 0.1964023098006411,\n",
       " 0.053821842417947185,\n",
       " 0.21647199378381268,\n",
       " 0.12096118415637738,\n",
       " 0.14134406341128625,\n",
       " 0.3271565457501633,\n",
       " 0.11898751115658186,\n",
       " 0.01576083217328519,\n",
       " 0.21989417879847248,\n",
       " 0.25680195043569587,\n",
       " 0.060982938803237685,\n",
       " 0.08563316518527689,\n",
       " 0.09989066620689693,\n",
       " 0.055732198931613575,\n",
       " 0.12334196324635757,\n",
       " 0.07441405851181408,\n",
       " 0.12019979505516704,\n",
       " 0.05974982320515027,\n",
       " 0.26121876827327356,\n",
       " 0.06460174463394727,\n",
       " 0.18574010851908754,\n",
       " 0.270765334834768,\n",
       " 0.038156835104154206,\n",
       " 0.07741423708723266,\n",
       " 0.009808889541696763,\n",
       " 0.27501903471751943,\n",
       " 0.029593606013449063,\n",
       " 0.1869801492349416,\n",
       " 0.04633935044618345,\n",
       " 0.16663592688499435,\n",
       " 0.0557905510969753,\n",
       " 0.3511421188068926,\n",
       " 0.19156529615611742,\n",
       " 0.045367722484018845,\n",
       " 0.08823519436184855,\n",
       " 0.1727696286017047,\n",
       " 0.08885939367414869,\n",
       " 0.22434567361228197,\n",
       " 0.1200644882201969,\n",
       " 0.0855951005214788,\n",
       " 0.08553193233294913,\n",
       " 0.15111002180258198,\n",
       " 0.13464145072180408,\n",
       " 0.06715827596589795,\n",
       " 0.017597474323489317,\n",
       " 0.03699084140599426,\n",
       " 0.08523733842990706,\n",
       " 0.3631133587776648,\n",
       " 0.05752020175089631,\n",
       " 0.06796659675716772,\n",
       " 0.26656578224860916,\n",
       " 0.5614983217908055,\n",
       " 0.1368247777269801,\n",
       " 0.06218672248440185,\n",
       " 0.3566967464767481,\n",
       " 0.20337764393228444,\n",
       " 0.12548419295502172,\n",
       " 0.13188602611876976,\n",
       " 0.2138704342380772,\n",
       " 0.21022493387589036,\n",
       " 0.22471969425732571,\n",
       " 0.1180920756451572,\n",
       " 0.06462141891535764,\n",
       " 0.3370093898630421,\n",
       " 0.2227901552151014,\n",
       " 0.06152332916517971,\n",
       " 0.18746245144656076,\n",
       " 0.035370286361796156,\n",
       " 0.1707768211500075,\n",
       " 0.3086404785551765,\n",
       " 0.19959893378359908,\n",
       " 0.19346103445869234,\n",
       " 0.12863012838336296,\n",
       " 0.13162519920157953,\n",
       " 0.04041194740654707,\n",
       " 0.24992520747826322,\n",
       " 0.04530182884993055,\n",
       " 0.04526461517456575,\n",
       " 0.06236395853727393,\n",
       " 0.1659292318832548,\n",
       " 0.16086311700050748,\n",
       " 0.17982412500968423,\n",
       " 0.21894789667945666,\n",
       " 0.016254252398757364,\n",
       " 0.23691489778751576,\n",
       " 0.0337450449689622,\n",
       " 0.13625610951092826,\n",
       " 0.06561188427283995,\n",
       " 0.004754432074637235,\n",
       " 0.07638408886009768,\n",
       " 0.07291134314542784,\n",
       " 0.2277730869096031,\n",
       " 0.29382730396912515,\n",
       " 0.2528832874122936,\n",
       " 0.06696820417020677,\n",
       " 0.04905858927866858,\n",
       " 0.09339889739645028,\n",
       " 0.1851391846560581,\n",
       " 0.19272151307230395,\n",
       " 0.22613918907872854,\n",
       " 0.15263099246555184,\n",
       " 0.17878636510203755,\n",
       " 0.0896523616628907,\n",
       " 0.12785426633340977,\n",
       " 0.25364153682422075,\n",
       " 0.09297432683281744,\n",
       " 0.10539122529210451,\n",
       " 0.1425033895296327,\n",
       " 0.03469043828960821,\n",
       " 0.12709403934043453,\n",
       " 0.10792665634845951,\n",
       " 0.3291814232550094,\n",
       " 0.07160738289853387,\n",
       " 0.031795371496969614,\n",
       " 0.14932843015844233,\n",
       " 0.06167956307591466,\n",
       " 0.5008976090751872,\n",
       " 0.23831773727304853,\n",
       " 0.17412676928223547,\n",
       " 0.03488653120713841,\n",
       " 0.3748962313468526,\n",
       " 0.10279920492669734,\n",
       " 0.0647979363479242,\n",
       " 0.2030880325201367,\n",
       " 0.0426286084111336,\n",
       " 0.1071068967486355,\n",
       " 0.011092397418025242,\n",
       " 0.20165702524284224,\n",
       " 0.04355288011189331,\n",
       " 0.19651525545219775,\n",
       " 0.1312858398174535,\n",
       " 0.06848045794465757,\n",
       " 0.04563396872161649,\n",
       " 0.07896569765292842,\n",
       " 0.10184427707019048,\n",
       " 0.060234933402674246,\n",
       " 0.04950201042179656,\n",
       " 0.2358299647966251,\n",
       " 0.06655958520667947,\n",
       " 0.18573029047262637,\n",
       " 0.3443290144905859,\n",
       " 0.07971003478118538,\n",
       " 0.13957585887229773,\n",
       " 0.26671707773871667,\n",
       " 0.1247537499537252,\n",
       " 0.20834855027859536,\n",
       " 0.1674591592220458,\n",
       " 0.03454359384740699,\n",
       " 0.01508468099525624,\n",
       " 0.2461324280389359,\n",
       " 0.046043667066535815,\n",
       " 0.05976079338893846,\n",
       " 0.08941710259539348,\n",
       " 0.07226439053198312,\n",
       " 0.08164776463862067,\n",
       " 0.1879392767098594,\n",
       " 0.11395548275582391,\n",
       " 0.2987454028869879,\n",
       " 0.051730794277179026,\n",
       " 0.0912594571178319,\n",
       " 0.21169985982908646,\n",
       " 0.10126623936744847,\n",
       " 0.262564906230039,\n",
       " 0.01828246753320752,\n",
       " 0.1358313534840159,\n",
       " 0.17877643311083635,\n",
       " 0.06923198665897788,\n",
       " 0.34615841460105473,\n",
       " 0.2571184336905498,\n",
       " 0.12906006791868463,\n",
       " 0.2897206882034647,\n",
       " 0.17059542876772807,\n",
       " 0.08453894500501596,\n",
       " 0.15696704852071416,\n",
       " 0.24753959326208722,\n",
       " 0.20858729159616865,\n",
       " 0.023193417016249718,\n",
       " 0.08598494096204366,\n",
       " 0.10456567959143678,\n",
       " 0.0375318907069091,\n",
       " 0.040981232288295796,\n",
       " 0.09613380094313063,\n",
       " 0.035614619540262495,\n",
       " 0.03546237222382954,\n",
       " 0.13592228470749787,\n",
       " 0.06308545369378483,\n",
       " 0.3227058418132337,\n",
       " 0.035128064346969974,\n",
       " 0.08432819817574466,\n",
       " 0.26886653960309287,\n",
       " 0.13548900870599032,\n",
       " 0.2141007258034307,\n",
       " 0.3864355338266943,\n",
       " 0.051747609120763614,\n",
       " 0.27842891620072224,\n",
       " 0.11378305536642594,\n",
       " 0.08562243399859942,\n",
       " 0.04185927140439612,\n",
       " 0.06111216098073368,\n",
       " 0.03749303416587816,\n",
       " 0.36387771073325587,\n",
       " 0.2347607775025234,\n",
       " 0.6251900645556486,\n",
       " 0.01791616596564375,\n",
       " 0.1967753971526534,\n",
       " 0.05597486329695442,\n",
       " 0.2912478491217163,\n",
       " 0.19202598884515223,\n",
       " 0.257853739439542,\n",
       " 0.07758839948900874,\n",
       " 0.020286475194346287,\n",
       " 0.07699758821852337,\n",
       " 0.26540589057013075,\n",
       " 0.46428460657066223,\n",
       " 0.19494033120607676,\n",
       " 0.019973990302772353,\n",
       " 0.25652847224827896,\n",
       " 0.06870714020629018,\n",
       " 0.06096743594729513,\n",
       " 0.30581016892891605,\n",
       " 0.2703903927477871,\n",
       " 0.309352911436657,\n",
       " 0.06854104822505484,\n",
       " 0.13284397265323317,\n",
       " 0.16311417206915055,\n",
       " 0.33663516778571984,\n",
       " 0.524363402624582,\n",
       " 0.05973127884827034,\n",
       " 0.0754842335865633,\n",
       " 0.18064527891175583,\n",
       " 0.14017538946216065,\n",
       " 0.2930415554928601,\n",
       " 0.0314663812710014,\n",
       " 0.06340707955345863,\n",
       " 0.21867721125535525,\n",
       " 0.06275954771689204,\n",
       " 0.25022638226532634,\n",
       " 0.0955994500103403,\n",
       " 0.17323649494243826,\n",
       " 0.2303226803482684,\n",
       " 0.09990298042405966,\n",
       " 0.15495215588244615,\n",
       " 0.11595218061315057,\n",
       " 0.08126395098474341,\n",
       " 0.037287165204304536,\n",
       " 0.18577197253653263,\n",
       " 0.26073087389694327,\n",
       " 0.28200093303634954,\n",
       " 0.12588187398739079,\n",
       " 0.027710928761026918,\n",
       " 0.36891366419372495,\n",
       " 0.12845262949719832,\n",
       " 0.22984206562678855,\n",
       " 0.18419778922803914,\n",
       " 0.06876811614488534,\n",
       " 0.25093727373739005,\n",
       " 0.15179774287339273,\n",
       " 0.19082620276905357,\n",
       " 0.02776752966012952,\n",
       " 0.22524526549436982,\n",
       " 0.049033463949871715,\n",
       " 0.203490536154462,\n",
       " 0.05697676647553336,\n",
       " 0.015299303534248009,\n",
       " 0.09600902733004173,\n",
       " 0.06773205217420541,\n",
       " 0.07227119885491463,\n",
       " 0.09596905933935461,\n",
       " 0.17159721537814432,\n",
       " 0.1496955523086605,\n",
       " 0.045405165877066264,\n",
       " 0.15347094939824948,\n",
       " 0.12510155629134748,\n",
       " 0.06511402438048661,\n",
       " 0.192980543110106,\n",
       " 0.1022594478186231,\n",
       " 0.00460752167903636,\n",
       " 0.014392250801837272,\n",
       " 0.03864991222499555,\n",
       " 0.07251721262534383,\n",
       " 0.08606390524658176,\n",
       " 0.09943454146855632,\n",
       " 0.17437890668155692,\n",
       " 0.07133941159742,\n",
       " 0.17742899474366974,\n",
       " 0.07586707689813305,\n",
       " 0.08182705023543652,\n",
       " 0.03889398964514722,\n",
       " 0.18120966002172623,\n",
       " 0.22812048779095878,\n",
       " 0.3435889135296407,\n",
       " 0.14792226339195572,\n",
       " 0.0662245416877089,\n",
       " 0.06516387475907438,\n",
       " 0.11807877583544706,\n",
       " 0.25293950756587247,\n",
       " 0.054920530443826665,\n",
       " 0.04229298184924212,\n",
       " 0.18736256014213287,\n",
       " 0.14617909495445724,\n",
       " 0.19140239202913495,\n",
       " 0.3370710060625694,\n",
       " 0.027916237648253513,\n",
       " 0.23371874142146432,\n",
       " 0.2120555908412024,\n",
       " 0.20538685992187197,\n",
       " 0.20827230481901243,\n",
       " 0.29231963959232465,\n",
       " 0.2380281703495579,\n",
       " 0.09458256681757173,\n",
       " 0.3009076949696895,\n",
       " 0.0792358203658137,\n",
       " 0.18564414763152284,\n",
       " 0.20856644900758378,\n",
       " 0.056158796322603566,\n",
       " 0.05400863475785591,\n",
       " 0.08148097229048723,\n",
       " 0.07952166113714633,\n",
       " 0.09979100166256694,\n",
       " 0.3216844800963333,\n",
       " 0.3920646192937096,\n",
       " 0.02833957603721381,\n",
       " 0.14989993490727216,\n",
       " 0.1847778104254649,\n",
       " 0.14920197636205587,\n",
       " 0.2179803499989828,\n",
       " 0.07856194283581006,\n",
       " 0.22733268838784443,\n",
       " 0.07694665444618841,\n",
       " 0.1044647050441141,\n",
       " 0.13248290425389664,\n",
       " 0.08131303101410849,\n",
       " 0.3234477216885404,\n",
       " 0.19026138050408514,\n",
       " 0.17822922561335375,\n",
       " 0.057147920989089676,\n",
       " 0.21705193921201799,\n",
       " 0.0953037495922585,\n",
       " 0.19625831363919619,\n",
       " 0.16788596066120096,\n",
       " 0.0663116815487462,\n",
       " 0.1602933053628574,\n",
       " 0.1820428442313294,\n",
       " 0.05985831922259125,\n",
       " 0.06335566676195412,\n",
       " 0.25495270905913053,\n",
       " 0.12220935148195011,\n",
       " 0.17237206534097751,\n",
       " 0.186637710703258,\n",
       " 0.05224418871702675,\n",
       " 0.4611624382726829,\n",
       " 0.11696114158561613,\n",
       " 0.4625555875380803,\n",
       " 0.20330957259791183,\n",
       " 0.19411047488221173,\n",
       " 0.0703573305278396,\n",
       " 0.03822561670089392,\n",
       " 0.1912481744235009,\n",
       " 0.5749305644973924,\n",
       " 0.23658231299965915,\n",
       " 0.17046207728353704,\n",
       " 0.056278572631351845,\n",
       " 0.38925531865807694,\n",
       " 0.3147814908465233,\n",
       " 0.14097489514055664,\n",
       " 0.06661614515458236,\n",
       " 0.11471992311018266,\n",
       " 0.11317013641208437,\n",
       " 0.05027658994420303,\n",
       " 0.04458578662590524,\n",
       " 0.054489376901658816,\n",
       " 0.22988123816951994,\n",
       " 0.048014461400564645,\n",
       " 0.3944134186770968,\n",
       " 0.062780216903835,\n",
       " 0.38325768251337383,\n",
       " 0.15596885344096464,\n",
       " 0.1674106924414747,\n",
       " 0.11138001743682636,\n",
       " 0.04067246733291269,\n",
       " 0.15237952807242555,\n",
       " 0.13218357351144427,\n",
       " 0.4353522915256685,\n",
       " 0.21192676194550375,\n",
       " 0.4239366722681565]"
      ]
     },
     "execution_count": 76,
     "metadata": {},
     "output_type": "execute_result"
    }
   ],
   "source": [
    "# leave\n",
    "probs_pred_1 = logm.predict_proba(X)[:,1]\n",
    "probs_pred_1_list = list(probs_pred_1)\n",
    "probs_pred_1_list"
   ]
  },
  {
   "cell_type": "code",
   "execution_count": 77,
   "id": "e4dd0908",
   "metadata": {
    "ExecuteTime": {
     "end_time": "2022-12-16T09:15:17.263453Z",
     "start_time": "2022-12-16T09:15:17.243249Z"
    },
    "scrolled": true
   },
   "outputs": [
    {
     "data": {
      "text/plain": [
       "[0.900058388185843,\n",
       " 0.761659110824479,\n",
       " 0.7422570221348023,\n",
       " 0.9512420180594824,\n",
       " 0.9022550441655045,\n",
       " 0.9080275136871091,\n",
       " 0.830573489333242,\n",
       " 0.591564240419442,\n",
       " 0.78064215452414,\n",
       " 0.8201972653333456,\n",
       " 0.7287382237741022,\n",
       " 0.9187047913943723,\n",
       " 0.6150223557123489,\n",
       " 0.8822763912518764,\n",
       " 0.8345593065721588,\n",
       " 0.9153305369804088,\n",
       " 0.7636992065394099,\n",
       " 0.9345634074089366,\n",
       " 0.8799714467779993,\n",
       " 0.8996046880724815,\n",
       " 0.8702409270442804,\n",
       " 0.8985770426743992,\n",
       " 0.8096258935695754,\n",
       " 0.8270223587381681,\n",
       " 0.8408200368657183,\n",
       " 0.9803870109956234,\n",
       " 0.7581823423245835,\n",
       " 0.9547264257349638,\n",
       " 0.7571227079459832,\n",
       " 0.8573301808112893,\n",
       " 0.8994839278892057,\n",
       " 0.8966306092257361,\n",
       " 0.9444037870160726,\n",
       " 0.8678617462417242,\n",
       " 0.8257997743320546,\n",
       " 0.9187088064469298,\n",
       " 0.96963848021008,\n",
       " 0.5483529914503096,\n",
       " 0.6867976441695994,\n",
       " 0.8514361337209536,\n",
       " 0.8995984689754631,\n",
       " 0.7468821615129165,\n",
       " 0.7630457100337187,\n",
       " 0.794580180581481,\n",
       " 0.6700032735873831,\n",
       " 0.858673017093501,\n",
       " 0.7887600677000708,\n",
       " 0.6886217528173473,\n",
       " 0.9109286302015067,\n",
       " 0.8271876870504807,\n",
       " 0.9493319662397606,\n",
       " 0.8769824580475795,\n",
       " 0.9678424292697304,\n",
       " 0.8874303772240437,\n",
       " 0.599947682783539,\n",
       " 0.906070895791824,\n",
       " 0.8035976901993589,\n",
       " 0.9461781575820528,\n",
       " 0.7835280062161873,\n",
       " 0.8790388158436226,\n",
       " 0.8586559365887138,\n",
       " 0.6728434542498367,\n",
       " 0.8810124888434181,\n",
       " 0.9842391678267148,\n",
       " 0.7801058212015275,\n",
       " 0.7431980495643041,\n",
       " 0.9390170611967623,\n",
       " 0.9143668348147231,\n",
       " 0.9001093337931031,\n",
       " 0.9442678010683865,\n",
       " 0.8766580367536424,\n",
       " 0.925585941488186,\n",
       " 0.879800204944833,\n",
       " 0.9402501767948497,\n",
       " 0.7387812317267264,\n",
       " 0.9353982553660527,\n",
       " 0.8142598914809125,\n",
       " 0.7292346651652319,\n",
       " 0.9618431648958458,\n",
       " 0.9225857629127674,\n",
       " 0.9901911104583032,\n",
       " 0.7249809652824806,\n",
       " 0.9704063939865509,\n",
       " 0.8130198507650583,\n",
       " 0.9536606495538166,\n",
       " 0.8333640731150056,\n",
       " 0.9442094489030247,\n",
       " 0.6488578811931074,\n",
       " 0.8084347038438826,\n",
       " 0.9546322775159811,\n",
       " 0.9117648056381514,\n",
       " 0.8272303713982954,\n",
       " 0.9111406063258514,\n",
       " 0.775654326387718,\n",
       " 0.8799355117798031,\n",
       " 0.9144048994785212,\n",
       " 0.9144680676670509,\n",
       " 0.848889978197418,\n",
       " 0.8653585492781959,\n",
       " 0.932841724034102,\n",
       " 0.9824025256765107,\n",
       " 0.9630091585940057,\n",
       " 0.9147626615700929,\n",
       " 0.6368866412223352,\n",
       " 0.9424797982491037,\n",
       " 0.9320334032428322,\n",
       " 0.7334342177513908,\n",
       " 0.4385016782091945,\n",
       " 0.8631752222730199,\n",
       " 0.9378132775155982,\n",
       " 0.6433032535232519,\n",
       " 0.7966223560677156,\n",
       " 0.8745158070449783,\n",
       " 0.8681139738812302,\n",
       " 0.7861295657619228,\n",
       " 0.7897750661241096,\n",
       " 0.7752803057426743,\n",
       " 0.8819079243548428,\n",
       " 0.9353785810846423,\n",
       " 0.6629906101369579,\n",
       " 0.7772098447848986,\n",
       " 0.9384766708348203,\n",
       " 0.8125375485534392,\n",
       " 0.9646297136382038,\n",
       " 0.8292231788499925,\n",
       " 0.6913595214448235,\n",
       " 0.800401066216401,\n",
       " 0.8065389655413077,\n",
       " 0.871369871616637,\n",
       " 0.8683748007984204,\n",
       " 0.9595880525934529,\n",
       " 0.7500747925217368,\n",
       " 0.9546981711500695,\n",
       " 0.9547353848254343,\n",
       " 0.937636041462726,\n",
       " 0.8340707681167452,\n",
       " 0.8391368829994925,\n",
       " 0.8201758749903157,\n",
       " 0.7810521033205433,\n",
       " 0.9837457476012427,\n",
       " 0.7630851022124843,\n",
       " 0.9662549550310378,\n",
       " 0.8637438904890717,\n",
       " 0.9343881157271601,\n",
       " 0.9952455679253628,\n",
       " 0.9236159111399023,\n",
       " 0.9270886568545722,\n",
       " 0.7722269130903969,\n",
       " 0.7061726960308748,\n",
       " 0.7471167125877064,\n",
       " 0.9330317958297932,\n",
       " 0.9509414107213314,\n",
       " 0.9066011026035498,\n",
       " 0.8148608153439418,\n",
       " 0.8072784869276961,\n",
       " 0.7738608109212715,\n",
       " 0.8473690075344482,\n",
       " 0.8212136348979624,\n",
       " 0.9103476383371093,\n",
       " 0.8721457336665902,\n",
       " 0.7463584631757793,\n",
       " 0.9070256731671825,\n",
       " 0.8946087747078955,\n",
       " 0.8574966104703673,\n",
       " 0.9653095617103918,\n",
       " 0.8729059606595655,\n",
       " 0.8920733436515405,\n",
       " 0.6708185767449906,\n",
       " 0.9283926171014661,\n",
       " 0.9682046285030304,\n",
       " 0.8506715698415577,\n",
       " 0.9383204369240853,\n",
       " 0.4991023909248128,\n",
       " 0.7616822627269515,\n",
       " 0.8258732307177645,\n",
       " 0.9651134687928616,\n",
       " 0.6251037686531473,\n",
       " 0.8972007950733026,\n",
       " 0.9352020636520758,\n",
       " 0.7969119674798633,\n",
       " 0.9573713915888664,\n",
       " 0.8928931032513645,\n",
       " 0.9889076025819747,\n",
       " 0.7983429747571578,\n",
       " 0.9564471198881067,\n",
       " 0.8034847445478023,\n",
       " 0.8687141601825465,\n",
       " 0.9315195420553424,\n",
       " 0.9543660312783835,\n",
       " 0.9210343023470716,\n",
       " 0.8981557229298095,\n",
       " 0.9397650665973257,\n",
       " 0.9504979895782034,\n",
       " 0.7641700352033749,\n",
       " 0.9334404147933205,\n",
       " 0.8142697095273737,\n",
       " 0.655670985509414,\n",
       " 0.9202899652188146,\n",
       " 0.8604241411277023,\n",
       " 0.7332829222612833,\n",
       " 0.8752462500462748,\n",
       " 0.7916514497214047,\n",
       " 0.8325408407779542,\n",
       " 0.965456406152593,\n",
       " 0.9849153190047437,\n",
       " 0.7538675719610641,\n",
       " 0.9539563329334642,\n",
       " 0.9402392066110615,\n",
       " 0.9105828974046065,\n",
       " 0.9277356094680169,\n",
       " 0.9183522353613793,\n",
       " 0.8120607232901406,\n",
       " 0.8860445172441761,\n",
       " 0.7012545971130121,\n",
       " 0.948269205722821,\n",
       " 0.9087405428821681,\n",
       " 0.7883001401709135,\n",
       " 0.8987337606325515,\n",
       " 0.737435093769961,\n",
       " 0.9817175324667925,\n",
       " 0.8641686465159841,\n",
       " 0.8212235668891636,\n",
       " 0.9307680133410221,\n",
       " 0.6538415853989452,\n",
       " 0.7428815663094501,\n",
       " 0.8709399320813154,\n",
       " 0.7102793117965354,\n",
       " 0.829404571232272,\n",
       " 0.915461054994984,\n",
       " 0.8430329514792858,\n",
       " 0.7524604067379128,\n",
       " 0.7914127084038314,\n",
       " 0.9768065829837502,\n",
       " 0.9140150590379563,\n",
       " 0.8954343204085632,\n",
       " 0.9624681092930909,\n",
       " 0.9590187677117042,\n",
       " 0.9038661990568694,\n",
       " 0.9643853804597375,\n",
       " 0.9645376277761705,\n",
       " 0.8640777152925021,\n",
       " 0.9369145463062152,\n",
       " 0.6772941581867663,\n",
       " 0.96487193565303,\n",
       " 0.9156718018242553,\n",
       " 0.7311334603969071,\n",
       " 0.8645109912940097,\n",
       " 0.7858992741965694,\n",
       " 0.6135644661733057,\n",
       " 0.9482523908792364,\n",
       " 0.7215710837992777,\n",
       " 0.886216944633574,\n",
       " 0.9143775660014006,\n",
       " 0.9581407285956038,\n",
       " 0.9388878390192663,\n",
       " 0.9625069658341219,\n",
       " 0.6361222892667442,\n",
       " 0.7652392224974767,\n",
       " 0.37480993544435137,\n",
       " 0.9820838340343563,\n",
       " 0.8032246028473466,\n",
       " 0.9440251367030456,\n",
       " 0.7087521508782837,\n",
       " 0.8079740111548478,\n",
       " 0.7421462605604581,\n",
       " 0.9224116005109912,\n",
       " 0.9797135248056537,\n",
       " 0.9230024117814766,\n",
       " 0.7345941094298692,\n",
       " 0.5357153934293377,\n",
       " 0.8050596687939232,\n",
       " 0.9800260096972276,\n",
       " 0.743471527751721,\n",
       " 0.9312928597937098,\n",
       " 0.9390325640527049,\n",
       " 0.6941898310710839,\n",
       " 0.7296096072522129,\n",
       " 0.690647088563343,\n",
       " 0.9314589517749452,\n",
       " 0.8671560273467669,\n",
       " 0.8368858279308494,\n",
       " 0.6633648322142802,\n",
       " 0.47563659737541797,\n",
       " 0.9402687211517297,\n",
       " 0.9245157664134367,\n",
       " 0.8193547210882441,\n",
       " 0.8598246105378393,\n",
       " 0.70695844450714,\n",
       " 0.9685336187289986,\n",
       " 0.9365929204465414,\n",
       " 0.7813227887446448,\n",
       " 0.9372404522831079,\n",
       " 0.7497736177346737,\n",
       " 0.9044005499896597,\n",
       " 0.8267635050575617,\n",
       " 0.7696773196517316,\n",
       " 0.9000970195759403,\n",
       " 0.8450478441175538,\n",
       " 0.8840478193868494,\n",
       " 0.9187360490152566,\n",
       " 0.9627128347956955,\n",
       " 0.8142280274634673,\n",
       " 0.7392691261030567,\n",
       " 0.7179990669636505,\n",
       " 0.8741181260126092,\n",
       " 0.9722890712389731,\n",
       " 0.631086335806275,\n",
       " 0.8715473705028016,\n",
       " 0.7701579343732115,\n",
       " 0.8158022107719609,\n",
       " 0.9312318838551147,\n",
       " 0.74906272626261,\n",
       " 0.8482022571266072,\n",
       " 0.8091737972309464,\n",
       " 0.9722324703398705,\n",
       " 0.7747547345056301,\n",
       " 0.9509665360501283,\n",
       " 0.796509463845538,\n",
       " 0.9430232335244666,\n",
       " 0.984700696465752,\n",
       " 0.9039909726699583,\n",
       " 0.9322679478257946,\n",
       " 0.9277288011450854,\n",
       " 0.9040309406606454,\n",
       " 0.8284027846218557,\n",
       " 0.8503044476913395,\n",
       " 0.9545948341229338,\n",
       " 0.8465290506017505,\n",
       " 0.8748984437086526,\n",
       " 0.9348859756195134,\n",
       " 0.807019456889894,\n",
       " 0.8977405521813769,\n",
       " 0.9953924783209637,\n",
       " 0.9856077491981627,\n",
       " 0.9613500877750044,\n",
       " 0.9274827873746562,\n",
       " 0.9139360947534182,\n",
       " 0.9005654585314437,\n",
       " 0.8256210933184431,\n",
       " 0.92866058840258,\n",
       " 0.8225710052563302,\n",
       " 0.9241329231018669,\n",
       " 0.9181729497645634,\n",
       " 0.9611060103548528,\n",
       " 0.8187903399782738,\n",
       " 0.7718795122090412,\n",
       " 0.6564110864703593,\n",
       " 0.8520777366080443,\n",
       " 0.9337754583122911,\n",
       " 0.9348361252409256,\n",
       " 0.881921224164553,\n",
       " 0.7470604924341275,\n",
       " 0.9450794695561733,\n",
       " 0.9577070181507579,\n",
       " 0.8126374398578671,\n",
       " 0.8538209050455428,\n",
       " 0.808597607970865,\n",
       " 0.6629289939374305,\n",
       " 0.9720837623517465,\n",
       " 0.7662812585785357,\n",
       " 0.7879444091587976,\n",
       " 0.794613140078128,\n",
       " 0.7917276951809875,\n",
       " 0.7076803604076753,\n",
       " 0.7619718296504421,\n",
       " 0.9054174331824283,\n",
       " 0.6990923050303105,\n",
       " 0.9207641796341863,\n",
       " 0.8143558523684772,\n",
       " 0.7914335509924162,\n",
       " 0.9438412036773964,\n",
       " 0.9459913652421441,\n",
       " 0.9185190277095128,\n",
       " 0.9204783388628537,\n",
       " 0.9002089983374331,\n",
       " 0.6783155199036667,\n",
       " 0.6079353807062904,\n",
       " 0.9716604239627862,\n",
       " 0.8501000650927278,\n",
       " 0.8152221895745351,\n",
       " 0.8507980236379441,\n",
       " 0.7820196500010173,\n",
       " 0.9214380571641899,\n",
       " 0.7726673116121556,\n",
       " 0.9230533455538116,\n",
       " 0.8955352949558859,\n",
       " 0.8675170957461034,\n",
       " 0.9186869689858915,\n",
       " 0.6765522783114596,\n",
       " 0.8097386194959149,\n",
       " 0.8217707743866463,\n",
       " 0.9428520790109103,\n",
       " 0.782948060787982,\n",
       " 0.9046962504077415,\n",
       " 0.8037416863608038,\n",
       " 0.832114039338799,\n",
       " 0.9336883184512538,\n",
       " 0.8397066946371425,\n",
       " 0.8179571557686706,\n",
       " 0.9401416807774088,\n",
       " 0.9366443332380459,\n",
       " 0.7450472909408694,\n",
       " 0.8777906485180499,\n",
       " 0.8276279346590225,\n",
       " 0.813362289296742,\n",
       " 0.9477558112829733,\n",
       " 0.5388375617273171,\n",
       " 0.8830388584143839,\n",
       " 0.5374444124619198,\n",
       " 0.7966904274020882,\n",
       " 0.8058895251177882,\n",
       " 0.9296426694721605,\n",
       " 0.961774383299106,\n",
       " 0.8087518255764992,\n",
       " 0.42506943550260756,\n",
       " 0.7634176870003408,\n",
       " 0.829537922716463,\n",
       " 0.9437214273686482,\n",
       " 0.6107446813419231,\n",
       " 0.6852185091534767,\n",
       " 0.8590251048594434,\n",
       " 0.9333838548454176,\n",
       " 0.8852800768898174,\n",
       " 0.8868298635879156,\n",
       " 0.949723410055797,\n",
       " 0.9554142133740947,\n",
       " 0.9455106230983412,\n",
       " 0.7701187618304801,\n",
       " 0.9519855385994354,\n",
       " 0.6055865813229032,\n",
       " 0.937219783096165,\n",
       " 0.6167423174866262,\n",
       " 0.8440311465590353,\n",
       " 0.8325893075585253,\n",
       " 0.8886199825631736,\n",
       " 0.9593275326670874,\n",
       " 0.8476204719275744,\n",
       " 0.8678164264885557,\n",
       " 0.5646477084743315,\n",
       " 0.7880732380544963,\n",
       " 0.5760633277318434]"
      ]
     },
     "execution_count": 77,
     "metadata": {},
     "output_type": "execute_result"
    }
   ],
   "source": [
    "# doesn't leave\n",
    "probs_pred_0 = logm.predict_proba(X)[:,0]\n",
    "probs_pred_0_list = list(probs_pred_0)\n",
    "probs_pred_0_list"
   ]
  },
  {
   "cell_type": "markdown",
   "id": "41910a38",
   "metadata": {},
   "source": [
    "# PCA"
   ]
  },
  {
   "cell_type": "markdown",
   "id": "ab7f5e2f",
   "metadata": {},
   "source": [
    "## Data pre-processing"
   ]
  },
  {
   "cell_type": "code",
   "execution_count": 78,
   "id": "3c289638",
   "metadata": {
    "ExecuteTime": {
     "end_time": "2022-12-16T09:16:00.056151Z",
     "start_time": "2022-12-16T09:16:00.034786Z"
    }
   },
   "outputs": [],
   "source": [
    "check = pd.read_csv(\"Starting_model_22.csv\")"
   ]
  },
  {
   "cell_type": "code",
   "execution_count": 79,
   "id": "58782184",
   "metadata": {
    "ExecuteTime": {
     "end_time": "2022-12-16T09:16:00.612725Z",
     "start_time": "2022-12-16T09:16:00.603256Z"
    }
   },
   "outputs": [],
   "source": [
    "# leave pro(take RCC)\n",
    "check.drop(check.iloc[:, 48:79], inplace=True, axis=1)"
   ]
  },
  {
   "cell_type": "code",
   "execution_count": 80,
   "id": "0b77da97",
   "metadata": {
    "ExecuteTime": {
     "end_time": "2022-12-16T09:16:00.988070Z",
     "start_time": "2022-12-16T09:16:00.973513Z"
    },
    "scrolled": true
   },
   "outputs": [],
   "source": [
    "check.drop(check.tail(2).index,inplace=True)"
   ]
  },
  {
   "cell_type": "code",
   "execution_count": 81,
   "id": "73172ba5",
   "metadata": {
    "ExecuteTime": {
     "end_time": "2022-12-16T09:16:01.338984Z",
     "start_time": "2022-12-16T09:16:01.330159Z"
    }
   },
   "outputs": [],
   "source": [
    "# drop columns with only one unique value\n",
    "check = check.drop(columns=['StandardHours'])\n",
    "check = check.drop(columns=['Over18'])\n",
    "check = check.drop(columns=['EmployeeCount'])\n",
    "check = check.drop(columns=['EmployeeNumber'])"
   ]
  },
  {
   "cell_type": "code",
   "execution_count": 82,
   "id": "729d404f",
   "metadata": {
    "ExecuteTime": {
     "end_time": "2022-12-16T09:16:01.782166Z",
     "start_time": "2022-12-16T09:16:01.768064Z"
    }
   },
   "outputs": [],
   "source": [
    "# Age\n",
    "from sklearn.impute import KNNImputer\n",
    "imputer = KNNImputer(n_neighbors=1)\n",
    "check[[\"Age\"]] = imputer.fit_transform(check[[\"Age\"]])"
   ]
  },
  {
   "cell_type": "code",
   "execution_count": 83,
   "id": "ec66a8a8",
   "metadata": {
    "ExecuteTime": {
     "end_time": "2022-12-16T09:16:02.252460Z",
     "start_time": "2022-12-16T09:16:02.238786Z"
    }
   },
   "outputs": [],
   "source": [
    "# DailyRate\n",
    "from sklearn.impute import KNNImputer\n",
    "imputer = KNNImputer(n_neighbors=1)\n",
    "check[[\"DailyRate\"]] = imputer.fit_transform(check[[\"DailyRate\"]])"
   ]
  },
  {
   "cell_type": "code",
   "execution_count": 84,
   "id": "9d9f5fcd",
   "metadata": {
    "ExecuteTime": {
     "end_time": "2022-12-16T09:16:02.763279Z",
     "start_time": "2022-12-16T09:16:02.746713Z"
    }
   },
   "outputs": [],
   "source": [
    "# DistanceFromHome\n",
    "from sklearn.impute import KNNImputer\n",
    "imputer = KNNImputer(n_neighbors=1)\n",
    "check[[\"DistanceFromHome\"]] = imputer.fit_transform(check[[\"DistanceFromHome\"]])"
   ]
  },
  {
   "cell_type": "code",
   "execution_count": 85,
   "id": "b2f7db10",
   "metadata": {
    "ExecuteTime": {
     "end_time": "2022-12-16T09:16:03.170816Z",
     "start_time": "2022-12-16T09:16:03.156523Z"
    }
   },
   "outputs": [],
   "source": [
    "check[\"OverTime\"] = check[\"OverTime\"].replace(\"Yes\",1)\n",
    "check[\"OverTime\"] = check[\"OverTime\"].replace(\"No\",0)\n",
    "check[\"Gender\"] = check[\"Gender\"].replace(\"Male\",1)\n",
    "check[\"Gender\"] = check[\"Gender\"].replace(\"Female\",0)"
   ]
  },
  {
   "cell_type": "code",
   "execution_count": 86,
   "id": "0d95fa5d",
   "metadata": {
    "ExecuteTime": {
     "end_time": "2022-12-16T09:16:03.775198Z",
     "start_time": "2022-12-16T09:16:03.766858Z"
    }
   },
   "outputs": [],
   "source": [
    "# fill in missing values with the value appears most\n",
    "values = {\"BusinessTravel\": \"Travel_Rarely\"}\n",
    "check = check.fillna(value = values)"
   ]
  },
  {
   "cell_type": "code",
   "execution_count": 87,
   "id": "07267433",
   "metadata": {
    "ExecuteTime": {
     "end_time": "2022-12-16T09:16:04.129719Z",
     "start_time": "2022-12-16T09:16:04.125467Z"
    }
   },
   "outputs": [],
   "source": [
    "# fill in missing values with the value appears most\n",
    "values = {\"MaritalStatus\": \"Married\"}\n",
    "check=check.fillna(value=values)"
   ]
  },
  {
   "cell_type": "code",
   "execution_count": 88,
   "id": "f8ce6a03",
   "metadata": {
    "ExecuteTime": {
     "end_time": "2022-12-16T09:16:04.510006Z",
     "start_time": "2022-12-16T09:16:04.493587Z"
    }
   },
   "outputs": [],
   "source": [
    "check=check.merge(pd.get_dummies(check.EducationField),left_index=True, right_index=True)\n",
    "check=check.merge(pd.get_dummies(check.MaritalStatus),left_index=True, right_index=True)"
   ]
  },
  {
   "cell_type": "code",
   "execution_count": 89,
   "id": "233f8ec9",
   "metadata": {
    "ExecuteTime": {
     "end_time": "2022-12-16T09:16:04.870509Z",
     "start_time": "2022-12-16T09:16:04.857973Z"
    }
   },
   "outputs": [],
   "source": [
    "# ordinal encoding\n",
    "encoder = OrdinalEncoder(categories=[['Non-Travel','Travel_Rarely','Travel_Frequently']])\n",
    "check[\"BusinessTravel\"] = encoder.fit_transform(check[[\"BusinessTravel\"]]) # transform data"
   ]
  },
  {
   "cell_type": "code",
   "execution_count": 90,
   "id": "576eed9b",
   "metadata": {
    "ExecuteTime": {
     "end_time": "2022-12-16T09:16:05.577937Z",
     "start_time": "2022-12-16T09:16:05.572942Z"
    }
   },
   "outputs": [],
   "source": [
    "final = check.drop(columns=[\"Department\",\"EducationField\",\"JobRole\",\"MaritalStatus\",\"ID\"])"
   ]
  },
  {
   "cell_type": "markdown",
   "id": "a6a04a49",
   "metadata": {},
   "source": [
    "## Run PCA"
   ]
  },
  {
   "cell_type": "code",
   "execution_count": 92,
   "id": "e0d8f56a",
   "metadata": {
    "ExecuteTime": {
     "end_time": "2022-12-16T09:16:31.345845Z",
     "start_time": "2022-12-16T09:16:31.338089Z"
    }
   },
   "outputs": [],
   "source": [
    "forX = final.drop(columns=\"Prob (take RCC)\")"
   ]
  },
  {
   "cell_type": "markdown",
   "id": "f28a075d",
   "metadata": {},
   "source": [
    "### Standardlization"
   ]
  },
  {
   "cell_type": "code",
   "execution_count": 93,
   "id": "8dd13071",
   "metadata": {
    "ExecuteTime": {
     "end_time": "2022-12-16T09:16:36.573970Z",
     "start_time": "2022-12-16T09:16:36.559278Z"
    }
   },
   "outputs": [
    {
     "data": {
      "text/plain": [
       "array([[3.79974026e+01, 1.00000000e+00, 8.66000000e+02, ...,\n",
       "        0.00000000e+00, 0.00000000e+00, 1.00000000e+00],\n",
       "       [5.30000000e+01, 1.00000000e+00, 1.08400000e+03, ...,\n",
       "        1.00000000e+00, 0.00000000e+00, 0.00000000e+00],\n",
       "       [2.40000000e+01, 1.00000000e+00, 2.40000000e+02, ...,\n",
       "        0.00000000e+00, 1.00000000e+00, 0.00000000e+00],\n",
       "       ...,\n",
       "       [3.30000000e+01, 2.00000000e+00, 4.30000000e+02, ...,\n",
       "        0.00000000e+00, 1.00000000e+00, 0.00000000e+00],\n",
       "       [2.70000000e+01, 0.00000000e+00, 2.10000000e+02, ...,\n",
       "        0.00000000e+00, 1.00000000e+00, 0.00000000e+00],\n",
       "       [3.79974026e+01, 1.00000000e+00, 1.15700000e+03, ...,\n",
       "        0.00000000e+00, 1.00000000e+00, 0.00000000e+00]])"
      ]
     },
     "execution_count": 93,
     "metadata": {},
     "output_type": "execute_result"
    }
   ],
   "source": [
    "forX.values"
   ]
  },
  {
   "cell_type": "code",
   "execution_count": 94,
   "id": "23c3d103",
   "metadata": {
    "ExecuteTime": {
     "end_time": "2022-12-16T09:16:37.653009Z",
     "start_time": "2022-12-16T09:16:37.642724Z"
    }
   },
   "outputs": [],
   "source": [
    "x_scaled_1 = forX.values\n",
    "x_scaled_2 = StandardScaler().fit_transform(x_scaled_1)"
   ]
  },
  {
   "cell_type": "code",
   "execution_count": 95,
   "id": "40c6a0d3",
   "metadata": {
    "ExecuteTime": {
     "end_time": "2022-12-16T09:16:38.489347Z",
     "start_time": "2022-12-16T09:16:38.482266Z"
    }
   },
   "outputs": [],
   "source": [
    "x_scaled = pd.DataFrame(x_scaled_2 )"
   ]
  },
  {
   "cell_type": "code",
   "execution_count": 96,
   "id": "8c4a0905",
   "metadata": {
    "ExecuteTime": {
     "end_time": "2022-12-16T09:16:52.155100Z",
     "start_time": "2022-12-16T09:16:52.052175Z"
    },
    "scrolled": true
   },
   "outputs": [
    {
     "data": {
      "text/html": [
       "<style>#sk-container-id-1 {color: black;background-color: white;}#sk-container-id-1 pre{padding: 0;}#sk-container-id-1 div.sk-toggleable {background-color: white;}#sk-container-id-1 label.sk-toggleable__label {cursor: pointer;display: block;width: 100%;margin-bottom: 0;padding: 0.3em;box-sizing: border-box;text-align: center;}#sk-container-id-1 label.sk-toggleable__label-arrow:before {content: \"▸\";float: left;margin-right: 0.25em;color: #696969;}#sk-container-id-1 label.sk-toggleable__label-arrow:hover:before {color: black;}#sk-container-id-1 div.sk-estimator:hover label.sk-toggleable__label-arrow:before {color: black;}#sk-container-id-1 div.sk-toggleable__content {max-height: 0;max-width: 0;overflow: hidden;text-align: left;background-color: #f0f8ff;}#sk-container-id-1 div.sk-toggleable__content pre {margin: 0.2em;color: black;border-radius: 0.25em;background-color: #f0f8ff;}#sk-container-id-1 input.sk-toggleable__control:checked~div.sk-toggleable__content {max-height: 200px;max-width: 100%;overflow: auto;}#sk-container-id-1 input.sk-toggleable__control:checked~label.sk-toggleable__label-arrow:before {content: \"▾\";}#sk-container-id-1 div.sk-estimator input.sk-toggleable__control:checked~label.sk-toggleable__label {background-color: #d4ebff;}#sk-container-id-1 div.sk-label input.sk-toggleable__control:checked~label.sk-toggleable__label {background-color: #d4ebff;}#sk-container-id-1 input.sk-hidden--visually {border: 0;clip: rect(1px 1px 1px 1px);clip: rect(1px, 1px, 1px, 1px);height: 1px;margin: -1px;overflow: hidden;padding: 0;position: absolute;width: 1px;}#sk-container-id-1 div.sk-estimator {font-family: monospace;background-color: #f0f8ff;border: 1px dotted black;border-radius: 0.25em;box-sizing: border-box;margin-bottom: 0.5em;}#sk-container-id-1 div.sk-estimator:hover {background-color: #d4ebff;}#sk-container-id-1 div.sk-parallel-item::after {content: \"\";width: 100%;border-bottom: 1px solid gray;flex-grow: 1;}#sk-container-id-1 div.sk-label:hover label.sk-toggleable__label {background-color: #d4ebff;}#sk-container-id-1 div.sk-serial::before {content: \"\";position: absolute;border-left: 1px solid gray;box-sizing: border-box;top: 0;bottom: 0;left: 50%;z-index: 0;}#sk-container-id-1 div.sk-serial {display: flex;flex-direction: column;align-items: center;background-color: white;padding-right: 0.2em;padding-left: 0.2em;position: relative;}#sk-container-id-1 div.sk-item {position: relative;z-index: 1;}#sk-container-id-1 div.sk-parallel {display: flex;align-items: stretch;justify-content: center;background-color: white;position: relative;}#sk-container-id-1 div.sk-item::before, #sk-container-id-1 div.sk-parallel-item::before {content: \"\";position: absolute;border-left: 1px solid gray;box-sizing: border-box;top: 0;bottom: 0;left: 50%;z-index: -1;}#sk-container-id-1 div.sk-parallel-item {display: flex;flex-direction: column;z-index: 1;position: relative;background-color: white;}#sk-container-id-1 div.sk-parallel-item:first-child::after {align-self: flex-end;width: 50%;}#sk-container-id-1 div.sk-parallel-item:last-child::after {align-self: flex-start;width: 50%;}#sk-container-id-1 div.sk-parallel-item:only-child::after {width: 0;}#sk-container-id-1 div.sk-dashed-wrapped {border: 1px dashed gray;margin: 0 0.4em 0.5em 0.4em;box-sizing: border-box;padding-bottom: 0.4em;background-color: white;}#sk-container-id-1 div.sk-label label {font-family: monospace;font-weight: bold;display: inline-block;line-height: 1.2em;}#sk-container-id-1 div.sk-label-container {text-align: center;}#sk-container-id-1 div.sk-container {/* jupyter's `normalize.less` sets `[hidden] { display: none; }` but bootstrap.min.css set `[hidden] { display: none !important; }` so we also need the `!important` here to be able to override the default hidden behavior on the sphinx rendered scikit-learn.org. See: https://github.com/scikit-learn/scikit-learn/issues/21755 */display: inline-block !important;position: relative;}#sk-container-id-1 div.sk-text-repr-fallback {display: none;}</style><div id=\"sk-container-id-1\" class=\"sk-top-container\"><div class=\"sk-text-repr-fallback\"><pre>PCA(n_components=10)</pre><b>In a Jupyter environment, please rerun this cell to show the HTML representation or trust the notebook. <br />On GitHub, the HTML representation is unable to render, please try loading this page with nbviewer.org.</b></div><div class=\"sk-container\" hidden><div class=\"sk-item\"><div class=\"sk-estimator sk-toggleable\"><input class=\"sk-toggleable__control sk-hidden--visually\" id=\"sk-estimator-id-1\" type=\"checkbox\" checked><label for=\"sk-estimator-id-1\" class=\"sk-toggleable__label sk-toggleable__label-arrow\">PCA</label><div class=\"sk-toggleable__content\"><pre>PCA(n_components=10)</pre></div></div></div></div></div>"
      ],
      "text/plain": [
       "PCA(n_components=10)"
      ]
     },
     "execution_count": 96,
     "metadata": {},
     "output_type": "execute_result"
    }
   ],
   "source": [
    "from sklearn import decomposition as dcp\n",
    "pca = dcp.PCA(n_components=10)\n",
    "pca.fit(x_scaled)"
   ]
  },
  {
   "cell_type": "code",
   "execution_count": 97,
   "id": "9f61f9b2",
   "metadata": {
    "ExecuteTime": {
     "end_time": "2022-12-16T09:16:53.142328Z",
     "start_time": "2022-12-16T09:16:53.109701Z"
    }
   },
   "outputs": [
    {
     "data": {
      "text/plain": [
       "array([0.11264308, 0.07572994, 0.05873224, 0.04757937, 0.04502504,\n",
       "       0.03990173, 0.03580711, 0.03315386, 0.03155916, 0.03005524])"
      ]
     },
     "execution_count": 97,
     "metadata": {},
     "output_type": "execute_result"
    }
   ],
   "source": [
    "pca.explained_variance_ratio_"
   ]
  },
  {
   "cell_type": "code",
   "execution_count": 98,
   "id": "083bcf93",
   "metadata": {
    "ExecuteTime": {
     "end_time": "2022-12-16T09:16:54.224012Z",
     "start_time": "2022-12-16T09:16:54.217590Z"
    }
   },
   "outputs": [],
   "source": [
    "explained_variance_ratio_cumul_sum=np.cumsum(pca.explained_variance_ratio_) #compute the cumulative sum"
   ]
  },
  {
   "cell_type": "code",
   "execution_count": 99,
   "id": "9f6cd1c2",
   "metadata": {
    "ExecuteTime": {
     "end_time": "2022-12-16T09:16:55.220453Z",
     "start_time": "2022-12-16T09:16:55.025768Z"
    }
   },
   "outputs": [
    {
     "data": {
      "image/png": "[encoded data removed]",
      "text/plain": [
       "<Figure size 432x288 with 1 Axes>"
      ]
     },
     "metadata": {
      "needs_background": "light"
     },
     "output_type": "display_data"
    }
   ],
   "source": [
    "plt.title(\"Explained Variance Ratio by Component\")\n",
    "plt.plot(np.arange(1,11),explained_variance_ratio_cumul_sum)\n",
    "plt.plot([1,10],[0.5,0.5])\n",
    "plt.xlabel(\"Component\")\n",
    "plt.ylabel(\"Variance Ratio\")\n",
    "plt.show()"
   ]
  },
  {
   "cell_type": "code",
   "execution_count": 100,
   "id": "ecdf6127",
   "metadata": {
    "ExecuteTime": {
     "end_time": "2022-12-16T09:18:36.530563Z",
     "start_time": "2022-12-16T09:18:36.511716Z"
    }
   },
   "outputs": [
    {
     "data": {
      "text/plain": [
       "array([5.30631204, 3.56743324, 2.76671777, 2.24133582, 2.1210085 ,\n",
       "       1.87966309, 1.68677662, 1.5617888 , 1.48666699, 1.41582158])"
      ]
     },
     "execution_count": 100,
     "metadata": {},
     "output_type": "execute_result"
    }
   ],
   "source": [
    "pca.explained_variance_"
   ]
  },
  {
   "cell_type": "code",
   "execution_count": 101,
   "id": "38959eec",
   "metadata": {
    "ExecuteTime": {
     "end_time": "2022-12-16T09:18:37.942662Z",
     "start_time": "2022-12-16T09:18:37.750638Z"
    }
   },
   "outputs": [
    {
     "data": {
      "image/png": "[encoded data removed]",
      "text/plain": [
       "<Figure size 432x288 with 1 Axes>"
      ]
     },
     "metadata": {
      "needs_background": "light"
     },
     "output_type": "display_data"
    }
   ],
   "source": [
    "plt.plot(np.arange(1,11),pca.explained_variance_)\n",
    "plt.xlabel(\"Number of components\")\n",
    "plt.ylabel(\"Explained variance\")\n",
    "plt.show()"
   ]
  },
  {
   "cell_type": "code",
   "execution_count": 102,
   "id": "f605d614",
   "metadata": {
    "ExecuteTime": {
     "end_time": "2022-12-16T09:18:40.280880Z",
     "start_time": "2022-12-16T09:18:40.253870Z"
    },
    "scrolled": true
   },
   "outputs": [
    {
     "data": {
      "text/html": [
       "<style>#sk-container-id-2 {color: black;background-color: white;}#sk-container-id-2 pre{padding: 0;}#sk-container-id-2 div.sk-toggleable {background-color: white;}#sk-container-id-2 label.sk-toggleable__label {cursor: pointer;display: block;width: 100%;margin-bottom: 0;padding: 0.3em;box-sizing: border-box;text-align: center;}#sk-container-id-2 label.sk-toggleable__label-arrow:before {content: \"▸\";float: left;margin-right: 0.25em;color: #696969;}#sk-container-id-2 label.sk-toggleable__label-arrow:hover:before {color: black;}#sk-container-id-2 div.sk-estimator:hover label.sk-toggleable__label-arrow:before {color: black;}#sk-container-id-2 div.sk-toggleable__content {max-height: 0;max-width: 0;overflow: hidden;text-align: left;background-color: #f0f8ff;}#sk-container-id-2 div.sk-toggleable__content pre {margin: 0.2em;color: black;border-radius: 0.25em;background-color: #f0f8ff;}#sk-container-id-2 input.sk-toggleable__control:checked~div.sk-toggleable__content {max-height: 200px;max-width: 100%;overflow: auto;}#sk-container-id-2 input.sk-toggleable__control:checked~label.sk-toggleable__label-arrow:before {content: \"▾\";}#sk-container-id-2 div.sk-estimator input.sk-toggleable__control:checked~label.sk-toggleable__label {background-color: #d4ebff;}#sk-container-id-2 div.sk-label input.sk-toggleable__control:checked~label.sk-toggleable__label {background-color: #d4ebff;}#sk-container-id-2 input.sk-hidden--visually {border: 0;clip: rect(1px 1px 1px 1px);clip: rect(1px, 1px, 1px, 1px);height: 1px;margin: -1px;overflow: hidden;padding: 0;position: absolute;width: 1px;}#sk-container-id-2 div.sk-estimator {font-family: monospace;background-color: #f0f8ff;border: 1px dotted black;border-radius: 0.25em;box-sizing: border-box;margin-bottom: 0.5em;}#sk-container-id-2 div.sk-estimator:hover {background-color: #d4ebff;}#sk-container-id-2 div.sk-parallel-item::after {content: \"\";width: 100%;border-bottom: 1px solid gray;flex-grow: 1;}#sk-container-id-2 div.sk-label:hover label.sk-toggleable__label {background-color: #d4ebff;}#sk-container-id-2 div.sk-serial::before {content: \"\";position: absolute;border-left: 1px solid gray;box-sizing: border-box;top: 0;bottom: 0;left: 50%;z-index: 0;}#sk-container-id-2 div.sk-serial {display: flex;flex-direction: column;align-items: center;background-color: white;padding-right: 0.2em;padding-left: 0.2em;position: relative;}#sk-container-id-2 div.sk-item {position: relative;z-index: 1;}#sk-container-id-2 div.sk-parallel {display: flex;align-items: stretch;justify-content: center;background-color: white;position: relative;}#sk-container-id-2 div.sk-item::before, #sk-container-id-2 div.sk-parallel-item::before {content: \"\";position: absolute;border-left: 1px solid gray;box-sizing: border-box;top: 0;bottom: 0;left: 50%;z-index: -1;}#sk-container-id-2 div.sk-parallel-item {display: flex;flex-direction: column;z-index: 1;position: relative;background-color: white;}#sk-container-id-2 div.sk-parallel-item:first-child::after {align-self: flex-end;width: 50%;}#sk-container-id-2 div.sk-parallel-item:last-child::after {align-self: flex-start;width: 50%;}#sk-container-id-2 div.sk-parallel-item:only-child::after {width: 0;}#sk-container-id-2 div.sk-dashed-wrapped {border: 1px dashed gray;margin: 0 0.4em 0.5em 0.4em;box-sizing: border-box;padding-bottom: 0.4em;background-color: white;}#sk-container-id-2 div.sk-label label {font-family: monospace;font-weight: bold;display: inline-block;line-height: 1.2em;}#sk-container-id-2 div.sk-label-container {text-align: center;}#sk-container-id-2 div.sk-container {/* jupyter's `normalize.less` sets `[hidden] { display: none; }` but bootstrap.min.css set `[hidden] { display: none !important; }` so we also need the `!important` here to be able to override the default hidden behavior on the sphinx rendered scikit-learn.org. See: https://github.com/scikit-learn/scikit-learn/issues/21755 */display: inline-block !important;position: relative;}#sk-container-id-2 div.sk-text-repr-fallback {display: none;}</style><div id=\"sk-container-id-2\" class=\"sk-top-container\"><div class=\"sk-text-repr-fallback\"><pre>PCA(n_components=4)</pre><b>In a Jupyter environment, please rerun this cell to show the HTML representation or trust the notebook. <br />On GitHub, the HTML representation is unable to render, please try loading this page with nbviewer.org.</b></div><div class=\"sk-container\" hidden><div class=\"sk-item\"><div class=\"sk-estimator sk-toggleable\"><input class=\"sk-toggleable__control sk-hidden--visually\" id=\"sk-estimator-id-2\" type=\"checkbox\" checked><label for=\"sk-estimator-id-2\" class=\"sk-toggleable__label sk-toggleable__label-arrow\">PCA</label><div class=\"sk-toggleable__content\"><pre>PCA(n_components=4)</pre></div></div></div></div></div>"
      ],
      "text/plain": [
       "PCA(n_components=4)"
      ]
     },
     "execution_count": 102,
     "metadata": {},
     "output_type": "execute_result"
    }
   ],
   "source": [
    "pca = dcp.PCA(n_components=4)\n",
    "pca.fit(x_scaled)"
   ]
  },
  {
   "cell_type": "code",
   "execution_count": 103,
   "id": "92e2d6d0",
   "metadata": {
    "ExecuteTime": {
     "end_time": "2022-12-16T09:18:41.975928Z",
     "start_time": "2022-12-16T09:18:41.953530Z"
    },
    "scrolled": true
   },
   "outputs": [
    {
     "data": {
      "text/html": [
       "<div>\n",
       "<style scoped>\n",
       "    .dataframe tbody tr th:only-of-type {\n",
       "        vertical-align: middle;\n",
       "    }\n",
       "\n",
       "    .dataframe tbody tr th {\n",
       "        vertical-align: top;\n",
       "    }\n",
       "\n",
       "    .dataframe thead th {\n",
       "        text-align: right;\n",
       "    }\n",
       "</style>\n",
       "<table border=\"1\" class=\"dataframe\">\n",
       "  <thead>\n",
       "    <tr style=\"text-align: right;\">\n",
       "      <th></th>\n",
       "      <th>z1</th>\n",
       "      <th>z2</th>\n",
       "    </tr>\n",
       "  </thead>\n",
       "  <tbody>\n",
       "    <tr>\n",
       "      <th>Age</th>\n",
       "      <td>0.234120</td>\n",
       "      <td>-0.083782</td>\n",
       "    </tr>\n",
       "    <tr>\n",
       "      <th>BusinessTravel</th>\n",
       "      <td>0.005015</td>\n",
       "      <td>0.023695</td>\n",
       "    </tr>\n",
       "    <tr>\n",
       "      <th>DailyRate</th>\n",
       "      <td>0.001930</td>\n",
       "      <td>-0.050471</td>\n",
       "    </tr>\n",
       "    <tr>\n",
       "      <th>Flag Sales</th>\n",
       "      <td>0.085674</td>\n",
       "      <td>0.477900</td>\n",
       "    </tr>\n",
       "    <tr>\n",
       "      <th>Flag HR</th>\n",
       "      <td>-0.007042</td>\n",
       "      <td>0.087046</td>\n",
       "    </tr>\n",
       "    <tr>\n",
       "      <th>Flag R&amp;D</th>\n",
       "      <td>-0.079651</td>\n",
       "      <td>-0.499420</td>\n",
       "    </tr>\n",
       "    <tr>\n",
       "      <th>DistanceFromHome</th>\n",
       "      <td>0.012791</td>\n",
       "      <td>0.024342</td>\n",
       "    </tr>\n",
       "    <tr>\n",
       "      <th>Education</th>\n",
       "      <td>0.055849</td>\n",
       "      <td>-0.012699</td>\n",
       "    </tr>\n",
       "    <tr>\n",
       "      <th>EnvironmentSatisfaction</th>\n",
       "      <td>0.004805</td>\n",
       "      <td>0.032713</td>\n",
       "    </tr>\n",
       "    <tr>\n",
       "      <th>Gender</th>\n",
       "      <td>0.022955</td>\n",
       "      <td>0.011347</td>\n",
       "    </tr>\n",
       "    <tr>\n",
       "      <th>HourlyRate</th>\n",
       "      <td>0.020564</td>\n",
       "      <td>-0.017728</td>\n",
       "    </tr>\n",
       "    <tr>\n",
       "      <th>JobInvolvement</th>\n",
       "      <td>-0.021736</td>\n",
       "      <td>-0.050747</td>\n",
       "    </tr>\n",
       "    <tr>\n",
       "      <th>JobLevel</th>\n",
       "      <td>0.376455</td>\n",
       "      <td>-0.011274</td>\n",
       "    </tr>\n",
       "    <tr>\n",
       "      <th>Healthcare Representative Flag</th>\n",
       "      <td>0.057644</td>\n",
       "      <td>-0.141080</td>\n",
       "    </tr>\n",
       "    <tr>\n",
       "      <th>Human Resources Flag</th>\n",
       "      <td>-0.041478</td>\n",
       "      <td>0.091718</td>\n",
       "    </tr>\n",
       "    <tr>\n",
       "      <th>Laboratory Technician Flag</th>\n",
       "      <td>-0.139090</td>\n",
       "      <td>-0.152277</td>\n",
       "    </tr>\n",
       "    <tr>\n",
       "      <th>Manager</th>\n",
       "      <td>0.240254</td>\n",
       "      <td>-0.045331</td>\n",
       "    </tr>\n",
       "    <tr>\n",
       "      <th>Manufacturing Director</th>\n",
       "      <td>0.012923</td>\n",
       "      <td>-0.143673</td>\n",
       "    </tr>\n",
       "    <tr>\n",
       "      <th>Research Director</th>\n",
       "      <td>0.106473</td>\n",
       "      <td>-0.102623</td>\n",
       "    </tr>\n",
       "    <tr>\n",
       "      <th>Research Scientist</th>\n",
       "      <td>-0.153448</td>\n",
       "      <td>-0.144334</td>\n",
       "    </tr>\n",
       "    <tr>\n",
       "      <th>Sales Executive</th>\n",
       "      <td>0.075780</td>\n",
       "      <td>0.435116</td>\n",
       "    </tr>\n",
       "    <tr>\n",
       "      <th>Sales Representative</th>\n",
       "      <td>-0.075154</td>\n",
       "      <td>0.138602</td>\n",
       "    </tr>\n",
       "    <tr>\n",
       "      <th>JobSatisfaction</th>\n",
       "      <td>-0.009688</td>\n",
       "      <td>0.000483</td>\n",
       "    </tr>\n",
       "    <tr>\n",
       "      <th>MonthlyIncome</th>\n",
       "      <td>0.367367</td>\n",
       "      <td>-0.041959</td>\n",
       "    </tr>\n",
       "    <tr>\n",
       "      <th>MonthlyRate</th>\n",
       "      <td>0.001942</td>\n",
       "      <td>0.060873</td>\n",
       "    </tr>\n",
       "    <tr>\n",
       "      <th>NumCompaniesWorked</th>\n",
       "      <td>0.013464</td>\n",
       "      <td>-0.037288</td>\n",
       "    </tr>\n",
       "    <tr>\n",
       "      <th>OverTime</th>\n",
       "      <td>0.031659</td>\n",
       "      <td>0.014707</td>\n",
       "    </tr>\n",
       "    <tr>\n",
       "      <th>PercentSalaryHike</th>\n",
       "      <td>-0.046944</td>\n",
       "      <td>-0.062425</td>\n",
       "    </tr>\n",
       "    <tr>\n",
       "      <th>PerformanceRating</th>\n",
       "      <td>-0.017601</td>\n",
       "      <td>-0.063685</td>\n",
       "    </tr>\n",
       "    <tr>\n",
       "      <th>RelationshipSatisfaction</th>\n",
       "      <td>0.008162</td>\n",
       "      <td>0.001004</td>\n",
       "    </tr>\n",
       "    <tr>\n",
       "      <th>StockOptionLevel</th>\n",
       "      <td>0.057732</td>\n",
       "      <td>-0.033755</td>\n",
       "    </tr>\n",
       "    <tr>\n",
       "      <th>TotalWorkingYears</th>\n",
       "      <td>0.371187</td>\n",
       "      <td>-0.090327</td>\n",
       "    </tr>\n",
       "    <tr>\n",
       "      <th>TrainingTimesLastYear</th>\n",
       "      <td>-0.036682</td>\n",
       "      <td>0.000204</td>\n",
       "    </tr>\n",
       "    <tr>\n",
       "      <th>WorkLifeBalance</th>\n",
       "      <td>-0.003156</td>\n",
       "      <td>0.018663</td>\n",
       "    </tr>\n",
       "    <tr>\n",
       "      <th>YearsAtCompany</th>\n",
       "      <td>0.344096</td>\n",
       "      <td>-0.058103</td>\n",
       "    </tr>\n",
       "    <tr>\n",
       "      <th>YearsInCurrentRole</th>\n",
       "      <td>0.263345</td>\n",
       "      <td>-0.050089</td>\n",
       "    </tr>\n",
       "    <tr>\n",
       "      <th>YearsSinceLastPromotion</th>\n",
       "      <td>0.273999</td>\n",
       "      <td>-0.053158</td>\n",
       "    </tr>\n",
       "    <tr>\n",
       "      <th>YearsWithCurrManager</th>\n",
       "      <td>0.297004</td>\n",
       "      <td>-0.062384</td>\n",
       "    </tr>\n",
       "    <tr>\n",
       "      <th>Human Resources</th>\n",
       "      <td>0.005078</td>\n",
       "      <td>0.068309</td>\n",
       "    </tr>\n",
       "    <tr>\n",
       "      <th>Life Sciences</th>\n",
       "      <td>0.004321</td>\n",
       "      <td>-0.066530</td>\n",
       "    </tr>\n",
       "    <tr>\n",
       "      <th>Marketing</th>\n",
       "      <td>0.081352</td>\n",
       "      <td>0.330818</td>\n",
       "    </tr>\n",
       "    <tr>\n",
       "      <th>Medical</th>\n",
       "      <td>-0.032929</td>\n",
       "      <td>-0.150394</td>\n",
       "    </tr>\n",
       "    <tr>\n",
       "      <th>Other</th>\n",
       "      <td>0.020686</td>\n",
       "      <td>-0.025678</td>\n",
       "    </tr>\n",
       "    <tr>\n",
       "      <th>Technical Degree</th>\n",
       "      <td>-0.053973</td>\n",
       "      <td>-0.023117</td>\n",
       "    </tr>\n",
       "    <tr>\n",
       "      <th>Divorced</th>\n",
       "      <td>0.046785</td>\n",
       "      <td>0.010694</td>\n",
       "    </tr>\n",
       "    <tr>\n",
       "      <th>Married</th>\n",
       "      <td>0.048983</td>\n",
       "      <td>-0.056471</td>\n",
       "    </tr>\n",
       "    <tr>\n",
       "      <th>Single</th>\n",
       "      <td>-0.091783</td>\n",
       "      <td>0.049912</td>\n",
       "    </tr>\n",
       "  </tbody>\n",
       "</table>\n",
       "</div>"
      ],
      "text/plain": [
       "                                      z1        z2\n",
       "Age                             0.234120 -0.083782\n",
       "BusinessTravel                  0.005015  0.023695\n",
       "DailyRate                       0.001930 -0.050471\n",
       "Flag Sales                      0.085674  0.477900\n",
       "Flag HR                        -0.007042  0.087046\n",
       "Flag R&D                       -0.079651 -0.499420\n",
       "DistanceFromHome                0.012791  0.024342\n",
       "Education                       0.055849 -0.012699\n",
       "EnvironmentSatisfaction         0.004805  0.032713\n",
       "Gender                          0.022955  0.011347\n",
       "HourlyRate                      0.020564 -0.017728\n",
       "JobInvolvement                 -0.021736 -0.050747\n",
       "JobLevel                        0.376455 -0.011274\n",
       "Healthcare Representative Flag  0.057644 -0.141080\n",
       "Human Resources Flag           -0.041478  0.091718\n",
       "Laboratory Technician Flag     -0.139090 -0.152277\n",
       "Manager                         0.240254 -0.045331\n",
       "Manufacturing Director          0.012923 -0.143673\n",
       "Research Director               0.106473 -0.102623\n",
       "Research Scientist             -0.153448 -0.144334\n",
       "Sales Executive                 0.075780  0.435116\n",
       "Sales Representative           -0.075154  0.138602\n",
       "JobSatisfaction                -0.009688  0.000483\n",
       "MonthlyIncome                   0.367367 -0.041959\n",
       "MonthlyRate                     0.001942  0.060873\n",
       "NumCompaniesWorked              0.013464 -0.037288\n",
       "OverTime                        0.031659  0.014707\n",
       "PercentSalaryHike              -0.046944 -0.062425\n",
       "PerformanceRating              -0.017601 -0.063685\n",
       "RelationshipSatisfaction        0.008162  0.001004\n",
       "StockOptionLevel                0.057732 -0.033755\n",
       "TotalWorkingYears               0.371187 -0.090327\n",
       "TrainingTimesLastYear          -0.036682  0.000204\n",
       "WorkLifeBalance                -0.003156  0.018663\n",
       "YearsAtCompany                  0.344096 -0.058103\n",
       "YearsInCurrentRole              0.263345 -0.050089\n",
       "YearsSinceLastPromotion         0.273999 -0.053158\n",
       "YearsWithCurrManager            0.297004 -0.062384\n",
       "Human Resources                 0.005078  0.068309\n",
       "Life Sciences                   0.004321 -0.066530\n",
       "Marketing                       0.081352  0.330818\n",
       "Medical                        -0.032929 -0.150394\n",
       "Other                           0.020686 -0.025678\n",
       "Technical Degree               -0.053973 -0.023117\n",
       "Divorced                        0.046785  0.010694\n",
       "Married                         0.048983 -0.056471\n",
       "Single                         -0.091783  0.049912"
      ]
     },
     "execution_count": 103,
     "metadata": {},
     "output_type": "execute_result"
    }
   ],
   "source": [
    "loadings=pd.DataFrame(pca.components_[0:2,:].T).set_index(np.arange(1,48))\n",
    "loadings.columns = ['z1','z2']\n",
    "loadings.index = forX.columns\n",
    "loadings"
   ]
  },
  {
   "cell_type": "code",
   "execution_count": 104,
   "id": "65c6e096",
   "metadata": {
    "ExecuteTime": {
     "end_time": "2022-12-16T09:18:45.221146Z",
     "start_time": "2022-12-16T09:18:45.133671Z"
    }
   },
   "outputs": [
    {
     "data": {
      "text/plain": [
       "0.3764550443359893"
      ]
     },
     "execution_count": 104,
     "metadata": {},
     "output_type": "execute_result"
    }
   ],
   "source": [
    "loadings[\"z1\"].max()\n",
    "# JobLevel"
   ]
  },
  {
   "cell_type": "code",
   "execution_count": 105,
   "id": "949831d2",
   "metadata": {
    "ExecuteTime": {
     "end_time": "2022-12-16T09:18:45.987714Z",
     "start_time": "2022-12-16T09:18:45.977572Z"
    }
   },
   "outputs": [
    {
     "data": {
      "text/plain": [
       "0.47790002526756087"
      ]
     },
     "execution_count": 105,
     "metadata": {},
     "output_type": "execute_result"
    }
   ],
   "source": [
    "loadings[\"z2\"].max()\n",
    "# Sale (can't use it bcs it's discriminated)"
   ]
  },
  {
   "cell_type": "markdown",
   "id": "548bb95e",
   "metadata": {},
   "source": [
    "# Group employeee"
   ]
  },
  {
   "cell_type": "code",
   "execution_count": 109,
   "id": "870fa312",
   "metadata": {
    "ExecuteTime": {
     "end_time": "2022-12-16T09:19:09.776504Z",
     "start_time": "2022-12-16T09:19:09.765283Z"
    }
   },
   "outputs": [],
   "source": [
    "# df1 = lyondataset\n",
    "forg = df1.copy()"
   ]
  },
  {
   "cell_type": "code",
   "execution_count": 110,
   "id": "dbfe8dbc",
   "metadata": {
    "ExecuteTime": {
     "end_time": "2022-12-16T09:19:10.606299Z",
     "start_time": "2022-12-16T09:19:10.394881Z"
    },
    "scrolled": true
   },
   "outputs": [
    {
     "data": {
      "image/png": "[encoded data removed]",
      "text/plain": [
       "<Figure size 432x288 with 1 Axes>"
      ]
     },
     "metadata": {
      "needs_background": "light"
     },
     "output_type": "display_data"
    }
   ],
   "source": [
    "# check the distribution of the monthlyincome\n",
    "sns.histplot(forg[\"MonthlyIncome\"],kde=False)                                \n",
    "plt.show()"
   ]
  },
  {
   "cell_type": "code",
   "execution_count": 111,
   "id": "060af7d3",
   "metadata": {
    "ExecuteTime": {
     "end_time": "2022-12-16T09:19:40.125374Z",
     "start_time": "2022-12-16T09:19:39.457597Z"
    }
   },
   "outputs": [],
   "source": [
    "for index, row in forg.iterrows():\n",
    "    if row['MonthlyIncome'] <= 4308 and row['OverTime'] == 1:\n",
    "        forg.loc[index,\"group1\"] = 1\n",
    "    else:\n",
    "        forg.loc[index,\"group1\"] = 0\n",
    "    if row['MonthlyIncome'] <= 4308 and row['OverTime'] == 0:\n",
    "        forg.loc[index,\"group2\"] = 1\n",
    "    else:\n",
    "        forg.loc[index,\"group2\"] = 0\n",
    "    if (row['MonthlyIncome'] > 4308 and row['MonthlyIncome'] <= 8616) and row['OverTime'] == 1:\n",
    "        forg.loc[index,\"group3\"] = 1\n",
    "    else:\n",
    "        forg.loc[index,\"group3\"] = 0\n",
    "    if (row['MonthlyIncome'] > 4308 and row['MonthlyIncome'] <= 8616) and row['OverTime'] == 0:\n",
    "        forg.loc[index,\"group4\"] = 1\n",
    "    else:\n",
    "        forg.loc[index,\"group4\"] = 0  \n",
    "    if (row['MonthlyIncome'] > 8616 and row['MonthlyIncome'] <= 12924) and row['OverTime'] == 1:\n",
    "        forg.loc[index,\"group5\"] = 1\n",
    "    else:\n",
    "        forg.loc[index,\"group5\"] = 0\n",
    "    if (row['MonthlyIncome'] > 8616 and row['MonthlyIncome'] <= 12924) and row['OverTime'] == 0:\n",
    "        forg.loc[index,\"group6\"] = 1\n",
    "    else:\n",
    "        forg.loc[index,\"group6\"] = 0\n",
    "    if row['MonthlyIncome'] > 12924 and row['OverTime'] == 1:\n",
    "        forg.loc[index,\"group7\"] = 1\n",
    "    else:\n",
    "        forg.loc[index,\"group7\"] = 0\n",
    "    if row['MonthlyIncome'] > 12924 and row['OverTime'] == 0:\n",
    "        forg.loc[index,\"group8\"] = 1\n",
    "    else:\n",
    "        forg.loc[index,\"group8\"] = 0"
   ]
  },
  {
   "cell_type": "code",
   "execution_count": 112,
   "id": "d0c74447",
   "metadata": {
    "ExecuteTime": {
     "end_time": "2022-12-16T09:20:03.420327Z",
     "start_time": "2022-12-16T09:20:03.409085Z"
    },
    "scrolled": true
   },
   "outputs": [
    {
     "data": {
      "text/plain": [
       "Age                          0\n",
       "BusinessTravel               0\n",
       "DailyRate                    0\n",
       "DistanceFromHome             0\n",
       "Education                    0\n",
       "EnvironmentSatisfaction      0\n",
       "Gender                       0\n",
       "HourlyRate                   0\n",
       "JobInvolvement               0\n",
       "JobLevel                     0\n",
       "JobSatisfaction              0\n",
       "MonthlyIncome                0\n",
       "MonthlyRate                  0\n",
       "NumCompaniesWorked           0\n",
       "OverTime                     0\n",
       "PercentSalaryHike            0\n",
       "PerformanceRating            0\n",
       "RelationshipSatisfaction     0\n",
       "StockOptionLevel             0\n",
       "TotalWorkingYears            0\n",
       "TrainingTimesLastYear        0\n",
       "WorkLifeBalance              0\n",
       "YearsAtCompany               0\n",
       "YearsInCurrentRole           0\n",
       "YearsSinceLastPromotion      0\n",
       "YearsWithCurrManager         0\n",
       "Dep_Human Resources          0\n",
       "Research & Development       0\n",
       "Sales                        0\n",
       "Human Resources_x            0\n",
       "Life Sciences                0\n",
       "Marketing                    0\n",
       "Medical                      0\n",
       "Other                        0\n",
       "Technical Degree             0\n",
       "Healthcare Representative    0\n",
       "Human Resources_y            0\n",
       "Laboratory Technician        0\n",
       "Manager                      0\n",
       "Manufacturing Director       0\n",
       "Research Director            0\n",
       "Research Scientist           0\n",
       "Sales Executive              0\n",
       "Sales Representative         0\n",
       "Divorced                     0\n",
       "Married                      0\n",
       "Single                       0\n",
       "group1                       0\n",
       "group2                       0\n",
       "group3                       0\n",
       "group4                       0\n",
       "group5                       0\n",
       "group6                       0\n",
       "group7                       0\n",
       "group8                       0\n",
       "dtype: int64"
      ]
     },
     "execution_count": 112,
     "metadata": {},
     "output_type": "execute_result"
    }
   ],
   "source": [
    "# check if there's none value\n",
    "forg.isna().sum()"
   ]
  },
  {
   "cell_type": "code",
   "execution_count": 113,
   "id": "076fc999",
   "metadata": {
    "ExecuteTime": {
     "end_time": "2022-12-16T09:20:04.434485Z",
     "start_time": "2022-12-16T09:20:04.424194Z"
    }
   },
   "outputs": [],
   "source": [
    "# if there IS none value use the code below to deal with that\n",
    "forg.fillna(value=0,inplace=True)"
   ]
  },
  {
   "cell_type": "code",
   "execution_count": 114,
   "id": "0dce28bd",
   "metadata": {
    "ExecuteTime": {
     "end_time": "2022-12-16T09:20:05.122902Z",
     "start_time": "2022-12-16T09:20:05.103491Z"
    }
   },
   "outputs": [],
   "source": [
    "forg.to_csv(\"grouping.csv\")"
   ]
  },
  {
   "cell_type": "markdown",
   "id": "9879596a",
   "metadata": {},
   "source": [
    "# CAR"
   ]
  },
  {
   "cell_type": "code",
   "execution_count": 131,
   "id": "ccca28ed",
   "metadata": {
    "ExecuteTime": {
     "end_time": "2022-12-16T09:30:36.018722Z",
     "start_time": "2022-12-16T09:30:36.003506Z"
    }
   },
   "outputs": [
    {
     "data": {
      "text/html": [
       "<style>#sk-container-id-7 {color: black;background-color: white;}#sk-container-id-7 pre{padding: 0;}#sk-container-id-7 div.sk-toggleable {background-color: white;}#sk-container-id-7 label.sk-toggleable__label {cursor: pointer;display: block;width: 100%;margin-bottom: 0;padding: 0.3em;box-sizing: border-box;text-align: center;}#sk-container-id-7 label.sk-toggleable__label-arrow:before {content: \"▸\";float: left;margin-right: 0.25em;color: #696969;}#sk-container-id-7 label.sk-toggleable__label-arrow:hover:before {color: black;}#sk-container-id-7 div.sk-estimator:hover label.sk-toggleable__label-arrow:before {color: black;}#sk-container-id-7 div.sk-toggleable__content {max-height: 0;max-width: 0;overflow: hidden;text-align: left;background-color: #f0f8ff;}#sk-container-id-7 div.sk-toggleable__content pre {margin: 0.2em;color: black;border-radius: 0.25em;background-color: #f0f8ff;}#sk-container-id-7 input.sk-toggleable__control:checked~div.sk-toggleable__content {max-height: 200px;max-width: 100%;overflow: auto;}#sk-container-id-7 input.sk-toggleable__control:checked~label.sk-toggleable__label-arrow:before {content: \"▾\";}#sk-container-id-7 div.sk-estimator input.sk-toggleable__control:checked~label.sk-toggleable__label {background-color: #d4ebff;}#sk-container-id-7 div.sk-label input.sk-toggleable__control:checked~label.sk-toggleable__label {background-color: #d4ebff;}#sk-container-id-7 input.sk-hidden--visually {border: 0;clip: rect(1px 1px 1px 1px);clip: rect(1px, 1px, 1px, 1px);height: 1px;margin: -1px;overflow: hidden;padding: 0;position: absolute;width: 1px;}#sk-container-id-7 div.sk-estimator {font-family: monospace;background-color: #f0f8ff;border: 1px dotted black;border-radius: 0.25em;box-sizing: border-box;margin-bottom: 0.5em;}#sk-container-id-7 div.sk-estimator:hover {background-color: #d4ebff;}#sk-container-id-7 div.sk-parallel-item::after {content: \"\";width: 100%;border-bottom: 1px solid gray;flex-grow: 1;}#sk-container-id-7 div.sk-label:hover label.sk-toggleable__label {background-color: #d4ebff;}#sk-container-id-7 div.sk-serial::before {content: \"\";position: absolute;border-left: 1px solid gray;box-sizing: border-box;top: 0;bottom: 0;left: 50%;z-index: 0;}#sk-container-id-7 div.sk-serial {display: flex;flex-direction: column;align-items: center;background-color: white;padding-right: 0.2em;padding-left: 0.2em;position: relative;}#sk-container-id-7 div.sk-item {position: relative;z-index: 1;}#sk-container-id-7 div.sk-parallel {display: flex;align-items: stretch;justify-content: center;background-color: white;position: relative;}#sk-container-id-7 div.sk-item::before, #sk-container-id-7 div.sk-parallel-item::before {content: \"\";position: absolute;border-left: 1px solid gray;box-sizing: border-box;top: 0;bottom: 0;left: 50%;z-index: -1;}#sk-container-id-7 div.sk-parallel-item {display: flex;flex-direction: column;z-index: 1;position: relative;background-color: white;}#sk-container-id-7 div.sk-parallel-item:first-child::after {align-self: flex-end;width: 50%;}#sk-container-id-7 div.sk-parallel-item:last-child::after {align-self: flex-start;width: 50%;}#sk-container-id-7 div.sk-parallel-item:only-child::after {width: 0;}#sk-container-id-7 div.sk-dashed-wrapped {border: 1px dashed gray;margin: 0 0.4em 0.5em 0.4em;box-sizing: border-box;padding-bottom: 0.4em;background-color: white;}#sk-container-id-7 div.sk-label label {font-family: monospace;font-weight: bold;display: inline-block;line-height: 1.2em;}#sk-container-id-7 div.sk-label-container {text-align: center;}#sk-container-id-7 div.sk-container {/* jupyter's `normalize.less` sets `[hidden] { display: none; }` but bootstrap.min.css set `[hidden] { display: none !important; }` so we also need the `!important` here to be able to override the default hidden behavior on the sphinx rendered scikit-learn.org. See: https://github.com/scikit-learn/scikit-learn/issues/21755 */display: inline-block !important;position: relative;}#sk-container-id-7 div.sk-text-repr-fallback {display: none;}</style><div id=\"sk-container-id-7\" class=\"sk-top-container\"><div class=\"sk-text-repr-fallback\"><pre>DecisionTreeClassifier(max_leaf_nodes=4)</pre><b>In a Jupyter environment, please rerun this cell to show the HTML representation or trust the notebook. <br />On GitHub, the HTML representation is unable to render, please try loading this page with nbviewer.org.</b></div><div class=\"sk-container\" hidden><div class=\"sk-item\"><div class=\"sk-estimator sk-toggleable\"><input class=\"sk-toggleable__control sk-hidden--visually\" id=\"sk-estimator-id-7\" type=\"checkbox\" checked><label for=\"sk-estimator-id-7\" class=\"sk-toggleable__label sk-toggleable__label-arrow\">DecisionTreeClassifier</label><div class=\"sk-toggleable__content\"><pre>DecisionTreeClassifier(max_leaf_nodes=4)</pre></div></div></div></div></div>"
      ],
      "text/plain": [
       "DecisionTreeClassifier(max_leaf_nodes=4)"
      ]
     },
     "execution_count": 131,
     "metadata": {},
     "output_type": "execute_result"
    }
   ],
   "source": [
    "classifier_DT = DecisionTreeClassifier(max_leaf_nodes = 4)\n",
    "classifier_DT.fit(trainX, trainY.values.ravel())"
   ]
  },
  {
   "cell_type": "code",
   "execution_count": 132,
   "id": "e42c1fc1",
   "metadata": {
    "ExecuteTime": {
     "end_time": "2022-12-16T09:30:37.071226Z",
     "start_time": "2022-12-16T09:30:36.338082Z"
    }
   },
   "outputs": [
    {
     "data": {
      "image/svg+xml": "<?xml version=\"1.0\" encoding=\"UTF-8\" standalone=\"no\"?>\n<!DOCTYPE svg PUBLIC \"-//W3C//DTD SVG 1.1//EN\"\n \"http://www.w3.org/Graphics/SVG/1.1/DTD/svg11.dtd\">\n<!-- Generated by graphviz version 2.44.1 (20200629.0846)\n -->\n<!-- Title: Tree Pages: 1 -->\n<svg width=\"432pt\" height=\"433pt\"\n viewBox=\"0.00 0.00 431.50 433.00\" xmlns=\"http://www.w3.org/2000/svg\" xmlns:xlink=\"http://www.w3.org/1999/xlink\">\n<g id=\"graph0\" class=\"graph\" transform=\"scale(1 1) rotate(0) translate(4 429)\">\n<title>Tree</title>\n<polygon fill=\"white\" stroke=\"transparent\" points=\"-4,4 -4,-429 427.5,-429 427.5,4 -4,4\"/>\n<!-- 0 -->\n<g id=\"node1\" class=\"node\">\n<title>0</title>\n<path fill=\"#ea9b61\" stroke=\"black\" d=\"M188.5,-425C188.5,-425 92.5,-425 92.5,-425 86.5,-425 80.5,-419 80.5,-413 80.5,-413 80.5,-354 80.5,-354 80.5,-348 86.5,-342 92.5,-342 92.5,-342 188.5,-342 188.5,-342 194.5,-342 200.5,-348 200.5,-354 200.5,-354 200.5,-413 200.5,-413 200.5,-419 194.5,-425 188.5,-425\"/>\n<text text-anchor=\"middle\" x=\"140.5\" y=\"-409.8\" font-family=\"Helvetica,sans-Serif\" font-size=\"14.00\">OverTime &lt;= 0.5</text>\n<text text-anchor=\"middle\" x=\"140.5\" y=\"-394.8\" font-family=\"Helvetica,sans-Serif\" font-size=\"14.00\">gini = 0.281</text>\n<text text-anchor=\"middle\" x=\"140.5\" y=\"-379.8\" font-family=\"Helvetica,sans-Serif\" font-size=\"14.00\">samples = 514</text>\n<text text-anchor=\"middle\" x=\"140.5\" y=\"-364.8\" font-family=\"Helvetica,sans-Serif\" font-size=\"14.00\">value = [427, 87]</text>\n<text text-anchor=\"middle\" x=\"140.5\" y=\"-349.8\" font-family=\"Helvetica,sans-Serif\" font-size=\"14.00\">class = No exit</text>\n</g>\n<!-- 1 -->\n<g id=\"node2\" class=\"node\">\n<title>1</title>\n<path fill=\"#e89050\" stroke=\"black\" d=\"M105,-298.5C105,-298.5 12,-298.5 12,-298.5 6,-298.5 0,-292.5 0,-286.5 0,-286.5 0,-242.5 0,-242.5 0,-236.5 6,-230.5 12,-230.5 12,-230.5 105,-230.5 105,-230.5 111,-230.5 117,-236.5 117,-242.5 117,-242.5 117,-286.5 117,-286.5 117,-292.5 111,-298.5 105,-298.5\"/>\n<text text-anchor=\"middle\" x=\"58.5\" y=\"-283.3\" font-family=\"Helvetica,sans-Serif\" font-size=\"14.00\">gini = 0.189</text>\n<text text-anchor=\"middle\" x=\"58.5\" y=\"-268.3\" font-family=\"Helvetica,sans-Serif\" font-size=\"14.00\">samples = 368</text>\n<text text-anchor=\"middle\" x=\"58.5\" y=\"-253.3\" font-family=\"Helvetica,sans-Serif\" font-size=\"14.00\">value = [329, 39]</text>\n<text text-anchor=\"middle\" x=\"58.5\" y=\"-238.3\" font-family=\"Helvetica,sans-Serif\" font-size=\"14.00\">class = No exit</text>\n</g>\n<!-- 0&#45;&gt;1 -->\n<g id=\"edge1\" class=\"edge\">\n<title>0&#45;&gt;1</title>\n<path fill=\"none\" stroke=\"black\" d=\"M112.05,-341.91C104.16,-330.65 95.59,-318.42 87.66,-307.11\"/>\n<polygon fill=\"black\" stroke=\"black\" points=\"90.35,-304.85 81.75,-298.67 84.62,-308.86 90.35,-304.85\"/>\n<text text-anchor=\"middle\" x=\"77.41\" y=\"-319.59\" font-family=\"Helvetica,sans-Serif\" font-size=\"14.00\">True</text>\n</g>\n<!-- 2 -->\n<g id=\"node3\" class=\"node\">\n<title>2</title>\n<path fill=\"#f2bf9a\" stroke=\"black\" d=\"M298,-306C298,-306 147,-306 147,-306 141,-306 135,-300 135,-294 135,-294 135,-235 135,-235 135,-229 141,-223 147,-223 147,-223 298,-223 298,-223 304,-223 310,-229 310,-235 310,-235 310,-294 310,-294 310,-300 304,-306 298,-306\"/>\n<text text-anchor=\"middle\" x=\"222.5\" y=\"-290.8\" font-family=\"Helvetica,sans-Serif\" font-size=\"14.00\">MonthlyIncome &lt;= 2864.0</text>\n<text text-anchor=\"middle\" x=\"222.5\" y=\"-275.8\" font-family=\"Helvetica,sans-Serif\" font-size=\"14.00\">gini = 0.441</text>\n<text text-anchor=\"middle\" x=\"222.5\" y=\"-260.8\" font-family=\"Helvetica,sans-Serif\" font-size=\"14.00\">samples = 146</text>\n<text text-anchor=\"middle\" x=\"222.5\" y=\"-245.8\" font-family=\"Helvetica,sans-Serif\" font-size=\"14.00\">value = [98, 48]</text>\n<text text-anchor=\"middle\" x=\"222.5\" y=\"-230.8\" font-family=\"Helvetica,sans-Serif\" font-size=\"14.00\">class = No exit</text>\n</g>\n<!-- 0&#45;&gt;2 -->\n<g id=\"edge2\" class=\"edge\">\n<title>0&#45;&gt;2</title>\n<path fill=\"none\" stroke=\"black\" d=\"M168.95,-341.91C175.18,-333.01 181.84,-323.51 188.28,-314.33\"/>\n<polygon fill=\"black\" stroke=\"black\" points=\"191.23,-316.22 194.1,-306.02 185.5,-312.2 191.23,-316.22\"/>\n<text text-anchor=\"middle\" x=\"198.43\" y=\"-326.94\" font-family=\"Helvetica,sans-Serif\" font-size=\"14.00\">False</text>\n</g>\n<!-- 3 -->\n<g id=\"node4\" class=\"node\">\n<title>3</title>\n<path fill=\"#87c4ef\" stroke=\"black\" d=\"M178.5,-179.5C178.5,-179.5 92.5,-179.5 92.5,-179.5 86.5,-179.5 80.5,-173.5 80.5,-167.5 80.5,-167.5 80.5,-123.5 80.5,-123.5 80.5,-117.5 86.5,-111.5 92.5,-111.5 92.5,-111.5 178.5,-111.5 178.5,-111.5 184.5,-111.5 190.5,-117.5 190.5,-123.5 190.5,-123.5 190.5,-167.5 190.5,-167.5 190.5,-173.5 184.5,-179.5 178.5,-179.5\"/>\n<text text-anchor=\"middle\" x=\"135.5\" y=\"-164.3\" font-family=\"Helvetica,sans-Serif\" font-size=\"14.00\">gini = 0.405</text>\n<text text-anchor=\"middle\" x=\"135.5\" y=\"-149.3\" font-family=\"Helvetica,sans-Serif\" font-size=\"14.00\">samples = 39</text>\n<text text-anchor=\"middle\" x=\"135.5\" y=\"-134.3\" font-family=\"Helvetica,sans-Serif\" font-size=\"14.00\">value = [11, 28]</text>\n<text text-anchor=\"middle\" x=\"135.5\" y=\"-119.3\" font-family=\"Helvetica,sans-Serif\" font-size=\"14.00\">class = Exit</text>\n</g>\n<!-- 2&#45;&gt;3 -->\n<g id=\"edge3\" class=\"edge\">\n<title>2&#45;&gt;3</title>\n<path fill=\"none\" stroke=\"black\" d=\"M192.32,-222.91C183.86,-211.54 174.67,-199.18 166.19,-187.77\"/>\n<polygon fill=\"black\" stroke=\"black\" points=\"168.94,-185.6 160.16,-179.67 163.32,-189.78 168.94,-185.6\"/>\n</g>\n<!-- 4 -->\n<g id=\"node5\" class=\"node\">\n<title>4</title>\n<path fill=\"#eb9e67\" stroke=\"black\" d=\"M396.5,-187C396.5,-187 220.5,-187 220.5,-187 214.5,-187 208.5,-181 208.5,-175 208.5,-175 208.5,-116 208.5,-116 208.5,-110 214.5,-104 220.5,-104 220.5,-104 396.5,-104 396.5,-104 402.5,-104 408.5,-110 408.5,-116 408.5,-116 408.5,-175 408.5,-175 408.5,-181 402.5,-187 396.5,-187\"/>\n<text text-anchor=\"middle\" x=\"308.5\" y=\"-171.8\" font-family=\"Helvetica,sans-Serif\" font-size=\"14.00\">TrainingTimesLastYear &lt;= 0.5</text>\n<text text-anchor=\"middle\" x=\"308.5\" y=\"-156.8\" font-family=\"Helvetica,sans-Serif\" font-size=\"14.00\">gini = 0.304</text>\n<text text-anchor=\"middle\" x=\"308.5\" y=\"-141.8\" font-family=\"Helvetica,sans-Serif\" font-size=\"14.00\">samples = 107</text>\n<text text-anchor=\"middle\" x=\"308.5\" y=\"-126.8\" font-family=\"Helvetica,sans-Serif\" font-size=\"14.00\">value = [87, 20]</text>\n<text text-anchor=\"middle\" x=\"308.5\" y=\"-111.8\" font-family=\"Helvetica,sans-Serif\" font-size=\"14.00\">class = No exit</text>\n</g>\n<!-- 2&#45;&gt;4 -->\n<g id=\"edge4\" class=\"edge\">\n<title>2&#45;&gt;4</title>\n<path fill=\"none\" stroke=\"black\" d=\"M252.34,-222.91C258.87,-214.01 265.86,-204.51 272.61,-195.33\"/>\n<polygon fill=\"black\" stroke=\"black\" points=\"275.61,-197.15 278.72,-187.02 269.97,-193.01 275.61,-197.15\"/>\n</g>\n<!-- 5 -->\n<g id=\"node6\" class=\"node\">\n<title>5</title>\n<path fill=\"#6ab6ec\" stroke=\"black\" d=\"M283,-68C283,-68 212,-68 212,-68 206,-68 200,-62 200,-56 200,-56 200,-12 200,-12 200,-6 206,0 212,0 212,0 283,0 283,0 289,0 295,-6 295,-12 295,-12 295,-56 295,-56 295,-62 289,-68 283,-68\"/>\n<text text-anchor=\"middle\" x=\"247.5\" y=\"-52.8\" font-family=\"Helvetica,sans-Serif\" font-size=\"14.00\">gini = 0.32</text>\n<text text-anchor=\"middle\" x=\"247.5\" y=\"-37.8\" font-family=\"Helvetica,sans-Serif\" font-size=\"14.00\">samples = 5</text>\n<text text-anchor=\"middle\" x=\"247.5\" y=\"-22.8\" font-family=\"Helvetica,sans-Serif\" font-size=\"14.00\">value = [1, 4]</text>\n<text text-anchor=\"middle\" x=\"247.5\" y=\"-7.8\" font-family=\"Helvetica,sans-Serif\" font-size=\"14.00\">class = Exit</text>\n</g>\n<!-- 4&#45;&gt;5 -->\n<g id=\"edge5\" class=\"edge\">\n<title>4&#45;&gt;5</title>\n<path fill=\"none\" stroke=\"black\" d=\"M285.79,-103.73C280.96,-95.06 275.85,-85.9 271,-77.18\"/>\n<polygon fill=\"black\" stroke=\"black\" points=\"273.97,-75.33 266.05,-68.3 267.86,-78.74 273.97,-75.33\"/>\n</g>\n<!-- 6 -->\n<g id=\"node7\" class=\"node\">\n<title>6</title>\n<path fill=\"#ea985e\" stroke=\"black\" d=\"M411.5,-68C411.5,-68 325.5,-68 325.5,-68 319.5,-68 313.5,-62 313.5,-56 313.5,-56 313.5,-12 313.5,-12 313.5,-6 319.5,0 325.5,0 325.5,0 411.5,0 411.5,0 417.5,0 423.5,-6 423.5,-12 423.5,-12 423.5,-56 423.5,-56 423.5,-62 417.5,-68 411.5,-68\"/>\n<text text-anchor=\"middle\" x=\"368.5\" y=\"-52.8\" font-family=\"Helvetica,sans-Serif\" font-size=\"14.00\">gini = 0.265</text>\n<text text-anchor=\"middle\" x=\"368.5\" y=\"-37.8\" font-family=\"Helvetica,sans-Serif\" font-size=\"14.00\">samples = 102</text>\n<text text-anchor=\"middle\" x=\"368.5\" y=\"-22.8\" font-family=\"Helvetica,sans-Serif\" font-size=\"14.00\">value = [86, 16]</text>\n<text text-anchor=\"middle\" x=\"368.5\" y=\"-7.8\" font-family=\"Helvetica,sans-Serif\" font-size=\"14.00\">class = No exit</text>\n</g>\n<!-- 4&#45;&gt;6 -->\n<g id=\"edge6\" class=\"edge\">\n<title>4&#45;&gt;6</title>\n<path fill=\"none\" stroke=\"black\" d=\"M330.84,-103.73C335.59,-95.06 340.61,-85.9 345.39,-77.18\"/>\n<polygon fill=\"black\" stroke=\"black\" points=\"348.52,-78.75 350.25,-68.3 342.38,-75.39 348.52,-78.75\"/>\n</g>\n</g>\n</svg>\n",
      "text/plain": [
       "<graphviz.sources.Source at 0x7f94c08327a0>"
      ]
     },
     "execution_count": 132,
     "metadata": {},
     "output_type": "execute_result"
    }
   ],
   "source": [
    "dot_data = export_graphviz(classifier_DT, feature_names = trainX.columns, \n",
    "                           filled = True, rounded = True, class_names=[\"No exit\",\"Exit\"])\n",
    "graph = gp.Source(dot_data)\n",
    "graph"
   ]
  },
  {
   "cell_type": "markdown",
   "id": "9bc589e3",
   "metadata": {},
   "source": [
    "## Track CAR accuracy"
   ]
  },
  {
   "cell_type": "code",
   "execution_count": 117,
   "id": "85d924c0",
   "metadata": {
    "ExecuteTime": {
     "end_time": "2022-12-16T09:20:34.855637Z",
     "start_time": "2022-12-16T09:20:34.838821Z"
    }
   },
   "outputs": [
    {
     "data": {
      "text/html": [
       "<style>#sk-container-id-4 {color: black;background-color: white;}#sk-container-id-4 pre{padding: 0;}#sk-container-id-4 div.sk-toggleable {background-color: white;}#sk-container-id-4 label.sk-toggleable__label {cursor: pointer;display: block;width: 100%;margin-bottom: 0;padding: 0.3em;box-sizing: border-box;text-align: center;}#sk-container-id-4 label.sk-toggleable__label-arrow:before {content: \"▸\";float: left;margin-right: 0.25em;color: #696969;}#sk-container-id-4 label.sk-toggleable__label-arrow:hover:before {color: black;}#sk-container-id-4 div.sk-estimator:hover label.sk-toggleable__label-arrow:before {color: black;}#sk-container-id-4 div.sk-toggleable__content {max-height: 0;max-width: 0;overflow: hidden;text-align: left;background-color: #f0f8ff;}#sk-container-id-4 div.sk-toggleable__content pre {margin: 0.2em;color: black;border-radius: 0.25em;background-color: #f0f8ff;}#sk-container-id-4 input.sk-toggleable__control:checked~div.sk-toggleable__content {max-height: 200px;max-width: 100%;overflow: auto;}#sk-container-id-4 input.sk-toggleable__control:checked~label.sk-toggleable__label-arrow:before {content: \"▾\";}#sk-container-id-4 div.sk-estimator input.sk-toggleable__control:checked~label.sk-toggleable__label {background-color: #d4ebff;}#sk-container-id-4 div.sk-label input.sk-toggleable__control:checked~label.sk-toggleable__label {background-color: #d4ebff;}#sk-container-id-4 input.sk-hidden--visually {border: 0;clip: rect(1px 1px 1px 1px);clip: rect(1px, 1px, 1px, 1px);height: 1px;margin: -1px;overflow: hidden;padding: 0;position: absolute;width: 1px;}#sk-container-id-4 div.sk-estimator {font-family: monospace;background-color: #f0f8ff;border: 1px dotted black;border-radius: 0.25em;box-sizing: border-box;margin-bottom: 0.5em;}#sk-container-id-4 div.sk-estimator:hover {background-color: #d4ebff;}#sk-container-id-4 div.sk-parallel-item::after {content: \"\";width: 100%;border-bottom: 1px solid gray;flex-grow: 1;}#sk-container-id-4 div.sk-label:hover label.sk-toggleable__label {background-color: #d4ebff;}#sk-container-id-4 div.sk-serial::before {content: \"\";position: absolute;border-left: 1px solid gray;box-sizing: border-box;top: 0;bottom: 0;left: 50%;z-index: 0;}#sk-container-id-4 div.sk-serial {display: flex;flex-direction: column;align-items: center;background-color: white;padding-right: 0.2em;padding-left: 0.2em;position: relative;}#sk-container-id-4 div.sk-item {position: relative;z-index: 1;}#sk-container-id-4 div.sk-parallel {display: flex;align-items: stretch;justify-content: center;background-color: white;position: relative;}#sk-container-id-4 div.sk-item::before, #sk-container-id-4 div.sk-parallel-item::before {content: \"\";position: absolute;border-left: 1px solid gray;box-sizing: border-box;top: 0;bottom: 0;left: 50%;z-index: -1;}#sk-container-id-4 div.sk-parallel-item {display: flex;flex-direction: column;z-index: 1;position: relative;background-color: white;}#sk-container-id-4 div.sk-parallel-item:first-child::after {align-self: flex-end;width: 50%;}#sk-container-id-4 div.sk-parallel-item:last-child::after {align-self: flex-start;width: 50%;}#sk-container-id-4 div.sk-parallel-item:only-child::after {width: 0;}#sk-container-id-4 div.sk-dashed-wrapped {border: 1px dashed gray;margin: 0 0.4em 0.5em 0.4em;box-sizing: border-box;padding-bottom: 0.4em;background-color: white;}#sk-container-id-4 div.sk-label label {font-family: monospace;font-weight: bold;display: inline-block;line-height: 1.2em;}#sk-container-id-4 div.sk-label-container {text-align: center;}#sk-container-id-4 div.sk-container {/* jupyter's `normalize.less` sets `[hidden] { display: none; }` but bootstrap.min.css set `[hidden] { display: none !important; }` so we also need the `!important` here to be able to override the default hidden behavior on the sphinx rendered scikit-learn.org. See: https://github.com/scikit-learn/scikit-learn/issues/21755 */display: inline-block !important;position: relative;}#sk-container-id-4 div.sk-text-repr-fallback {display: none;}</style><div id=\"sk-container-id-4\" class=\"sk-top-container\"><div class=\"sk-text-repr-fallback\"><pre>DecisionTreeRegressor(max_leaf_nodes=10)</pre><b>In a Jupyter environment, please rerun this cell to show the HTML representation or trust the notebook. <br />On GitHub, the HTML representation is unable to render, please try loading this page with nbviewer.org.</b></div><div class=\"sk-container\" hidden><div class=\"sk-item\"><div class=\"sk-estimator sk-toggleable\"><input class=\"sk-toggleable__control sk-hidden--visually\" id=\"sk-estimator-id-4\" type=\"checkbox\" checked><label for=\"sk-estimator-id-4\" class=\"sk-toggleable__label sk-toggleable__label-arrow\">DecisionTreeRegressor</label><div class=\"sk-toggleable__content\"><pre>DecisionTreeRegressor(max_leaf_nodes=10)</pre></div></div></div></div></div>"
      ],
      "text/plain": [
       "DecisionTreeRegressor(max_leaf_nodes=10)"
      ]
     },
     "execution_count": 117,
     "metadata": {},
     "output_type": "execute_result"
    }
   ],
   "source": [
    "regressor_DT = DecisionTreeRegressor(max_leaf_nodes=10)\n",
    "regressor_DT.fit(trainX, trainY)"
   ]
  },
  {
   "cell_type": "code",
   "execution_count": 118,
   "id": "f7dd7731",
   "metadata": {
    "ExecuteTime": {
     "end_time": "2022-12-16T09:20:35.864182Z",
     "start_time": "2022-12-16T09:20:35.503367Z"
    }
   },
   "outputs": [
    {
     "data": {
      "image/svg+xml": "<?xml version=\"1.0\" encoding=\"UTF-8\" standalone=\"no\"?>\n<!DOCTYPE svg PUBLIC \"-//W3C//DTD SVG 1.1//EN\"\n \"http://www.w3.org/Graphics/SVG/1.1/DTD/svg11.dtd\">\n<!-- Generated by graphviz version 2.44.1 (20200629.0846)\n -->\n<!-- Title: Tree Pages: 1 -->\n<svg width=\"1360pt\" height=\"581pt\"\n viewBox=\"0.00 0.00 1359.50 581.00\" xmlns=\"http://www.w3.org/2000/svg\" xmlns:xlink=\"http://www.w3.org/1999/xlink\">\n<g id=\"graph0\" class=\"graph\" transform=\"scale(1 1) rotate(0) translate(4 577)\">\n<title>Tree</title>\n<polygon fill=\"white\" stroke=\"transparent\" points=\"-4,4 -4,-577 1355.5,-577 1355.5,4 -4,4\"/>\n<!-- 0 -->\n<g id=\"node1\" class=\"node\">\n<title>0</title>\n<path fill=\"#fbede3\" stroke=\"black\" d=\"M671.5,-573C671.5,-573 544.5,-573 544.5,-573 538.5,-573 532.5,-567 532.5,-561 532.5,-561 532.5,-517 532.5,-517 532.5,-511 538.5,-505 544.5,-505 544.5,-505 671.5,-505 671.5,-505 677.5,-505 683.5,-511 683.5,-517 683.5,-517 683.5,-561 683.5,-561 683.5,-567 677.5,-573 671.5,-573\"/>\n<text text-anchor=\"middle\" x=\"608\" y=\"-557.8\" font-family=\"Helvetica,sans-Serif\" font-size=\"14.00\">OverTime &lt;= 0.5</text>\n<text text-anchor=\"middle\" x=\"608\" y=\"-542.8\" font-family=\"Helvetica,sans-Serif\" font-size=\"14.00\">squared_error = 0.141</text>\n<text text-anchor=\"middle\" x=\"608\" y=\"-527.8\" font-family=\"Helvetica,sans-Serif\" font-size=\"14.00\">samples = 514</text>\n<text text-anchor=\"middle\" x=\"608\" y=\"-512.8\" font-family=\"Helvetica,sans-Serif\" font-size=\"14.00\">value = 0.169</text>\n</g>\n<!-- 1 -->\n<g id=\"node2\" class=\"node\">\n<title>1</title>\n<path fill=\"#fdf5ef\" stroke=\"black\" d=\"M594.5,-469C594.5,-469 415.5,-469 415.5,-469 409.5,-469 403.5,-463 403.5,-457 403.5,-457 403.5,-413 403.5,-413 403.5,-407 409.5,-401 415.5,-401 415.5,-401 594.5,-401 594.5,-401 600.5,-401 606.5,-407 606.5,-413 606.5,-413 606.5,-457 606.5,-457 606.5,-463 600.5,-469 594.5,-469\"/>\n<text text-anchor=\"middle\" x=\"505\" y=\"-453.8\" font-family=\"Helvetica,sans-Serif\" font-size=\"14.00\">YearsWithCurrManager &lt;= 1.5</text>\n<text text-anchor=\"middle\" x=\"505\" y=\"-438.8\" font-family=\"Helvetica,sans-Serif\" font-size=\"14.00\">squared_error = 0.095</text>\n<text text-anchor=\"middle\" x=\"505\" y=\"-423.8\" font-family=\"Helvetica,sans-Serif\" font-size=\"14.00\">samples = 368</text>\n<text text-anchor=\"middle\" x=\"505\" y=\"-408.8\" font-family=\"Helvetica,sans-Serif\" font-size=\"14.00\">value = 0.106</text>\n</g>\n<!-- 0&#45;&gt;1 -->\n<g id=\"edge1\" class=\"edge\">\n<title>0&#45;&gt;1</title>\n<path fill=\"none\" stroke=\"black\" d=\"M574.56,-504.88C565.38,-495.8 555.33,-485.85 545.8,-476.4\"/>\n<polygon fill=\"black\" stroke=\"black\" points=\"548.19,-473.85 538.63,-469.3 543.27,-478.82 548.19,-473.85\"/>\n<text text-anchor=\"middle\" x=\"538.75\" y=\"-490.6\" font-family=\"Helvetica,sans-Serif\" font-size=\"14.00\">True</text>\n</g>\n<!-- 2 -->\n<g id=\"node9\" class=\"node\">\n<title>2</title>\n<path fill=\"#f7d8c2\" stroke=\"black\" d=\"M787.5,-469C787.5,-469 636.5,-469 636.5,-469 630.5,-469 624.5,-463 624.5,-457 624.5,-457 624.5,-413 624.5,-413 624.5,-407 630.5,-401 636.5,-401 636.5,-401 787.5,-401 787.5,-401 793.5,-401 799.5,-407 799.5,-413 799.5,-413 799.5,-457 799.5,-457 799.5,-463 793.5,-469 787.5,-469\"/>\n<text text-anchor=\"middle\" x=\"712\" y=\"-453.8\" font-family=\"Helvetica,sans-Serif\" font-size=\"14.00\">MonthlyIncome &lt;= 2864.0</text>\n<text text-anchor=\"middle\" x=\"712\" y=\"-438.8\" font-family=\"Helvetica,sans-Serif\" font-size=\"14.00\">squared_error = 0.221</text>\n<text text-anchor=\"middle\" x=\"712\" y=\"-423.8\" font-family=\"Helvetica,sans-Serif\" font-size=\"14.00\">samples = 146</text>\n<text text-anchor=\"middle\" x=\"712\" y=\"-408.8\" font-family=\"Helvetica,sans-Serif\" font-size=\"14.00\">value = 0.329</text>\n</g>\n<!-- 0&#45;&gt;2 -->\n<g id=\"edge8\" class=\"edge\">\n<title>0&#45;&gt;2</title>\n<path fill=\"none\" stroke=\"black\" d=\"M641.77,-504.88C651.03,-495.8 661.18,-485.85 670.81,-476.4\"/>\n<polygon fill=\"black\" stroke=\"black\" points=\"673.36,-478.8 678.05,-469.3 668.46,-473.8 673.36,-478.8\"/>\n<text text-anchor=\"middle\" x=\"677.81\" y=\"-490.6\" font-family=\"Helvetica,sans-Serif\" font-size=\"14.00\">False</text>\n</g>\n<!-- 11 -->\n<g id=\"node3\" class=\"node\">\n<title>11</title>\n<path fill=\"#fae6d8\" stroke=\"black\" d=\"M402.5,-365C402.5,-365 223.5,-365 223.5,-365 217.5,-365 211.5,-359 211.5,-353 211.5,-353 211.5,-309 211.5,-309 211.5,-303 217.5,-297 223.5,-297 223.5,-297 402.5,-297 402.5,-297 408.5,-297 414.5,-303 414.5,-309 414.5,-309 414.5,-353 414.5,-353 414.5,-359 408.5,-365 402.5,-365\"/>\n<text text-anchor=\"middle\" x=\"313\" y=\"-349.8\" font-family=\"Helvetica,sans-Serif\" font-size=\"14.00\">RelationshipSatisfaction &lt;= 1.5</text>\n<text text-anchor=\"middle\" x=\"313\" y=\"-334.8\" font-family=\"Helvetica,sans-Serif\" font-size=\"14.00\">squared_error = 0.171</text>\n<text text-anchor=\"middle\" x=\"313\" y=\"-319.8\" font-family=\"Helvetica,sans-Serif\" font-size=\"14.00\">samples = 91</text>\n<text text-anchor=\"middle\" x=\"313\" y=\"-304.8\" font-family=\"Helvetica,sans-Serif\" font-size=\"14.00\">value = 0.22</text>\n</g>\n<!-- 1&#45;&gt;11 -->\n<g id=\"edge2\" class=\"edge\">\n<title>1&#45;&gt;11</title>\n<path fill=\"none\" stroke=\"black\" d=\"M442.66,-400.88C424.04,-390.99 403.48,-380.07 384.33,-369.9\"/>\n<polygon fill=\"black\" stroke=\"black\" points=\"385.83,-366.73 375.35,-365.12 382.54,-372.91 385.83,-366.73\"/>\n</g>\n<!-- 12 -->\n<g id=\"node8\" class=\"node\">\n<title>12</title>\n<path fill=\"#fefaf7\" stroke=\"black\" d=\"M571.5,-357.5C571.5,-357.5 444.5,-357.5 444.5,-357.5 438.5,-357.5 432.5,-351.5 432.5,-345.5 432.5,-345.5 432.5,-316.5 432.5,-316.5 432.5,-310.5 438.5,-304.5 444.5,-304.5 444.5,-304.5 571.5,-304.5 571.5,-304.5 577.5,-304.5 583.5,-310.5 583.5,-316.5 583.5,-316.5 583.5,-345.5 583.5,-345.5 583.5,-351.5 577.5,-357.5 571.5,-357.5\"/>\n<text text-anchor=\"middle\" x=\"508\" y=\"-342.3\" font-family=\"Helvetica,sans-Serif\" font-size=\"14.00\">squared_error = 0.064</text>\n<text text-anchor=\"middle\" x=\"508\" y=\"-327.3\" font-family=\"Helvetica,sans-Serif\" font-size=\"14.00\">samples = 277</text>\n<text text-anchor=\"middle\" x=\"508\" y=\"-312.3\" font-family=\"Helvetica,sans-Serif\" font-size=\"14.00\">value = 0.069</text>\n</g>\n<!-- 1&#45;&gt;12 -->\n<g id=\"edge7\" class=\"edge\">\n<title>1&#45;&gt;12</title>\n<path fill=\"none\" stroke=\"black\" d=\"M505.97,-400.88C506.29,-390.22 506.64,-378.35 506.96,-367.52\"/>\n<polygon fill=\"black\" stroke=\"black\" points=\"510.45,-367.62 507.25,-357.52 503.46,-367.41 510.45,-367.62\"/>\n</g>\n<!-- 13 -->\n<g id=\"node4\" class=\"node\">\n<title>13</title>\n<path fill=\"#f2be98\" stroke=\"black\" d=\"M223.5,-261C223.5,-261 74.5,-261 74.5,-261 68.5,-261 62.5,-255 62.5,-249 62.5,-249 62.5,-205 62.5,-205 62.5,-199 68.5,-193 74.5,-193 74.5,-193 223.5,-193 223.5,-193 229.5,-193 235.5,-199 235.5,-205 235.5,-205 235.5,-249 235.5,-249 235.5,-255 229.5,-261 223.5,-261\"/>\n<text text-anchor=\"middle\" x=\"149\" y=\"-245.8\" font-family=\"Helvetica,sans-Serif\" font-size=\"14.00\">TotalWorkingYears &lt;= 4.5</text>\n<text text-anchor=\"middle\" x=\"149\" y=\"-230.8\" font-family=\"Helvetica,sans-Serif\" font-size=\"14.00\">squared_error = 0.249</text>\n<text text-anchor=\"middle\" x=\"149\" y=\"-215.8\" font-family=\"Helvetica,sans-Serif\" font-size=\"14.00\">samples = 15</text>\n<text text-anchor=\"middle\" x=\"149\" y=\"-200.8\" font-family=\"Helvetica,sans-Serif\" font-size=\"14.00\">value = 0.533</text>\n</g>\n<!-- 11&#45;&gt;13 -->\n<g id=\"edge3\" class=\"edge\">\n<title>11&#45;&gt;13</title>\n<path fill=\"none\" stroke=\"black\" d=\"M259.75,-296.88C244.21,-287.21 227.08,-276.56 211.04,-266.59\"/>\n<polygon fill=\"black\" stroke=\"black\" points=\"212.6,-263.43 202.26,-261.12 208.9,-269.38 212.6,-263.43\"/>\n</g>\n<!-- 14 -->\n<g id=\"node7\" class=\"node\">\n<title>14</title>\n<path fill=\"#fceee5\" stroke=\"black\" d=\"M392.5,-253.5C392.5,-253.5 265.5,-253.5 265.5,-253.5 259.5,-253.5 253.5,-247.5 253.5,-241.5 253.5,-241.5 253.5,-212.5 253.5,-212.5 253.5,-206.5 259.5,-200.5 265.5,-200.5 265.5,-200.5 392.5,-200.5 392.5,-200.5 398.5,-200.5 404.5,-206.5 404.5,-212.5 404.5,-212.5 404.5,-241.5 404.5,-241.5 404.5,-247.5 398.5,-253.5 392.5,-253.5\"/>\n<text text-anchor=\"middle\" x=\"329\" y=\"-238.3\" font-family=\"Helvetica,sans-Serif\" font-size=\"14.00\">squared_error = 0.133</text>\n<text text-anchor=\"middle\" x=\"329\" y=\"-223.3\" font-family=\"Helvetica,sans-Serif\" font-size=\"14.00\">samples = 76</text>\n<text text-anchor=\"middle\" x=\"329\" y=\"-208.3\" font-family=\"Helvetica,sans-Serif\" font-size=\"14.00\">value = 0.158</text>\n</g>\n<!-- 11&#45;&gt;14 -->\n<g id=\"edge6\" class=\"edge\">\n<title>11&#45;&gt;14</title>\n<path fill=\"none\" stroke=\"black\" d=\"M318.19,-296.88C319.87,-286.22 321.73,-274.35 323.43,-263.52\"/>\n<polygon fill=\"black\" stroke=\"black\" points=\"326.9,-263.94 325,-253.52 319.99,-262.86 326.9,-263.94\"/>\n</g>\n<!-- 15 -->\n<g id=\"node5\" class=\"node\">\n<title>15</title>\n<path fill=\"#e58139\" stroke=\"black\" d=\"M124,-149.5C124,-149.5 12,-149.5 12,-149.5 6,-149.5 0,-143.5 0,-137.5 0,-137.5 0,-108.5 0,-108.5 0,-102.5 6,-96.5 12,-96.5 12,-96.5 124,-96.5 124,-96.5 130,-96.5 136,-102.5 136,-108.5 136,-108.5 136,-137.5 136,-137.5 136,-143.5 130,-149.5 124,-149.5\"/>\n<text text-anchor=\"middle\" x=\"68\" y=\"-134.3\" font-family=\"Helvetica,sans-Serif\" font-size=\"14.00\">squared_error = 0.0</text>\n<text text-anchor=\"middle\" x=\"68\" y=\"-119.3\" font-family=\"Helvetica,sans-Serif\" font-size=\"14.00\">samples = 6</text>\n<text text-anchor=\"middle\" x=\"68\" y=\"-104.3\" font-family=\"Helvetica,sans-Serif\" font-size=\"14.00\">value = 1.0</text>\n</g>\n<!-- 13&#45;&gt;15 -->\n<g id=\"edge4\" class=\"edge\">\n<title>13&#45;&gt;15</title>\n<path fill=\"none\" stroke=\"black\" d=\"M122.7,-192.88C113.71,-181.56 103.64,-168.88 94.62,-157.52\"/>\n<polygon fill=\"black\" stroke=\"black\" points=\"97.23,-155.17 88.27,-149.52 91.74,-159.53 97.23,-155.17\"/>\n</g>\n<!-- 16 -->\n<g id=\"node6\" class=\"node\">\n<title>16</title>\n<path fill=\"#fae6d8\" stroke=\"black\" d=\"M293.5,-149.5C293.5,-149.5 166.5,-149.5 166.5,-149.5 160.5,-149.5 154.5,-143.5 154.5,-137.5 154.5,-137.5 154.5,-108.5 154.5,-108.5 154.5,-102.5 160.5,-96.5 166.5,-96.5 166.5,-96.5 293.5,-96.5 293.5,-96.5 299.5,-96.5 305.5,-102.5 305.5,-108.5 305.5,-108.5 305.5,-137.5 305.5,-137.5 305.5,-143.5 299.5,-149.5 293.5,-149.5\"/>\n<text text-anchor=\"middle\" x=\"230\" y=\"-134.3\" font-family=\"Helvetica,sans-Serif\" font-size=\"14.00\">squared_error = 0.173</text>\n<text text-anchor=\"middle\" x=\"230\" y=\"-119.3\" font-family=\"Helvetica,sans-Serif\" font-size=\"14.00\">samples = 9</text>\n<text text-anchor=\"middle\" x=\"230\" y=\"-104.3\" font-family=\"Helvetica,sans-Serif\" font-size=\"14.00\">value = 0.222</text>\n</g>\n<!-- 13&#45;&gt;16 -->\n<g id=\"edge5\" class=\"edge\">\n<title>13&#45;&gt;16</title>\n<path fill=\"none\" stroke=\"black\" d=\"M175.3,-192.88C184.29,-181.56 194.36,-168.88 203.38,-157.52\"/>\n<polygon fill=\"black\" stroke=\"black\" points=\"206.26,-159.53 209.73,-149.52 200.77,-155.17 206.26,-159.53\"/>\n</g>\n<!-- 3 -->\n<g id=\"node10\" class=\"node\">\n<title>3</title>\n<path fill=\"#eda673\" stroke=\"black\" d=\"M799,-365C799,-365 619,-365 619,-365 613,-365 607,-359 607,-353 607,-353 607,-309 607,-309 607,-303 613,-297 619,-297 619,-297 799,-297 799,-297 805,-297 811,-303 811,-309 811,-309 811,-353 811,-353 811,-359 805,-365 799,-365\"/>\n<text text-anchor=\"middle\" x=\"709\" y=\"-349.8\" font-family=\"Helvetica,sans-Serif\" font-size=\"14.00\">NumCompaniesWorked &lt;= 0.5</text>\n<text text-anchor=\"middle\" x=\"709\" y=\"-334.8\" font-family=\"Helvetica,sans-Serif\" font-size=\"14.00\">squared_error = 0.202</text>\n<text text-anchor=\"middle\" x=\"709\" y=\"-319.8\" font-family=\"Helvetica,sans-Serif\" font-size=\"14.00\">samples = 39</text>\n<text text-anchor=\"middle\" x=\"709\" y=\"-304.8\" font-family=\"Helvetica,sans-Serif\" font-size=\"14.00\">value = 0.718</text>\n</g>\n<!-- 2&#45;&gt;3 -->\n<g id=\"edge9\" class=\"edge\">\n<title>2&#45;&gt;3</title>\n<path fill=\"none\" stroke=\"black\" d=\"M711.03,-400.88C710.79,-392.78 710.53,-383.98 710.28,-375.47\"/>\n<polygon fill=\"black\" stroke=\"black\" points=\"713.77,-375.19 709.98,-365.3 706.77,-375.4 713.77,-375.19\"/>\n</g>\n<!-- 4 -->\n<g id=\"node13\" class=\"node\">\n<title>4</title>\n<path fill=\"#fbebdf\" stroke=\"black\" d=\"M1017,-365C1017,-365 841,-365 841,-365 835,-365 829,-359 829,-353 829,-353 829,-309 829,-309 829,-303 835,-297 841,-297 841,-297 1017,-297 1017,-297 1023,-297 1029,-303 1029,-309 1029,-309 1029,-353 1029,-353 1029,-359 1023,-365 1017,-365\"/>\n<text text-anchor=\"middle\" x=\"929\" y=\"-349.8\" font-family=\"Helvetica,sans-Serif\" font-size=\"14.00\">TrainingTimesLastYear &lt;= 0.5</text>\n<text text-anchor=\"middle\" x=\"929\" y=\"-334.8\" font-family=\"Helvetica,sans-Serif\" font-size=\"14.00\">squared_error = 0.152</text>\n<text text-anchor=\"middle\" x=\"929\" y=\"-319.8\" font-family=\"Helvetica,sans-Serif\" font-size=\"14.00\">samples = 107</text>\n<text text-anchor=\"middle\" x=\"929\" y=\"-304.8\" font-family=\"Helvetica,sans-Serif\" font-size=\"14.00\">value = 0.187</text>\n</g>\n<!-- 2&#45;&gt;4 -->\n<g id=\"edge12\" class=\"edge\">\n<title>2&#45;&gt;4</title>\n<path fill=\"none\" stroke=\"black\" d=\"M782.45,-400.88C803.79,-390.86 827.36,-379.77 849.26,-369.48\"/>\n<polygon fill=\"black\" stroke=\"black\" points=\"850.97,-372.55 858.53,-365.12 847.99,-366.21 850.97,-372.55\"/>\n</g>\n<!-- 9 -->\n<g id=\"node11\" class=\"node\">\n<title>9</title>\n<path fill=\"#f8decb\" stroke=\"black\" d=\"M617.5,-253.5C617.5,-253.5 490.5,-253.5 490.5,-253.5 484.5,-253.5 478.5,-247.5 478.5,-241.5 478.5,-241.5 478.5,-212.5 478.5,-212.5 478.5,-206.5 484.5,-200.5 490.5,-200.5 490.5,-200.5 617.5,-200.5 617.5,-200.5 623.5,-200.5 629.5,-206.5 629.5,-212.5 629.5,-212.5 629.5,-241.5 629.5,-241.5 629.5,-247.5 623.5,-253.5 617.5,-253.5\"/>\n<text text-anchor=\"middle\" x=\"554\" y=\"-238.3\" font-family=\"Helvetica,sans-Serif\" font-size=\"14.00\">squared_error = 0.204</text>\n<text text-anchor=\"middle\" x=\"554\" y=\"-223.3\" font-family=\"Helvetica,sans-Serif\" font-size=\"14.00\">samples = 7</text>\n<text text-anchor=\"middle\" x=\"554\" y=\"-208.3\" font-family=\"Helvetica,sans-Serif\" font-size=\"14.00\">value = 0.286</text>\n</g>\n<!-- 3&#45;&gt;9 -->\n<g id=\"edge10\" class=\"edge\">\n<title>3&#45;&gt;9</title>\n<path fill=\"none\" stroke=\"black\" d=\"M658.68,-296.88C640.29,-284.79 619.57,-271.15 601.45,-259.22\"/>\n<polygon fill=\"black\" stroke=\"black\" points=\"603.06,-256.09 592.78,-253.52 599.21,-261.94 603.06,-256.09\"/>\n</g>\n<!-- 10 -->\n<g id=\"node12\" class=\"node\">\n<title>10</title>\n<path fill=\"#ea995f\" stroke=\"black\" d=\"M786.5,-253.5C786.5,-253.5 659.5,-253.5 659.5,-253.5 653.5,-253.5 647.5,-247.5 647.5,-241.5 647.5,-241.5 647.5,-212.5 647.5,-212.5 647.5,-206.5 653.5,-200.5 659.5,-200.5 659.5,-200.5 786.5,-200.5 786.5,-200.5 792.5,-200.5 798.5,-206.5 798.5,-212.5 798.5,-212.5 798.5,-241.5 798.5,-241.5 798.5,-247.5 792.5,-253.5 786.5,-253.5\"/>\n<text text-anchor=\"middle\" x=\"723\" y=\"-238.3\" font-family=\"Helvetica,sans-Serif\" font-size=\"14.00\">squared_error = 0.152</text>\n<text text-anchor=\"middle\" x=\"723\" y=\"-223.3\" font-family=\"Helvetica,sans-Serif\" font-size=\"14.00\">samples = 32</text>\n<text text-anchor=\"middle\" x=\"723\" y=\"-208.3\" font-family=\"Helvetica,sans-Serif\" font-size=\"14.00\">value = 0.812</text>\n</g>\n<!-- 3&#45;&gt;10 -->\n<g id=\"edge11\" class=\"edge\">\n<title>3&#45;&gt;10</title>\n<path fill=\"none\" stroke=\"black\" d=\"M713.55,-296.88C715.01,-286.22 716.64,-274.35 718.12,-263.52\"/>\n<polygon fill=\"black\" stroke=\"black\" points=\"721.6,-263.9 719.5,-253.52 714.67,-262.95 721.6,-263.9\"/>\n</g>\n<!-- 5 -->\n<g id=\"node14\" class=\"node\">\n<title>5</title>\n<path fill=\"#ea9b62\" stroke=\"black\" d=\"M974.5,-253.5C974.5,-253.5 855.5,-253.5 855.5,-253.5 849.5,-253.5 843.5,-247.5 843.5,-241.5 843.5,-241.5 843.5,-212.5 843.5,-212.5 843.5,-206.5 849.5,-200.5 855.5,-200.5 855.5,-200.5 974.5,-200.5 974.5,-200.5 980.5,-200.5 986.5,-206.5 986.5,-212.5 986.5,-212.5 986.5,-241.5 986.5,-241.5 986.5,-247.5 980.5,-253.5 974.5,-253.5\"/>\n<text text-anchor=\"middle\" x=\"915\" y=\"-238.3\" font-family=\"Helvetica,sans-Serif\" font-size=\"14.00\">squared_error = 0.16</text>\n<text text-anchor=\"middle\" x=\"915\" y=\"-223.3\" font-family=\"Helvetica,sans-Serif\" font-size=\"14.00\">samples = 5</text>\n<text text-anchor=\"middle\" x=\"915\" y=\"-208.3\" font-family=\"Helvetica,sans-Serif\" font-size=\"14.00\">value = 0.8</text>\n</g>\n<!-- 4&#45;&gt;5 -->\n<g id=\"edge13\" class=\"edge\">\n<title>4&#45;&gt;5</title>\n<path fill=\"none\" stroke=\"black\" d=\"M924.45,-296.88C922.99,-286.22 921.36,-274.35 919.88,-263.52\"/>\n<polygon fill=\"black\" stroke=\"black\" points=\"923.33,-262.95 918.5,-253.52 916.4,-263.9 923.33,-262.95\"/>\n</g>\n<!-- 6 -->\n<g id=\"node15\" class=\"node\">\n<title>6</title>\n<path fill=\"#fcefe5\" stroke=\"black\" d=\"M1199,-261C1199,-261 1017,-261 1017,-261 1011,-261 1005,-255 1005,-249 1005,-249 1005,-205 1005,-205 1005,-199 1011,-193 1017,-193 1017,-193 1199,-193 1199,-193 1205,-193 1211,-199 1211,-205 1211,-205 1211,-249 1211,-249 1211,-255 1205,-261 1199,-261\"/>\n<text text-anchor=\"middle\" x=\"1108\" y=\"-245.8\" font-family=\"Helvetica,sans-Serif\" font-size=\"14.00\">EnvironmentSatisfaction &lt;= 1.5</text>\n<text text-anchor=\"middle\" x=\"1108\" y=\"-230.8\" font-family=\"Helvetica,sans-Serif\" font-size=\"14.00\">squared_error = 0.132</text>\n<text text-anchor=\"middle\" x=\"1108\" y=\"-215.8\" font-family=\"Helvetica,sans-Serif\" font-size=\"14.00\">samples = 102</text>\n<text text-anchor=\"middle\" x=\"1108\" y=\"-200.8\" font-family=\"Helvetica,sans-Serif\" font-size=\"14.00\">value = 0.157</text>\n</g>\n<!-- 4&#45;&gt;6 -->\n<g id=\"edge14\" class=\"edge\">\n<title>4&#45;&gt;6</title>\n<path fill=\"none\" stroke=\"black\" d=\"M987.12,-296.88C1004.24,-287.12 1023.12,-276.37 1040.77,-266.31\"/>\n<polygon fill=\"black\" stroke=\"black\" points=\"1042.91,-269.12 1049.87,-261.12 1039.45,-263.03 1042.91,-269.12\"/>\n</g>\n<!-- 7 -->\n<g id=\"node16\" class=\"node\">\n<title>7</title>\n<path fill=\"#f5ccaf\" stroke=\"black\" d=\"M1086.5,-149.5C1086.5,-149.5 959.5,-149.5 959.5,-149.5 953.5,-149.5 947.5,-143.5 947.5,-137.5 947.5,-137.5 947.5,-108.5 947.5,-108.5 947.5,-102.5 953.5,-96.5 959.5,-96.5 959.5,-96.5 1086.5,-96.5 1086.5,-96.5 1092.5,-96.5 1098.5,-102.5 1098.5,-108.5 1098.5,-108.5 1098.5,-137.5 1098.5,-137.5 1098.5,-143.5 1092.5,-149.5 1086.5,-149.5\"/>\n<text text-anchor=\"middle\" x=\"1023\" y=\"-134.3\" font-family=\"Helvetica,sans-Serif\" font-size=\"14.00\">squared_error = 0.244</text>\n<text text-anchor=\"middle\" x=\"1023\" y=\"-119.3\" font-family=\"Helvetica,sans-Serif\" font-size=\"14.00\">samples = 19</text>\n<text text-anchor=\"middle\" x=\"1023\" y=\"-104.3\" font-family=\"Helvetica,sans-Serif\" font-size=\"14.00\">value = 0.421</text>\n</g>\n<!-- 6&#45;&gt;7 -->\n<g id=\"edge15\" class=\"edge\">\n<title>6&#45;&gt;7</title>\n<path fill=\"none\" stroke=\"black\" d=\"M1080.4,-192.88C1070.96,-181.56 1060.4,-168.88 1050.93,-157.52\"/>\n<polygon fill=\"black\" stroke=\"black\" points=\"1053.36,-154.96 1044.27,-149.52 1047.98,-159.44 1053.36,-154.96\"/>\n</g>\n<!-- 8 -->\n<g id=\"node17\" class=\"node\">\n<title>8</title>\n<path fill=\"#fdf6f1\" stroke=\"black\" d=\"M1255.5,-157C1255.5,-157 1128.5,-157 1128.5,-157 1122.5,-157 1116.5,-151 1116.5,-145 1116.5,-145 1116.5,-101 1116.5,-101 1116.5,-95 1122.5,-89 1128.5,-89 1128.5,-89 1255.5,-89 1255.5,-89 1261.5,-89 1267.5,-95 1267.5,-101 1267.5,-101 1267.5,-145 1267.5,-145 1267.5,-151 1261.5,-157 1255.5,-157\"/>\n<text text-anchor=\"middle\" x=\"1192\" y=\"-141.8\" font-family=\"Helvetica,sans-Serif\" font-size=\"14.00\">Age &lt;= 31.5</text>\n<text text-anchor=\"middle\" x=\"1192\" y=\"-126.8\" font-family=\"Helvetica,sans-Serif\" font-size=\"14.00\">squared_error = 0.087</text>\n<text text-anchor=\"middle\" x=\"1192\" y=\"-111.8\" font-family=\"Helvetica,sans-Serif\" font-size=\"14.00\">samples = 83</text>\n<text text-anchor=\"middle\" x=\"1192\" y=\"-96.8\" font-family=\"Helvetica,sans-Serif\" font-size=\"14.00\">value = 0.096</text>\n</g>\n<!-- 6&#45;&gt;8 -->\n<g id=\"edge16\" class=\"edge\">\n<title>6&#45;&gt;8</title>\n<path fill=\"none\" stroke=\"black\" d=\"M1135.27,-192.88C1142.53,-184.07 1150.47,-174.43 1158.04,-165.24\"/>\n<polygon fill=\"black\" stroke=\"black\" points=\"1160.92,-167.24 1164.58,-157.3 1155.52,-162.79 1160.92,-167.24\"/>\n</g>\n<!-- 17 -->\n<g id=\"node18\" class=\"node\">\n<title>17</title>\n<path fill=\"#f6d2b9\" stroke=\"black\" d=\"M1170.5,-53C1170.5,-53 1043.5,-53 1043.5,-53 1037.5,-53 1031.5,-47 1031.5,-41 1031.5,-41 1031.5,-12 1031.5,-12 1031.5,-6 1037.5,0 1043.5,0 1043.5,0 1170.5,0 1170.5,0 1176.5,0 1182.5,-6 1182.5,-12 1182.5,-12 1182.5,-41 1182.5,-41 1182.5,-47 1176.5,-53 1170.5,-53\"/>\n<text text-anchor=\"middle\" x=\"1107\" y=\"-37.8\" font-family=\"Helvetica,sans-Serif\" font-size=\"14.00\">squared_error = 0.234</text>\n<text text-anchor=\"middle\" x=\"1107\" y=\"-22.8\" font-family=\"Helvetica,sans-Serif\" font-size=\"14.00\">samples = 16</text>\n<text text-anchor=\"middle\" x=\"1107\" y=\"-7.8\" font-family=\"Helvetica,sans-Serif\" font-size=\"14.00\">value = 0.375</text>\n</g>\n<!-- 8&#45;&gt;17 -->\n<g id=\"edge17\" class=\"edge\">\n<title>8&#45;&gt;17</title>\n<path fill=\"none\" stroke=\"black\" d=\"M1162.27,-88.95C1154.04,-79.8 1145.11,-69.87 1136.87,-60.71\"/>\n<polygon fill=\"black\" stroke=\"black\" points=\"1139.44,-58.33 1130.15,-53.24 1134.23,-63.01 1139.44,-58.33\"/>\n</g>\n<!-- 18 -->\n<g id=\"node19\" class=\"node\">\n<title>18</title>\n<path fill=\"#ffffff\" stroke=\"black\" d=\"M1339.5,-53C1339.5,-53 1212.5,-53 1212.5,-53 1206.5,-53 1200.5,-47 1200.5,-41 1200.5,-41 1200.5,-12 1200.5,-12 1200.5,-6 1206.5,0 1212.5,0 1212.5,0 1339.5,0 1339.5,0 1345.5,0 1351.5,-6 1351.5,-12 1351.5,-12 1351.5,-41 1351.5,-41 1351.5,-47 1345.5,-53 1339.5,-53\"/>\n<text text-anchor=\"middle\" x=\"1276\" y=\"-37.8\" font-family=\"Helvetica,sans-Serif\" font-size=\"14.00\">squared_error = 0.029</text>\n<text text-anchor=\"middle\" x=\"1276\" y=\"-22.8\" font-family=\"Helvetica,sans-Serif\" font-size=\"14.00\">samples = 67</text>\n<text text-anchor=\"middle\" x=\"1276\" y=\"-7.8\" font-family=\"Helvetica,sans-Serif\" font-size=\"14.00\">value = 0.03</text>\n</g>\n<!-- 8&#45;&gt;18 -->\n<g id=\"edge18\" class=\"edge\">\n<title>8&#45;&gt;18</title>\n<path fill=\"none\" stroke=\"black\" d=\"M1221.38,-88.95C1229.51,-79.8 1238.34,-69.87 1246.48,-60.71\"/>\n<polygon fill=\"black\" stroke=\"black\" points=\"1249.1,-63.04 1253.12,-53.24 1243.86,-58.39 1249.1,-63.04\"/>\n</g>\n</g>\n</svg>\n",
      "text/plain": [
       "<graphviz.sources.Source at 0x7f94c0480190>"
      ]
     },
     "execution_count": 118,
     "metadata": {},
     "output_type": "execute_result"
    }
   ],
   "source": [
    "dot_data = export_graphviz(regressor_DT, feature_names = trainX.columns, filled = True, rounded = True)\n",
    "graph = gp.Source(dot_data)\n",
    "graph"
   ]
  },
  {
   "cell_type": "code",
   "execution_count": 119,
   "id": "8d587639",
   "metadata": {
    "ExecuteTime": {
     "end_time": "2022-12-16T09:20:36.454442Z",
     "start_time": "2022-12-16T09:20:36.437194Z"
    }
   },
   "outputs": [
    {
     "data": {
      "text/plain": [
       "0.3926866071382468"
      ]
     },
     "execution_count": 119,
     "metadata": {},
     "output_type": "execute_result"
    }
   ],
   "source": [
    "ypredict = regressor_DT.predict(validationX)\n",
    "\n",
    "score=mean_squared_error(validationY,ypredict)\n",
    "score**(1/2)"
   ]
  },
  {
   "cell_type": "code",
   "execution_count": 120,
   "id": "ceb3e8b6",
   "metadata": {
    "ExecuteTime": {
     "end_time": "2022-12-16T09:20:37.650001Z",
     "start_time": "2022-12-16T09:20:37.369759Z"
    }
   },
   "outputs": [],
   "source": [
    "n_max_leaf_nodes = range(2,40) # Lets train the models with 2, 3, 4, ... 40 leaves\n",
    "\n",
    "array = []\n",
    "\n",
    "for n in n_max_leaf_nodes:\n",
    "    \n",
    "    #insert here the code to train the regressor on the dataset for varying levels of max_leaf_nodes\n",
    "    regressor_DT = DecisionTreeRegressor(max_leaf_nodes=n)\n",
    "    regressor_DT.fit(trainX, trainY)   \n",
    "    \n",
    "    #insert here the code that gives us the accuracy of the model on the validation set \n",
    "    ypredict = regressor_DT.predict(validationX)\n",
    "    score=mean_squared_error(validationY,ypredict)\n",
    "    \n",
    "    array.append([n,score])"
   ]
  },
  {
   "cell_type": "code",
   "execution_count": 121,
   "id": "6eea30e5",
   "metadata": {
    "ExecuteTime": {
     "end_time": "2022-12-16T09:20:38.504561Z",
     "start_time": "2022-12-16T09:20:38.217169Z"
    }
   },
   "outputs": [],
   "source": [
    "n_max_leaf_nodes = range(2,40) # Lets train the models with 2, 3, 4, ... 40 leafs\n",
    "array_train= []\n",
    "\n",
    "for n in n_max_leaf_nodes:\n",
    "    \n",
    "    #insert here the code to train the regressor on the dataset for varying levels of max_leaf_nodes\n",
    "    regressor_DT = DecisionTreeRegressor(max_leaf_nodes=n)\n",
    "    regressor_DT.fit(trainX, trainY)   \n",
    "    \n",
    "    #insert here the code that gives us the accuracy of the model on the training set \n",
    "    ypredict = regressor_DT.predict(trainX)\n",
    "    score=mean_squared_error(trainY,ypredict)\n",
    "    \n",
    "    array_train.append([n,score])"
   ]
  },
  {
   "cell_type": "code",
   "execution_count": 122,
   "id": "cb509d6c",
   "metadata": {
    "ExecuteTime": {
     "end_time": "2022-12-16T09:20:39.393028Z",
     "start_time": "2022-12-16T09:20:39.180509Z"
    }
   },
   "outputs": [
    {
     "data": {
      "image/png": "[encoded data removed]",
      "text/plain": [
       "<Figure size 432x288 with 1 Axes>"
      ]
     },
     "metadata": {
      "needs_background": "light"
     },
     "output_type": "display_data"
    }
   ],
   "source": [
    "array = pd.DataFrame(array)\n",
    "plt.scatter(array[0],array[1])\n",
    "\n",
    "array_train = pd.DataFrame(array_train)\n",
    "plt.scatter(array_train[0],array_train[1])\n",
    "plt.legend(['Validation set','Training set'])\n",
    "plt.xlabel(\"number of leaves\",fontsize=15)\n",
    "plt.ylabel(\"MSE\",fontsize=15)\n",
    "plt.show()"
   ]
  },
  {
   "cell_type": "markdown",
   "id": "cf19aab2",
   "metadata": {},
   "source": [
    "**choose around 4 leaves**"
   ]
  },
  {
   "cell_type": "code",
   "execution_count": 123,
   "id": "dd2a8d56",
   "metadata": {
    "ExecuteTime": {
     "end_time": "2022-12-16T09:20:46.604472Z",
     "start_time": "2022-12-16T09:20:46.588104Z"
    }
   },
   "outputs": [
    {
     "name": "stderr",
     "output_type": "stream",
     "text": [
      "/var/folders/65/l8gwbbg117z6hscwvjl3vg0m0000gn/T/ipykernel_68137/2042984975.py:1: FutureWarning: The frame.append method is deprecated and will be removed from pandas in a future version. Use pandas.concat instead.\n",
      "  Xtrainval=trainX.append(validationX)\n",
      "/var/folders/65/l8gwbbg117z6hscwvjl3vg0m0000gn/T/ipykernel_68137/2042984975.py:2: FutureWarning: The series.append method is deprecated and will be removed from pandas in a future version. Use pandas.concat instead.\n",
      "  ytrainval=trainY.append(validationY)\n"
     ]
    }
   ],
   "source": [
    "Xtrainval=trainX.append(validationX)\n",
    "ytrainval=trainY.append(validationY)"
   ]
  },
  {
   "cell_type": "code",
   "execution_count": 124,
   "id": "d39cc187",
   "metadata": {
    "ExecuteTime": {
     "end_time": "2022-12-16T09:20:47.346593Z",
     "start_time": "2022-12-16T09:20:47.332314Z"
    }
   },
   "outputs": [
    {
     "data": {
      "text/html": [
       "<style>#sk-container-id-5 {color: black;background-color: white;}#sk-container-id-5 pre{padding: 0;}#sk-container-id-5 div.sk-toggleable {background-color: white;}#sk-container-id-5 label.sk-toggleable__label {cursor: pointer;display: block;width: 100%;margin-bottom: 0;padding: 0.3em;box-sizing: border-box;text-align: center;}#sk-container-id-5 label.sk-toggleable__label-arrow:before {content: \"▸\";float: left;margin-right: 0.25em;color: #696969;}#sk-container-id-5 label.sk-toggleable__label-arrow:hover:before {color: black;}#sk-container-id-5 div.sk-estimator:hover label.sk-toggleable__label-arrow:before {color: black;}#sk-container-id-5 div.sk-toggleable__content {max-height: 0;max-width: 0;overflow: hidden;text-align: left;background-color: #f0f8ff;}#sk-container-id-5 div.sk-toggleable__content pre {margin: 0.2em;color: black;border-radius: 0.25em;background-color: #f0f8ff;}#sk-container-id-5 input.sk-toggleable__control:checked~div.sk-toggleable__content {max-height: 200px;max-width: 100%;overflow: auto;}#sk-container-id-5 input.sk-toggleable__control:checked~label.sk-toggleable__label-arrow:before {content: \"▾\";}#sk-container-id-5 div.sk-estimator input.sk-toggleable__control:checked~label.sk-toggleable__label {background-color: #d4ebff;}#sk-container-id-5 div.sk-label input.sk-toggleable__control:checked~label.sk-toggleable__label {background-color: #d4ebff;}#sk-container-id-5 input.sk-hidden--visually {border: 0;clip: rect(1px 1px 1px 1px);clip: rect(1px, 1px, 1px, 1px);height: 1px;margin: -1px;overflow: hidden;padding: 0;position: absolute;width: 1px;}#sk-container-id-5 div.sk-estimator {font-family: monospace;background-color: #f0f8ff;border: 1px dotted black;border-radius: 0.25em;box-sizing: border-box;margin-bottom: 0.5em;}#sk-container-id-5 div.sk-estimator:hover {background-color: #d4ebff;}#sk-container-id-5 div.sk-parallel-item::after {content: \"\";width: 100%;border-bottom: 1px solid gray;flex-grow: 1;}#sk-container-id-5 div.sk-label:hover label.sk-toggleable__label {background-color: #d4ebff;}#sk-container-id-5 div.sk-serial::before {content: \"\";position: absolute;border-left: 1px solid gray;box-sizing: border-box;top: 0;bottom: 0;left: 50%;z-index: 0;}#sk-container-id-5 div.sk-serial {display: flex;flex-direction: column;align-items: center;background-color: white;padding-right: 0.2em;padding-left: 0.2em;position: relative;}#sk-container-id-5 div.sk-item {position: relative;z-index: 1;}#sk-container-id-5 div.sk-parallel {display: flex;align-items: stretch;justify-content: center;background-color: white;position: relative;}#sk-container-id-5 div.sk-item::before, #sk-container-id-5 div.sk-parallel-item::before {content: \"\";position: absolute;border-left: 1px solid gray;box-sizing: border-box;top: 0;bottom: 0;left: 50%;z-index: -1;}#sk-container-id-5 div.sk-parallel-item {display: flex;flex-direction: column;z-index: 1;position: relative;background-color: white;}#sk-container-id-5 div.sk-parallel-item:first-child::after {align-self: flex-end;width: 50%;}#sk-container-id-5 div.sk-parallel-item:last-child::after {align-self: flex-start;width: 50%;}#sk-container-id-5 div.sk-parallel-item:only-child::after {width: 0;}#sk-container-id-5 div.sk-dashed-wrapped {border: 1px dashed gray;margin: 0 0.4em 0.5em 0.4em;box-sizing: border-box;padding-bottom: 0.4em;background-color: white;}#sk-container-id-5 div.sk-label label {font-family: monospace;font-weight: bold;display: inline-block;line-height: 1.2em;}#sk-container-id-5 div.sk-label-container {text-align: center;}#sk-container-id-5 div.sk-container {/* jupyter's `normalize.less` sets `[hidden] { display: none; }` but bootstrap.min.css set `[hidden] { display: none !important; }` so we also need the `!important` here to be able to override the default hidden behavior on the sphinx rendered scikit-learn.org. See: https://github.com/scikit-learn/scikit-learn/issues/21755 */display: inline-block !important;position: relative;}#sk-container-id-5 div.sk-text-repr-fallback {display: none;}</style><div id=\"sk-container-id-5\" class=\"sk-top-container\"><div class=\"sk-text-repr-fallback\"><pre>DecisionTreeRegressor(max_leaf_nodes=5)</pre><b>In a Jupyter environment, please rerun this cell to show the HTML representation or trust the notebook. <br />On GitHub, the HTML representation is unable to render, please try loading this page with nbviewer.org.</b></div><div class=\"sk-container\" hidden><div class=\"sk-item\"><div class=\"sk-estimator sk-toggleable\"><input class=\"sk-toggleable__control sk-hidden--visually\" id=\"sk-estimator-id-5\" type=\"checkbox\" checked><label for=\"sk-estimator-id-5\" class=\"sk-toggleable__label sk-toggleable__label-arrow\">DecisionTreeRegressor</label><div class=\"sk-toggleable__content\"><pre>DecisionTreeRegressor(max_leaf_nodes=5)</pre></div></div></div></div></div>"
      ],
      "text/plain": [
       "DecisionTreeRegressor(max_leaf_nodes=5)"
      ]
     },
     "execution_count": 124,
     "metadata": {},
     "output_type": "execute_result"
    }
   ],
   "source": [
    "regressor_DT = DecisionTreeRegressor(max_leaf_nodes=5)\n",
    "regressor_DT.fit(Xtrainval, ytrainval) "
   ]
  },
  {
   "cell_type": "code",
   "execution_count": 125,
   "id": "71cbf6be",
   "metadata": {
    "ExecuteTime": {
     "end_time": "2022-12-16T09:20:48.581725Z",
     "start_time": "2022-12-16T09:20:48.163341Z"
    }
   },
   "outputs": [
    {
     "data": {
      "image/svg+xml": "<?xml version=\"1.0\" encoding=\"UTF-8\" standalone=\"no\"?>\n<!DOCTYPE svg PUBLIC \"-//W3C//DTD SVG 1.1//EN\"\n \"http://www.w3.org/Graphics/SVG/1.1/DTD/svg11.dtd\">\n<!-- Generated by graphviz version 2.44.1 (20200629.0846)\n -->\n<!-- Title: Tree Pages: 1 -->\n<svg width=\"681pt\" height=\"373pt\"\n viewBox=\"0.00 0.00 681.00 373.00\" xmlns=\"http://www.w3.org/2000/svg\" xmlns:xlink=\"http://www.w3.org/1999/xlink\">\n<g id=\"graph0\" class=\"graph\" transform=\"scale(1 1) rotate(0) translate(4 369)\">\n<title>Tree</title>\n<polygon fill=\"white\" stroke=\"transparent\" points=\"-4,4 -4,-369 677,-369 677,4 -4,4\"/>\n<!-- 0 -->\n<g id=\"node1\" class=\"node\">\n<title>0</title>\n<path fill=\"#fdf6f1\" stroke=\"black\" d=\"M499,-365C499,-365 348,-365 348,-365 342,-365 336,-359 336,-353 336,-353 336,-309 336,-309 336,-303 342,-297 348,-297 348,-297 499,-297 499,-297 505,-297 511,-303 511,-309 511,-309 511,-353 511,-353 511,-359 505,-365 499,-365\"/>\n<text text-anchor=\"middle\" x=\"423.5\" y=\"-349.8\" font-family=\"Helvetica,sans-Serif\" font-size=\"14.00\">MonthlyIncome &lt;= 2802.0</text>\n<text text-anchor=\"middle\" x=\"423.5\" y=\"-334.8\" font-family=\"Helvetica,sans-Serif\" font-size=\"14.00\">squared_error = 0.146</text>\n<text text-anchor=\"middle\" x=\"423.5\" y=\"-319.8\" font-family=\"Helvetica,sans-Serif\" font-size=\"14.00\">samples = 772</text>\n<text text-anchor=\"middle\" x=\"423.5\" y=\"-304.8\" font-family=\"Helvetica,sans-Serif\" font-size=\"14.00\">value = 0.177</text>\n</g>\n<!-- 1 -->\n<g id=\"node2\" class=\"node\">\n<title>1</title>\n<path fill=\"#f8decc\" stroke=\"black\" d=\"M403,-261C403,-261 276,-261 276,-261 270,-261 264,-255 264,-249 264,-249 264,-205 264,-205 264,-199 270,-193 276,-193 276,-193 403,-193 403,-193 409,-193 415,-199 415,-205 415,-205 415,-249 415,-249 415,-255 409,-261 403,-261\"/>\n<text text-anchor=\"middle\" x=\"339.5\" y=\"-245.8\" font-family=\"Helvetica,sans-Serif\" font-size=\"14.00\">OverTime &lt;= 0.5</text>\n<text text-anchor=\"middle\" x=\"339.5\" y=\"-230.8\" font-family=\"Helvetica,sans-Serif\" font-size=\"14.00\">squared_error = 0.226</text>\n<text text-anchor=\"middle\" x=\"339.5\" y=\"-215.8\" font-family=\"Helvetica,sans-Serif\" font-size=\"14.00\">samples = 191</text>\n<text text-anchor=\"middle\" x=\"339.5\" y=\"-200.8\" font-family=\"Helvetica,sans-Serif\" font-size=\"14.00\">value = 0.346</text>\n</g>\n<!-- 0&#45;&gt;1 -->\n<g id=\"edge1\" class=\"edge\">\n<title>0&#45;&gt;1</title>\n<path fill=\"none\" stroke=\"black\" d=\"M396.23,-296.88C388.97,-288.07 381.03,-278.43 373.46,-269.24\"/>\n<polygon fill=\"black\" stroke=\"black\" points=\"375.98,-266.79 366.92,-261.3 370.58,-271.24 375.98,-266.79\"/>\n<text text-anchor=\"middle\" x=\"364.51\" y=\"-282.48\" font-family=\"Helvetica,sans-Serif\" font-size=\"14.00\">True</text>\n</g>\n<!-- 2 -->\n<g id=\"node9\" class=\"node\">\n<title>2</title>\n<path fill=\"#fffefe\" stroke=\"black\" d=\"M572,-253.5C572,-253.5 445,-253.5 445,-253.5 439,-253.5 433,-247.5 433,-241.5 433,-241.5 433,-212.5 433,-212.5 433,-206.5 439,-200.5 445,-200.5 445,-200.5 572,-200.5 572,-200.5 578,-200.5 584,-206.5 584,-212.5 584,-212.5 584,-241.5 584,-241.5 584,-247.5 578,-253.5 572,-253.5\"/>\n<text text-anchor=\"middle\" x=\"508.5\" y=\"-238.3\" font-family=\"Helvetica,sans-Serif\" font-size=\"14.00\">squared_error = 0.107</text>\n<text text-anchor=\"middle\" x=\"508.5\" y=\"-223.3\" font-family=\"Helvetica,sans-Serif\" font-size=\"14.00\">samples = 581</text>\n<text text-anchor=\"middle\" x=\"508.5\" y=\"-208.3\" font-family=\"Helvetica,sans-Serif\" font-size=\"14.00\">value = 0.122</text>\n</g>\n<!-- 0&#45;&gt;2 -->\n<g id=\"edge8\" class=\"edge\">\n<title>0&#45;&gt;2</title>\n<path fill=\"none\" stroke=\"black\" d=\"M451.1,-296.88C460.54,-285.56 471.1,-272.88 480.57,-261.52\"/>\n<polygon fill=\"black\" stroke=\"black\" points=\"483.52,-263.44 487.23,-253.52 478.14,-258.96 483.52,-263.44\"/>\n<text text-anchor=\"middle\" x=\"489.5\" y=\"-274.72\" font-family=\"Helvetica,sans-Serif\" font-size=\"14.00\">False</text>\n</g>\n<!-- 3 -->\n<g id=\"node3\" class=\"node\">\n<title>3</title>\n<path fill=\"#fcf3ec\" stroke=\"black\" d=\"M319,-157C319,-157 140,-157 140,-157 134,-157 128,-151 128,-145 128,-145 128,-101 128,-101 128,-95 134,-89 140,-89 140,-89 319,-89 319,-89 325,-89 331,-95 331,-101 331,-101 331,-145 331,-145 331,-151 325,-157 319,-157\"/>\n<text text-anchor=\"middle\" x=\"229.5\" y=\"-141.8\" font-family=\"Helvetica,sans-Serif\" font-size=\"14.00\">YearsWithCurrManager &lt;= 0.5</text>\n<text text-anchor=\"middle\" x=\"229.5\" y=\"-126.8\" font-family=\"Helvetica,sans-Serif\" font-size=\"14.00\">squared_error = 0.161</text>\n<text text-anchor=\"middle\" x=\"229.5\" y=\"-111.8\" font-family=\"Helvetica,sans-Serif\" font-size=\"14.00\">samples = 134</text>\n<text text-anchor=\"middle\" x=\"229.5\" y=\"-96.8\" font-family=\"Helvetica,sans-Serif\" font-size=\"14.00\">value = 0.201</text>\n</g>\n<!-- 1&#45;&gt;3 -->\n<g id=\"edge2\" class=\"edge\">\n<title>1&#45;&gt;3</title>\n<path fill=\"none\" stroke=\"black\" d=\"M303.79,-192.88C293.89,-183.71 283.04,-173.65 272.77,-164.12\"/>\n<polygon fill=\"black\" stroke=\"black\" points=\"275.12,-161.53 265.41,-157.3 270.36,-166.67 275.12,-161.53\"/>\n</g>\n<!-- 4 -->\n<g id=\"node6\" class=\"node\">\n<title>4</title>\n<path fill=\"#eeae80\" stroke=\"black\" d=\"M540,-157C540,-157 361,-157 361,-157 355,-157 349,-151 349,-145 349,-145 349,-101 349,-101 349,-95 355,-89 361,-89 361,-89 540,-89 540,-89 546,-89 552,-95 552,-101 552,-101 552,-145 552,-145 552,-151 546,-157 540,-157\"/>\n<text text-anchor=\"middle\" x=\"450.5\" y=\"-141.8\" font-family=\"Helvetica,sans-Serif\" font-size=\"14.00\">YearsWithCurrManager &lt;= 1.5</text>\n<text text-anchor=\"middle\" x=\"450.5\" y=\"-126.8\" font-family=\"Helvetica,sans-Serif\" font-size=\"14.00\">squared_error = 0.216</text>\n<text text-anchor=\"middle\" x=\"450.5\" y=\"-111.8\" font-family=\"Helvetica,sans-Serif\" font-size=\"14.00\">samples = 57</text>\n<text text-anchor=\"middle\" x=\"450.5\" y=\"-96.8\" font-family=\"Helvetica,sans-Serif\" font-size=\"14.00\">value = 0.684</text>\n</g>\n<!-- 1&#45;&gt;4 -->\n<g id=\"edge5\" class=\"edge\">\n<title>1&#45;&gt;4</title>\n<path fill=\"none\" stroke=\"black\" d=\"M375.54,-192.88C385.52,-183.71 396.47,-173.65 406.84,-164.12\"/>\n<polygon fill=\"black\" stroke=\"black\" points=\"409.27,-166.64 414.26,-157.3 404.53,-161.49 409.27,-166.64\"/>\n</g>\n<!-- 7 -->\n<g id=\"node4\" class=\"node\">\n<title>7</title>\n<path fill=\"#f6d5bd\" stroke=\"black\" d=\"M139,-53C139,-53 12,-53 12,-53 6,-53 0,-47 0,-41 0,-41 0,-12 0,-12 0,-6 6,0 12,0 12,0 139,0 139,0 145,0 151,-6 151,-12 151,-12 151,-41 151,-41 151,-47 145,-53 139,-53\"/>\n<text text-anchor=\"middle\" x=\"75.5\" y=\"-37.8\" font-family=\"Helvetica,sans-Serif\" font-size=\"14.00\">squared_error = 0.242</text>\n<text text-anchor=\"middle\" x=\"75.5\" y=\"-22.8\" font-family=\"Helvetica,sans-Serif\" font-size=\"14.00\">samples = 39</text>\n<text text-anchor=\"middle\" x=\"75.5\" y=\"-7.8\" font-family=\"Helvetica,sans-Serif\" font-size=\"14.00\">value = 0.41</text>\n</g>\n<!-- 3&#45;&gt;7 -->\n<g id=\"edge3\" class=\"edge\">\n<title>3&#45;&gt;7</title>\n<path fill=\"none\" stroke=\"black\" d=\"M175.64,-88.95C159.54,-79.07 141.95,-68.28 126.07,-58.53\"/>\n<polygon fill=\"black\" stroke=\"black\" points=\"127.8,-55.48 117.44,-53.24 124.13,-61.45 127.8,-55.48\"/>\n</g>\n<!-- 8 -->\n<g id=\"node5\" class=\"node\">\n<title>8</title>\n<path fill=\"#ffffff\" stroke=\"black\" d=\"M308,-53C308,-53 181,-53 181,-53 175,-53 169,-47 169,-41 169,-41 169,-12 169,-12 169,-6 175,0 181,0 181,0 308,0 308,0 314,0 320,-6 320,-12 320,-12 320,-41 320,-41 320,-47 314,-53 308,-53\"/>\n<text text-anchor=\"middle\" x=\"244.5\" y=\"-37.8\" font-family=\"Helvetica,sans-Serif\" font-size=\"14.00\">squared_error = 0.102</text>\n<text text-anchor=\"middle\" x=\"244.5\" y=\"-22.8\" font-family=\"Helvetica,sans-Serif\" font-size=\"14.00\">samples = 95</text>\n<text text-anchor=\"middle\" x=\"244.5\" y=\"-7.8\" font-family=\"Helvetica,sans-Serif\" font-size=\"14.00\">value = 0.116</text>\n</g>\n<!-- 3&#45;&gt;8 -->\n<g id=\"edge4\" class=\"edge\">\n<title>3&#45;&gt;8</title>\n<path fill=\"none\" stroke=\"black\" d=\"M234.75,-88.95C236.07,-80.62 237.49,-71.65 238.83,-63.2\"/>\n<polygon fill=\"black\" stroke=\"black\" points=\"242.3,-63.66 240.41,-53.24 235.39,-62.56 242.3,-63.66\"/>\n</g>\n<!-- 5 -->\n<g id=\"node7\" class=\"node\">\n<title>5</title>\n<path fill=\"#e58139\" stroke=\"black\" d=\"M491.5,-53C491.5,-53 379.5,-53 379.5,-53 373.5,-53 367.5,-47 367.5,-41 367.5,-41 367.5,-12 367.5,-12 367.5,-6 373.5,0 379.5,0 379.5,0 491.5,0 491.5,0 497.5,0 503.5,-6 503.5,-12 503.5,-12 503.5,-41 503.5,-41 503.5,-47 497.5,-53 491.5,-53\"/>\n<text text-anchor=\"middle\" x=\"435.5\" y=\"-37.8\" font-family=\"Helvetica,sans-Serif\" font-size=\"14.00\">squared_error = 0.0</text>\n<text text-anchor=\"middle\" x=\"435.5\" y=\"-22.8\" font-family=\"Helvetica,sans-Serif\" font-size=\"14.00\">samples = 19</text>\n<text text-anchor=\"middle\" x=\"435.5\" y=\"-7.8\" font-family=\"Helvetica,sans-Serif\" font-size=\"14.00\">value = 1.0</text>\n</g>\n<!-- 4&#45;&gt;5 -->\n<g id=\"edge6\" class=\"edge\">\n<title>4&#45;&gt;5</title>\n<path fill=\"none\" stroke=\"black\" d=\"M445.25,-88.95C443.93,-80.62 442.51,-71.65 441.17,-63.2\"/>\n<polygon fill=\"black\" stroke=\"black\" points=\"444.61,-62.56 439.59,-53.24 437.7,-63.66 444.61,-62.56\"/>\n</g>\n<!-- 6 -->\n<g id=\"node8\" class=\"node\">\n<title>6</title>\n<path fill=\"#f3c5a3\" stroke=\"black\" d=\"M661,-53C661,-53 534,-53 534,-53 528,-53 522,-47 522,-41 522,-41 522,-12 522,-12 522,-6 528,0 534,0 534,0 661,0 661,0 667,0 673,-6 673,-12 673,-12 673,-41 673,-41 673,-47 667,-53 661,-53\"/>\n<text text-anchor=\"middle\" x=\"597.5\" y=\"-37.8\" font-family=\"Helvetica,sans-Serif\" font-size=\"14.00\">squared_error = 0.249</text>\n<text text-anchor=\"middle\" x=\"597.5\" y=\"-22.8\" font-family=\"Helvetica,sans-Serif\" font-size=\"14.00\">samples = 38</text>\n<text text-anchor=\"middle\" x=\"597.5\" y=\"-7.8\" font-family=\"Helvetica,sans-Serif\" font-size=\"14.00\">value = 0.526</text>\n</g>\n<!-- 4&#45;&gt;6 -->\n<g id=\"edge7\" class=\"edge\">\n<title>4&#45;&gt;6</title>\n<path fill=\"none\" stroke=\"black\" d=\"M501.91,-88.95C517.14,-79.16 533.76,-68.48 548.81,-58.8\"/>\n<polygon fill=\"black\" stroke=\"black\" points=\"550.95,-61.59 557.47,-53.24 547.16,-55.7 550.95,-61.59\"/>\n</g>\n</g>\n</svg>\n",
      "text/plain": [
       "<graphviz.sources.Source at 0x7f94c07845b0>"
      ]
     },
     "execution_count": 125,
     "metadata": {},
     "output_type": "execute_result"
    }
   ],
   "source": [
    "from sklearn.tree import export_graphviz\n",
    "dot_data = export_graphviz(regressor_DT, feature_names = trainX.columns, filled = True, rounded = True)\n",
    "graph = gp.Source(dot_data)\n",
    "graph"
   ]
  },
  {
   "cell_type": "markdown",
   "id": "7508363b",
   "metadata": {},
   "source": [
    "# Question 4"
   ]
  },
  {
   "cell_type": "code",
   "execution_count": 126,
   "id": "3cc97f8a",
   "metadata": {
    "ExecuteTime": {
     "end_time": "2022-12-16T09:20:53.690925Z",
     "start_time": "2022-12-16T09:20:53.621828Z"
    },
    "scrolled": true
   },
   "outputs": [
    {
     "name": "stdout",
     "output_type": "stream",
     "text": [
      "[27504.75, 13350.0, 3498.75, 21879.0, 37455.33333333333, 10316.0, 13747.5, 6138.0, 73875.0, 5105.25, 9058.5, 92079.0, 19282.25, 8298.75, 9281.25, 21114.0, 17308.5, 21029.666666666668, 53320.5, 113380.0, 11306.75, 16477.5, 27612.0, 22420.0, 15980.0, 274204.0, 5215.5, 17157.25, 11115.0, 33756.333333333336, 19852.5, 21888.0, 16976.0, 26218.5, 15335.0, 35203.5, 58467.25, 4740.75, 8602.5, 9875.25, 34744.0, 21892.0, 14304.5, 7052.5, 6414.75, 20996.0, 29555.5, 14641.0, 20388.0, 4182.75, 49117.75, 15668.25, 169320.66666666666, 27562.5, 9665.5, 19992.0, 10278.75, 25364.0, 19961.5, 21428.5, 31707.0, 3186.0, 33507.0, 52917.0, 10748.25, 13311.0, 24856.0, 13923.0, 10757.5, 147933.0, 16521.0, 47367.5, 26405.5, 30184.0, 23180.5, 47957.0, 20077.0, 17875.0, 38445.0, 50643.0, 69772.5, 25556.0, 40218.75, 7860.0, 41570.66666666667, 10276.5, 17705.0, 14962.5, 16818.75, 24066.0, 22473.75, 0, 115622.0, 5571.0, 24141.0, 40477.0, 38790.0, 28177.0, 14920.75, 24945.25, 266630.0, 32533.75, 32529.5, 5701.5, 76993.0, 34960.0, 11830.5, 0, 44408.0, 192020.0, 13600.0, 25960.5, 29461.0, 34849.5, 3829.5, 12082.0, 16419.0, 44910.0, 61516.0, 12473.5, 5681.5, 36125.0, 10642.5, 35653.75, 41860.0, 5769.0, 14850.0, 97352.0, 39459.333333333336, 27716.0, 21601.333333333336, 0, 82128.0, 28550.666666666668, 17680.0, 21716.0, 8882.5, 22104.0, 7414.0, 83838.0, 6462.0, 33327.0, 12028.5, 37085.5, 97762.0, 10192.5, 14607.0, 6562.5, 6651.0, 20104.0, 34732.0, 37860.0, 10642.5, 10257.5, 19890.0, 10077.5, 27124.5, 6307.5, 49067.5, 9480.0, 15778.75, 24016.5, 20616.0, 6467.5, 27902.0, 0, 9927.0, 9755.0, 187506.0, 59363.333333333336, 22402.5, 140191.6666666667, 6650.0, 10791.0, 18956.25, 13078.666666666668, 13710.0, 30676.75, 97505.33333333334, 13160.0, 111683.33333333333, 19698.75, 179498.6666666667, 20940.0, 45446.66666666667, 0, 23835.0, 31488.0, 37935.5, 14640.0, 21167.25, 68733.0, 35946.0, 16230.0, 26196.0, 0, 5757.75, 184300.0, 22792.75, 14744.25, 12051.0, 16146.0, 12479.5, 179097.3333333333, 48145.5, 5616.0, 38543.25, 9637.5, 22038.0, 228270.0, 87741.33333333333, 5877.5, 10089.75, 16539.75, 42228.0, 14529.333333333332, 14969.25, 38262.0, 16025.0, 41864.0, 5615.5, 10101.0, 44209.75, 18736.25, 21284.0, 9498.75, 13142.25, 22042.5, 65721.0, 9493.0, 11461.5, 11640.75, 0, 65920.0, 9612.0, 13810.5, 39938.0, 13841.25, 44609.5, 48782.5, 11504.75, 20205.0, 15978.0, 198296.6666666667, 42453.0, 14430.0, 10380.0, 15295.5, 13409.0, 22907.5, 22041.5, 172269.0, 247884.0, 22181.25, 14661.0, 25987.5, 6052.75, 5577.75, 8138.25, 117353.33333333334, 14251.5, 20281.0, 2866.5, 20252.0, 32493.5, 78965.33333333333, 73188.75, 35751.0, 15487.5, 11200.5, 10006.5, 62273.25, 17066.0, 25814.5, 26775.0, 24642.0, 12836.25, 10721.25, 27506.0, 41584.5, 12774.0, 11840.0, 9468.0, 36431.25, 52365.0, 8931.0, 14694.0, 6413.0, 27271.333333333332, 21959.0, 0, 46420.0, 10530.0, 17013.75, 5166.0, 0, 19060.25, 17208.75, 18886.5, 17487.0, 44580.0, 7619.5, 0, 21777.75, 0, 49608.0, 15762.5, 14303.25, 21269.5, 15066.0, 29686.5, 7210.5, 9015.5, 6977.5, 224746.6666666667, 16269.5, 169988.0, 6621.0, 48320.0, 119467.33333333333, 26602.5, 16215.0, 19282.5, 53707.5, 22022.0, 19395.0, 18600.0, 69333.33333333333, 12582.5, 36543.0, 10705.5, 7749.5, 80005.5, 78960.0, 42961.5, 10857.0, 25848.75, 25627.5, 9979.75, 33750.33333333333, 15223.0, 24531.0, 19435.5, 12150.0, 4637.25, 13851.0, 9305.0, 25756.0, 11283.75, 24043.5, 7107.75, 5720.0, 41181.75, 103897.33333333333, 13845.0, 12677.0, 12853.75, 125048.0, 19522.5, 19604.0, 6957.5, 10278.75, 20790.25, 10910.0, 15744.0, 14105.75, 5467.5, 21868.0, 5670.5, 15333.75, 30140.333333333332, 15393.75, 24282.0, 134940.0, 29601.0, 6111.0, 10392.5, 54434.0, 17010.0, 6737.5, 7897.5, 0, 31516.0, 5700.75, 15830.5, 17000.75, 23723.5, 10278.75, 0, 128520.0, 5816.25, 36932.0, 6357.5, 7112.25, 28453.5, 8691.0, 158117.33333333334, 6256.25, 6972.5, 32406.25, 25207.0, 5942.5, 21184.0, 9938.5, 7317.0, 43160.0, 19074.25, 28188.0, 12823.25, 13650.0, 7493.5, 44334.0, 30595.5, 25843.5, 5355.0, 6495.5, 21394.75, 23478.75, 10272.0, 6265.0, 16373.0, 32487.0, 10317.5, 7884.5, 64428.75, 75716.66666666666, 20493.0, 8298.0, 74043.0, 17940.0, 22104.0, 17826.25, 12250.0, 5855.0, 29848.5, 45969.0, 13119.0, 20634.25, 9526.0, 16913.0, 4666.5]\n"
     ]
    }
   ],
   "source": [
    "q4 = pd.read_csv('Starting_model_22.csv')\n",
    "\n",
    "monthlyincome = q4['MonthlyIncome']\n",
    "workyears = q4['YearsAtCompany']\n",
    "\n",
    "severancecsot = []\n",
    "for x in range(len(q4)) :\n",
    "    years = workyears[x]\n",
    "    f = 0\n",
    "    if years > 0 and years <= 10 :\n",
    "        f = (monthlyincome[x] / 4) * years + (2 * monthlyincome[x])\n",
    "    elif years > 10 :\n",
    "        f = (monthlyincome[x] / 3) * years + (2 * monthlyincome[x])\n",
    "    severancecsot.append(f)\n",
    "print(severancecsot)\n",
    " \n",
    "q4['Severance Package'] = severancecsot"
   ]
  },
  {
   "cell_type": "code",
   "execution_count": 127,
   "id": "81c5c17f",
   "metadata": {
    "ExecuteTime": {
     "end_time": "2022-12-16T09:20:54.708653Z",
     "start_time": "2022-12-16T09:20:54.703914Z"
    }
   },
   "outputs": [],
   "source": [
    "dataframe = pd.DataFrame(q4['Severance Package'])"
   ]
  },
  {
   "cell_type": "code",
   "execution_count": 128,
   "id": "6a0e131b",
   "metadata": {
    "ExecuteTime": {
     "end_time": "2022-12-16T09:20:56.087927Z",
     "start_time": "2022-12-16T09:20:56.080304Z"
    }
   },
   "outputs": [],
   "source": [
    "dataframe.to_csv(\"dataframeforcost.csv\")"
   ]
  },
  {
   "cell_type": "markdown",
   "id": "6e96ff05",
   "metadata": {},
   "source": [
    "# Question 7"
   ]
  },
  {
   "cell_type": "code",
   "execution_count": 199,
   "id": "c9b43e69",
   "metadata": {
    "ExecuteTime": {
     "end_time": "2022-12-16T13:25:55.332225Z",
     "start_time": "2022-12-16T13:25:55.153227Z"
    }
   },
   "outputs": [
    {
     "data": {
      "text/html": [
       "<div>\n",
       "<style scoped>\n",
       "    .dataframe tbody tr th:only-of-type {\n",
       "        vertical-align: middle;\n",
       "    }\n",
       "\n",
       "    .dataframe tbody tr th {\n",
       "        vertical-align: top;\n",
       "    }\n",
       "\n",
       "    .dataframe thead th {\n",
       "        text-align: right;\n",
       "    }\n",
       "</style>\n",
       "<table border=\"1\" class=\"dataframe\">\n",
       "  <thead>\n",
       "    <tr style=\"text-align: right;\">\n",
       "      <th></th>\n",
       "      <th>Unnamed: 0</th>\n",
       "      <th>Age</th>\n",
       "      <th>BusinessTravel</th>\n",
       "      <th>DailyRate</th>\n",
       "      <th>DistanceFromHome</th>\n",
       "      <th>Education</th>\n",
       "      <th>EnvironmentSatisfaction</th>\n",
       "      <th>Gender</th>\n",
       "      <th>HourlyRate</th>\n",
       "      <th>JobInvolvement</th>\n",
       "      <th>...</th>\n",
       "      <th>Married</th>\n",
       "      <th>Single</th>\n",
       "      <th>group1</th>\n",
       "      <th>group2</th>\n",
       "      <th>group3</th>\n",
       "      <th>group4</th>\n",
       "      <th>group5</th>\n",
       "      <th>group6</th>\n",
       "      <th>group7</th>\n",
       "      <th>group8</th>\n",
       "    </tr>\n",
       "  </thead>\n",
       "  <tbody>\n",
       "    <tr>\n",
       "      <th>0</th>\n",
       "      <td>0</td>\n",
       "      <td>38.0</td>\n",
       "      <td>1.0</td>\n",
       "      <td>866.0</td>\n",
       "      <td>9.459948</td>\n",
       "      <td>3</td>\n",
       "      <td>4</td>\n",
       "      <td>1</td>\n",
       "      <td>84</td>\n",
       "      <td>3</td>\n",
       "      <td>...</td>\n",
       "      <td>0</td>\n",
       "      <td>1</td>\n",
       "      <td>0.0</td>\n",
       "      <td>0.0</td>\n",
       "      <td>0.0</td>\n",
       "      <td>1.0</td>\n",
       "      <td>0.0</td>\n",
       "      <td>0.0</td>\n",
       "      <td>0.0</td>\n",
       "      <td>0.0</td>\n",
       "    </tr>\n",
       "    <tr>\n",
       "      <th>1</th>\n",
       "      <td>1</td>\n",
       "      <td>53.0</td>\n",
       "      <td>1.0</td>\n",
       "      <td>1084.0</td>\n",
       "      <td>13.000000</td>\n",
       "      <td>2</td>\n",
       "      <td>4</td>\n",
       "      <td>0</td>\n",
       "      <td>57</td>\n",
       "      <td>4</td>\n",
       "      <td>...</td>\n",
       "      <td>0</td>\n",
       "      <td>0</td>\n",
       "      <td>0.0</td>\n",
       "      <td>0.0</td>\n",
       "      <td>0.0</td>\n",
       "      <td>1.0</td>\n",
       "      <td>0.0</td>\n",
       "      <td>0.0</td>\n",
       "      <td>0.0</td>\n",
       "      <td>0.0</td>\n",
       "    </tr>\n",
       "    <tr>\n",
       "      <th>2</th>\n",
       "      <td>2</td>\n",
       "      <td>24.0</td>\n",
       "      <td>1.0</td>\n",
       "      <td>240.0</td>\n",
       "      <td>22.000000</td>\n",
       "      <td>1</td>\n",
       "      <td>4</td>\n",
       "      <td>1</td>\n",
       "      <td>58</td>\n",
       "      <td>1</td>\n",
       "      <td>...</td>\n",
       "      <td>1</td>\n",
       "      <td>0</td>\n",
       "      <td>0.0</td>\n",
       "      <td>1.0</td>\n",
       "      <td>0.0</td>\n",
       "      <td>0.0</td>\n",
       "      <td>0.0</td>\n",
       "      <td>0.0</td>\n",
       "      <td>0.0</td>\n",
       "      <td>0.0</td>\n",
       "    </tr>\n",
       "    <tr>\n",
       "      <th>3</th>\n",
       "      <td>3</td>\n",
       "      <td>45.0</td>\n",
       "      <td>1.0</td>\n",
       "      <td>1339.0</td>\n",
       "      <td>7.000000</td>\n",
       "      <td>3</td>\n",
       "      <td>2</td>\n",
       "      <td>1</td>\n",
       "      <td>59</td>\n",
       "      <td>3</td>\n",
       "      <td>...</td>\n",
       "      <td>0</td>\n",
       "      <td>0</td>\n",
       "      <td>0.0</td>\n",
       "      <td>0.0</td>\n",
       "      <td>0.0</td>\n",
       "      <td>0.0</td>\n",
       "      <td>0.0</td>\n",
       "      <td>1.0</td>\n",
       "      <td>0.0</td>\n",
       "      <td>0.0</td>\n",
       "    </tr>\n",
       "    <tr>\n",
       "      <th>4</th>\n",
       "      <td>4</td>\n",
       "      <td>36.0</td>\n",
       "      <td>1.0</td>\n",
       "      <td>1396.0</td>\n",
       "      <td>9.459948</td>\n",
       "      <td>2</td>\n",
       "      <td>4</td>\n",
       "      <td>1</td>\n",
       "      <td>62</td>\n",
       "      <td>3</td>\n",
       "      <td>...</td>\n",
       "      <td>0</td>\n",
       "      <td>1</td>\n",
       "      <td>0.0</td>\n",
       "      <td>0.0</td>\n",
       "      <td>0.0</td>\n",
       "      <td>1.0</td>\n",
       "      <td>0.0</td>\n",
       "      <td>0.0</td>\n",
       "      <td>0.0</td>\n",
       "      <td>0.0</td>\n",
       "    </tr>\n",
       "    <tr>\n",
       "      <th>...</th>\n",
       "      <td>...</td>\n",
       "      <td>...</td>\n",
       "      <td>...</td>\n",
       "      <td>...</td>\n",
       "      <td>...</td>\n",
       "      <td>...</td>\n",
       "      <td>...</td>\n",
       "      <td>...</td>\n",
       "      <td>...</td>\n",
       "      <td>...</td>\n",
       "      <td>...</td>\n",
       "      <td>...</td>\n",
       "      <td>...</td>\n",
       "      <td>...</td>\n",
       "      <td>...</td>\n",
       "      <td>...</td>\n",
       "      <td>...</td>\n",
       "      <td>...</td>\n",
       "      <td>...</td>\n",
       "      <td>...</td>\n",
       "      <td>...</td>\n",
       "    </tr>\n",
       "    <tr>\n",
       "      <th>436</th>\n",
       "      <td>436</td>\n",
       "      <td>33.0</td>\n",
       "      <td>2.0</td>\n",
       "      <td>430.0</td>\n",
       "      <td>7.000000</td>\n",
       "      <td>3</td>\n",
       "      <td>4</td>\n",
       "      <td>1</td>\n",
       "      <td>54</td>\n",
       "      <td>3</td>\n",
       "      <td>...</td>\n",
       "      <td>1</td>\n",
       "      <td>0</td>\n",
       "      <td>0.0</td>\n",
       "      <td>0.0</td>\n",
       "      <td>0.0</td>\n",
       "      <td>1.0</td>\n",
       "      <td>0.0</td>\n",
       "      <td>0.0</td>\n",
       "      <td>0.0</td>\n",
       "      <td>0.0</td>\n",
       "    </tr>\n",
       "    <tr>\n",
       "      <th>437</th>\n",
       "      <td>437</td>\n",
       "      <td>27.0</td>\n",
       "      <td>0.0</td>\n",
       "      <td>210.0</td>\n",
       "      <td>1.000000</td>\n",
       "      <td>1</td>\n",
       "      <td>3</td>\n",
       "      <td>1</td>\n",
       "      <td>73</td>\n",
       "      <td>3</td>\n",
       "      <td>...</td>\n",
       "      <td>1</td>\n",
       "      <td>0</td>\n",
       "      <td>0.0</td>\n",
       "      <td>0.0</td>\n",
       "      <td>1.0</td>\n",
       "      <td>0.0</td>\n",
       "      <td>0.0</td>\n",
       "      <td>0.0</td>\n",
       "      <td>0.0</td>\n",
       "      <td>0.0</td>\n",
       "    </tr>\n",
       "    <tr>\n",
       "      <th>438</th>\n",
       "      <td>438</td>\n",
       "      <td>38.0</td>\n",
       "      <td>1.0</td>\n",
       "      <td>1157.0</td>\n",
       "      <td>2.000000</td>\n",
       "      <td>4</td>\n",
       "      <td>1</td>\n",
       "      <td>1</td>\n",
       "      <td>84</td>\n",
       "      <td>1</td>\n",
       "      <td>...</td>\n",
       "      <td>1</td>\n",
       "      <td>0</td>\n",
       "      <td>1.0</td>\n",
       "      <td>0.0</td>\n",
       "      <td>0.0</td>\n",
       "      <td>0.0</td>\n",
       "      <td>0.0</td>\n",
       "      <td>0.0</td>\n",
       "      <td>0.0</td>\n",
       "      <td>0.0</td>\n",
       "    </tr>\n",
       "    <tr>\n",
       "      <th>439</th>\n",
       "      <td>439</td>\n",
       "      <td>39.0</td>\n",
       "      <td>1.0</td>\n",
       "      <td>1383.0</td>\n",
       "      <td>2.000000</td>\n",
       "      <td>3</td>\n",
       "      <td>4</td>\n",
       "      <td>0</td>\n",
       "      <td>42</td>\n",
       "      <td>2</td>\n",
       "      <td>...</td>\n",
       "      <td>1</td>\n",
       "      <td>0</td>\n",
       "      <td>0.0</td>\n",
       "      <td>0.0</td>\n",
       "      <td>0.0</td>\n",
       "      <td>1.0</td>\n",
       "      <td>0.0</td>\n",
       "      <td>0.0</td>\n",
       "      <td>0.0</td>\n",
       "      <td>0.0</td>\n",
       "    </tr>\n",
       "    <tr>\n",
       "      <th>440</th>\n",
       "      <td>440</td>\n",
       "      <td>38.0</td>\n",
       "      <td>1.0</td>\n",
       "      <td>104.0</td>\n",
       "      <td>2.000000</td>\n",
       "      <td>3</td>\n",
       "      <td>1</td>\n",
       "      <td>0</td>\n",
       "      <td>69</td>\n",
       "      <td>3</td>\n",
       "      <td>...</td>\n",
       "      <td>0</td>\n",
       "      <td>0</td>\n",
       "      <td>1.0</td>\n",
       "      <td>0.0</td>\n",
       "      <td>0.0</td>\n",
       "      <td>0.0</td>\n",
       "      <td>0.0</td>\n",
       "      <td>0.0</td>\n",
       "      <td>0.0</td>\n",
       "      <td>0.0</td>\n",
       "    </tr>\n",
       "  </tbody>\n",
       "</table>\n",
       "<p>441 rows × 56 columns</p>\n",
       "</div>"
      ],
      "text/plain": [
       "     Unnamed: 0   Age  BusinessTravel  DailyRate  DistanceFromHome  Education  \\\n",
       "0             0  38.0             1.0      866.0          9.459948          3   \n",
       "1             1  53.0             1.0     1084.0         13.000000          2   \n",
       "2             2  24.0             1.0      240.0         22.000000          1   \n",
       "3             3  45.0             1.0     1339.0          7.000000          3   \n",
       "4             4  36.0             1.0     1396.0          9.459948          2   \n",
       "..          ...   ...             ...        ...               ...        ...   \n",
       "436         436  33.0             2.0      430.0          7.000000          3   \n",
       "437         437  27.0             0.0      210.0          1.000000          1   \n",
       "438         438  38.0             1.0     1157.0          2.000000          4   \n",
       "439         439  39.0             1.0     1383.0          2.000000          3   \n",
       "440         440  38.0             1.0      104.0          2.000000          3   \n",
       "\n",
       "     EnvironmentSatisfaction  Gender  HourlyRate  JobInvolvement  ...  \\\n",
       "0                          4       1          84               3  ...   \n",
       "1                          4       0          57               4  ...   \n",
       "2                          4       1          58               1  ...   \n",
       "3                          2       1          59               3  ...   \n",
       "4                          4       1          62               3  ...   \n",
       "..                       ...     ...         ...             ...  ...   \n",
       "436                        4       1          54               3  ...   \n",
       "437                        3       1          73               3  ...   \n",
       "438                        1       1          84               1  ...   \n",
       "439                        4       0          42               2  ...   \n",
       "440                        1       0          69               3  ...   \n",
       "\n",
       "     Married  Single  group1  group2  group3  group4  group5  group6  group7  \\\n",
       "0          0       1     0.0     0.0     0.0     1.0     0.0     0.0     0.0   \n",
       "1          0       0     0.0     0.0     0.0     1.0     0.0     0.0     0.0   \n",
       "2          1       0     0.0     1.0     0.0     0.0     0.0     0.0     0.0   \n",
       "3          0       0     0.0     0.0     0.0     0.0     0.0     1.0     0.0   \n",
       "4          0       1     0.0     0.0     0.0     1.0     0.0     0.0     0.0   \n",
       "..       ...     ...     ...     ...     ...     ...     ...     ...     ...   \n",
       "436        1       0     0.0     0.0     0.0     1.0     0.0     0.0     0.0   \n",
       "437        1       0     0.0     0.0     1.0     0.0     0.0     0.0     0.0   \n",
       "438        1       0     1.0     0.0     0.0     0.0     0.0     0.0     0.0   \n",
       "439        1       0     0.0     0.0     0.0     1.0     0.0     0.0     0.0   \n",
       "440        0       0     1.0     0.0     0.0     0.0     0.0     0.0     0.0   \n",
       "\n",
       "     group8  \n",
       "0       0.0  \n",
       "1       0.0  \n",
       "2       0.0  \n",
       "3       0.0  \n",
       "4       0.0  \n",
       "..      ...  \n",
       "436     0.0  \n",
       "437     0.0  \n",
       "438     0.0  \n",
       "439     0.0  \n",
       "440     0.0  \n",
       "\n",
       "[441 rows x 56 columns]"
      ]
     },
     "execution_count": 199,
     "metadata": {},
     "output_type": "execute_result"
    }
   ],
   "source": [
    "v = pd.read_csv(\"grouping.csv\")\n",
    "v"
   ]
  },
  {
   "cell_type": "markdown",
   "id": "8cc7d8f8",
   "metadata": {},
   "source": [
    "Group1: employees whose monthly income is less than 4308 and work overtime.\n",
    "    \n",
    "Group2: employees whose monthly income is less than 4308 and doesn’t work overtime.\n",
    "    \n",
    "Group5: employees whose monthly income is larger than 8616 and less than 12924 and work overtime.\n",
    "    \n",
    "Group6: employees whose monthly income is larger than 8616 and less than 12924 and  doesn’t work overtime.\n"
   ]
  },
  {
   "cell_type": "markdown",
   "id": "4a4a2414",
   "metadata": {},
   "source": [
    "## Gender"
   ]
  },
  {
   "cell_type": "code",
   "execution_count": 157,
   "id": "50e6e327",
   "metadata": {
    "ExecuteTime": {
     "end_time": "2022-12-16T12:43:26.396230Z",
     "start_time": "2022-12-16T12:43:26.124210Z"
    }
   },
   "outputs": [
    {
     "data": {
      "image/png": "[encoded data removed]",
      "text/plain": [
       "<Figure size 432x288 with 1 Axes>"
      ]
     },
     "metadata": {
      "needs_background": "light"
     },
     "output_type": "display_data"
    }
   ],
   "source": [
    "g1 = v[v[\"group1\"]==1]\n",
    "sns.histplot(g1[\"Gender\"],kde=False)                                \n",
    "plt.show()"
   ]
  },
  {
   "cell_type": "code",
   "execution_count": 158,
   "id": "fbec5fe9",
   "metadata": {
    "ExecuteTime": {
     "end_time": "2022-12-16T12:44:13.550272Z",
     "start_time": "2022-12-16T12:44:13.535337Z"
    }
   },
   "outputs": [
    {
     "data": {
      "text/plain": [
       "1    24\n",
       "0    14\n",
       "Name: Gender, dtype: int64"
      ]
     },
     "execution_count": 158,
     "metadata": {},
     "output_type": "execute_result"
    }
   ],
   "source": [
    "g1[\"Gender\"].value_counts()"
   ]
  },
  {
   "cell_type": "code",
   "execution_count": 162,
   "id": "f8ef393f",
   "metadata": {
    "ExecuteTime": {
     "end_time": "2022-12-16T12:44:39.053985Z",
     "start_time": "2022-12-16T12:44:38.730565Z"
    }
   },
   "outputs": [
    {
     "data": {
      "image/png": "[encoded data removed]",
      "text/plain": [
       "<Figure size 432x288 with 1 Axes>"
      ]
     },
     "metadata": {
      "needs_background": "light"
     },
     "output_type": "display_data"
    }
   ],
   "source": [
    "g2 = v[v[\"group2\"]==1]\n",
    "sns.histplot(g2[\"Gender\"],kde=False)                                \n",
    "plt.show()"
   ]
  },
  {
   "cell_type": "code",
   "execution_count": 163,
   "id": "2f9c1ee3",
   "metadata": {
    "ExecuteTime": {
     "end_time": "2022-12-16T12:44:39.929391Z",
     "start_time": "2022-12-16T12:44:39.918144Z"
    }
   },
   "outputs": [
    {
     "data": {
      "text/plain": [
       "1    69\n",
       "0    48\n",
       "Name: Gender, dtype: int64"
      ]
     },
     "execution_count": 163,
     "metadata": {},
     "output_type": "execute_result"
    }
   ],
   "source": [
    "g2[\"Gender\"].value_counts()"
   ]
  },
  {
   "cell_type": "code",
   "execution_count": 164,
   "id": "12720ec4",
   "metadata": {
    "ExecuteTime": {
     "end_time": "2022-12-16T12:45:17.982835Z",
     "start_time": "2022-12-16T12:45:17.747583Z"
    }
   },
   "outputs": [
    {
     "data": {
      "image/png": "[encoded data removed]",
      "text/plain": [
       "<Figure size 432x288 with 1 Axes>"
      ]
     },
     "metadata": {
      "needs_background": "light"
     },
     "output_type": "display_data"
    }
   ],
   "source": [
    "g5 = v[v[\"group5\"]==1]\n",
    "sns.histplot(g5[\"Gender\"],kde=False)                                \n",
    "plt.show()"
   ]
  },
  {
   "cell_type": "code",
   "execution_count": 165,
   "id": "dfe8c23d",
   "metadata": {
    "ExecuteTime": {
     "end_time": "2022-12-16T12:45:20.135435Z",
     "start_time": "2022-12-16T12:45:20.126531Z"
    }
   },
   "outputs": [
    {
     "data": {
      "text/plain": [
       "1    10\n",
       "0     7\n",
       "Name: Gender, dtype: int64"
      ]
     },
     "execution_count": 165,
     "metadata": {},
     "output_type": "execute_result"
    }
   ],
   "source": [
    "g5[\"Gender\"].value_counts()"
   ]
  },
  {
   "cell_type": "code",
   "execution_count": 166,
   "id": "81fa3d44",
   "metadata": {
    "ExecuteTime": {
     "end_time": "2022-12-16T12:45:29.538091Z",
     "start_time": "2022-12-16T12:45:29.308183Z"
    }
   },
   "outputs": [
    {
     "data": {
      "image/png": "[encoded data removed]",
      "text/plain": [
       "<Figure size 432x288 with 1 Axes>"
      ]
     },
     "metadata": {
      "needs_background": "light"
     },
     "output_type": "display_data"
    }
   ],
   "source": [
    "g6 = v[v[\"group6\"]==1]\n",
    "sns.histplot(g5[\"Gender\"],kde=False)                                \n",
    "plt.show()"
   ]
  },
  {
   "cell_type": "code",
   "execution_count": 167,
   "id": "da8bfd62",
   "metadata": {
    "ExecuteTime": {
     "end_time": "2022-12-16T12:45:31.010293Z",
     "start_time": "2022-12-16T12:45:31.004378Z"
    }
   },
   "outputs": [
    {
     "data": {
      "text/plain": [
       "1    25\n",
       "0    10\n",
       "Name: Gender, dtype: int64"
      ]
     },
     "execution_count": 167,
     "metadata": {},
     "output_type": "execute_result"
    }
   ],
   "source": [
    "g6[\"Gender\"].value_counts()"
   ]
  },
  {
   "cell_type": "markdown",
   "id": "4bcff7c7",
   "metadata": {},
   "source": [
    "### the percentage of females & the percentage of males"
   ]
  },
  {
   "cell_type": "code",
   "execution_count": 168,
   "id": "463b0471",
   "metadata": {
    "ExecuteTime": {
     "end_time": "2022-12-16T12:47:06.764832Z",
     "start_time": "2022-12-16T12:47:06.761558Z"
    }
   },
   "outputs": [],
   "source": [
    "m = 24+69+10+25\n",
    "f = 14+48+7+10"
   ]
  },
  {
   "cell_type": "code",
   "execution_count": 185,
   "id": "cca97bab",
   "metadata": {
    "ExecuteTime": {
     "end_time": "2022-12-16T13:18:02.213273Z",
     "start_time": "2022-12-16T13:18:02.199185Z"
    }
   },
   "outputs": [
    {
     "data": {
      "text/plain": [
       "61.83574879227053"
      ]
     },
     "execution_count": 185,
     "metadata": {},
     "output_type": "execute_result"
    }
   ],
   "source": [
    "(m/(m+f))*100"
   ]
  },
  {
   "cell_type": "code",
   "execution_count": 186,
   "id": "ff913f67",
   "metadata": {
    "ExecuteTime": {
     "end_time": "2022-12-16T13:18:06.197463Z",
     "start_time": "2022-12-16T13:18:06.190916Z"
    }
   },
   "outputs": [
    {
     "data": {
      "text/plain": [
       "38.164251207729464"
      ]
     },
     "execution_count": 186,
     "metadata": {},
     "output_type": "execute_result"
    }
   ],
   "source": [
    "(f/(m+f))*100"
   ]
  },
  {
   "cell_type": "code",
   "execution_count": 191,
   "id": "c2512141",
   "metadata": {
    "ExecuteTime": {
     "end_time": "2022-12-16T13:22:04.406386Z",
     "start_time": "2022-12-16T13:22:04.391616Z"
    }
   },
   "outputs": [
    {
     "data": {
      "text/plain": [
       "1    93\n",
       "0    62\n",
       "Name: Gender, dtype: int64"
      ]
     },
     "execution_count": 191,
     "metadata": {},
     "output_type": "execute_result"
    }
   ],
   "source": [
    "t = v[v[\"MonthlyIncome\"]<=4308]\n",
    "t[\"Gender\"].value_counts()"
   ]
  },
  {
   "cell_type": "code",
   "execution_count": 203,
   "id": "2905aa0d",
   "metadata": {
    "ExecuteTime": {
     "end_time": "2022-12-16T13:30:17.786244Z",
     "start_time": "2022-12-16T13:30:17.593242Z"
    }
   },
   "outputs": [],
   "source": [
    "for index, row in v.iterrows():\n",
    "    if row['MonthlyIncome'] >=8616 and row['MonthlyIncome'] < 12924:\n",
    "        v.loc[index,\"test\"] = 1\n",
    "    else:\n",
    "        v.loc[index,\"test\"] = 0"
   ]
  },
  {
   "cell_type": "code",
   "execution_count": 204,
   "id": "f34c8773",
   "metadata": {
    "ExecuteTime": {
     "end_time": "2022-12-16T13:30:19.891264Z",
     "start_time": "2022-12-16T13:30:19.879543Z"
    }
   },
   "outputs": [
    {
     "data": {
      "text/plain": [
       "1    35\n",
       "0    17\n",
       "Name: Gender, dtype: int64"
      ]
     },
     "execution_count": 204,
     "metadata": {},
     "output_type": "execute_result"
    }
   ],
   "source": [
    "tt = v[v[\"test\"]==1]\n",
    "tt[\"Gender\"].value_counts()"
   ]
  },
  {
   "cell_type": "code",
   "execution_count": 205,
   "id": "d06bd120",
   "metadata": {
    "ExecuteTime": {
     "end_time": "2022-12-16T13:30:23.663670Z",
     "start_time": "2022-12-16T13:30:23.654015Z"
    }
   },
   "outputs": [
    {
     "data": {
      "text/plain": [
       "1    265\n",
       "0    176\n",
       "Name: Gender, dtype: int64"
      ]
     },
     "execution_count": 205,
     "metadata": {},
     "output_type": "execute_result"
    }
   ],
   "source": [
    "v[\"Gender\"].value_counts()"
   ]
  },
  {
   "cell_type": "code",
   "execution_count": null,
   "id": "c9003ed8",
   "metadata": {},
   "outputs": [],
   "source": []
  }
 ],
 "metadata": {
  "kernelspec": {
   "display_name": "DT_virtual_env",
   "language": "python",
   "name": "dt_virtual_env"
  },
  "language_info": {
   "codemirror_mode": {
    "name": "ipython",
    "version": 3
   },
   "file_extension": ".py",
   "mimetype": "text/x-python",
   "name": "python",
   "nbconvert_exporter": "python",
   "pygments_lexer": "ipython3",
   "version": "3.10.4"
  },
  "toc": {
   "base_numbering": 1,
   "nav_menu": {},
   "number_sections": true,
   "sideBar": true,
   "skip_h1_title": false,
   "title_cell": "Table of Contents",
   "title_sidebar": "Contents",
   "toc_cell": false,
   "toc_position": {},
   "toc_section_display": true,
   "toc_window_display": false
  },
  "varInspector": {
   "cols": {
    "lenName": 16,
    "lenType": 16,
    "lenVar": 40
   },
   "kernels_config": {
    "python": {
     "delete_cmd_postfix": "",
     "delete_cmd_prefix": "del ",
     "library": "var_list.py",
     "varRefreshCmd": "print(var_dic_list())"
    },
    "r": {
     "delete_cmd_postfix": ") ",
     "delete_cmd_prefix": "rm(",
     "library": "var_list.r",
     "varRefreshCmd": "cat(var_dic_list()) "
    }
   },
   "types_to_exclude": [
    "module",
    "function",
    "builtin_function_or_method",
    "instance",
    "_Feature"
   ],
   "window_display": false
  }
 },
 "nbformat": 4,
 "nbformat_minor": 5
}
