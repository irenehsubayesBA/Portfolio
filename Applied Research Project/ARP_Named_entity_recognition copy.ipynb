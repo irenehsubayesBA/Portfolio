{
 "cells": [
  {
   "attachments": {},
   "cell_type": "markdown",
   "metadata": {},
   "source": [
    "# Import Packages"
   ]
  },
  {
   "cell_type": "code",
   "execution_count": 1,
   "metadata": {},
   "outputs": [
    {
     "name": "stderr",
     "output_type": "stream",
     "text": [
      "2023-08-11 10:28:35.250701: I tensorflow/core/platform/cpu_feature_guard.cc:182] This TensorFlow binary is optimized to use available CPU instructions in performance-critical operations.\n",
      "To enable the following instructions: AVX2 FMA, in other operations, rebuild TensorFlow with the appropriate compiler flags.\n"
     ]
    }
   ],
   "source": [
    "import pickle\n",
    "import nltk\n",
    "import plotly.express as px\n",
    "import plotly.graph_objects as go\n",
    "import matplotlib.pyplot as plt\n",
    "from wordcloud import WordCloud\n",
    "import spacy\n",
    "import pandas as pd\n",
    "from nltk.tokenize import word_tokenize, sent_tokenize\n",
    "from collections import Counter\n",
    "from tqdm import tqdm\n",
    "from gensim.models.phrases import Phrases\n",
    "# from spacy.matcher import PhraseMatcher"
   ]
  },
  {
   "cell_type": "code",
   "execution_count": null,
   "metadata": {},
   "outputs": [],
   "source": [
    "pd.set_option('display.max_rows', None)"
   ]
  },
  {
   "attachments": {},
   "cell_type": "markdown",
   "metadata": {},
   "source": [
    "# Load Data"
   ]
  },
  {
   "cell_type": "code",
   "execution_count": 2,
   "metadata": {},
   "outputs": [],
   "source": [
    "df = pd.read_csv(\"/Users/irene/CloudStation/Courses/ARP/ARP code/Maserati-ARP/Maserati-ARP/Dataset/germancarforum_cleaned_NLP_final_v1.csv\", low_memory=False)"
   ]
  },
  {
   "cell_type": "code",
   "execution_count": 3,
   "metadata": {},
   "outputs": [],
   "source": [
    "test = df[\"post_text\"][:100]\n",
    "docs = test"
   ]
  },
  {
   "attachments": {},
   "cell_type": "markdown",
   "metadata": {},
   "source": [
    "# NLP Pineline"
   ]
  },
  {
   "cell_type": "code",
   "execution_count": null,
   "metadata": {},
   "outputs": [],
   "source": [
    "nlp = spacy.load(\"en_core_web_lg\")"
   ]
  },
  {
   "cell_type": "code",
   "execution_count": null,
   "metadata": {},
   "outputs": [],
   "source": [
    "docs_tokens = []\n",
    "tmp = []\n",
    "for doc in tqdm(docs):\n",
    "    if doc is None or pd.isnull(doc):\n",
    "        continue\n",
    "\n",
    "    tmp = [\n",
    "        token.lemma_\n",
    "        for token in nlp(doc)\n",
    "        if (not token.is_stop) & \n",
    "        (not token.is_punct) & \n",
    "        (token.is_alpha) &\n",
    "        (token.pos_ == \"PROPN\") &\n",
    "        (token.ent_type_ == \"ORG\")\n",
    "        \n",
    "    ]\n",
    "    \n",
    "    docs_tokens.append(tmp)"
   ]
  },
  {
   "cell_type": "code",
   "execution_count": null,
   "metadata": {},
   "outputs": [],
   "source": [
    "# save the list of tokens\n",
    "with open('tkns_docs.pkl', 'wb') as f:\n",
    "    pickle.dump(docs_tokens, f)"
   ]
  },
  {
   "cell_type": "code",
   "execution_count": 263,
   "metadata": {},
   "outputs": [],
   "source": [
    "# load tokens\n",
    "with open('/Users/irene/CloudStation/Courses/ARP/ARP code/Maserati-ARP/Maserati-ARP/Data-analysis/german_brands_tkns.pkl', 'rb') as f:\n",
    "    docs_tokens_loaded = pickle.load(f)"
   ]
  },
  {
   "cell_type": "code",
   "execution_count": 264,
   "metadata": {},
   "outputs": [],
   "source": [
    "# find bigrams and trigrams\n",
    "\n",
    "# get rid of common terms\n",
    "common_terms = [\n",
    "    u\"of\",\n",
    "    u\"with\",\n",
    "    u\"without\",\n",
    "    u\"and\",\n",
    "    u\"or\",\n",
    "    u\"the\",\n",
    "    u\"a\",\n",
    "    u\"not\",\n",
    "    \"be\",\n",
    "    u\"to\",\n",
    "    u\"this\",\n",
    "    u\"who\",\n",
    "    u\"in\",\n",
    "]\n",
    "# find phrases\n",
    "bigram = Phrases( # capturing bi-grams\n",
    "    docs_tokens_loaded,\n",
    "    min_count=50,\n",
    "    threshold=5,\n",
    "    max_vocab_size=50000,\n",
    "    common_terms=common_terms,\n",
    ")\n",
    "trigram = Phrases( # capturing tri-grams\n",
    "    bigram[docs_tokens_loaded],\n",
    "    min_count=50,\n",
    "    threshold=5,\n",
    "    max_vocab_size=50000,\n",
    "    common_terms=common_terms,\n",
    ")\n",
    "\n",
    "# uncomment if bi-grammed, tokenized document is preferred\n",
    "\n",
    "# docs_phrased = [bigram[line] for line in docs_tokens]\n",
    "docs_phrased = [trigram[bigram[line]] for line in docs_tokens_loaded] # tokenized documents and join \n",
    "                                                                # the tokens associated with \n",
    "                                                                # bi- or tri-grams."
   ]
  },
  {
   "cell_type": "code",
   "execution_count": 265,
   "metadata": {},
   "outputs": [],
   "source": [
    "docs_phrased_list = [item for sublist in docs_phrased for item in sublist]"
   ]
  },
  {
   "cell_type": "markdown",
   "metadata": {},
   "source": [
    "# Count"
   ]
  },
  {
   "cell_type": "code",
   "execution_count": 266,
   "metadata": {},
   "outputs": [],
   "source": [
    "brand_counts = dict(Counter(docs_phrased_list))"
   ]
  },
  {
   "cell_type": "code",
   "execution_count": 267,
   "metadata": {},
   "outputs": [],
   "source": [
    "count = pd.DataFrame(list(brand_counts.items()), columns=['Brand', 'Count'])"
   ]
  },
  {
   "cell_type": "code",
   "execution_count": 268,
   "metadata": {},
   "outputs": [
    {
     "name": "stdout",
     "output_type": "stream",
     "text": [
      "<class 'pandas.core.frame.DataFrame'>\n",
      "RangeIndex: 15213 entries, 0 to 15212\n",
      "Data columns (total 2 columns):\n",
      " #   Column  Non-Null Count  Dtype \n",
      "---  ------  --------------  ----- \n",
      " 0   Brand   15213 non-null  object\n",
      " 1   Count   15213 non-null  int64 \n",
      "dtypes: int64(1), object(1)\n",
      "memory usage: 237.8+ KB\n"
     ]
    }
   ],
   "source": [
    "count.info()"
   ]
  },
  {
   "cell_type": "code",
   "execution_count": 269,
   "metadata": {},
   "outputs": [],
   "source": [
    "count['Brand'] = count['Brand'].astype(str)\n",
    "count = count[count['Brand'].str.len() >= 2]\n",
    "count = count[count['Brand'].str.len() < 25]"
   ]
  },
  {
   "cell_type": "code",
   "execution_count": 270,
   "metadata": {},
   "outputs": [],
   "source": [
    "# count[\"Brand\"] = count[\"Brand\"].apply(lambda x: x[0])\n",
    "# count['Brand'] = count['Brand'].astype(str)\n",
    "count = count.groupby(\"Brand\")[\"Count\"].sum().reset_index()"
   ]
  },
  {
   "cell_type": "markdown",
   "metadata": {},
   "source": [
    "# Visual"
   ]
  },
  {
   "cell_type": "code",
   "execution_count": 271,
   "metadata": {},
   "outputs": [],
   "source": [
    "filter = count[count[\"Count\"]>213]"
   ]
  },
  {
   "cell_type": "code",
   "execution_count": 275,
   "metadata": {},
   "outputs": [],
   "source": [
    "# DTM racing competition\n",
    "# Brabus Brabus, founded 1977 in Bottrop (Ruhr Area), Germany , is a high-performance aftermarket tuning company which specializes in Mercedes-Benz\n",
    "# NEDC The New European Driving Cycle\n",
    "# GM GMC brand\n",
    "# Glock F1 driver\n",
    "# BEV Eletric car\n",
    "# PS horse power\n",
    "# CDI Common Rail Diesel Injection are comonly used in MB\n",
    "filter.loc[filter['Brand'].isin(['Benz', 'AMG', \"Mercedes\", \"Daimler\", \n",
    "                                 \"CL\", \"Class\", \"SLS\", \"Maybach\", \"SL\",\n",
    "                                 \"SLK\", \"CLK\", \"ML\", \"GL\", \"CLA\", \"Merc\",\n",
    "                                 \"GLC\", \"MB\", \"GLS\", \"GLE\", \"SLC\",\n",
    "                                 \"SLR\", \"GLA\", \"CLC\", \"RWD\", \"CLS\", \"CDI\",\n",
    "                                 \"EQS\", \"DaimlerChrysler\", \"MBUSA\",\n",
    "                                 \"Gullwing\", \"EQC\", \"GLB\", \"Benzes\", \"BS\",\n",
    "                                 \"Zetsche\", \"Wagener\", \"Mercs\"]), 'Brand'] = 'Mercedes Benz'\n",
    "filter.loc[filter['Brand'].isin(['BMWs']), 'Brand'] = 'BMW'\n",
    "filter.loc[filter['Brand'].isin(['Coupé']), 'Brand'] = 'Coupe'\n",
    "filter.loc[filter['Brand'].isin(['aston', 'martin', 'am']), 'Brand'] = 'aston martin'\n",
    "filter.loc[filter['Brand'].isin(['LS']), 'Brand'] = 'Lexus'\n",
    "filter.loc[filter['Brand'].isin(['Clubman', 'Cooper', 'MINI']), 'Brand'] = 'Mini'\n",
    "filter.loc[filter['Brand'].isin(['Mclaren']), 'Brand'] = 'McLaren'\n",
    "filter.loc[filter['Brand'].isin(['Phantom', \"Rolls\", \"Roll royce\", \"royce\"]), 'Brand'] = 'Rolls_Royce'\n",
    "filter.loc[filter['Brand'].isin(['LWB', \"Rolls\", \"RR\"]), 'Brand'] = 'Range_Rover'\n",
    "filter.loc[filter['Brand'].isin(['VAG', \"Golf\", \"GTI\", \"VG\", \"VW\"]), 'Brand'] = 'Volkswagen'\n",
    "filter = filter.groupby('Brand', as_index=False)['Count'].sum()\n",
    "filter = filter.sort_values(ascending=False, by=\"Count\")"
   ]
  },
  {
   "cell_type": "code",
   "execution_count": 276,
   "metadata": {},
   "outputs": [],
   "source": [
    "car_brand_names = [\n",
    "    'Mercedes Benz', 'BMW', 'Ferrari', 'Audi', 'McLaren', 'Renault', 'Porsche', 'Volkswagen', 'Bugatti', 'Ford',\n",
    "    'Rolls_Royce', 'Lexus', 'Bentley', 'Toyota', 'Range_Rover', 'Honda', 'MINI', 'Ford', 'Maserati', 'Mazda', \"Fiat\",\n",
    "    'Lotus', 'Nissan', 'Tesla', 'Chrysler', 'Jaguar', 'Jeep', 'Opel', 'Peugeot', 'Lamborghini', 'Hyundai',\n",
    "    'Subaru', 'Kia', 'Infiniti', 'Pagani', 'Caterham', 'Dodge', 'Skoda', 'Acura', 'Alfa', 'Cadillac', 'Mini', 'Volvo'\n",
    "]\n",
    "\n",
    "# Create a new column and label the brand as \"Car Brand\" or \"Non-Car Brand\"\n",
    "filter['Category'] = filter['Brand'].apply(lambda x: 'Car Brand' if x in car_brand_names else 'Non-Car Brand')"
   ]
  },
  {
   "cell_type": "code",
   "execution_count": 277,
   "metadata": {},
   "outputs": [],
   "source": [
    "filter_brand = filter[filter[\"Category\"]==\"Car Brand\"]"
   ]
  },
  {
   "cell_type": "code",
   "execution_count": null,
   "metadata": {},
   "outputs": [],
   "source": [
    "# Generate the word cloud\n",
    "wordcloud = WordCloud(width=800, height=400, background_color='white').generate_from_frequencies(filter_brand.set_index('Brand')['Count'].to_dict())\n",
    "\n",
    "# Display the generated word cloud\n",
    "plt.figure(figsize=(10, 8))\n",
    "plt.imshow(wordcloud, interpolation='bilinear')\n",
    "plt.axis(\"off\")\n",
    "plt.title(\"Car Brand Word Cloud\")\n",
    "plt.show()"
   ]
  },
  {
   "cell_type": "code",
   "execution_count": null,
   "metadata": {},
   "outputs": [],
   "source": [
    "filter_brand_s = filter_brand.sort_values(by='Count', ascending=False)\n",
    "highlight_colors = {\n",
    "    'BMW': '#EB96EB',  # Red for BMW\n",
    "    'Ferrari': \"pink\",\n",
    "    'Maserati': \"red\",\n",
    "    'Porsche': '#AFB83B',  # Green for Porsche\n",
    "    'Audi': '#00DBFF',  # Blue for Audi\n",
    "    'Mercedes Benz': '#FFC100',  # Yellow for Mercedes Benz\n",
    "    'Land Rover': '#FF00FF',  # Magenta for Land Rover\n",
    "    'Jaguar': '#6ACCBC',  # Cyan for Jaguar\n",
    "    'Alfa Romeo': '#800080',  # Purple for Alfa Romeo\n",
    "    'Aston Martin': '#FFA500',  # Orange for Aston Martin\n",
    "}\n",
    "\n",
    "# Create a list to store the marker colors for each brand\n",
    "marker_colors = [highlight_colors.get(brand, '#002C5F') for brand in filter_brand_s[\"Brand\"]]\n",
    "fig = go.Figure(data=[\n",
    "    go.Bar(\n",
    "        x=filter_brand_s[\"Brand\"],\n",
    "        y=filter_brand_s[\"Count\"],\n",
    "        marker_color=marker_colors\n",
    "    )\n",
    "])\n",
    "\n",
    "fig.update_layout(\n",
    "    title=\"Brand Frequency\",\n",
    "    xaxis_title=\"Brands\",\n",
    "    yaxis_title=\"Count (log)\",\n",
    "    yaxis_type=\"log\"\n",
    ")\n",
    "\n",
    "fig.show()"
   ]
  },
  {
   "cell_type": "markdown",
   "metadata": {},
   "source": [
    "# Co-occurrence of Maserati"
   ]
  },
  {
   "cell_type": "code",
   "execution_count": 278,
   "metadata": {},
   "outputs": [],
   "source": [
    "# load tokens\n",
    "with open('/Users/irene/CloudStation/Courses/ARP/ARP code/Maserati-ARP/Maserati-ARP/Data-analysis/BRTopic_tkns_docs.pkl', 'rb') as f:\n",
    "    df_t = pickle.load(f)"
   ]
  },
  {
   "cell_type": "code",
   "execution_count": 279,
   "metadata": {},
   "outputs": [],
   "source": [
    "main = [', '.join(item) if item else None for item in df_t]"
   ]
  },
  {
   "cell_type": "code",
   "execution_count": 280,
   "metadata": {},
   "outputs": [],
   "source": [
    "main_co = pd.DataFrame(main, columns=[\"text\"])"
   ]
  },
  {
   "cell_type": "code",
   "execution_count": 281,
   "metadata": {},
   "outputs": [],
   "source": [
    "main_co = main_co.dropna()"
   ]
  },
  {
   "cell_type": "code",
   "execution_count": 282,
   "metadata": {},
   "outputs": [],
   "source": [
    "lowercase_list = [brand.lower() for brand in docs_phrased_list]"
   ]
  },
  {
   "cell_type": "code",
   "execution_count": 283,
   "metadata": {},
   "outputs": [],
   "source": [
    "def my_function(x):\n",
    "  return list(dict.fromkeys(x))\n",
    "\n",
    "lowercase_filter = my_function(lowercase_list)"
   ]
  },
  {
   "cell_type": "code",
   "execution_count": 284,
   "metadata": {},
   "outputs": [],
   "source": [
    "import re\n",
    "import pandas as pd\n",
    "from collections import defaultdict\n",
    "\n",
    "def find_co_occurrence(df, target_brand, car_brands):\n",
    "    co_occurrence_counts = defaultdict(int)\n",
    "\n",
    "    for _, row in df.iterrows():\n",
    "        text = row['text']\n",
    "        words = text.split(', ')\n",
    "\n",
    "        if target_brand in words:\n",
    "            for brand in car_brands:\n",
    "                if brand in words and brand != target_brand:\n",
    "                    co_occurrence_counts[brand] += 1\n",
    "\n",
    "    return co_occurrence_counts\n",
    "\n",
    "car_brands = lowercase_filter\n",
    "\n",
    "# Finding co-occurrence of Maserati with other car brands\n",
    "co_occurrence_counts = find_co_occurrence(main_co, \"maserati\", car_brands)\n",
    "\n",
    "co_occurrence_df = pd.DataFrame(list(co_occurrence_counts.items()), columns=[\"brands\", \"co_occurrence_count\"])"
   ]
  },
  {
   "cell_type": "code",
   "execution_count": 285,
   "metadata": {},
   "outputs": [],
   "source": [
    "co_occurrence_df_all = co_occurrence_df.copy()"
   ]
  },
  {
   "cell_type": "code",
   "execution_count": 286,
   "metadata": {},
   "outputs": [],
   "source": [
    "co_occurrence_df_all = co_occurrence_df_all.groupby(\"brands\")[\"co_occurrence_count\"].sum().reset_index()"
   ]
  },
  {
   "cell_type": "code",
   "execution_count": 287,
   "metadata": {},
   "outputs": [],
   "source": [
    "co_occurrence_df_all = co_occurrence_df_all.sort_values(by='co_occurrence_count', ascending=False)"
   ]
  },
  {
   "cell_type": "code",
   "execution_count": 288,
   "metadata": {},
   "outputs": [
    {
     "data": {
      "text/html": [
       "<div>\n",
       "<style scoped>\n",
       "    .dataframe tbody tr th:only-of-type {\n",
       "        vertical-align: middle;\n",
       "    }\n",
       "\n",
       "    .dataframe tbody tr th {\n",
       "        vertical-align: top;\n",
       "    }\n",
       "\n",
       "    .dataframe thead th {\n",
       "        text-align: right;\n",
       "    }\n",
       "</style>\n",
       "<table border=\"1\" class=\"dataframe\">\n",
       "  <thead>\n",
       "    <tr style=\"text-align: right;\">\n",
       "      <th></th>\n",
       "      <th>brands</th>\n",
       "      <th>co_occurrence_count</th>\n",
       "    </tr>\n",
       "  </thead>\n",
       "  <tbody>\n",
       "    <tr>\n",
       "      <th>322</th>\n",
       "      <td>car</td>\n",
       "      <td>141</td>\n",
       "    </tr>\n",
       "    <tr>\n",
       "      <th>1257</th>\n",
       "      <td>like</td>\n",
       "      <td>117</td>\n",
       "    </tr>\n",
       "    <tr>\n",
       "      <th>1284</th>\n",
       "      <td>look</td>\n",
       "      <td>98</td>\n",
       "    </tr>\n",
       "    <tr>\n",
       "      <th>1483</th>\n",
       "      <td>new</td>\n",
       "      <td>93</td>\n",
       "    </tr>\n",
       "    <tr>\n",
       "      <th>1373</th>\n",
       "      <td>mercedes</td>\n",
       "      <td>78</td>\n",
       "    </tr>\n",
       "    <tr>\n",
       "      <th>779</th>\n",
       "      <td>ferrari</td>\n",
       "      <td>69</td>\n",
       "    </tr>\n",
       "    <tr>\n",
       "      <th>916</th>\n",
       "      <td>good</td>\n",
       "      <td>66</td>\n",
       "    </tr>\n",
       "    <tr>\n",
       "      <th>577</th>\n",
       "      <td>design</td>\n",
       "      <td>65</td>\n",
       "    </tr>\n",
       "    <tr>\n",
       "      <th>685</th>\n",
       "      <td>engine</td>\n",
       "      <td>64</td>\n",
       "    </tr>\n",
       "    <tr>\n",
       "      <th>2376</th>\n",
       "      <td>year</td>\n",
       "      <td>64</td>\n",
       "    </tr>\n",
       "  </tbody>\n",
       "</table>\n",
       "</div>"
      ],
      "text/plain": [
       "        brands  co_occurrence_count\n",
       "322        car                  141\n",
       "1257      like                  117\n",
       "1284      look                   98\n",
       "1483       new                   93\n",
       "1373  mercedes                   78\n",
       "779    ferrari                   69\n",
       "916       good                   66\n",
       "577     design                   65\n",
       "685     engine                   64\n",
       "2376      year                   64"
      ]
     },
     "execution_count": 288,
     "metadata": {},
     "output_type": "execute_result"
    }
   ],
   "source": [
    "co_occurrence_df_all.head(10)"
   ]
  },
  {
   "cell_type": "code",
   "execution_count": 289,
   "metadata": {},
   "outputs": [],
   "source": [
    "co_occurrence_df_brandonly = co_occurrence_df_all.copy()"
   ]
  },
  {
   "cell_type": "code",
   "execution_count": 290,
   "metadata": {},
   "outputs": [],
   "source": [
    "co_occurrence_df_brandonly.loc[co_occurrence_df_brandonly['brands'].isin(['benz', 'amg', \"mercedes\", \"daimler\", \n",
    "                                 \"cl\", \"class\", \"sls\", \"maybach\", \"sl\",\n",
    "                                 \"slk\", \"clk\", \"ml\", \"gl\", \"cla\", \"merc\",\n",
    "                                 \"glc\", \"mb\", \"gls\", \"gle\", \"slc\",\n",
    "                                 \"slr\", \"gla\", \"clc\", \"rwd\", \"cls\", \"cdi\",\n",
    "                                 \"eqs\", \"daimlerchrysler\", \"mbusa\",\n",
    "                                 \"gullwing\", \"eqc\", \"glb\", \"benzes\", \"bs\",\n",
    "                                 \"zetsche\", \"wagener\", \"mercs\"]), 'brands'] = 'mercedes benz'\n",
    "co_occurrence_df_brandonly.loc[co_occurrence_df_brandonly['brands'].isin(['bmws']), 'brands'] = 'bmw'\n",
    "co_occurrence_df_brandonly.loc[co_occurrence_df_brandonly['brands'].isin(['coupé']), 'brands'] = 'coupe'\n",
    "co_occurrence_df_brandonly.loc[co_occurrence_df_brandonly['brands'].isin(['ls']), 'brands'] = 'lexus'\n",
    "co_occurrence_df_brandonly.loc[co_occurrence_df_brandonly['brands'].isin(['clubman', 'cooper', 'mini']), 'brands'] = 'mini'\n",
    "co_occurrence_df_brandonly.loc[co_occurrence_df_brandonly['brands'].isin(['aston', 'martin', 'am']), 'brands'] = 'aston martin'\n",
    "co_occurrence_df_brandonly.loc[co_occurrence_df_brandonly['brands'].isin(['mclaren']), 'brands'] = 'mcLaren'\n",
    "co_occurrence_df_brandonly.loc[co_occurrence_df_brandonly['brands'].isin(['alfa',\"romeo\"]), 'brands'] = 'alfa romeo'\n",
    "co_occurrence_df_brandonly.loc[co_occurrence_df_brandonly['brands'].isin(['phantom', \"rolls\", \"roll royce\", \"royce\"]), 'brands'] = 'rolls_royce'\n",
    "co_occurrence_df_brandonly.loc[co_occurrence_df_brandonly['brands'].isin(['lwb']), 'brands'] = 'range_rover'\n",
    "co_occurrence_df_brandonly.loc[co_occurrence_df_brandonly['brands'].isin(['vag', \"golf\", \"gti\", \"vg\", \"vw\"]), 'brands'] = 'volkswagen'\n",
    "co_occurrence_df_brandonly = co_occurrence_df_brandonly.groupby('brands', as_index=False)['co_occurrence_count'].sum()\n",
    "co_occurrence_df_brandonly = co_occurrence_df_brandonly.sort_values(ascending=False, by=\"co_occurrence_count\")"
   ]
  },
  {
   "cell_type": "code",
   "execution_count": 291,
   "metadata": {},
   "outputs": [],
   "source": [
    "co_brandonly_filter = co_occurrence_df_brandonly[co_occurrence_df_brandonly[\"co_occurrence_count\"]>20]\n",
    "co_brandonly_filter = co_brandonly_filter[co_brandonly_filter['brands'].str.len() >= 2]"
   ]
  },
  {
   "cell_type": "code",
   "execution_count": 292,
   "metadata": {},
   "outputs": [
    {
     "name": "stdout",
     "output_type": "stream",
     "text": [
      "<class 'pandas.core.frame.DataFrame'>\n",
      "Index: 103 entries, 1346 to 489\n",
      "Data columns (total 2 columns):\n",
      " #   Column               Non-Null Count  Dtype \n",
      "---  ------               --------------  ----- \n",
      " 0   brands               103 non-null    object\n",
      " 1   co_occurrence_count  103 non-null    int64 \n",
      "dtypes: int64(1), object(1)\n",
      "memory usage: 2.4+ KB\n"
     ]
    }
   ],
   "source": [
    "co_brandonly_filter.info()"
   ]
  },
  {
   "cell_type": "code",
   "execution_count": 293,
   "metadata": {},
   "outputs": [
    {
     "data": {
      "text/html": [
       "<div>\n",
       "<style scoped>\n",
       "    .dataframe tbody tr th:only-of-type {\n",
       "        vertical-align: middle;\n",
       "    }\n",
       "\n",
       "    .dataframe tbody tr th {\n",
       "        vertical-align: top;\n",
       "    }\n",
       "\n",
       "    .dataframe thead th {\n",
       "        text-align: right;\n",
       "    }\n",
       "</style>\n",
       "<table border=\"1\" class=\"dataframe\">\n",
       "  <thead>\n",
       "    <tr style=\"text-align: right;\">\n",
       "      <th></th>\n",
       "      <th>brands</th>\n",
       "      <th>co_occurrence_count</th>\n",
       "    </tr>\n",
       "  </thead>\n",
       "  <tbody>\n",
       "    <tr>\n",
       "      <th>1346</th>\n",
       "      <td>mercedes benz</td>\n",
       "      <td>334</td>\n",
       "    </tr>\n",
       "    <tr>\n",
       "      <th>317</th>\n",
       "      <td>car</td>\n",
       "      <td>141</td>\n",
       "    </tr>\n",
       "    <tr>\n",
       "      <th>1234</th>\n",
       "      <td>like</td>\n",
       "      <td>117</td>\n",
       "    </tr>\n",
       "    <tr>\n",
       "      <th>1261</th>\n",
       "      <td>look</td>\n",
       "      <td>98</td>\n",
       "    </tr>\n",
       "    <tr>\n",
       "      <th>1454</th>\n",
       "      <td>new</td>\n",
       "      <td>93</td>\n",
       "    </tr>\n",
       "    <tr>\n",
       "      <th>...</th>\n",
       "      <td>...</td>\n",
       "      <td>...</td>\n",
       "    </tr>\n",
       "    <tr>\n",
       "      <th>1645</th>\n",
       "      <td>premium</td>\n",
       "      <td>21</td>\n",
       "    </tr>\n",
       "    <tr>\n",
       "      <th>1804</th>\n",
       "      <td>sale</td>\n",
       "      <td>21</td>\n",
       "    </tr>\n",
       "    <tr>\n",
       "      <th>1221</th>\n",
       "      <td>level</td>\n",
       "      <td>21</td>\n",
       "    </tr>\n",
       "    <tr>\n",
       "      <th>2175</th>\n",
       "      <td>turbo</td>\n",
       "      <td>21</td>\n",
       "    </tr>\n",
       "    <tr>\n",
       "      <th>489</th>\n",
       "      <td>course</td>\n",
       "      <td>21</td>\n",
       "    </tr>\n",
       "  </tbody>\n",
       "</table>\n",
       "<p>103 rows × 2 columns</p>\n",
       "</div>"
      ],
      "text/plain": [
       "             brands  co_occurrence_count\n",
       "1346  mercedes benz                  334\n",
       "317             car                  141\n",
       "1234           like                  117\n",
       "1261           look                   98\n",
       "1454            new                   93\n",
       "...             ...                  ...\n",
       "1645        premium                   21\n",
       "1804           sale                   21\n",
       "1221          level                   21\n",
       "2175          turbo                   21\n",
       "489          course                   21\n",
       "\n",
       "[103 rows x 2 columns]"
      ]
     },
     "execution_count": 293,
     "metadata": {},
     "output_type": "execute_result"
    }
   ],
   "source": [
    "co_brandonly_filter"
   ]
  },
  {
   "cell_type": "markdown",
   "metadata": {},
   "source": [
    "# Visual"
   ]
  },
  {
   "cell_type": "code",
   "execution_count": 294,
   "metadata": {},
   "outputs": [
    {
     "data": {
      "application/vnd.plotly.v1+json": {
       "config": {
        "plotlyServerURL": "https://plot.ly"
       },
       "data": [
        {
         "marker": {
          "color": [
           "#00DBFF",
           "#002C5F",
           "#002C5F",
           "#002C5F",
           "#002C5F",
           "#00DBFF",
           "#002C5F",
           "#002C5F",
           "#002C5F",
           "#002C5F",
           "#00DBFF",
           "#00DBFF",
           "#002C5F",
           "#002C5F",
           "#002C5F",
           "#002C5F",
           "#002C5F",
           "#002C5F",
           "#002C5F",
           "#002C5F",
           "#002C5F",
           "#002C5F",
           "#002C5F",
           "#00DBFF",
           "#002C5F",
           "#00DBFF",
           "#002C5F",
           "#002C5F",
           "#002C5F",
           "#002C5F",
           "red",
           "#002C5F",
           "#002C5F",
           "#002C5F",
           "#00DBFF",
           "#002C5F",
           "#00DBFF",
           "#002C5F",
           "#002C5F",
           "#002C5F",
           "#002C5F",
           "#00DBFF",
           "#002C5F",
           "#002C5F",
           "#002C5F",
           "#002C5F",
           "#002C5F",
           "#002C5F",
           "#002C5F",
           "#002C5F",
           "#002C5F",
           "#002C5F",
           "#002C5F",
           "#002C5F",
           "#002C5F",
           "#002C5F",
           "#002C5F",
           "#002C5F",
           "#002C5F",
           "#002C5F",
           "#002C5F",
           "#002C5F",
           "#002C5F",
           "#002C5F",
           "#002C5F",
           "#002C5F",
           "#002C5F",
           "#002C5F",
           "#002C5F",
           "#002C5F",
           "#002C5F",
           "#002C5F",
           "#002C5F",
           "#002C5F",
           "#002C5F",
           "#002C5F",
           "#002C5F",
           "#002C5F",
           "#002C5F",
           "#002C5F",
           "#002C5F",
           "#002C5F",
           "#00DBFF",
           "#002C5F",
           "#002C5F",
           "#002C5F",
           "#002C5F",
           "#002C5F",
           "#002C5F",
           "#002C5F",
           "#002C5F",
           "#002C5F",
           "#002C5F",
           "#002C5F",
           "#002C5F",
           "#002C5F",
           "#002C5F",
           "#002C5F",
           "#002C5F",
           "#002C5F",
           "#002C5F",
           "#002C5F",
           "#002C5F"
          ]
         },
         "type": "bar",
         "x": [
          "mercedes benz",
          "car",
          "like",
          "look",
          "new",
          "ferrari",
          "good",
          "design",
          "year",
          "engine",
          "aston martin",
          "bmw",
          "model",
          "think",
          "drive",
          "rear",
          "coupe",
          "time",
          "end",
          "sport",
          "brand",
          "market",
          "high",
          "porsche",
          "interior",
          "audi",
          "suv",
          "base",
          "line",
          "quattroporte",
          "luxury",
          "wheel",
          "thing",
          "way",
          "bentley",
          "power",
          "alfa",
          "series",
          "big",
          "point",
          "version",
          "rolls_royce",
          "long",
          "company",
          "price",
          "second",
          "gt",
          "production",
          "great",
          "light",
          "performance",
          "speed",
          "door",
          "road",
          "launch",
          "small",
          "vehicle",
          "need",
          "large",
          "offer",
          "romeo",
          "day",
          "change",
          "people",
          "old",
          "sedan",
          "auto",
          "start",
          "driver",
          "platform",
          "range",
          "set",
          "world",
          "quality",
          "granturismo",
          "lot",
          "little",
          "ghibli",
          "race",
          "buy",
          "love",
          "system",
          "jaguar",
          "italian",
          "seat",
          "body",
          "ride",
          "feature",
          "grand",
          "term",
          "future",
          "product",
          "today",
          "transmission",
          "weight",
          "sound",
          "true",
          "motor",
          "premium",
          "sale",
          "level",
          "turbo",
          "course"
         ],
         "y": [
          334,
          141,
          117,
          98,
          93,
          69,
          66,
          65,
          64,
          64,
          63,
          62,
          58,
          58,
          55,
          54,
          50,
          49,
          47,
          47,
          46,
          44,
          43,
          41,
          40,
          40,
          40,
          39,
          39,
          39,
          37,
          37,
          36,
          35,
          35,
          34,
          34,
          33,
          33,
          33,
          33,
          33,
          33,
          33,
          33,
          32,
          32,
          32,
          31,
          31,
          31,
          30,
          30,
          30,
          30,
          28,
          28,
          28,
          28,
          28,
          27,
          27,
          27,
          27,
          27,
          27,
          27,
          27,
          27,
          26,
          26,
          26,
          26,
          26,
          26,
          25,
          25,
          25,
          24,
          24,
          24,
          23,
          23,
          23,
          23,
          23,
          23,
          23,
          22,
          22,
          22,
          22,
          22,
          22,
          22,
          22,
          21,
          21,
          21,
          21,
          21,
          21,
          21
         ]
        }
       ],
       "layout": {
        "template": {
         "data": {
          "bar": [
           {
            "error_x": {
             "color": "#2a3f5f"
            },
            "error_y": {
             "color": "#2a3f5f"
            },
            "marker": {
             "line": {
              "color": "#E5ECF6",
              "width": 0.5
             },
             "pattern": {
              "fillmode": "overlay",
              "size": 10,
              "solidity": 0.2
             }
            },
            "type": "bar"
           }
          ],
          "barpolar": [
           {
            "marker": {
             "line": {
              "color": "#E5ECF6",
              "width": 0.5
             },
             "pattern": {
              "fillmode": "overlay",
              "size": 10,
              "solidity": 0.2
             }
            },
            "type": "barpolar"
           }
          ],
          "carpet": [
           {
            "aaxis": {
             "endlinecolor": "#2a3f5f",
             "gridcolor": "white",
             "linecolor": "white",
             "minorgridcolor": "white",
             "startlinecolor": "#2a3f5f"
            },
            "baxis": {
             "endlinecolor": "#2a3f5f",
             "gridcolor": "white",
             "linecolor": "white",
             "minorgridcolor": "white",
             "startlinecolor": "#2a3f5f"
            },
            "type": "carpet"
           }
          ],
          "choropleth": [
           {
            "colorbar": {
             "outlinewidth": 0,
             "ticks": ""
            },
            "type": "choropleth"
           }
          ],
          "contour": [
           {
            "colorbar": {
             "outlinewidth": 0,
             "ticks": ""
            },
            "colorscale": [
             [
              0,
              "#0d0887"
             ],
             [
              0.1111111111111111,
              "#46039f"
             ],
             [
              0.2222222222222222,
              "#7201a8"
             ],
             [
              0.3333333333333333,
              "#9c179e"
             ],
             [
              0.4444444444444444,
              "#bd3786"
             ],
             [
              0.5555555555555556,
              "#d8576b"
             ],
             [
              0.6666666666666666,
              "#ed7953"
             ],
             [
              0.7777777777777778,
              "#fb9f3a"
             ],
             [
              0.8888888888888888,
              "#fdca26"
             ],
             [
              1,
              "#f0f921"
             ]
            ],
            "type": "contour"
           }
          ],
          "contourcarpet": [
           {
            "colorbar": {
             "outlinewidth": 0,
             "ticks": ""
            },
            "type": "contourcarpet"
           }
          ],
          "heatmap": [
           {
            "colorbar": {
             "outlinewidth": 0,
             "ticks": ""
            },
            "colorscale": [
             [
              0,
              "#0d0887"
             ],
             [
              0.1111111111111111,
              "#46039f"
             ],
             [
              0.2222222222222222,
              "#7201a8"
             ],
             [
              0.3333333333333333,
              "#9c179e"
             ],
             [
              0.4444444444444444,
              "#bd3786"
             ],
             [
              0.5555555555555556,
              "#d8576b"
             ],
             [
              0.6666666666666666,
              "#ed7953"
             ],
             [
              0.7777777777777778,
              "#fb9f3a"
             ],
             [
              0.8888888888888888,
              "#fdca26"
             ],
             [
              1,
              "#f0f921"
             ]
            ],
            "type": "heatmap"
           }
          ],
          "heatmapgl": [
           {
            "colorbar": {
             "outlinewidth": 0,
             "ticks": ""
            },
            "colorscale": [
             [
              0,
              "#0d0887"
             ],
             [
              0.1111111111111111,
              "#46039f"
             ],
             [
              0.2222222222222222,
              "#7201a8"
             ],
             [
              0.3333333333333333,
              "#9c179e"
             ],
             [
              0.4444444444444444,
              "#bd3786"
             ],
             [
              0.5555555555555556,
              "#d8576b"
             ],
             [
              0.6666666666666666,
              "#ed7953"
             ],
             [
              0.7777777777777778,
              "#fb9f3a"
             ],
             [
              0.8888888888888888,
              "#fdca26"
             ],
             [
              1,
              "#f0f921"
             ]
            ],
            "type": "heatmapgl"
           }
          ],
          "histogram": [
           {
            "marker": {
             "pattern": {
              "fillmode": "overlay",
              "size": 10,
              "solidity": 0.2
             }
            },
            "type": "histogram"
           }
          ],
          "histogram2d": [
           {
            "colorbar": {
             "outlinewidth": 0,
             "ticks": ""
            },
            "colorscale": [
             [
              0,
              "#0d0887"
             ],
             [
              0.1111111111111111,
              "#46039f"
             ],
             [
              0.2222222222222222,
              "#7201a8"
             ],
             [
              0.3333333333333333,
              "#9c179e"
             ],
             [
              0.4444444444444444,
              "#bd3786"
             ],
             [
              0.5555555555555556,
              "#d8576b"
             ],
             [
              0.6666666666666666,
              "#ed7953"
             ],
             [
              0.7777777777777778,
              "#fb9f3a"
             ],
             [
              0.8888888888888888,
              "#fdca26"
             ],
             [
              1,
              "#f0f921"
             ]
            ],
            "type": "histogram2d"
           }
          ],
          "histogram2dcontour": [
           {
            "colorbar": {
             "outlinewidth": 0,
             "ticks": ""
            },
            "colorscale": [
             [
              0,
              "#0d0887"
             ],
             [
              0.1111111111111111,
              "#46039f"
             ],
             [
              0.2222222222222222,
              "#7201a8"
             ],
             [
              0.3333333333333333,
              "#9c179e"
             ],
             [
              0.4444444444444444,
              "#bd3786"
             ],
             [
              0.5555555555555556,
              "#d8576b"
             ],
             [
              0.6666666666666666,
              "#ed7953"
             ],
             [
              0.7777777777777778,
              "#fb9f3a"
             ],
             [
              0.8888888888888888,
              "#fdca26"
             ],
             [
              1,
              "#f0f921"
             ]
            ],
            "type": "histogram2dcontour"
           }
          ],
          "mesh3d": [
           {
            "colorbar": {
             "outlinewidth": 0,
             "ticks": ""
            },
            "type": "mesh3d"
           }
          ],
          "parcoords": [
           {
            "line": {
             "colorbar": {
              "outlinewidth": 0,
              "ticks": ""
             }
            },
            "type": "parcoords"
           }
          ],
          "pie": [
           {
            "automargin": true,
            "type": "pie"
           }
          ],
          "scatter": [
           {
            "fillpattern": {
             "fillmode": "overlay",
             "size": 10,
             "solidity": 0.2
            },
            "type": "scatter"
           }
          ],
          "scatter3d": [
           {
            "line": {
             "colorbar": {
              "outlinewidth": 0,
              "ticks": ""
             }
            },
            "marker": {
             "colorbar": {
              "outlinewidth": 0,
              "ticks": ""
             }
            },
            "type": "scatter3d"
           }
          ],
          "scattercarpet": [
           {
            "marker": {
             "colorbar": {
              "outlinewidth": 0,
              "ticks": ""
             }
            },
            "type": "scattercarpet"
           }
          ],
          "scattergeo": [
           {
            "marker": {
             "colorbar": {
              "outlinewidth": 0,
              "ticks": ""
             }
            },
            "type": "scattergeo"
           }
          ],
          "scattergl": [
           {
            "marker": {
             "colorbar": {
              "outlinewidth": 0,
              "ticks": ""
             }
            },
            "type": "scattergl"
           }
          ],
          "scattermapbox": [
           {
            "marker": {
             "colorbar": {
              "outlinewidth": 0,
              "ticks": ""
             }
            },
            "type": "scattermapbox"
           }
          ],
          "scatterpolar": [
           {
            "marker": {
             "colorbar": {
              "outlinewidth": 0,
              "ticks": ""
             }
            },
            "type": "scatterpolar"
           }
          ],
          "scatterpolargl": [
           {
            "marker": {
             "colorbar": {
              "outlinewidth": 0,
              "ticks": ""
             }
            },
            "type": "scatterpolargl"
           }
          ],
          "scatterternary": [
           {
            "marker": {
             "colorbar": {
              "outlinewidth": 0,
              "ticks": ""
             }
            },
            "type": "scatterternary"
           }
          ],
          "surface": [
           {
            "colorbar": {
             "outlinewidth": 0,
             "ticks": ""
            },
            "colorscale": [
             [
              0,
              "#0d0887"
             ],
             [
              0.1111111111111111,
              "#46039f"
             ],
             [
              0.2222222222222222,
              "#7201a8"
             ],
             [
              0.3333333333333333,
              "#9c179e"
             ],
             [
              0.4444444444444444,
              "#bd3786"
             ],
             [
              0.5555555555555556,
              "#d8576b"
             ],
             [
              0.6666666666666666,
              "#ed7953"
             ],
             [
              0.7777777777777778,
              "#fb9f3a"
             ],
             [
              0.8888888888888888,
              "#fdca26"
             ],
             [
              1,
              "#f0f921"
             ]
            ],
            "type": "surface"
           }
          ],
          "table": [
           {
            "cells": {
             "fill": {
              "color": "#EBF0F8"
             },
             "line": {
              "color": "white"
             }
            },
            "header": {
             "fill": {
              "color": "#C8D4E3"
             },
             "line": {
              "color": "white"
             }
            },
            "type": "table"
           }
          ]
         },
         "layout": {
          "annotationdefaults": {
           "arrowcolor": "#2a3f5f",
           "arrowhead": 0,
           "arrowwidth": 1
          },
          "autotypenumbers": "strict",
          "coloraxis": {
           "colorbar": {
            "outlinewidth": 0,
            "ticks": ""
           }
          },
          "colorscale": {
           "diverging": [
            [
             0,
             "#8e0152"
            ],
            [
             0.1,
             "#c51b7d"
            ],
            [
             0.2,
             "#de77ae"
            ],
            [
             0.3,
             "#f1b6da"
            ],
            [
             0.4,
             "#fde0ef"
            ],
            [
             0.5,
             "#f7f7f7"
            ],
            [
             0.6,
             "#e6f5d0"
            ],
            [
             0.7,
             "#b8e186"
            ],
            [
             0.8,
             "#7fbc41"
            ],
            [
             0.9,
             "#4d9221"
            ],
            [
             1,
             "#276419"
            ]
           ],
           "sequential": [
            [
             0,
             "#0d0887"
            ],
            [
             0.1111111111111111,
             "#46039f"
            ],
            [
             0.2222222222222222,
             "#7201a8"
            ],
            [
             0.3333333333333333,
             "#9c179e"
            ],
            [
             0.4444444444444444,
             "#bd3786"
            ],
            [
             0.5555555555555556,
             "#d8576b"
            ],
            [
             0.6666666666666666,
             "#ed7953"
            ],
            [
             0.7777777777777778,
             "#fb9f3a"
            ],
            [
             0.8888888888888888,
             "#fdca26"
            ],
            [
             1,
             "#f0f921"
            ]
           ],
           "sequentialminus": [
            [
             0,
             "#0d0887"
            ],
            [
             0.1111111111111111,
             "#46039f"
            ],
            [
             0.2222222222222222,
             "#7201a8"
            ],
            [
             0.3333333333333333,
             "#9c179e"
            ],
            [
             0.4444444444444444,
             "#bd3786"
            ],
            [
             0.5555555555555556,
             "#d8576b"
            ],
            [
             0.6666666666666666,
             "#ed7953"
            ],
            [
             0.7777777777777778,
             "#fb9f3a"
            ],
            [
             0.8888888888888888,
             "#fdca26"
            ],
            [
             1,
             "#f0f921"
            ]
           ]
          },
          "colorway": [
           "#636efa",
           "#EF553B",
           "#00cc96",
           "#ab63fa",
           "#FFA15A",
           "#19d3f3",
           "#FF6692",
           "#B6E880",
           "#FF97FF",
           "#FECB52"
          ],
          "font": {
           "color": "#2a3f5f"
          },
          "geo": {
           "bgcolor": "white",
           "lakecolor": "white",
           "landcolor": "#E5ECF6",
           "showlakes": true,
           "showland": true,
           "subunitcolor": "white"
          },
          "hoverlabel": {
           "align": "left"
          },
          "hovermode": "closest",
          "mapbox": {
           "style": "light"
          },
          "paper_bgcolor": "white",
          "plot_bgcolor": "#E5ECF6",
          "polar": {
           "angularaxis": {
            "gridcolor": "white",
            "linecolor": "white",
            "ticks": ""
           },
           "bgcolor": "#E5ECF6",
           "radialaxis": {
            "gridcolor": "white",
            "linecolor": "white",
            "ticks": ""
           }
          },
          "scene": {
           "xaxis": {
            "backgroundcolor": "#E5ECF6",
            "gridcolor": "white",
            "gridwidth": 2,
            "linecolor": "white",
            "showbackground": true,
            "ticks": "",
            "zerolinecolor": "white"
           },
           "yaxis": {
            "backgroundcolor": "#E5ECF6",
            "gridcolor": "white",
            "gridwidth": 2,
            "linecolor": "white",
            "showbackground": true,
            "ticks": "",
            "zerolinecolor": "white"
           },
           "zaxis": {
            "backgroundcolor": "#E5ECF6",
            "gridcolor": "white",
            "gridwidth": 2,
            "linecolor": "white",
            "showbackground": true,
            "ticks": "",
            "zerolinecolor": "white"
           }
          },
          "shapedefaults": {
           "line": {
            "color": "#2a3f5f"
           }
          },
          "ternary": {
           "aaxis": {
            "gridcolor": "white",
            "linecolor": "white",
            "ticks": ""
           },
           "baxis": {
            "gridcolor": "white",
            "linecolor": "white",
            "ticks": ""
           },
           "bgcolor": "#E5ECF6",
           "caxis": {
            "gridcolor": "white",
            "linecolor": "white",
            "ticks": ""
           }
          },
          "title": {
           "x": 0.05
          },
          "xaxis": {
           "automargin": true,
           "gridcolor": "white",
           "linecolor": "white",
           "ticks": "",
           "title": {
            "standoff": 15
           },
           "zerolinecolor": "white",
           "zerolinewidth": 2
          },
          "yaxis": {
           "automargin": true,
           "gridcolor": "white",
           "linecolor": "white",
           "ticks": "",
           "title": {
            "standoff": 15
           },
           "zerolinecolor": "white",
           "zerolinewidth": 2
          }
         }
        },
        "title": {
         "text": "Co_occurrence of Maserati with Brands (german)"
        },
        "xaxis": {
         "dtick": 1,
         "tickfont": {
          "size": 10
         },
         "title": {
          "text": "Brands"
         }
        },
        "yaxis": {
         "title": {
          "text": "Count (log)"
         },
         "type": "log"
        }
       }
      }
     },
     "metadata": {},
     "output_type": "display_data"
    }
   ],
   "source": [
    "highlight_colors = {\n",
    "    'bmw': '#00DBFF',\n",
    "    'ferrari': \"#00DBFF\",\n",
    "    'maserati': \"#00DBFF\",\n",
    "    'porsche': '#00DBFF', \n",
    "    'audi': '#00DBFF', \n",
    "    'mercedes benz': '#00DBFF',\n",
    "    'bentley': '#00DBFF',\n",
    "    'mcLaren': '#00DBFF', \n",
    "    'lexus': '#00DBFF', \n",
    "    'renault': '#00DBFF',\n",
    "    'honda':'#00DBFF',\n",
    "    'chrysler':'#00DBFF',\n",
    "    'alfa':'#00DBFF',\n",
    "    'ford':'#00DBFF',\n",
    "    'toyota':'#00DBFF',\n",
    "    'aston martin':'#00DBFF',\n",
    "    'fiat':'#00DBFF',\n",
    "    'range_rover':'#00DBFF',\n",
    "    'jaguar':'#00DBFF',\n",
    "    'mini':'#00DBFF',\n",
    "    'lotus':'#00DBFF',\n",
    "    'volvo':'#00DBFF',\n",
    "    'rolls_royce':'#00DBFF',\n",
    "    'hyundai':'#00DBFF',\n",
    "    'lamborghini':'#00DBFF',\n",
    "    'bugatti':'#00DBFF',\n",
    "    'mazda':'#00DBFF',\n",
    "    'kia':'#00DBFF',\n",
    "    'jeep':'#00DBFF',\n",
    "    'nissan':'#00DBFF',\n",
    "    'cadillac':'#00DBFF',\n",
    "    'infiniti':'#00DBFF',\n",
    "    'tesla':'#00DBFF',\n",
    "    'peugeot':'#00DBFF',\n",
    "    'dodge':'#00DBFF',\n",
    "    'luxury':'red',\n",
    "}\n",
    "\n",
    "marker_colors = [highlight_colors.get(brand, '#002C5F') for brand in co_brandonly_filter[\"brands\"]]\n",
    "fig = go.Figure(data=[\n",
    "    go.Bar(\n",
    "        x=co_brandonly_filter[\"brands\"],\n",
    "        y=co_brandonly_filter[\"co_occurrence_count\"],\n",
    "        marker_color=marker_colors\n",
    "    )\n",
    "])\n",
    "\n",
    "fig.update_layout(\n",
    "    title=\"Co_occurrence of Maserati with Brands (german)\",\n",
    "    xaxis_title=\"Brands\",\n",
    "    yaxis_title=\"Count (log)\",\n",
    "    yaxis_type=\"log\"\n",
    ")\n",
    "fig.update_xaxes(dtick=1,tickfont=dict(size=10))\n",
    "fig.show()"
   ]
  },
  {
   "cell_type": "code",
   "execution_count": 312,
   "metadata": {},
   "outputs": [],
   "source": [
    "brands_to_filter = [\"mercedes benz\", \"ferrari\", \"aston martin\", \"bmw\", \"porsche\", \"audi\", \"bentley\", \"alfa romeo\", \"rolls_royce\", \"jaguar\"]\n",
    "particular = co_brandonly_filter[co_brandonly_filter[\"brands\"].isin(brands_to_filter)]"
   ]
  },
  {
   "cell_type": "code",
   "execution_count": 314,
   "metadata": {},
   "outputs": [],
   "source": [
    "particular = particular.sort_values(ascending=False, by=\"co_occurrence_count\")"
   ]
  },
  {
   "cell_type": "code",
   "execution_count": 315,
   "metadata": {},
   "outputs": [
    {
     "data": {
      "text/html": [
       "<div>\n",
       "<style scoped>\n",
       "    .dataframe tbody tr th:only-of-type {\n",
       "        vertical-align: middle;\n",
       "    }\n",
       "\n",
       "    .dataframe tbody tr th {\n",
       "        vertical-align: top;\n",
       "    }\n",
       "\n",
       "    .dataframe thead th {\n",
       "        text-align: right;\n",
       "    }\n",
       "</style>\n",
       "<table border=\"1\" class=\"dataframe\">\n",
       "  <thead>\n",
       "    <tr style=\"text-align: right;\">\n",
       "      <th></th>\n",
       "      <th>brands</th>\n",
       "      <th>co_occurrence_count</th>\n",
       "    </tr>\n",
       "  </thead>\n",
       "  <tbody>\n",
       "    <tr>\n",
       "      <th>49</th>\n",
       "      <td>mercedes benz</td>\n",
       "      <td>334</td>\n",
       "    </tr>\n",
       "    <tr>\n",
       "      <th>24</th>\n",
       "      <td>ferrari</td>\n",
       "      <td>69</td>\n",
       "    </tr>\n",
       "    <tr>\n",
       "      <th>1</th>\n",
       "      <td>aston martin</td>\n",
       "      <td>63</td>\n",
       "    </tr>\n",
       "    <tr>\n",
       "      <th>7</th>\n",
       "      <td>bmw</td>\n",
       "      <td>62</td>\n",
       "    </tr>\n",
       "    <tr>\n",
       "      <th>0</th>\n",
       "      <td>alfa romeo</td>\n",
       "      <td>61</td>\n",
       "    </tr>\n",
       "    <tr>\n",
       "      <th>60</th>\n",
       "      <td>porsche</td>\n",
       "      <td>41</td>\n",
       "    </tr>\n",
       "    <tr>\n",
       "      <th>2</th>\n",
       "      <td>audi</td>\n",
       "      <td>40</td>\n",
       "    </tr>\n",
       "    <tr>\n",
       "      <th>5</th>\n",
       "      <td>bentley</td>\n",
       "      <td>35</td>\n",
       "    </tr>\n",
       "    <tr>\n",
       "      <th>73</th>\n",
       "      <td>rolls_royce</td>\n",
       "      <td>33</td>\n",
       "    </tr>\n",
       "    <tr>\n",
       "      <th>35</th>\n",
       "      <td>jaguar</td>\n",
       "      <td>23</td>\n",
       "    </tr>\n",
       "  </tbody>\n",
       "</table>\n",
       "</div>"
      ],
      "text/plain": [
       "           brands  co_occurrence_count\n",
       "49  mercedes benz                  334\n",
       "24        ferrari                   69\n",
       "1    aston martin                   63\n",
       "7             bmw                   62\n",
       "0      alfa romeo                   61\n",
       "60        porsche                   41\n",
       "2            audi                   40\n",
       "5         bentley                   35\n",
       "73    rolls_royce                   33\n",
       "35         jaguar                   23"
      ]
     },
     "execution_count": 315,
     "metadata": {},
     "output_type": "execute_result"
    }
   ],
   "source": [
    "particular"
   ]
  },
  {
   "cell_type": "code",
   "execution_count": 320,
   "metadata": {},
   "outputs": [],
   "source": [
    "particular.to_csv(\"gp.csv\")"
   ]
  },
  {
   "cell_type": "code",
   "execution_count": 319,
   "metadata": {},
   "outputs": [
    {
     "data": {
      "application/vnd.plotly.v1+json": {
       "config": {
        "plotlyServerURL": "https://plot.ly"
       },
       "data": [
        {
         "marker": {
          "color": "#002C5F"
         },
         "type": "bar",
         "x": [
          "mercedes benz",
          "ferrari",
          "aston martin",
          "bmw",
          "alfa romeo",
          "porsche",
          "audi",
          "bentley",
          "rolls_royce",
          "jaguar"
         ],
         "y": [
          334,
          69,
          63,
          62,
          61,
          41,
          40,
          35,
          33,
          23
         ]
        }
       ],
       "layout": {
        "plot_bgcolor": "rgba(0,0,0,0)",
        "template": {
         "data": {
          "bar": [
           {
            "error_x": {
             "color": "#2a3f5f"
            },
            "error_y": {
             "color": "#2a3f5f"
            },
            "marker": {
             "line": {
              "color": "#E5ECF6",
              "width": 0.5
             },
             "pattern": {
              "fillmode": "overlay",
              "size": 10,
              "solidity": 0.2
             }
            },
            "type": "bar"
           }
          ],
          "barpolar": [
           {
            "marker": {
             "line": {
              "color": "#E5ECF6",
              "width": 0.5
             },
             "pattern": {
              "fillmode": "overlay",
              "size": 10,
              "solidity": 0.2
             }
            },
            "type": "barpolar"
           }
          ],
          "carpet": [
           {
            "aaxis": {
             "endlinecolor": "#2a3f5f",
             "gridcolor": "white",
             "linecolor": "white",
             "minorgridcolor": "white",
             "startlinecolor": "#2a3f5f"
            },
            "baxis": {
             "endlinecolor": "#2a3f5f",
             "gridcolor": "white",
             "linecolor": "white",
             "minorgridcolor": "white",
             "startlinecolor": "#2a3f5f"
            },
            "type": "carpet"
           }
          ],
          "choropleth": [
           {
            "colorbar": {
             "outlinewidth": 0,
             "ticks": ""
            },
            "type": "choropleth"
           }
          ],
          "contour": [
           {
            "colorbar": {
             "outlinewidth": 0,
             "ticks": ""
            },
            "colorscale": [
             [
              0,
              "#0d0887"
             ],
             [
              0.1111111111111111,
              "#46039f"
             ],
             [
              0.2222222222222222,
              "#7201a8"
             ],
             [
              0.3333333333333333,
              "#9c179e"
             ],
             [
              0.4444444444444444,
              "#bd3786"
             ],
             [
              0.5555555555555556,
              "#d8576b"
             ],
             [
              0.6666666666666666,
              "#ed7953"
             ],
             [
              0.7777777777777778,
              "#fb9f3a"
             ],
             [
              0.8888888888888888,
              "#fdca26"
             ],
             [
              1,
              "#f0f921"
             ]
            ],
            "type": "contour"
           }
          ],
          "contourcarpet": [
           {
            "colorbar": {
             "outlinewidth": 0,
             "ticks": ""
            },
            "type": "contourcarpet"
           }
          ],
          "heatmap": [
           {
            "colorbar": {
             "outlinewidth": 0,
             "ticks": ""
            },
            "colorscale": [
             [
              0,
              "#0d0887"
             ],
             [
              0.1111111111111111,
              "#46039f"
             ],
             [
              0.2222222222222222,
              "#7201a8"
             ],
             [
              0.3333333333333333,
              "#9c179e"
             ],
             [
              0.4444444444444444,
              "#bd3786"
             ],
             [
              0.5555555555555556,
              "#d8576b"
             ],
             [
              0.6666666666666666,
              "#ed7953"
             ],
             [
              0.7777777777777778,
              "#fb9f3a"
             ],
             [
              0.8888888888888888,
              "#fdca26"
             ],
             [
              1,
              "#f0f921"
             ]
            ],
            "type": "heatmap"
           }
          ],
          "heatmapgl": [
           {
            "colorbar": {
             "outlinewidth": 0,
             "ticks": ""
            },
            "colorscale": [
             [
              0,
              "#0d0887"
             ],
             [
              0.1111111111111111,
              "#46039f"
             ],
             [
              0.2222222222222222,
              "#7201a8"
             ],
             [
              0.3333333333333333,
              "#9c179e"
             ],
             [
              0.4444444444444444,
              "#bd3786"
             ],
             [
              0.5555555555555556,
              "#d8576b"
             ],
             [
              0.6666666666666666,
              "#ed7953"
             ],
             [
              0.7777777777777778,
              "#fb9f3a"
             ],
             [
              0.8888888888888888,
              "#fdca26"
             ],
             [
              1,
              "#f0f921"
             ]
            ],
            "type": "heatmapgl"
           }
          ],
          "histogram": [
           {
            "marker": {
             "pattern": {
              "fillmode": "overlay",
              "size": 10,
              "solidity": 0.2
             }
            },
            "type": "histogram"
           }
          ],
          "histogram2d": [
           {
            "colorbar": {
             "outlinewidth": 0,
             "ticks": ""
            },
            "colorscale": [
             [
              0,
              "#0d0887"
             ],
             [
              0.1111111111111111,
              "#46039f"
             ],
             [
              0.2222222222222222,
              "#7201a8"
             ],
             [
              0.3333333333333333,
              "#9c179e"
             ],
             [
              0.4444444444444444,
              "#bd3786"
             ],
             [
              0.5555555555555556,
              "#d8576b"
             ],
             [
              0.6666666666666666,
              "#ed7953"
             ],
             [
              0.7777777777777778,
              "#fb9f3a"
             ],
             [
              0.8888888888888888,
              "#fdca26"
             ],
             [
              1,
              "#f0f921"
             ]
            ],
            "type": "histogram2d"
           }
          ],
          "histogram2dcontour": [
           {
            "colorbar": {
             "outlinewidth": 0,
             "ticks": ""
            },
            "colorscale": [
             [
              0,
              "#0d0887"
             ],
             [
              0.1111111111111111,
              "#46039f"
             ],
             [
              0.2222222222222222,
              "#7201a8"
             ],
             [
              0.3333333333333333,
              "#9c179e"
             ],
             [
              0.4444444444444444,
              "#bd3786"
             ],
             [
              0.5555555555555556,
              "#d8576b"
             ],
             [
              0.6666666666666666,
              "#ed7953"
             ],
             [
              0.7777777777777778,
              "#fb9f3a"
             ],
             [
              0.8888888888888888,
              "#fdca26"
             ],
             [
              1,
              "#f0f921"
             ]
            ],
            "type": "histogram2dcontour"
           }
          ],
          "mesh3d": [
           {
            "colorbar": {
             "outlinewidth": 0,
             "ticks": ""
            },
            "type": "mesh3d"
           }
          ],
          "parcoords": [
           {
            "line": {
             "colorbar": {
              "outlinewidth": 0,
              "ticks": ""
             }
            },
            "type": "parcoords"
           }
          ],
          "pie": [
           {
            "automargin": true,
            "type": "pie"
           }
          ],
          "scatter": [
           {
            "fillpattern": {
             "fillmode": "overlay",
             "size": 10,
             "solidity": 0.2
            },
            "type": "scatter"
           }
          ],
          "scatter3d": [
           {
            "line": {
             "colorbar": {
              "outlinewidth": 0,
              "ticks": ""
             }
            },
            "marker": {
             "colorbar": {
              "outlinewidth": 0,
              "ticks": ""
             }
            },
            "type": "scatter3d"
           }
          ],
          "scattercarpet": [
           {
            "marker": {
             "colorbar": {
              "outlinewidth": 0,
              "ticks": ""
             }
            },
            "type": "scattercarpet"
           }
          ],
          "scattergeo": [
           {
            "marker": {
             "colorbar": {
              "outlinewidth": 0,
              "ticks": ""
             }
            },
            "type": "scattergeo"
           }
          ],
          "scattergl": [
           {
            "marker": {
             "colorbar": {
              "outlinewidth": 0,
              "ticks": ""
             }
            },
            "type": "scattergl"
           }
          ],
          "scattermapbox": [
           {
            "marker": {
             "colorbar": {
              "outlinewidth": 0,
              "ticks": ""
             }
            },
            "type": "scattermapbox"
           }
          ],
          "scatterpolar": [
           {
            "marker": {
             "colorbar": {
              "outlinewidth": 0,
              "ticks": ""
             }
            },
            "type": "scatterpolar"
           }
          ],
          "scatterpolargl": [
           {
            "marker": {
             "colorbar": {
              "outlinewidth": 0,
              "ticks": ""
             }
            },
            "type": "scatterpolargl"
           }
          ],
          "scatterternary": [
           {
            "marker": {
             "colorbar": {
              "outlinewidth": 0,
              "ticks": ""
             }
            },
            "type": "scatterternary"
           }
          ],
          "surface": [
           {
            "colorbar": {
             "outlinewidth": 0,
             "ticks": ""
            },
            "colorscale": [
             [
              0,
              "#0d0887"
             ],
             [
              0.1111111111111111,
              "#46039f"
             ],
             [
              0.2222222222222222,
              "#7201a8"
             ],
             [
              0.3333333333333333,
              "#9c179e"
             ],
             [
              0.4444444444444444,
              "#bd3786"
             ],
             [
              0.5555555555555556,
              "#d8576b"
             ],
             [
              0.6666666666666666,
              "#ed7953"
             ],
             [
              0.7777777777777778,
              "#fb9f3a"
             ],
             [
              0.8888888888888888,
              "#fdca26"
             ],
             [
              1,
              "#f0f921"
             ]
            ],
            "type": "surface"
           }
          ],
          "table": [
           {
            "cells": {
             "fill": {
              "color": "#EBF0F8"
             },
             "line": {
              "color": "white"
             }
            },
            "header": {
             "fill": {
              "color": "#C8D4E3"
             },
             "line": {
              "color": "white"
             }
            },
            "type": "table"
           }
          ]
         },
         "layout": {
          "annotationdefaults": {
           "arrowcolor": "#2a3f5f",
           "arrowhead": 0,
           "arrowwidth": 1
          },
          "autotypenumbers": "strict",
          "coloraxis": {
           "colorbar": {
            "outlinewidth": 0,
            "ticks": ""
           }
          },
          "colorscale": {
           "diverging": [
            [
             0,
             "#8e0152"
            ],
            [
             0.1,
             "#c51b7d"
            ],
            [
             0.2,
             "#de77ae"
            ],
            [
             0.3,
             "#f1b6da"
            ],
            [
             0.4,
             "#fde0ef"
            ],
            [
             0.5,
             "#f7f7f7"
            ],
            [
             0.6,
             "#e6f5d0"
            ],
            [
             0.7,
             "#b8e186"
            ],
            [
             0.8,
             "#7fbc41"
            ],
            [
             0.9,
             "#4d9221"
            ],
            [
             1,
             "#276419"
            ]
           ],
           "sequential": [
            [
             0,
             "#0d0887"
            ],
            [
             0.1111111111111111,
             "#46039f"
            ],
            [
             0.2222222222222222,
             "#7201a8"
            ],
            [
             0.3333333333333333,
             "#9c179e"
            ],
            [
             0.4444444444444444,
             "#bd3786"
            ],
            [
             0.5555555555555556,
             "#d8576b"
            ],
            [
             0.6666666666666666,
             "#ed7953"
            ],
            [
             0.7777777777777778,
             "#fb9f3a"
            ],
            [
             0.8888888888888888,
             "#fdca26"
            ],
            [
             1,
             "#f0f921"
            ]
           ],
           "sequentialminus": [
            [
             0,
             "#0d0887"
            ],
            [
             0.1111111111111111,
             "#46039f"
            ],
            [
             0.2222222222222222,
             "#7201a8"
            ],
            [
             0.3333333333333333,
             "#9c179e"
            ],
            [
             0.4444444444444444,
             "#bd3786"
            ],
            [
             0.5555555555555556,
             "#d8576b"
            ],
            [
             0.6666666666666666,
             "#ed7953"
            ],
            [
             0.7777777777777778,
             "#fb9f3a"
            ],
            [
             0.8888888888888888,
             "#fdca26"
            ],
            [
             1,
             "#f0f921"
            ]
           ]
          },
          "colorway": [
           "#636efa",
           "#EF553B",
           "#00cc96",
           "#ab63fa",
           "#FFA15A",
           "#19d3f3",
           "#FF6692",
           "#B6E880",
           "#FF97FF",
           "#FECB52"
          ],
          "font": {
           "color": "#2a3f5f"
          },
          "geo": {
           "bgcolor": "white",
           "lakecolor": "white",
           "landcolor": "#E5ECF6",
           "showlakes": true,
           "showland": true,
           "subunitcolor": "white"
          },
          "hoverlabel": {
           "align": "left"
          },
          "hovermode": "closest",
          "mapbox": {
           "style": "light"
          },
          "paper_bgcolor": "white",
          "plot_bgcolor": "#E5ECF6",
          "polar": {
           "angularaxis": {
            "gridcolor": "white",
            "linecolor": "white",
            "ticks": ""
           },
           "bgcolor": "#E5ECF6",
           "radialaxis": {
            "gridcolor": "white",
            "linecolor": "white",
            "ticks": ""
           }
          },
          "scene": {
           "xaxis": {
            "backgroundcolor": "#E5ECF6",
            "gridcolor": "white",
            "gridwidth": 2,
            "linecolor": "white",
            "showbackground": true,
            "ticks": "",
            "zerolinecolor": "white"
           },
           "yaxis": {
            "backgroundcolor": "#E5ECF6",
            "gridcolor": "white",
            "gridwidth": 2,
            "linecolor": "white",
            "showbackground": true,
            "ticks": "",
            "zerolinecolor": "white"
           },
           "zaxis": {
            "backgroundcolor": "#E5ECF6",
            "gridcolor": "white",
            "gridwidth": 2,
            "linecolor": "white",
            "showbackground": true,
            "ticks": "",
            "zerolinecolor": "white"
           }
          },
          "shapedefaults": {
           "line": {
            "color": "#2a3f5f"
           }
          },
          "ternary": {
           "aaxis": {
            "gridcolor": "white",
            "linecolor": "white",
            "ticks": ""
           },
           "baxis": {
            "gridcolor": "white",
            "linecolor": "white",
            "ticks": ""
           },
           "bgcolor": "#E5ECF6",
           "caxis": {
            "gridcolor": "white",
            "linecolor": "white",
            "ticks": ""
           }
          },
          "title": {
           "x": 0.05
          },
          "xaxis": {
           "automargin": true,
           "gridcolor": "white",
           "linecolor": "white",
           "ticks": "",
           "title": {
            "standoff": 15
           },
           "zerolinecolor": "white",
           "zerolinewidth": 2
          },
          "yaxis": {
           "automargin": true,
           "gridcolor": "white",
           "linecolor": "white",
           "ticks": "",
           "title": {
            "standoff": 15
           },
           "zerolinecolor": "white",
           "zerolinewidth": 2
          }
         }
        },
        "title": {
         "text": "Co-occurrence of Maserati with Top 10 Car Brands in GermanCarForum"
        },
        "xaxis": {
         "dtick": 1,
         "tickfont": {
          "size": 10
         },
         "title": {
          "text": "Car Brand"
         }
        },
        "yaxis": {
         "title": {
          "text": "Count"
         }
        }
       }
      }
     },
     "metadata": {},
     "output_type": "display_data"
    }
   ],
   "source": [
    "marker_colors = \"#002C5F\"\n",
    "fig = go.Figure(data=[\n",
    "    go.Bar(\n",
    "        x=particular[\"brands\"],\n",
    "        y=particular[\"co_occurrence_count\"],\n",
    "        marker_color=marker_colors\n",
    "    )\n",
    "])\n",
    "\n",
    "fig.update_layout(\n",
    "    title=\"Co-occurrence of Maserati with Top 10 Car Brands in GermanCarForum\",\n",
    "    xaxis_title=\"Car Brand\",\n",
    "    yaxis_title=\"Count\",\n",
    "    plot_bgcolor='rgba(0,0,0,0)' \n",
    ")\n",
    "fig.update_xaxes(dtick=1,tickfont=dict(size=10))\n",
    "fig.show()"
   ]
  }
 ],
 "metadata": {
  "kernelspec": {
   "display_name": "NLP",
   "language": "python",
   "name": "python3"
  },
  "language_info": {
   "codemirror_mode": {
    "name": "ipython",
    "version": 3
   },
   "file_extension": ".py",
   "mimetype": "text/x-python",
   "name": "python",
   "nbconvert_exporter": "python",
   "pygments_lexer": "ipython3",
   "version": "3.9.0"
  },
  "orig_nbformat": 4
 },
 "nbformat": 4,
 "nbformat_minor": 2
}
